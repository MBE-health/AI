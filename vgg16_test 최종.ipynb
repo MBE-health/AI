{
  "nbformat": 4,
  "nbformat_minor": 0,
  "metadata": {
    "colab": {
      "provenance": []
    },
    "kernelspec": {
      "name": "python3",
      "display_name": "Python 3"
    },
    "language_info": {
      "name": "python"
    }
  },
  "cells": [
    {
      "cell_type": "code",
      "execution_count": 4,
      "metadata": {
        "id": "JkFuDLmcWWhb",
        "colab": {
          "base_uri": "https://localhost:8080/"
        },
        "outputId": "6b798a07-21a9-455f-b264-a91b480a5d5b"
      },
      "outputs": [
        {
          "output_type": "stream",
          "name": "stdout",
          "text": [
            "1/1 [==============================] - 1s 1s/step\n",
            "Image: 닭갈비1.jpg Predicted class: 닭갈비\n",
            "1/1 [==============================] - 1s 921ms/step\n",
            "Image: 닭갈비2.jpg Predicted class: 닭갈비\n",
            "1/1 [==============================] - 1s 630ms/step\n",
            "Image: 닭갈비3.jpg Predicted class: 닭갈비\n",
            "1/1 [==============================] - 0s 484ms/step\n",
            "Image: 닭갈비4.jpg Predicted class: 닭갈비\n",
            "1/1 [==============================] - 1s 500ms/step\n",
            "Image: 닭갈비5.jpg Predicted class: 닭갈비\n",
            "1/1 [==============================] - 0s 487ms/step\n",
            "Image: 닭가슴살5.jpg Predicted class: 닭가슴살\n",
            "1/1 [==============================] - 0s 486ms/step\n",
            "Image: 닭가슴살3.jpg Predicted class: 닭가슴살\n",
            "1/1 [==============================] - 0s 481ms/step\n",
            "Image: 닭가슴살4.jpg Predicted class: 닭가슴살\n",
            "1/1 [==============================] - 0s 498ms/step\n",
            "Image: 닭가슴살2.jpg Predicted class: 닭가슴살\n",
            "1/1 [==============================] - 0s 480ms/step\n",
            "Image: 짜장면.jpg Predicted class: 짜장면\n",
            "1/1 [==============================] - 1s 502ms/step\n",
            "Image: 짜장면2.jpg Predicted class: 짜장면\n",
            "1/1 [==============================] - 0s 492ms/step\n",
            "Image: 짜장면3.jpg Predicted class: 짜장면\n",
            "1/1 [==============================] - 0s 480ms/step\n",
            "Image: 짜장면4.jpg Predicted class: 짜장면\n",
            "1/1 [==============================] - 0s 492ms/step\n",
            "Image: 짜장면5.jpg Predicted class: 짜장면\n",
            "1/1 [==============================] - 0s 484ms/step\n",
            "Image: 샐러드1.jpg Predicted class: 샐러드\n",
            "1/1 [==============================] - 1s 513ms/step\n",
            "Image: 샐러드2.jpg Predicted class: 샐러드\n",
            "1/1 [==============================] - 0s 480ms/step\n",
            "Image: 샐러드3.jpg Predicted class: 샐러드\n",
            "1/1 [==============================] - 0s 497ms/step\n",
            "Image: 샐러드5.jpg Predicted class: 샐러드\n",
            "1/1 [==============================] - 0s 483ms/step\n",
            "Image: 사과주스1.jpg Predicted class: 사과주스\n",
            "1/1 [==============================] - 0s 497ms/step\n",
            "Image: 사과주스2.jpg Predicted class: 사과주스\n",
            "1/1 [==============================] - 1s 659ms/step\n",
            "Image: 사과주스3.jpg Predicted class: 사과주스\n",
            "1/1 [==============================] - 1s 926ms/step\n",
            "Image: 사과주스4.jpg Predicted class: 사과주스\n",
            "1/1 [==============================] - 1s 900ms/step\n",
            "Image: 사과주스5.jpg Predicted class: 사과주스\n",
            "1/1 [==============================] - 1s 893ms/step\n",
            "Image: 닭가슴살1.jpg Predicted class: 닭가슴살\n"
          ]
        }
      ],
      "source": [
        "import tensorflow as tf\n",
        "import numpy as np\n",
        "from PIL import Image\n",
        "import os\n",
        "\n",
        "# Define the list of classes\n",
        "classes = ['닭가슴살', '닭갈비', '사과주스', '샐러드', '짜장면']\n",
        "\n",
        "# Load the saved model\n",
        "model = tf.keras.models.load_model('/content/drive/MyDrive/졸프/food_classifier_vgg16.h5')\n",
        "\n",
        "# Load the sample image\n",
        "directory_path = '/content/drive/MyDrive/졸프/test'\n",
        "\n",
        "for filename in os.listdir(directory_path):\n",
        "    if filename.endswith(\".jpg\") or filename.endswith(\".png\"):\n",
        "        # Open image using PIL\n",
        "        img_path = os.path.join(directory_path, filename)\n",
        "        img = Image.open(img_path)\n",
        "\n",
        "        # Resize the image\n",
        "        img = img.resize((224, 224))\n",
        "\n",
        "        # Convert the image to a numpy array\n",
        "        img_array = np.array(img)\n",
        "\n",
        "        # Add a batch dimension\n",
        "        img_array = np.expand_dims(img_array, axis=0)\n",
        "\n",
        "        # Preprocess the image\n",
        "        img_array = img_array / 255.0\n",
        "\n",
        "        # Make a prediction\n",
        "        prediction = model.predict(img_array)\n",
        "\n",
        "        # Print the predicted class\n",
        "        predicted_class = classes[np.argmax(prediction)]\n",
        "        print(f'Image: {filename} Predicted class: {predicted_class}')\n"
      ]
    },
    {
      "cell_type": "code",
      "source": [
        "from google.colab import drive\n",
        "drive.mount('/content/drive')"
      ],
      "metadata": {
        "colab": {
          "base_uri": "https://localhost:8080/"
        },
        "id": "JSClG6eXSYHN",
        "outputId": "a9b94268-f3e4-4aba-be55-3efbfa405740"
      },
      "execution_count": 2,
      "outputs": [
        {
          "output_type": "stream",
          "name": "stdout",
          "text": [
            "Drive already mounted at /content/drive; to attempt to forcibly remount, call drive.mount(\"/content/drive\", force_remount=True).\n"
          ]
        }
      ]
    }
  ]
}
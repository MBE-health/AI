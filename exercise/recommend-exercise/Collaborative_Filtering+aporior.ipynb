{
  "nbformat": 4,
  "nbformat_minor": 0,
  "metadata": {
    "colab": {
      "provenance": []
    },
    "kernelspec": {
      "name": "python3",
      "display_name": "Python 3"
    },
    "language_info": {
      "name": "python"
    }
  },
  "cells": [
    {
      "cell_type": "code",
      "execution_count": 77,
      "metadata": {
        "colab": {
          "base_uri": "https://localhost:8080/"
        },
        "id": "Y8GwaHs3EJ80",
        "outputId": "af03fa48-e1ec-4088-95e1-13af2927bc09"
      },
      "outputs": [
        {
          "output_type": "stream",
          "name": "stdout",
          "text": [
            "Drive already mounted at /content/drive; to attempt to forcibly remount, call drive.mount(\"/content/drive\", force_remount=True).\n"
          ]
        }
      ],
      "source": [
        "from google.colab import drive\n",
        "drive.mount('/content/drive')"
      ]
    },
    {
      "cell_type": "code",
      "source": [
        "cd /content/drive/MyDrive/exercise"
      ],
      "metadata": {
        "colab": {
          "base_uri": "https://localhost:8080/"
        },
        "id": "Ntkp-qo3ET9N",
        "outputId": "c155e533-b83d-4246-eb57-4439e0e47dca"
      },
      "execution_count": 78,
      "outputs": [
        {
          "output_type": "stream",
          "name": "stdout",
          "text": [
            "/content/drive/MyDrive/exercise\n"
          ]
        }
      ]
    },
    {
      "cell_type": "code",
      "source": [
        "import os\n",
        "import re\n",
        "\n",
        "import pandas as pd\n",
        "import numpy as np\n",
        "from sklearn.preprocessing import LabelEncoder\n",
        "from sklearn.neighbors import KNeighborsClassifier\n",
        "from sklearn.metrics.pairwise import cosine_similarity\n",
        "\n",
        "\n",
        "from mlxtend.preprocessing import TransactionEncoder\n",
        "from mlxtend.frequent_patterns import apriori, association_rules\n",
        "\n",
        "import pickle\n",
        "\n",
        "import itertools\n",
        "import matplotlib.pyplot as plt\n",
        "import matplotlib.cm as cm\n",
        "import warnings\n",
        "warnings.filterwarnings('ignore')"
      ],
      "metadata": {
        "id": "5qMTbGA5EYAg"
      },
      "execution_count": 79,
      "outputs": []
    },
    {
      "cell_type": "code",
      "source": [
        "## adult 전처리 완료 저장\n",
        "data = pd.read_csv('./cleaned_data/adult_2019_1.csv')"
      ],
      "metadata": {
        "id": "wp1sVeI8Egqp"
      },
      "execution_count": 80,
      "outputs": []
    },
    {
      "cell_type": "code",
      "source": [
        "data.shape"
      ],
      "metadata": {
        "colab": {
          "base_uri": "https://localhost:8080/"
        },
        "id": "divVgSMO2pKU",
        "outputId": "4f9b1117-c875-4d06-cd60-e0eb410e30f9"
      },
      "execution_count": 81,
      "outputs": [
        {
          "output_type": "execute_result",
          "data": {
            "text/plain": [
              "(49433, 18)"
            ]
          },
          "metadata": {},
          "execution_count": 81
        }
      ]
    },
    {
      "cell_type": "code",
      "source": [
        "data.columns"
      ],
      "metadata": {
        "colab": {
          "base_uri": "https://localhost:8080/"
        },
        "id": "fpZEko1TE0v9",
        "outputId": "5f879d8b-6fd0-4b0f-db5c-3ef14ef88716"
      },
      "execution_count": 82,
      "outputs": [
        {
          "output_type": "execute_result",
          "data": {
            "text/plain": [
              "Index(['회원일련번호값', '측정연령수', '측정일자', '성별구분코드', '인증구분명', '신장(cm)', '체중(kg)',\n",
              "       '체지방율(%)', '앉아윗몸앞으로굽히기(cm)', 'BMI(kg/㎡)', '교차윗몸일으키기(회)', '왕복오래달리기(회)',\n",
              "       '10M 4회 왕복달리기(초)', '제자리 멀리뛰기(cm)', '상대악력(%)', '준비운동', '본운동', '마무리운동'],\n",
              "      dtype='object')"
            ]
          },
          "metadata": {},
          "execution_count": 82
        }
      ]
    },
    {
      "cell_type": "code",
      "source": [
        "data.head()"
      ],
      "metadata": {
        "colab": {
          "base_uri": "https://localhost:8080/",
          "height": 1000
        },
        "id": "v3MrUVtpGRtQ",
        "outputId": "6da54886-2082-417a-af29-7bc21d1201f5"
      },
      "execution_count": 83,
      "outputs": [
        {
          "output_type": "execute_result",
          "data": {
            "text/plain": [
              "                    회원일련번호값  측정연령수      측정일자 성별구분코드 인증구분명  신장(cm)  체중(kg)  \\\n",
              "0  AAG5scSkx90/QuAl06tA8wuC     59  20190102      F   참가증   159.0    57.5   \n",
              "1  AAHMUHU8ZnWT2Dqdgq5QIMrm     60  20190102      F   참가증   160.3    59.4   \n",
              "2  AAEIkFejDxJhMG7x6KPtE45Z     64  20190102      M   2등급   163.9    59.3   \n",
              "3  AAGOaVPSy8aq6s1PTwzEsgfx     42  20190102      M   참가증   167.6    73.1   \n",
              "4  AAECwHF8wknRv812NQT09fxu     32  20190102      F   1등급   167.9    56.4   \n",
              "\n",
              "   체지방율(%)  앉아윗몸앞으로굽히기(cm)  BMI(kg/㎡)  교차윗몸일으키기(회)  왕복오래달리기(회)  \\\n",
              "0     32.0            15.5       22.7          1.0        11.0   \n",
              "1     30.7            21.2       23.1          0.0         8.0   \n",
              "2     24.2            14.1       22.1         30.0        20.0   \n",
              "3     26.8            19.6       26.0         32.0        20.0   \n",
              "4     19.3            22.0       20.0         35.0        35.0   \n",
              "\n",
              "   10M 4회 왕복달리기(초)  제자리 멀리뛰기(cm)  상대악력(%)  \\\n",
              "0            15.76         126.0     41.0   \n",
              "1            16.03         107.0     30.1   \n",
              "2            13.00         169.0     61.5   \n",
              "3            11.63         191.0     64.5   \n",
              "4            11.94         192.0     50.0   \n",
              "\n",
              "                                                준비운동  \\\n",
              "0                              상지 루틴 스트레칭,전신 루틴 스트레칭   \n",
              "1  깍지 끼고 상체 숙이기,목 스트레칭,등/어깨 뒤쪽 스트레칭,어깨 뒤쪽 스트레칭,아래...   \n",
              "2  깍지 끼고 상체 숙이기,목 스트레칭,등/어깨 뒤쪽 스트레칭,어깨 뒤쪽 스트레칭,아래...   \n",
              "3  깍지 끼고 상체 숙이기,목 스트레칭,등/어깨 뒤쪽 스트레칭,어깨 뒤쪽 스트레칭,아래...   \n",
              "4  깍지 끼고 상체 숙이기,목 스트레칭,등/어깨 뒤쪽 스트레칭,어깨 뒤쪽 스트레칭,아래...   \n",
              "\n",
              "                                                 본운동  \\\n",
              "0  윗몸올리기,엎드려 버티기,누워서 다리 들어올리기,누워서 수직으로 다리 들어올리기,누...   \n",
              "1  몸통 들어올리기,소파를 이용한 윗몸올리기,엎드려 버티기,옆으로 누워 버티기,네발기기...   \n",
              "2  몸통 들어올리기,소파를 이용한 윗몸올리기,엎드려 버티기,옆으로 누워 버티기,네발기기...   \n",
              "3  몸통 들어올리기,소파를 이용한 윗몸올리기,엎드려 버티기,옆으로 누워 버티기,네발기기...   \n",
              "4  몸통 들어올리기,소파를 이용한 윗몸올리기,엎드려 버티기,옆으로 누워 버티기,네발기기...   \n",
              "\n",
              "                                               마무리운동  \n",
              "0                   하지 루틴 스트레칭,하지 루틴 스트레칭,전신 루틴 스트레칭  \n",
              "1  깍지 끼고 상체 숙이기,목 스트레칭,등/어깨 뒤쪽 스트레칭,아래 팔 스트레칭,넙다리...  \n",
              "2  깍지 끼고 상체 숙이기,목 스트레칭,등/어깨 뒤쪽 스트레칭,아래 팔 스트레칭,넙다리...  \n",
              "3  깍지 끼고 상체 숙이기,목 스트레칭,등/어깨 뒤쪽 스트레칭,아래 팔 스트레칭,넙다리...  \n",
              "4  깍지 끼고 상체 숙이기,목 스트레칭,등/어깨 뒤쪽 스트레칭,아래 팔 스트레칭,넙다리...  "
            ],
            "text/html": [
              "\n",
              "  <div id=\"df-9a6c07b5-a7f2-49f8-b342-6576b5d98d37\">\n",
              "    <div class=\"colab-df-container\">\n",
              "      <div>\n",
              "<style scoped>\n",
              "    .dataframe tbody tr th:only-of-type {\n",
              "        vertical-align: middle;\n",
              "    }\n",
              "\n",
              "    .dataframe tbody tr th {\n",
              "        vertical-align: top;\n",
              "    }\n",
              "\n",
              "    .dataframe thead th {\n",
              "        text-align: right;\n",
              "    }\n",
              "</style>\n",
              "<table border=\"1\" class=\"dataframe\">\n",
              "  <thead>\n",
              "    <tr style=\"text-align: right;\">\n",
              "      <th></th>\n",
              "      <th>회원일련번호값</th>\n",
              "      <th>측정연령수</th>\n",
              "      <th>측정일자</th>\n",
              "      <th>성별구분코드</th>\n",
              "      <th>인증구분명</th>\n",
              "      <th>신장(cm)</th>\n",
              "      <th>체중(kg)</th>\n",
              "      <th>체지방율(%)</th>\n",
              "      <th>앉아윗몸앞으로굽히기(cm)</th>\n",
              "      <th>BMI(kg/㎡)</th>\n",
              "      <th>교차윗몸일으키기(회)</th>\n",
              "      <th>왕복오래달리기(회)</th>\n",
              "      <th>10M 4회 왕복달리기(초)</th>\n",
              "      <th>제자리 멀리뛰기(cm)</th>\n",
              "      <th>상대악력(%)</th>\n",
              "      <th>준비운동</th>\n",
              "      <th>본운동</th>\n",
              "      <th>마무리운동</th>\n",
              "    </tr>\n",
              "  </thead>\n",
              "  <tbody>\n",
              "    <tr>\n",
              "      <th>0</th>\n",
              "      <td>AAG5scSkx90/QuAl06tA8wuC</td>\n",
              "      <td>59</td>\n",
              "      <td>20190102</td>\n",
              "      <td>F</td>\n",
              "      <td>참가증</td>\n",
              "      <td>159.0</td>\n",
              "      <td>57.5</td>\n",
              "      <td>32.0</td>\n",
              "      <td>15.5</td>\n",
              "      <td>22.7</td>\n",
              "      <td>1.0</td>\n",
              "      <td>11.0</td>\n",
              "      <td>15.76</td>\n",
              "      <td>126.0</td>\n",
              "      <td>41.0</td>\n",
              "      <td>상지 루틴 스트레칭,전신 루틴 스트레칭</td>\n",
              "      <td>윗몸올리기,엎드려 버티기,누워서 다리 들어올리기,누워서 수직으로 다리 들어올리기,누...</td>\n",
              "      <td>하지 루틴 스트레칭,하지 루틴 스트레칭,전신 루틴 스트레칭</td>\n",
              "    </tr>\n",
              "    <tr>\n",
              "      <th>1</th>\n",
              "      <td>AAHMUHU8ZnWT2Dqdgq5QIMrm</td>\n",
              "      <td>60</td>\n",
              "      <td>20190102</td>\n",
              "      <td>F</td>\n",
              "      <td>참가증</td>\n",
              "      <td>160.3</td>\n",
              "      <td>59.4</td>\n",
              "      <td>30.7</td>\n",
              "      <td>21.2</td>\n",
              "      <td>23.1</td>\n",
              "      <td>0.0</td>\n",
              "      <td>8.0</td>\n",
              "      <td>16.03</td>\n",
              "      <td>107.0</td>\n",
              "      <td>30.1</td>\n",
              "      <td>깍지 끼고 상체 숙이기,목 스트레칭,등/어깨 뒤쪽 스트레칭,어깨 뒤쪽 스트레칭,아래...</td>\n",
              "      <td>몸통 들어올리기,소파를 이용한 윗몸올리기,엎드려 버티기,옆으로 누워 버티기,네발기기...</td>\n",
              "      <td>깍지 끼고 상체 숙이기,목 스트레칭,등/어깨 뒤쪽 스트레칭,아래 팔 스트레칭,넙다리...</td>\n",
              "    </tr>\n",
              "    <tr>\n",
              "      <th>2</th>\n",
              "      <td>AAEIkFejDxJhMG7x6KPtE45Z</td>\n",
              "      <td>64</td>\n",
              "      <td>20190102</td>\n",
              "      <td>M</td>\n",
              "      <td>2등급</td>\n",
              "      <td>163.9</td>\n",
              "      <td>59.3</td>\n",
              "      <td>24.2</td>\n",
              "      <td>14.1</td>\n",
              "      <td>22.1</td>\n",
              "      <td>30.0</td>\n",
              "      <td>20.0</td>\n",
              "      <td>13.00</td>\n",
              "      <td>169.0</td>\n",
              "      <td>61.5</td>\n",
              "      <td>깍지 끼고 상체 숙이기,목 스트레칭,등/어깨 뒤쪽 스트레칭,어깨 뒤쪽 스트레칭,아래...</td>\n",
              "      <td>몸통 들어올리기,소파를 이용한 윗몸올리기,엎드려 버티기,옆으로 누워 버티기,네발기기...</td>\n",
              "      <td>깍지 끼고 상체 숙이기,목 스트레칭,등/어깨 뒤쪽 스트레칭,아래 팔 스트레칭,넙다리...</td>\n",
              "    </tr>\n",
              "    <tr>\n",
              "      <th>3</th>\n",
              "      <td>AAGOaVPSy8aq6s1PTwzEsgfx</td>\n",
              "      <td>42</td>\n",
              "      <td>20190102</td>\n",
              "      <td>M</td>\n",
              "      <td>참가증</td>\n",
              "      <td>167.6</td>\n",
              "      <td>73.1</td>\n",
              "      <td>26.8</td>\n",
              "      <td>19.6</td>\n",
              "      <td>26.0</td>\n",
              "      <td>32.0</td>\n",
              "      <td>20.0</td>\n",
              "      <td>11.63</td>\n",
              "      <td>191.0</td>\n",
              "      <td>64.5</td>\n",
              "      <td>깍지 끼고 상체 숙이기,목 스트레칭,등/어깨 뒤쪽 스트레칭,어깨 뒤쪽 스트레칭,아래...</td>\n",
              "      <td>몸통 들어올리기,소파를 이용한 윗몸올리기,엎드려 버티기,옆으로 누워 버티기,네발기기...</td>\n",
              "      <td>깍지 끼고 상체 숙이기,목 스트레칭,등/어깨 뒤쪽 스트레칭,아래 팔 스트레칭,넙다리...</td>\n",
              "    </tr>\n",
              "    <tr>\n",
              "      <th>4</th>\n",
              "      <td>AAECwHF8wknRv812NQT09fxu</td>\n",
              "      <td>32</td>\n",
              "      <td>20190102</td>\n",
              "      <td>F</td>\n",
              "      <td>1등급</td>\n",
              "      <td>167.9</td>\n",
              "      <td>56.4</td>\n",
              "      <td>19.3</td>\n",
              "      <td>22.0</td>\n",
              "      <td>20.0</td>\n",
              "      <td>35.0</td>\n",
              "      <td>35.0</td>\n",
              "      <td>11.94</td>\n",
              "      <td>192.0</td>\n",
              "      <td>50.0</td>\n",
              "      <td>깍지 끼고 상체 숙이기,목 스트레칭,등/어깨 뒤쪽 스트레칭,어깨 뒤쪽 스트레칭,아래...</td>\n",
              "      <td>몸통 들어올리기,소파를 이용한 윗몸올리기,엎드려 버티기,옆으로 누워 버티기,네발기기...</td>\n",
              "      <td>깍지 끼고 상체 숙이기,목 스트레칭,등/어깨 뒤쪽 스트레칭,아래 팔 스트레칭,넙다리...</td>\n",
              "    </tr>\n",
              "  </tbody>\n",
              "</table>\n",
              "</div>\n",
              "      <button class=\"colab-df-convert\" onclick=\"convertToInteractive('df-9a6c07b5-a7f2-49f8-b342-6576b5d98d37')\"\n",
              "              title=\"Convert this dataframe to an interactive table.\"\n",
              "              style=\"display:none;\">\n",
              "        \n",
              "  <svg xmlns=\"http://www.w3.org/2000/svg\" height=\"24px\"viewBox=\"0 0 24 24\"\n",
              "       width=\"24px\">\n",
              "    <path d=\"M0 0h24v24H0V0z\" fill=\"none\"/>\n",
              "    <path d=\"M18.56 5.44l.94 2.06.94-2.06 2.06-.94-2.06-.94-.94-2.06-.94 2.06-2.06.94zm-11 1L8.5 8.5l.94-2.06 2.06-.94-2.06-.94L8.5 2.5l-.94 2.06-2.06.94zm10 10l.94 2.06.94-2.06 2.06-.94-2.06-.94-.94-2.06-.94 2.06-2.06.94z\"/><path d=\"M17.41 7.96l-1.37-1.37c-.4-.4-.92-.59-1.43-.59-.52 0-1.04.2-1.43.59L10.3 9.45l-7.72 7.72c-.78.78-.78 2.05 0 2.83L4 21.41c.39.39.9.59 1.41.59.51 0 1.02-.2 1.41-.59l7.78-7.78 2.81-2.81c.8-.78.8-2.07 0-2.86zM5.41 20L4 18.59l7.72-7.72 1.47 1.35L5.41 20z\"/>\n",
              "  </svg>\n",
              "      </button>\n",
              "      \n",
              "  <style>\n",
              "    .colab-df-container {\n",
              "      display:flex;\n",
              "      flex-wrap:wrap;\n",
              "      gap: 12px;\n",
              "    }\n",
              "\n",
              "    .colab-df-convert {\n",
              "      background-color: #E8F0FE;\n",
              "      border: none;\n",
              "      border-radius: 50%;\n",
              "      cursor: pointer;\n",
              "      display: none;\n",
              "      fill: #1967D2;\n",
              "      height: 32px;\n",
              "      padding: 0 0 0 0;\n",
              "      width: 32px;\n",
              "    }\n",
              "\n",
              "    .colab-df-convert:hover {\n",
              "      background-color: #E2EBFA;\n",
              "      box-shadow: 0px 1px 2px rgba(60, 64, 67, 0.3), 0px 1px 3px 1px rgba(60, 64, 67, 0.15);\n",
              "      fill: #174EA6;\n",
              "    }\n",
              "\n",
              "    [theme=dark] .colab-df-convert {\n",
              "      background-color: #3B4455;\n",
              "      fill: #D2E3FC;\n",
              "    }\n",
              "\n",
              "    [theme=dark] .colab-df-convert:hover {\n",
              "      background-color: #434B5C;\n",
              "      box-shadow: 0px 1px 3px 1px rgba(0, 0, 0, 0.15);\n",
              "      filter: drop-shadow(0px 1px 2px rgba(0, 0, 0, 0.3));\n",
              "      fill: #FFFFFF;\n",
              "    }\n",
              "  </style>\n",
              "\n",
              "      <script>\n",
              "        const buttonEl =\n",
              "          document.querySelector('#df-9a6c07b5-a7f2-49f8-b342-6576b5d98d37 button.colab-df-convert');\n",
              "        buttonEl.style.display =\n",
              "          google.colab.kernel.accessAllowed ? 'block' : 'none';\n",
              "\n",
              "        async function convertToInteractive(key) {\n",
              "          const element = document.querySelector('#df-9a6c07b5-a7f2-49f8-b342-6576b5d98d37');\n",
              "          const dataTable =\n",
              "            await google.colab.kernel.invokeFunction('convertToInteractive',\n",
              "                                                     [key], {});\n",
              "          if (!dataTable) return;\n",
              "\n",
              "          const docLinkHtml = 'Like what you see? Visit the ' +\n",
              "            '<a target=\"_blank\" href=https://colab.research.google.com/notebooks/data_table.ipynb>data table notebook</a>'\n",
              "            + ' to learn more about interactive tables.';\n",
              "          element.innerHTML = '';\n",
              "          dataTable['output_type'] = 'display_data';\n",
              "          await google.colab.output.renderOutput(dataTable, element);\n",
              "          const docLink = document.createElement('div');\n",
              "          docLink.innerHTML = docLinkHtml;\n",
              "          element.appendChild(docLink);\n",
              "        }\n",
              "      </script>\n",
              "    </div>\n",
              "  </div>\n",
              "  "
            ]
          },
          "metadata": {},
          "execution_count": 83
        }
      ]
    },
    {
      "cell_type": "markdown",
      "source": [
        "# 유저 그룹 정보 분리해 저장"
      ],
      "metadata": {
        "id": "fIsfSQOKMtDn"
      }
    },
    {
      "cell_type": "code",
      "source": [
        "data = pd.get_dummies(data = data, columns = ['성별구분코드'], prefix = '성별구분코드')"
      ],
      "metadata": {
        "id": "ubOiDhv1h3nX"
      },
      "execution_count": 84,
      "outputs": []
    },
    {
      "cell_type": "code",
      "source": [
        "info_col = [\"회원일련번호값\",\"측정연령수\",\"측정일자\"]\n",
        "category_col = [\"성별구분코드_F\", \"성별구분코드_M\"]\n",
        "body_col = [\"신장(cm)\",\"체중(kg)\",\"체지방율(%)\"]\n",
        "# 신장, 체중, 신체 구성, \n",
        "health_col = [\"앉아윗몸앞으로굽히기(cm)\",\"BMI(kg/㎡)\",\"교차윗몸일으키기(회)\",\"왕복오래달리기(회)\",\"10M 4회 왕복달리기(초)\",\"제자리 멀리뛰기(cm)\",\"상대악력(%)\"]\n",
        "# 유연성, 체질량지수, 근지구력, 심폐지구력, 민첩성, 순발력, 근력\n",
        "ex_col = [\"준비운동\",\"본운동\",\"마무리운동\"]\n",
        "target = [\"인증구분명\"]"
      ],
      "metadata": {
        "id": "xGO6GSnOEz6t"
      },
      "execution_count": 85,
      "outputs": []
    },
    {
      "cell_type": "code",
      "source": [
        "\n",
        "adult_group_0 = data[data[\"인증구분명\"]==\"참가증\"][category_col+body_col+health_col+ex_col]\n",
        "adult_group_0[\"index\"] = list(range(0, len(adult_group_0)))\n",
        "adult_group_0=adult_group_0.set_index(\"index\")\n",
        "\n",
        "\n",
        "adult_group_0.to_csv('./cleaned_data/adult_group/adult_2019_0.csv',encoding='utf-8',index=False)"
      ],
      "metadata": {
        "id": "A2HuVXr3eelT"
      },
      "execution_count": 86,
      "outputs": []
    },
    {
      "cell_type": "code",
      "source": [
        "adult_group_1 = data[data[\"인증구분명\"]==\"3등급\"][category_col+body_col+health_col+ex_col]\n",
        "\n",
        "adult_group_1[\"index\"] = list(range(0, len(adult_group_1)))\n",
        "adult_group_1=adult_group_1.set_index(\"index\")\n",
        "\n",
        "\n",
        "adult_group_1.to_csv('./cleaned_data/adult_group/adult_2019_1.csv',encoding='utf-8',index=False)"
      ],
      "metadata": {
        "id": "neYtyLmMeok4"
      },
      "execution_count": 87,
      "outputs": []
    },
    {
      "cell_type": "code",
      "source": [
        "adult_group_2 = data[data[\"인증구분명\"]==\"2등급\"][category_col+body_col+health_col+ex_col]\n",
        "\n",
        "adult_group_2[\"index\"] = list(range(0, len(adult_group_2)))\n",
        "adult_group_2=adult_group_2.set_index(\"index\")\n",
        "\n",
        "\n",
        "adult_group_2.to_csv('./cleaned_data/adult_group/adult_2019_2.csv',encoding='utf-8',index=False)"
      ],
      "metadata": {
        "id": "oXXvVOmMesWD"
      },
      "execution_count": 88,
      "outputs": []
    },
    {
      "cell_type": "code",
      "source": [
        "adult_group_3 = data[data[\"인증구분명\"]==\"1등급\"][category_col+body_col+health_col+ex_col]\n",
        "\n",
        "adult_group_3[\"index\"] = list(range(0, len(adult_group_3)))\n",
        "adult_group_3=adult_group_3.set_index(\"index\")\n",
        "\n",
        "\n",
        "adult_group_3.to_csv('./cleaned_data/adult_group/adult_2019_3.csv',encoding='utf-8',index=False)"
      ],
      "metadata": {
        "id": "EWKWo1N_evCA"
      },
      "execution_count": 89,
      "outputs": []
    },
    {
      "cell_type": "markdown",
      "source": [
        "# 그룹별 데이터 읽어오기"
      ],
      "metadata": {
        "id": "VmCdv_iVQntw"
      }
    },
    {
      "cell_type": "code",
      "source": [
        "## adult group 0\n",
        "adult_group_0 = pd.read_csv('./cleaned_data/adult_group/adult_2019_0.csv')\n",
        "## adult group 1\n",
        "adult_group_1 = pd.read_csv('./cleaned_data/adult_group/adult_2019_1.csv')\n",
        "## adult group 0\n",
        "adult_group_2 = pd.read_csv('./cleaned_data/adult_group/adult_2019_2.csv')\n",
        "## adult group 0\n",
        "adult_group_3 = pd.read_csv('./cleaned_data/adult_group/adult_2019_3.csv')"
      ],
      "metadata": {
        "id": "JPCKoZ_cnKOK"
      },
      "execution_count": 90,
      "outputs": []
    },
    {
      "cell_type": "code",
      "source": [
        "adult_group_0.head(7)"
      ],
      "metadata": {
        "colab": {
          "base_uri": "https://localhost:8080/",
          "height": 1000
        },
        "id": "jEaZe7LXEpKM",
        "outputId": "467a707d-1767-4f3b-96b0-8a8250776df7"
      },
      "execution_count": 91,
      "outputs": [
        {
          "output_type": "execute_result",
          "data": {
            "text/plain": [
              "   성별구분코드_F  성별구분코드_M  신장(cm)  체중(kg)  체지방율(%)  앉아윗몸앞으로굽히기(cm)  BMI(kg/㎡)  \\\n",
              "0         1         0   159.0    57.5     32.0            15.5       22.7   \n",
              "1         1         0   160.3    59.4     30.7            21.2       23.1   \n",
              "2         0         1   167.6    73.1     26.8            19.6       26.0   \n",
              "3         0         1   167.1    87.8     29.6             8.2       31.4   \n",
              "4         0         1   171.4    82.1     25.0            -2.0       27.9   \n",
              "5         1         0   164.7    60.4     32.3             2.1       22.3   \n",
              "6         0         1   166.3    63.7     20.2             1.1       23.0   \n",
              "\n",
              "   교차윗몸일으키기(회)  왕복오래달리기(회)  10M 4회 왕복달리기(초)  제자리 멀리뛰기(cm)  상대악력(%)  \\\n",
              "0          1.0   11.000000            15.76         126.0     41.0   \n",
              "1          0.0    8.000000            16.03         107.0     30.1   \n",
              "2         32.0   20.000000            11.63         191.0     64.5   \n",
              "3         44.0   28.000000            11.59         189.0     48.1   \n",
              "4         39.0   30.510531            11.30         196.0     52.6   \n",
              "5         20.0   12.000000            15.01         127.0     38.4   \n",
              "6         48.0   47.000000            10.15         242.0     73.9   \n",
              "\n",
              "                                                준비운동  \\\n",
              "0                              상지 루틴 스트레칭,전신 루틴 스트레칭   \n",
              "1  깍지 끼고 상체 숙이기,목 스트레칭,등/어깨 뒤쪽 스트레칭,어깨 뒤쪽 스트레칭,아래...   \n",
              "2  깍지 끼고 상체 숙이기,목 스트레칭,등/어깨 뒤쪽 스트레칭,어깨 뒤쪽 스트레칭,아래...   \n",
              "3  깍지 끼고 상체 숙이기,목 스트레칭,등/어깨 뒤쪽 스트레칭,어깨 뒤쪽 스트레칭,아래...   \n",
              "4                                                 걷기   \n",
              "5  목 스트레칭,등/어깨 뒤쪽 스트레칭,가슴/어깨 앞쪽 스트레칭,아래 팔 스트레칭,하지...   \n",
              "6                              하지 루틴 스트레칭,상지 루틴 스트레칭   \n",
              "\n",
              "                                                 본운동  \\\n",
              "0  윗몸올리기,엎드려 버티기,누워서 다리 들어올리기,누워서 수직으로 다리 들어올리기,누...   \n",
              "1  몸통 들어올리기,소파를 이용한 윗몸올리기,엎드려 버티기,옆으로 누워 버티기,네발기기...   \n",
              "2  몸통 들어올리기,소파를 이용한 윗몸올리기,엎드려 버티기,옆으로 누워 버티기,네발기기...   \n",
              "3  몸통 들어올리기,소파를 이용한 윗몸올리기,엎드려 버티기,옆으로 누워 버티기,네발기기...   \n",
              "4                                  달리기,무릎 높여 제자리 달리기   \n",
              "5  의자 앞에서 앉았다 일어서기,엎드려 버티기,누워서 엉덩이 들어올리기,네발기기 자세로...   \n",
              "6                                         전신 루틴 스트레칭   \n",
              "\n",
              "                                               마무리운동  \n",
              "0                   하지 루틴 스트레칭,하지 루틴 스트레칭,전신 루틴 스트레칭  \n",
              "1  깍지 끼고 상체 숙이기,목 스트레칭,등/어깨 뒤쪽 스트레칭,아래 팔 스트레칭,넙다리...  \n",
              "2  깍지 끼고 상체 숙이기,목 스트레칭,등/어깨 뒤쪽 스트레칭,아래 팔 스트레칭,넙다리...  \n",
              "3  깍지 끼고 상체 숙이기,목 스트레칭,등/어깨 뒤쪽 스트레칭,아래 팔 스트레칭,넙다리...  \n",
              "4                                         전신 루틴 스트레칭  \n",
              "5      걷기,계단 올라갔다 내려오기,수영,옆구리 스트레칭,넙다리 스트레칭,넙다리 스트레칭  \n",
              "6                                    자가근막이완술 루틴 스트레칭  "
            ],
            "text/html": [
              "\n",
              "  <div id=\"df-9fb07153-9127-438c-b7aa-d66940f9f0d1\">\n",
              "    <div class=\"colab-df-container\">\n",
              "      <div>\n",
              "<style scoped>\n",
              "    .dataframe tbody tr th:only-of-type {\n",
              "        vertical-align: middle;\n",
              "    }\n",
              "\n",
              "    .dataframe tbody tr th {\n",
              "        vertical-align: top;\n",
              "    }\n",
              "\n",
              "    .dataframe thead th {\n",
              "        text-align: right;\n",
              "    }\n",
              "</style>\n",
              "<table border=\"1\" class=\"dataframe\">\n",
              "  <thead>\n",
              "    <tr style=\"text-align: right;\">\n",
              "      <th></th>\n",
              "      <th>성별구분코드_F</th>\n",
              "      <th>성별구분코드_M</th>\n",
              "      <th>신장(cm)</th>\n",
              "      <th>체중(kg)</th>\n",
              "      <th>체지방율(%)</th>\n",
              "      <th>앉아윗몸앞으로굽히기(cm)</th>\n",
              "      <th>BMI(kg/㎡)</th>\n",
              "      <th>교차윗몸일으키기(회)</th>\n",
              "      <th>왕복오래달리기(회)</th>\n",
              "      <th>10M 4회 왕복달리기(초)</th>\n",
              "      <th>제자리 멀리뛰기(cm)</th>\n",
              "      <th>상대악력(%)</th>\n",
              "      <th>준비운동</th>\n",
              "      <th>본운동</th>\n",
              "      <th>마무리운동</th>\n",
              "    </tr>\n",
              "  </thead>\n",
              "  <tbody>\n",
              "    <tr>\n",
              "      <th>0</th>\n",
              "      <td>1</td>\n",
              "      <td>0</td>\n",
              "      <td>159.0</td>\n",
              "      <td>57.5</td>\n",
              "      <td>32.0</td>\n",
              "      <td>15.5</td>\n",
              "      <td>22.7</td>\n",
              "      <td>1.0</td>\n",
              "      <td>11.000000</td>\n",
              "      <td>15.76</td>\n",
              "      <td>126.0</td>\n",
              "      <td>41.0</td>\n",
              "      <td>상지 루틴 스트레칭,전신 루틴 스트레칭</td>\n",
              "      <td>윗몸올리기,엎드려 버티기,누워서 다리 들어올리기,누워서 수직으로 다리 들어올리기,누...</td>\n",
              "      <td>하지 루틴 스트레칭,하지 루틴 스트레칭,전신 루틴 스트레칭</td>\n",
              "    </tr>\n",
              "    <tr>\n",
              "      <th>1</th>\n",
              "      <td>1</td>\n",
              "      <td>0</td>\n",
              "      <td>160.3</td>\n",
              "      <td>59.4</td>\n",
              "      <td>30.7</td>\n",
              "      <td>21.2</td>\n",
              "      <td>23.1</td>\n",
              "      <td>0.0</td>\n",
              "      <td>8.000000</td>\n",
              "      <td>16.03</td>\n",
              "      <td>107.0</td>\n",
              "      <td>30.1</td>\n",
              "      <td>깍지 끼고 상체 숙이기,목 스트레칭,등/어깨 뒤쪽 스트레칭,어깨 뒤쪽 스트레칭,아래...</td>\n",
              "      <td>몸통 들어올리기,소파를 이용한 윗몸올리기,엎드려 버티기,옆으로 누워 버티기,네발기기...</td>\n",
              "      <td>깍지 끼고 상체 숙이기,목 스트레칭,등/어깨 뒤쪽 스트레칭,아래 팔 스트레칭,넙다리...</td>\n",
              "    </tr>\n",
              "    <tr>\n",
              "      <th>2</th>\n",
              "      <td>0</td>\n",
              "      <td>1</td>\n",
              "      <td>167.6</td>\n",
              "      <td>73.1</td>\n",
              "      <td>26.8</td>\n",
              "      <td>19.6</td>\n",
              "      <td>26.0</td>\n",
              "      <td>32.0</td>\n",
              "      <td>20.000000</td>\n",
              "      <td>11.63</td>\n",
              "      <td>191.0</td>\n",
              "      <td>64.5</td>\n",
              "      <td>깍지 끼고 상체 숙이기,목 스트레칭,등/어깨 뒤쪽 스트레칭,어깨 뒤쪽 스트레칭,아래...</td>\n",
              "      <td>몸통 들어올리기,소파를 이용한 윗몸올리기,엎드려 버티기,옆으로 누워 버티기,네발기기...</td>\n",
              "      <td>깍지 끼고 상체 숙이기,목 스트레칭,등/어깨 뒤쪽 스트레칭,아래 팔 스트레칭,넙다리...</td>\n",
              "    </tr>\n",
              "    <tr>\n",
              "      <th>3</th>\n",
              "      <td>0</td>\n",
              "      <td>1</td>\n",
              "      <td>167.1</td>\n",
              "      <td>87.8</td>\n",
              "      <td>29.6</td>\n",
              "      <td>8.2</td>\n",
              "      <td>31.4</td>\n",
              "      <td>44.0</td>\n",
              "      <td>28.000000</td>\n",
              "      <td>11.59</td>\n",
              "      <td>189.0</td>\n",
              "      <td>48.1</td>\n",
              "      <td>깍지 끼고 상체 숙이기,목 스트레칭,등/어깨 뒤쪽 스트레칭,어깨 뒤쪽 스트레칭,아래...</td>\n",
              "      <td>몸통 들어올리기,소파를 이용한 윗몸올리기,엎드려 버티기,옆으로 누워 버티기,네발기기...</td>\n",
              "      <td>깍지 끼고 상체 숙이기,목 스트레칭,등/어깨 뒤쪽 스트레칭,아래 팔 스트레칭,넙다리...</td>\n",
              "    </tr>\n",
              "    <tr>\n",
              "      <th>4</th>\n",
              "      <td>0</td>\n",
              "      <td>1</td>\n",
              "      <td>171.4</td>\n",
              "      <td>82.1</td>\n",
              "      <td>25.0</td>\n",
              "      <td>-2.0</td>\n",
              "      <td>27.9</td>\n",
              "      <td>39.0</td>\n",
              "      <td>30.510531</td>\n",
              "      <td>11.30</td>\n",
              "      <td>196.0</td>\n",
              "      <td>52.6</td>\n",
              "      <td>걷기</td>\n",
              "      <td>달리기,무릎 높여 제자리 달리기</td>\n",
              "      <td>전신 루틴 스트레칭</td>\n",
              "    </tr>\n",
              "    <tr>\n",
              "      <th>5</th>\n",
              "      <td>1</td>\n",
              "      <td>0</td>\n",
              "      <td>164.7</td>\n",
              "      <td>60.4</td>\n",
              "      <td>32.3</td>\n",
              "      <td>2.1</td>\n",
              "      <td>22.3</td>\n",
              "      <td>20.0</td>\n",
              "      <td>12.000000</td>\n",
              "      <td>15.01</td>\n",
              "      <td>127.0</td>\n",
              "      <td>38.4</td>\n",
              "      <td>목 스트레칭,등/어깨 뒤쪽 스트레칭,가슴/어깨 앞쪽 스트레칭,아래 팔 스트레칭,하지...</td>\n",
              "      <td>의자 앞에서 앉았다 일어서기,엎드려 버티기,누워서 엉덩이 들어올리기,네발기기 자세로...</td>\n",
              "      <td>걷기,계단 올라갔다 내려오기,수영,옆구리 스트레칭,넙다리 스트레칭,넙다리 스트레칭</td>\n",
              "    </tr>\n",
              "    <tr>\n",
              "      <th>6</th>\n",
              "      <td>0</td>\n",
              "      <td>1</td>\n",
              "      <td>166.3</td>\n",
              "      <td>63.7</td>\n",
              "      <td>20.2</td>\n",
              "      <td>1.1</td>\n",
              "      <td>23.0</td>\n",
              "      <td>48.0</td>\n",
              "      <td>47.000000</td>\n",
              "      <td>10.15</td>\n",
              "      <td>242.0</td>\n",
              "      <td>73.9</td>\n",
              "      <td>하지 루틴 스트레칭,상지 루틴 스트레칭</td>\n",
              "      <td>전신 루틴 스트레칭</td>\n",
              "      <td>자가근막이완술 루틴 스트레칭</td>\n",
              "    </tr>\n",
              "  </tbody>\n",
              "</table>\n",
              "</div>\n",
              "      <button class=\"colab-df-convert\" onclick=\"convertToInteractive('df-9fb07153-9127-438c-b7aa-d66940f9f0d1')\"\n",
              "              title=\"Convert this dataframe to an interactive table.\"\n",
              "              style=\"display:none;\">\n",
              "        \n",
              "  <svg xmlns=\"http://www.w3.org/2000/svg\" height=\"24px\"viewBox=\"0 0 24 24\"\n",
              "       width=\"24px\">\n",
              "    <path d=\"M0 0h24v24H0V0z\" fill=\"none\"/>\n",
              "    <path d=\"M18.56 5.44l.94 2.06.94-2.06 2.06-.94-2.06-.94-.94-2.06-.94 2.06-2.06.94zm-11 1L8.5 8.5l.94-2.06 2.06-.94-2.06-.94L8.5 2.5l-.94 2.06-2.06.94zm10 10l.94 2.06.94-2.06 2.06-.94-2.06-.94-.94-2.06-.94 2.06-2.06.94z\"/><path d=\"M17.41 7.96l-1.37-1.37c-.4-.4-.92-.59-1.43-.59-.52 0-1.04.2-1.43.59L10.3 9.45l-7.72 7.72c-.78.78-.78 2.05 0 2.83L4 21.41c.39.39.9.59 1.41.59.51 0 1.02-.2 1.41-.59l7.78-7.78 2.81-2.81c.8-.78.8-2.07 0-2.86zM5.41 20L4 18.59l7.72-7.72 1.47 1.35L5.41 20z\"/>\n",
              "  </svg>\n",
              "      </button>\n",
              "      \n",
              "  <style>\n",
              "    .colab-df-container {\n",
              "      display:flex;\n",
              "      flex-wrap:wrap;\n",
              "      gap: 12px;\n",
              "    }\n",
              "\n",
              "    .colab-df-convert {\n",
              "      background-color: #E8F0FE;\n",
              "      border: none;\n",
              "      border-radius: 50%;\n",
              "      cursor: pointer;\n",
              "      display: none;\n",
              "      fill: #1967D2;\n",
              "      height: 32px;\n",
              "      padding: 0 0 0 0;\n",
              "      width: 32px;\n",
              "    }\n",
              "\n",
              "    .colab-df-convert:hover {\n",
              "      background-color: #E2EBFA;\n",
              "      box-shadow: 0px 1px 2px rgba(60, 64, 67, 0.3), 0px 1px 3px 1px rgba(60, 64, 67, 0.15);\n",
              "      fill: #174EA6;\n",
              "    }\n",
              "\n",
              "    [theme=dark] .colab-df-convert {\n",
              "      background-color: #3B4455;\n",
              "      fill: #D2E3FC;\n",
              "    }\n",
              "\n",
              "    [theme=dark] .colab-df-convert:hover {\n",
              "      background-color: #434B5C;\n",
              "      box-shadow: 0px 1px 3px 1px rgba(0, 0, 0, 0.15);\n",
              "      filter: drop-shadow(0px 1px 2px rgba(0, 0, 0, 0.3));\n",
              "      fill: #FFFFFF;\n",
              "    }\n",
              "  </style>\n",
              "\n",
              "      <script>\n",
              "        const buttonEl =\n",
              "          document.querySelector('#df-9fb07153-9127-438c-b7aa-d66940f9f0d1 button.colab-df-convert');\n",
              "        buttonEl.style.display =\n",
              "          google.colab.kernel.accessAllowed ? 'block' : 'none';\n",
              "\n",
              "        async function convertToInteractive(key) {\n",
              "          const element = document.querySelector('#df-9fb07153-9127-438c-b7aa-d66940f9f0d1');\n",
              "          const dataTable =\n",
              "            await google.colab.kernel.invokeFunction('convertToInteractive',\n",
              "                                                     [key], {});\n",
              "          if (!dataTable) return;\n",
              "\n",
              "          const docLinkHtml = 'Like what you see? Visit the ' +\n",
              "            '<a target=\"_blank\" href=https://colab.research.google.com/notebooks/data_table.ipynb>data table notebook</a>'\n",
              "            + ' to learn more about interactive tables.';\n",
              "          element.innerHTML = '';\n",
              "          dataTable['output_type'] = 'display_data';\n",
              "          await google.colab.output.renderOutput(dataTable, element);\n",
              "          const docLink = document.createElement('div');\n",
              "          docLink.innerHTML = docLinkHtml;\n",
              "          element.appendChild(docLink);\n",
              "        }\n",
              "      </script>\n",
              "    </div>\n",
              "  </div>\n",
              "  "
            ]
          },
          "metadata": {},
          "execution_count": 91
        }
      ]
    },
    {
      "cell_type": "code",
      "source": [
        "# 유저가 0 그룹인 경우 - 기존의 0 그룹 테이블 가져오기 (0 ~ 3)\n",
        "adult_group_0.shape"
      ],
      "metadata": {
        "id": "1If-_pWGMvII",
        "colab": {
          "base_uri": "https://localhost:8080/"
        },
        "outputId": "b0bd0074-9b65-4317-ff76-0219c7aa63bc"
      },
      "execution_count": 92,
      "outputs": [
        {
          "output_type": "execute_result",
          "data": {
            "text/plain": [
              "(29280, 15)"
            ]
          },
          "metadata": {},
          "execution_count": 92
        }
      ]
    },
    {
      "cell_type": "code",
      "source": [
        "adult_group_0.tail()"
      ],
      "metadata": {
        "colab": {
          "base_uri": "https://localhost:8080/",
          "height": 1000
        },
        "id": "BfZho8bdW2Dy",
        "outputId": "42eb2a0f-6634-4c43-da32-ff6a3d1a27c2"
      },
      "execution_count": 93,
      "outputs": [
        {
          "output_type": "execute_result",
          "data": {
            "text/plain": [
              "       성별구분코드_F  성별구분코드_M  신장(cm)  체중(kg)  체지방율(%)  앉아윗몸앞으로굽히기(cm)  BMI(kg/㎡)  \\\n",
              "29275         0         1   175.3   78.10     26.0            24.1       25.4   \n",
              "29276         0         1   165.0   68.66     20.4            -3.7       25.2   \n",
              "29277         1         0   168.5   63.40     35.4             1.7       22.3   \n",
              "29278         0         1   180.5   96.30     24.2             4.6       29.6   \n",
              "29279         0         1   173.0   83.60     24.1            15.9       27.9   \n",
              "\n",
              "       교차윗몸일으키기(회)  왕복오래달리기(회)  10M 4회 왕복달리기(초)  제자리 멀리뛰기(cm)  상대악력(%)  \\\n",
              "29275         46.0   42.000000            10.00         188.0     59.6   \n",
              "29276         20.0   30.510531            13.80         172.0     56.9   \n",
              "29277         28.0   16.000000            12.36         146.0     42.1   \n",
              "29278         29.0   30.510531            12.06         184.0     44.8   \n",
              "29279         39.0   52.000000            10.66         211.0     54.4   \n",
              "\n",
              "                                                    준비운동  \\\n",
              "29275                             걷기,유산소 운동 전 동적 루틴 스트레칭   \n",
              "29276                                                 걷기   \n",
              "29277              걷기,줄넘기,전신 루틴 스트레칭,유산소 운동 전 동적 루틴 스트레칭   \n",
              "29278  상지 루틴 스트레칭,하지 루틴 스트레칭,하지 루틴 스트레칭,전신 루틴 스트레칭,유산...   \n",
              "29279                     전신 루틴 스트레칭,유산소 운동 전 동적 루틴 스트레칭   \n",
              "\n",
              "                                                     본운동  \\\n",
              "29275  맨몸운동 루틴프로그램,팔벌려뛰기,사다리 옆으로 발 옮기기,옆으로 펀치하기,스텝퍼 오...   \n",
              "29276                                  달리기,무릎 높여 제자리 달리기   \n",
              "29277  서서 상체 일으키기,앉았다 일어서기,소파를 이용한 윗몸올리기,엎드려 버티기,네발기기...   \n",
              "29278  탄력밴드 어깨 가쪽 돌림,서서 탄력밴드 당겨내리기/올리기,엎드려 버티기,누워서 다리...   \n",
              "29279  윗몸 말아 올리기,윗몸올리기,누워서 다리 들어올리기,누워서 팔 다리 동시에 들어올리...   \n",
              "\n",
              "                                                   마무리운동  \n",
              "29275                                         전신 루틴 스트레칭  \n",
              "29276                                         전신 루틴 스트레칭  \n",
              "29277   하지 루틴 스트레칭,하지 루틴 스트레칭,상지 루틴 스트레칭,자가근막이완술 루틴 스트레칭  \n",
              "29278  목 스트레칭,허리 스트레칭,배 스트레칭,짐볼을 이용한 동적 루틴 스트레칭,작은 공을...  \n",
              "29279                                         전신 루틴 스트레칭  "
            ],
            "text/html": [
              "\n",
              "  <div id=\"df-75dffa7a-db90-4b0f-9d20-78e5d56315a4\">\n",
              "    <div class=\"colab-df-container\">\n",
              "      <div>\n",
              "<style scoped>\n",
              "    .dataframe tbody tr th:only-of-type {\n",
              "        vertical-align: middle;\n",
              "    }\n",
              "\n",
              "    .dataframe tbody tr th {\n",
              "        vertical-align: top;\n",
              "    }\n",
              "\n",
              "    .dataframe thead th {\n",
              "        text-align: right;\n",
              "    }\n",
              "</style>\n",
              "<table border=\"1\" class=\"dataframe\">\n",
              "  <thead>\n",
              "    <tr style=\"text-align: right;\">\n",
              "      <th></th>\n",
              "      <th>성별구분코드_F</th>\n",
              "      <th>성별구분코드_M</th>\n",
              "      <th>신장(cm)</th>\n",
              "      <th>체중(kg)</th>\n",
              "      <th>체지방율(%)</th>\n",
              "      <th>앉아윗몸앞으로굽히기(cm)</th>\n",
              "      <th>BMI(kg/㎡)</th>\n",
              "      <th>교차윗몸일으키기(회)</th>\n",
              "      <th>왕복오래달리기(회)</th>\n",
              "      <th>10M 4회 왕복달리기(초)</th>\n",
              "      <th>제자리 멀리뛰기(cm)</th>\n",
              "      <th>상대악력(%)</th>\n",
              "      <th>준비운동</th>\n",
              "      <th>본운동</th>\n",
              "      <th>마무리운동</th>\n",
              "    </tr>\n",
              "  </thead>\n",
              "  <tbody>\n",
              "    <tr>\n",
              "      <th>29275</th>\n",
              "      <td>0</td>\n",
              "      <td>1</td>\n",
              "      <td>175.3</td>\n",
              "      <td>78.10</td>\n",
              "      <td>26.0</td>\n",
              "      <td>24.1</td>\n",
              "      <td>25.4</td>\n",
              "      <td>46.0</td>\n",
              "      <td>42.000000</td>\n",
              "      <td>10.00</td>\n",
              "      <td>188.0</td>\n",
              "      <td>59.6</td>\n",
              "      <td>걷기,유산소 운동 전 동적 루틴 스트레칭</td>\n",
              "      <td>맨몸운동 루틴프로그램,팔벌려뛰기,사다리 옆으로 발 옮기기,옆으로 펀치하기,스텝퍼 오...</td>\n",
              "      <td>전신 루틴 스트레칭</td>\n",
              "    </tr>\n",
              "    <tr>\n",
              "      <th>29276</th>\n",
              "      <td>0</td>\n",
              "      <td>1</td>\n",
              "      <td>165.0</td>\n",
              "      <td>68.66</td>\n",
              "      <td>20.4</td>\n",
              "      <td>-3.7</td>\n",
              "      <td>25.2</td>\n",
              "      <td>20.0</td>\n",
              "      <td>30.510531</td>\n",
              "      <td>13.80</td>\n",
              "      <td>172.0</td>\n",
              "      <td>56.9</td>\n",
              "      <td>걷기</td>\n",
              "      <td>달리기,무릎 높여 제자리 달리기</td>\n",
              "      <td>전신 루틴 스트레칭</td>\n",
              "    </tr>\n",
              "    <tr>\n",
              "      <th>29277</th>\n",
              "      <td>1</td>\n",
              "      <td>0</td>\n",
              "      <td>168.5</td>\n",
              "      <td>63.40</td>\n",
              "      <td>35.4</td>\n",
              "      <td>1.7</td>\n",
              "      <td>22.3</td>\n",
              "      <td>28.0</td>\n",
              "      <td>16.000000</td>\n",
              "      <td>12.36</td>\n",
              "      <td>146.0</td>\n",
              "      <td>42.1</td>\n",
              "      <td>걷기,줄넘기,전신 루틴 스트레칭,유산소 운동 전 동적 루틴 스트레칭</td>\n",
              "      <td>서서 상체 일으키기,앉았다 일어서기,소파를 이용한 윗몸올리기,엎드려 버티기,네발기기...</td>\n",
              "      <td>하지 루틴 스트레칭,하지 루틴 스트레칭,상지 루틴 스트레칭,자가근막이완술 루틴 스트레칭</td>\n",
              "    </tr>\n",
              "    <tr>\n",
              "      <th>29278</th>\n",
              "      <td>0</td>\n",
              "      <td>1</td>\n",
              "      <td>180.5</td>\n",
              "      <td>96.30</td>\n",
              "      <td>24.2</td>\n",
              "      <td>4.6</td>\n",
              "      <td>29.6</td>\n",
              "      <td>29.0</td>\n",
              "      <td>30.510531</td>\n",
              "      <td>12.06</td>\n",
              "      <td>184.0</td>\n",
              "      <td>44.8</td>\n",
              "      <td>상지 루틴 스트레칭,하지 루틴 스트레칭,하지 루틴 스트레칭,전신 루틴 스트레칭,유산...</td>\n",
              "      <td>탄력밴드 어깨 가쪽 돌림,서서 탄력밴드 당겨내리기/올리기,엎드려 버티기,누워서 다리...</td>\n",
              "      <td>목 스트레칭,허리 스트레칭,배 스트레칭,짐볼을 이용한 동적 루틴 스트레칭,작은 공을...</td>\n",
              "    </tr>\n",
              "    <tr>\n",
              "      <th>29279</th>\n",
              "      <td>0</td>\n",
              "      <td>1</td>\n",
              "      <td>173.0</td>\n",
              "      <td>83.60</td>\n",
              "      <td>24.1</td>\n",
              "      <td>15.9</td>\n",
              "      <td>27.9</td>\n",
              "      <td>39.0</td>\n",
              "      <td>52.000000</td>\n",
              "      <td>10.66</td>\n",
              "      <td>211.0</td>\n",
              "      <td>54.4</td>\n",
              "      <td>전신 루틴 스트레칭,유산소 운동 전 동적 루틴 스트레칭</td>\n",
              "      <td>윗몸 말아 올리기,윗몸올리기,누워서 다리 들어올리기,누워서 팔 다리 동시에 들어올리...</td>\n",
              "      <td>전신 루틴 스트레칭</td>\n",
              "    </tr>\n",
              "  </tbody>\n",
              "</table>\n",
              "</div>\n",
              "      <button class=\"colab-df-convert\" onclick=\"convertToInteractive('df-75dffa7a-db90-4b0f-9d20-78e5d56315a4')\"\n",
              "              title=\"Convert this dataframe to an interactive table.\"\n",
              "              style=\"display:none;\">\n",
              "        \n",
              "  <svg xmlns=\"http://www.w3.org/2000/svg\" height=\"24px\"viewBox=\"0 0 24 24\"\n",
              "       width=\"24px\">\n",
              "    <path d=\"M0 0h24v24H0V0z\" fill=\"none\"/>\n",
              "    <path d=\"M18.56 5.44l.94 2.06.94-2.06 2.06-.94-2.06-.94-.94-2.06-.94 2.06-2.06.94zm-11 1L8.5 8.5l.94-2.06 2.06-.94-2.06-.94L8.5 2.5l-.94 2.06-2.06.94zm10 10l.94 2.06.94-2.06 2.06-.94-2.06-.94-.94-2.06-.94 2.06-2.06.94z\"/><path d=\"M17.41 7.96l-1.37-1.37c-.4-.4-.92-.59-1.43-.59-.52 0-1.04.2-1.43.59L10.3 9.45l-7.72 7.72c-.78.78-.78 2.05 0 2.83L4 21.41c.39.39.9.59 1.41.59.51 0 1.02-.2 1.41-.59l7.78-7.78 2.81-2.81c.8-.78.8-2.07 0-2.86zM5.41 20L4 18.59l7.72-7.72 1.47 1.35L5.41 20z\"/>\n",
              "  </svg>\n",
              "      </button>\n",
              "      \n",
              "  <style>\n",
              "    .colab-df-container {\n",
              "      display:flex;\n",
              "      flex-wrap:wrap;\n",
              "      gap: 12px;\n",
              "    }\n",
              "\n",
              "    .colab-df-convert {\n",
              "      background-color: #E8F0FE;\n",
              "      border: none;\n",
              "      border-radius: 50%;\n",
              "      cursor: pointer;\n",
              "      display: none;\n",
              "      fill: #1967D2;\n",
              "      height: 32px;\n",
              "      padding: 0 0 0 0;\n",
              "      width: 32px;\n",
              "    }\n",
              "\n",
              "    .colab-df-convert:hover {\n",
              "      background-color: #E2EBFA;\n",
              "      box-shadow: 0px 1px 2px rgba(60, 64, 67, 0.3), 0px 1px 3px 1px rgba(60, 64, 67, 0.15);\n",
              "      fill: #174EA6;\n",
              "    }\n",
              "\n",
              "    [theme=dark] .colab-df-convert {\n",
              "      background-color: #3B4455;\n",
              "      fill: #D2E3FC;\n",
              "    }\n",
              "\n",
              "    [theme=dark] .colab-df-convert:hover {\n",
              "      background-color: #434B5C;\n",
              "      box-shadow: 0px 1px 3px 1px rgba(0, 0, 0, 0.15);\n",
              "      filter: drop-shadow(0px 1px 2px rgba(0, 0, 0, 0.3));\n",
              "      fill: #FFFFFF;\n",
              "    }\n",
              "  </style>\n",
              "\n",
              "      <script>\n",
              "        const buttonEl =\n",
              "          document.querySelector('#df-75dffa7a-db90-4b0f-9d20-78e5d56315a4 button.colab-df-convert');\n",
              "        buttonEl.style.display =\n",
              "          google.colab.kernel.accessAllowed ? 'block' : 'none';\n",
              "\n",
              "        async function convertToInteractive(key) {\n",
              "          const element = document.querySelector('#df-75dffa7a-db90-4b0f-9d20-78e5d56315a4');\n",
              "          const dataTable =\n",
              "            await google.colab.kernel.invokeFunction('convertToInteractive',\n",
              "                                                     [key], {});\n",
              "          if (!dataTable) return;\n",
              "\n",
              "          const docLinkHtml = 'Like what you see? Visit the ' +\n",
              "            '<a target=\"_blank\" href=https://colab.research.google.com/notebooks/data_table.ipynb>data table notebook</a>'\n",
              "            + ' to learn more about interactive tables.';\n",
              "          element.innerHTML = '';\n",
              "          dataTable['output_type'] = 'display_data';\n",
              "          await google.colab.output.renderOutput(dataTable, element);\n",
              "          const docLink = document.createElement('div');\n",
              "          docLink.innerHTML = docLinkHtml;\n",
              "          element.appendChild(docLink);\n",
              "        }\n",
              "      </script>\n",
              "    </div>\n",
              "  </div>\n",
              "  "
            ]
          },
          "metadata": {},
          "execution_count": 93
        }
      ]
    },
    {
      "cell_type": "markdown",
      "source": [
        "# 유사 유저 구하기"
      ],
      "metadata": {
        "id": "BKajfKjAmxJe"
      }
    },
    {
      "cell_type": "code",
      "source": [
        "# 새로운 유저 정보 - 가짜 데이터\n",
        "new_user_dict = {'성별구분코드_F' : 1, '성별구분코드_M' : 0, '신장(cm)' : 159, \n",
        "                            \"체중(kg)\":57.5, \"체지방율(%)\":32.00, \"앉아윗몸앞으로굽히기(cm)\":15.5, \n",
        "                            \"BMI(kg/㎡)\":22.70, \"교차윗몸일으키기(회)\" : 1, \"왕복오래달리기(회)\":11.00,\n",
        "                            \"10M 4회 왕복달리기(초)\":15.76, \"제자리 멀리뛰기(cm)\":126, \"상대악력(%)\":41.00\n",
        "                            }"
      ],
      "metadata": {
        "id": "xqIEPezHfc3a"
      },
      "execution_count": 94,
      "outputs": []
    },
    {
      "cell_type": "code",
      "source": [],
      "metadata": {
        "id": "YEzfy4ep12_N"
      },
      "execution_count": 94,
      "outputs": []
    },
    {
      "cell_type": "code",
      "source": [
        "# 마지막에 추가하는 거 함수화\n",
        "def add_NewUser(group, new_user):\n",
        "  # 체력평가등급 0 그룹 내 piv 테이블 생성에 필요한 칼러만 가져오기\n",
        "  category_col = [\"성별구분코드_F\", \"성별구분코드_M\"]\n",
        "  body_col = [\"신장(cm)\",\"체중(kg)\",\"체지방율(%)\"]\n",
        "  # 신장, 체중, 신체 구성, \n",
        "  health_col = [\"앉아윗몸앞으로굽히기(cm)\",\"BMI(kg/㎡)\",\"교차윗몸일으키기(회)\",\"왕복오래달리기(회)\",\"10M 4회 왕복달리기(초)\",\"제자리 멀리뛰기(cm)\",\"상대악력(%)\"]\n",
        "  group_table = group[category_col+body_col + health_col]\n",
        "  # 새로운 유저 정보 + 기존 체력 평가 등급 0 그룹 테이블\n",
        "  total_user = group_table.append(new_user, ignore_index=True)\n",
        "  return total_user\n"
      ],
      "metadata": {
        "id": "JUQGDQPJgd0-"
      },
      "execution_count": 95,
      "outputs": []
    },
    {
      "cell_type": "code",
      "source": [
        "def create_CF(total_user):\n",
        "  CF = pd.DataFrame(cosine_similarity(total_user))\n",
        "  CF.index = total_user.index\n",
        "  CF.columns = total_user.index\n",
        "  return CF\n"
      ],
      "metadata": {
        "id": "ZUSDuM6cgJ_t"
      },
      "execution_count": 96,
      "outputs": []
    },
    {
      "cell_type": "code",
      "source": [
        "def getCF(userId,CF, ex_type, top_n):\n",
        "    Id = userId\n",
        "    idx = CF[Id].sort_values(ascending = False)[1:top_n].index.values\n",
        "    viewed_list = data[data.index==Id][ex_type].values\n",
        "    ex_list = []\n",
        "    for i in idx:\n",
        "        other_viewed_list = data[data.index==i][ex_type].values\n",
        "        for j in other_viewed_list:\n",
        "            if j not in viewed_list:\n",
        "              ex_list.append(j.split(\",\"))\n",
        "    \n",
        "    #print('====={} 운동 추천 목록 ====='.format(ex_type))\n",
        "    #for i in ex_list:\n",
        "      #print(i)\n",
        "    \n",
        "    return ex_list"
      ],
      "metadata": {
        "id": "aeR1dtxcQU47"
      },
      "execution_count": 97,
      "outputs": []
    },
    {
      "cell_type": "code",
      "source": [
        "# 가장 비슷한 상위 10% 유저의 준비 운동 목록 \n",
        "\n",
        "# 새로운 유저 포함 테이블 생성\n",
        "total_user = add_NewUser(adult_group_0, new_user_dict)\n",
        "# 새로운 유저 번호 부여\n",
        "new_user_idx = len(total_user)-1\n",
        "# 새로운 유저와 유사한 상위 10% 유저의 운동 처방 가져오기 - 새로운 유저, 본운동\n",
        "top_10percent_ex_list = getCF(new_user_idx, create_CF(total_user), \"본운동\", int(data.shape[0]*(10/100)))\n",
        "print(\"new user idx\", len(total_user))\n",
        "#print(top_10percent_ex_list)"
      ],
      "metadata": {
        "colab": {
          "base_uri": "https://localhost:8080/"
        },
        "id": "PJSqGBjlR5IO",
        "outputId": "3710469c-3f29-4f7d-b434-43c741f11034"
      },
      "execution_count": 98,
      "outputs": [
        {
          "output_type": "stream",
          "name": "stdout",
          "text": [
            "new user idx 29281\n"
          ]
        }
      ]
    },
    {
      "cell_type": "markdown",
      "source": [
        "# APRIOR "
      ],
      "metadata": {
        "id": "Zi2330YZyBhn"
      }
    },
    {
      "cell_type": "code",
      "source": [
        "def get_sparse_matrix(df):\n",
        "  te = TransactionEncoder()\n",
        "  te_ary = te.fit(df).transform(df)\n",
        "  sparse_matrix = pd.DataFrame(te_ary, columns=te.columns_) #위에서 나온걸 보기 좋게 데이터프레임으로 변경\n",
        "  return sparse_matrix"
      ],
      "metadata": {
        "id": "0nDDwTUAIawn"
      },
      "execution_count": 99,
      "outputs": []
    },
    {
      "cell_type": "code",
      "source": [
        "def get_freq_item(sparse_matrix, min_support): # 0.01\n",
        "  #print(\"시작\")\n",
        "  frequent_itemsets = apriori(sparse_matrix, min_support=min_support, use_colnames=True)\n",
        "  #print(\"완료\")\n",
        "  return frequent_itemsets"
      ],
      "metadata": {
        "id": "qeqCIguSI5Rs"
      },
      "execution_count": 100,
      "outputs": []
    },
    {
      "cell_type": "code",
      "source": [
        "def get_association_rules(frequent_itemsets, min_threshold): #0.8\n",
        "  association_rules_df = association_rules(frequent_itemsets, metric=\"confidence\", min_threshold=min_threshold)\n",
        "  return association_rules_df"
      ],
      "metadata": {
        "id": "TVZkjq50JICG"
      },
      "execution_count": 101,
      "outputs": []
    },
    {
      "cell_type": "code",
      "source": [
        "def get_apriori_result(result,min_support, min_confidence):\n",
        "  sparse_matrix = get_sparse_matrix(result)\n",
        "  frequent_itemsets = get_freq_item(sparse_matrix, min_support)\n",
        "  association_rules_df = get_association_rules(frequent_itemsets,min_confidence)\n",
        "  return association_rules_df"
      ],
      "metadata": {
        "id": "4U_qOXvbJgzY"
      },
      "execution_count": 102,
      "outputs": []
    },
    {
      "cell_type": "code",
      "source": [
        "# consequents 1개인 거 -> 지지도, 신뢰도, lift 내림차순\n",
        "def get_sorted(ar_df):\n",
        "  ar_df_sorted = ar_df[ar_df[\"consequents\"].apply(lambda x : len(x) == 1)].sort_values(by=[\"support\",\"confidence\",\"lift\"], ascending=False)\n",
        "  ar_df_sorted[\"consequents\"] = ar_df_sorted[\"consequents\"].apply(lambda x: ', '.join(list(x))).astype(\"unicode\").apply(lambda x: x.split(','))\n",
        "  ar_df_sorted[\"antecedents\"] = ar_df_sorted[\"antecedents\"].apply(lambda x: ', '.join(list(x))).astype(\"unicode\").apply(lambda x: x.split(','))\n",
        "  return ar_df_sorted"
      ],
      "metadata": {
        "id": "Y5fb6a2GKlKV"
      },
      "execution_count": 103,
      "outputs": []
    },
    {
      "cell_type": "code",
      "source": [
        "def create_top5_ex(ar_df_sorted):\n",
        "  total = []\n",
        "  for idx in ar_df_sorted.index:\n",
        "    temp = ar_df_sorted.loc[idx,'consequents']+ar_df_sorted.loc[idx,'antecedents'] \n",
        "    for ex  in temp:\n",
        "      if ex not in total:\n",
        "        total.append(ex)\n",
        "  length = 5 if len(total) else len(total) \n",
        "  return total[:length]"
      ],
      "metadata": {
        "id": "i3bIjHo8Kc_I"
      },
      "execution_count": 104,
      "outputs": []
    },
    {
      "cell_type": "code",
      "source": [
        "def get_top5_ex(ar_df):\n",
        "  ar_df_sorted = get_sorted(ar_df)\n",
        "  ex_rec_list = create_top5_ex(ar_df_sorted)\n",
        "  return ex_rec_list"
      ],
      "metadata": {
        "id": "uBAqOeq38KcY"
      },
      "execution_count": 105,
      "outputs": []
    },
    {
      "cell_type": "code",
      "source": [
        "ar_df = get_apriori_result(top_10percent_ex_list,min_support = 0.1, min_confidence=0.8)"
      ],
      "metadata": {
        "id": "ePOB0bSbKGOY"
      },
      "execution_count": 106,
      "outputs": []
    },
    {
      "cell_type": "code",
      "source": [
        "get_top5_ex(ar_df)"
      ],
      "metadata": {
        "id": "iiP1o-iUF--L",
        "colab": {
          "base_uri": "https://localhost:8080/"
        },
        "outputId": "0c551b81-94a2-4ef8-944c-27b0b38a2843"
      },
      "execution_count": 107,
      "outputs": [
        {
          "output_type": "execute_result",
          "data": {
            "text/plain": [
              "['자전거타기', '걷기', '수영', '앉았다 일어서기', '한발 앞으로 내밀고 앉았다 일어서기']"
            ]
          },
          "metadata": {},
          "execution_count": 107
        }
      ]
    },
    {
      "cell_type": "markdown",
      "source": [
        "# 테스트"
      ],
      "metadata": {
        "id": "JdyEU0phPP-G"
      }
    },
    {
      "cell_type": "markdown",
      "source": [
        "## 그룹별 데이터 pickle 저장"
      ],
      "metadata": {
        "id": "d86Gyp2xRW2z"
      }
    },
    {
      "cell_type": "code",
      "source": [
        "# 그룹 0 데이터 저장\n",
        "with open('./cleaned_data/pickle/adult_group/adult_group_0.pickle', 'wb') as f:\n",
        "    pickle.dump(adult_group_0, f)"
      ],
      "metadata": {
        "id": "BEW0vEibPPpF"
      },
      "execution_count": 108,
      "outputs": []
    },
    {
      "cell_type": "code",
      "source": [
        "# 그룹 1 데이터 저장\n",
        "with open('./cleaned_data/pickle/adult_group/adult_group_1.pickle', 'wb') as f:\n",
        "    pickle.dump(adult_group_1, f)"
      ],
      "metadata": {
        "id": "9_ikSaZbRFNQ"
      },
      "execution_count": 109,
      "outputs": []
    },
    {
      "cell_type": "code",
      "source": [
        "# 그룹 2 데이터 저장\n",
        "with open('./cleaned_data/pickle/adult_group/adult_group_2.pickle', 'wb') as f:\n",
        "    pickle.dump(adult_group_2, f)"
      ],
      "metadata": {
        "id": "STOBjuswRGzW"
      },
      "execution_count": 110,
      "outputs": []
    },
    {
      "cell_type": "code",
      "source": [
        "# 그룹 3 데이터 저장\n",
        "with open('./cleaned_data/pickle/adult_group/adult_group_3.pickle', 'wb') as f:\n",
        "    pickle.dump(adult_group_3, f)"
      ],
      "metadata": {
        "id": "2bBXIPXcRIOU"
      },
      "execution_count": 111,
      "outputs": []
    },
    {
      "cell_type": "markdown",
      "source": [
        "## 그룹별 데이터 불러오기"
      ],
      "metadata": {
        "id": "xPlvr8xqRZ1h"
      }
    },
    {
      "cell_type": "code",
      "source": [
        "# load\n",
        "with open('./cleaned_data/pickle/adult_group/adult_group_0.pickle', 'rb') as f:\n",
        "    adult_group_0_pickle = pickle.load(f)"
      ],
      "metadata": {
        "id": "3s4_xfR7RbE6"
      },
      "execution_count": 112,
      "outputs": []
    },
    {
      "cell_type": "markdown",
      "source": [
        "# 유사 유저 함수 저장"
      ],
      "metadata": {
        "id": "MYqmDByHTBtu"
      }
    },
    {
      "cell_type": "code",
      "source": [
        "# 모델 저장\n",
        "with open('./model/similiar_user/add_NewUser.pickle','wb') as fw:\n",
        "    pickle.dump(add_NewUser, fw)"
      ],
      "metadata": {
        "id": "qlA8eoyxTO-b"
      },
      "execution_count": 113,
      "outputs": []
    },
    {
      "cell_type": "code",
      "source": [
        "# 모델 저장\n",
        "with open('./model/similiar_user/create_CF.pickle','wb') as fw:\n",
        "    pickle.dump(create_CF, fw)"
      ],
      "metadata": {
        "id": "OiGiEXJRTZim"
      },
      "execution_count": 114,
      "outputs": []
    },
    {
      "cell_type": "code",
      "source": [
        "with open('./model/similiar_user/getCF.pickle','wb') as fw:\n",
        "    pickle.dump(getCF, fw)"
      ],
      "metadata": {
        "id": "R20PQ6IsTcne"
      },
      "execution_count": 115,
      "outputs": []
    },
    {
      "cell_type": "markdown",
      "source": [
        "## 유사 유저 함수 불러오기"
      ],
      "metadata": {
        "id": "QpBBjKneTv8I"
      }
    },
    {
      "cell_type": "code",
      "source": [
        "# load\n",
        "with open('./model/similiar_user/add_NewUser.pickle', 'rb') as f:\n",
        "    add_NewUser1 = pickle.load(f)"
      ],
      "metadata": {
        "id": "NhTomZHbTykE"
      },
      "execution_count": 116,
      "outputs": []
    },
    {
      "cell_type": "code",
      "source": [
        "# load\n",
        "with open('./model/similiar_user/create_CF.pickle', 'rb') as f:\n",
        "    create_CF1 = pickle.load(f)"
      ],
      "metadata": {
        "id": "jHX5u_fwT5it"
      },
      "execution_count": 117,
      "outputs": []
    },
    {
      "cell_type": "code",
      "source": [
        "# load\n",
        "with open('./model/similiar_user/getCF.pickle', 'rb') as f:\n",
        "    getCF1 = pickle.load(f)"
      ],
      "metadata": {
        "id": "ECuPgNL0T5-j"
      },
      "execution_count": 118,
      "outputs": []
    },
    {
      "cell_type": "markdown",
      "source": [
        "## 유사 유저 구하기 test"
      ],
      "metadata": {
        "id": "xfSqSdTUWf47"
      }
    },
    {
      "cell_type": "code",
      "source": [
        "# 새로운 유저 정보 - 가짜 데이터\n",
        "new_user_dict = {'성별구분코드_F' : 1, '성별구분코드_M' : 0, '신장(cm)' : 159, \n",
        "                            \"체중(kg)\":57.5, \"체지방율(%)\":32.00, \"앉아윗몸앞으로굽히기(cm)\":15.5, \n",
        "                            \"BMI(kg/㎡)\":22.70, \"교차윗몸일으키기(회)\" : 1, \"왕복오래달리기(회)\":11.00,\n",
        "                            \"10M 4회 왕복달리기(초)\":15.76, \"제자리 멀리뛰기(cm)\":126, \"상대악력(%)\":41.00\n",
        "                            }"
      ],
      "metadata": {
        "id": "Pfg3cyYCRlS1"
      },
      "execution_count": 119,
      "outputs": []
    },
    {
      "cell_type": "code",
      "source": [
        "total_user = add_NewUser1(adult_group_0, new_user_dict)\n",
        "# 새로운 유저 번호 부여\n",
        "new_user_idx = len(total_user)-1\n",
        "# 새로운 유저와 유사한 상위 10% 유저의 운동 처방 가져오기 - 새로운 유저, 본운동\n",
        "top_10percent_ex_list = getCF1(new_user_idx, create_CF1(total_user), \"본운동\", int(data.shape[0]*(10/100)))\n",
        "print(\"new user idx\", len(total_user))\n",
        "#print(top_10percent_ex_list)"
      ],
      "metadata": {
        "colab": {
          "base_uri": "https://localhost:8080/"
        },
        "id": "KM3DoNqETFfg",
        "outputId": "dbec8f7d-d07b-414d-f852-71cb99f969c4"
      },
      "execution_count": 120,
      "outputs": [
        {
          "output_type": "stream",
          "name": "stdout",
          "text": [
            "new user idx 29281\n"
          ]
        }
      ]
    },
    {
      "cell_type": "markdown",
      "source": [
        "# 운동 추천 함수 저장"
      ],
      "metadata": {
        "id": "0crpFQCcUpX5"
      }
    },
    {
      "cell_type": "code",
      "source": [
        "# 모델 저장\n",
        "with open('./model/rec_nonPreference/get_sparse_matrix.pickle','wb') as fw:\n",
        "    pickle.dump(get_sparse_matrix, fw)"
      ],
      "metadata": {
        "id": "AunQdIrPUrRS"
      },
      "execution_count": 121,
      "outputs": []
    },
    {
      "cell_type": "code",
      "source": [
        "# get_freq_item\n",
        "with open('./model/rec_nonPreference/get_freq_item.pickle','wb') as fw:\n",
        "    pickle.dump(get_freq_item, fw)"
      ],
      "metadata": {
        "id": "RoSvB0NZU-b1"
      },
      "execution_count": 122,
      "outputs": []
    },
    {
      "cell_type": "code",
      "source": [
        "# get_association_rules\n",
        "with open('./model/rec_nonPreference/get_association_rules.pickle','wb') as fw:\n",
        "    pickle.dump(get_association_rules, fw)"
      ],
      "metadata": {
        "id": "wip3etNjVSLc"
      },
      "execution_count": 123,
      "outputs": []
    },
    {
      "cell_type": "code",
      "source": [
        "# get_apriori_result\n",
        "with open('./model/rec_nonPreference/get_apriori_result.pickle','wb') as fw:\n",
        "    pickle.dump(get_apriori_result, fw)"
      ],
      "metadata": {
        "id": "TDEbqG5mVTyr"
      },
      "execution_count": 124,
      "outputs": []
    },
    {
      "cell_type": "code",
      "source": [
        "# get_sorted\n",
        "with open('./model/rec_nonPreference/get_sorted.pickle','wb') as fw:\n",
        "    pickle.dump(get_sorted, fw)"
      ],
      "metadata": {
        "id": "pO1bGm7qVWTk"
      },
      "execution_count": 125,
      "outputs": []
    },
    {
      "cell_type": "code",
      "source": [
        "# create_top5_ex\n",
        "with open('./model/rec_nonPreference/create_top5_ex.pickle','wb') as fw:\n",
        "    pickle.dump(create_top5_ex, fw)"
      ],
      "metadata": {
        "id": "fl-mKWNQVXsW"
      },
      "execution_count": 126,
      "outputs": []
    },
    {
      "cell_type": "code",
      "source": [
        "# get_top5_ex\n",
        "with open('./model/rec_nonPreference/get_top5_ex.pickle','wb') as fw:\n",
        "    pickle.dump(get_top5_ex, fw)"
      ],
      "metadata": {
        "id": "B3JVdqnjVZJw"
      },
      "execution_count": 127,
      "outputs": []
    },
    {
      "cell_type": "markdown",
      "source": [
        "## 운동 추천 함수 불러오기"
      ],
      "metadata": {
        "id": "hJQKBz6mV2Dt"
      }
    },
    {
      "cell_type": "code",
      "source": [
        "# load\n",
        "with open('./model/rec_nonPreference/get_sparse_matrix.pickle', 'rb') as f:\n",
        "    get_sparse_matrix = pickle.load(f)"
      ],
      "metadata": {
        "id": "1LkvFeY-V6RE"
      },
      "execution_count": 128,
      "outputs": []
    },
    {
      "cell_type": "code",
      "source": [
        "# load\n",
        "with open('./model/rec_nonPreference/get_freq_item.pickle', 'rb') as f:\n",
        "    get_freq_item = pickle.load(f)"
      ],
      "metadata": {
        "id": "A3fIkPhOV8MP"
      },
      "execution_count": 129,
      "outputs": []
    },
    {
      "cell_type": "code",
      "source": [
        "# load\n",
        "with open('./model/rec_nonPreference/get_association_rules.pickle', 'rb') as f:\n",
        "    get_association_rules = pickle.load(f)"
      ],
      "metadata": {
        "id": "y-ArRO09V8lH"
      },
      "execution_count": 130,
      "outputs": []
    },
    {
      "cell_type": "code",
      "source": [
        "# load\n",
        "with open('./model/rec_nonPreference/get_apriori_result.pickle', 'rb') as f:\n",
        "    get_apriori_result = pickle.load(f)"
      ],
      "metadata": {
        "id": "Sb8Qaam1V86N"
      },
      "execution_count": 131,
      "outputs": []
    },
    {
      "cell_type": "code",
      "source": [
        "# load\n",
        "with open('./model/rec_nonPreference/get_sorted.pickle', 'rb') as f:\n",
        "    get_sorted = pickle.load(f)"
      ],
      "metadata": {
        "id": "mX3Yot62V9Va"
      },
      "execution_count": 132,
      "outputs": []
    },
    {
      "cell_type": "code",
      "source": [
        "# load\n",
        "with open('./model/rec_nonPreference/create_top5_ex.pickle', 'rb') as f:\n",
        "    create_top5_ex = pickle.load(f)"
      ],
      "metadata": {
        "id": "SIom1TMjV9ve"
      },
      "execution_count": 133,
      "outputs": []
    },
    {
      "cell_type": "code",
      "source": [
        "# load\n",
        "with open('./model/rec_nonPreference/get_top5_ex.pickle', 'rb') as f:\n",
        "    get_top5_ex = pickle.load(f)"
      ],
      "metadata": {
        "id": "EBfUSiAPV-rW"
      },
      "execution_count": 134,
      "outputs": []
    },
    {
      "cell_type": "markdown",
      "source": [
        "## 운동 추천 test"
      ],
      "metadata": {
        "id": "XRqGEYpHWpec"
      }
    },
    {
      "cell_type": "code",
      "source": [
        "ar_df = get_apriori_result(top_10percent_ex_list,min_support = 0.1, min_confidence=0.8)"
      ],
      "metadata": {
        "id": "FH_6mP4rVzKp"
      },
      "execution_count": 135,
      "outputs": []
    },
    {
      "cell_type": "code",
      "source": [
        "get_top5_ex(ar_df)"
      ],
      "metadata": {
        "colab": {
          "base_uri": "https://localhost:8080/"
        },
        "id": "qDCyogbPV03f",
        "outputId": "b9f9f708-3ce8-4128-8f68-c3c2e7f56a82"
      },
      "execution_count": 136,
      "outputs": [
        {
          "output_type": "execute_result",
          "data": {
            "text/plain": [
              "['자전거타기', '걷기', '수영', '앉았다 일어서기', '한발 앞으로 내밀고 앉았다 일어서기']"
            ]
          },
          "metadata": {},
          "execution_count": 136
        }
      ]
    }
  ]
}
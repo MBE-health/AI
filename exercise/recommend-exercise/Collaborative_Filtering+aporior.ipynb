{
  "nbformat": 4,
  "nbformat_minor": 0,
  "metadata": {
    "colab": {
      "provenance": [],
      "toc_visible": true
    },
    "kernelspec": {
      "name": "python3",
      "display_name": "Python 3"
    },
    "language_info": {
      "name": "python"
    }
  },
  "cells": [
    {
      "cell_type": "code",
      "execution_count": 4,
      "metadata": {
        "colab": {
          "base_uri": "https://localhost:8080/"
        },
        "id": "Y8GwaHs3EJ80",
        "outputId": "940f3625-13e9-4ddf-fdd7-e507e6664333"
      },
      "outputs": [
        {
          "output_type": "stream",
          "name": "stdout",
          "text": [
            "Drive already mounted at /content/drive; to attempt to forcibly remount, call drive.mount(\"/content/drive\", force_remount=True).\n"
          ]
        }
      ],
      "source": [
        "from google.colab import drive\n",
        "drive.mount('/content/drive')"
      ]
    },
    {
      "cell_type": "code",
      "source": [
        "cd /content/drive/MyDrive/exercise"
      ],
      "metadata": {
        "colab": {
          "base_uri": "https://localhost:8080/"
        },
        "id": "Ntkp-qo3ET9N",
        "outputId": "d65e686b-f21b-4e11-821f-ff5c682ffc4f"
      },
      "execution_count": 5,
      "outputs": [
        {
          "output_type": "stream",
          "name": "stdout",
          "text": [
            "/content/drive/MyDrive/exercise\n"
          ]
        }
      ]
    },
    {
      "cell_type": "code",
      "source": [
        "import os\n",
        "import re\n",
        "\n",
        "import pandas as pd\n",
        "import numpy as np\n",
        "from sklearn.preprocessing import LabelEncoder\n",
        "from sklearn.neighbors import KNeighborsClassifier\n",
        "from sklearn.metrics.pairwise import cosine_similarity\n",
        "\n",
        "\n",
        "from mlxtend.preprocessing import TransactionEncoder\n",
        "from mlxtend.frequent_patterns import apriori, association_rules\n",
        "\n",
        "import pickle\n",
        "\n",
        "import itertools\n",
        "import matplotlib.pyplot as plt\n",
        "import matplotlib.cm as cm\n",
        "import warnings\n",
        "warnings.filterwarnings('ignore')"
      ],
      "metadata": {
        "id": "5qMTbGA5EYAg"
      },
      "execution_count": 17,
      "outputs": []
    },
    {
      "cell_type": "code",
      "source": [
        "## adult 전처리 완료 저장\n",
        "data = pd.read_csv('./cleaned_data/adult_2019_1.csv')"
      ],
      "metadata": {
        "id": "wp1sVeI8Egqp"
      },
      "execution_count": 7,
      "outputs": []
    },
    {
      "cell_type": "code",
      "source": [
        "data.shape"
      ],
      "metadata": {
        "colab": {
          "base_uri": "https://localhost:8080/"
        },
        "id": "divVgSMO2pKU",
        "outputId": "c9d561cf-7e17-44c3-d8de-999052b922dd"
      },
      "execution_count": 8,
      "outputs": [
        {
          "output_type": "execute_result",
          "data": {
            "text/plain": [
              "(49433, 18)"
            ]
          },
          "metadata": {},
          "execution_count": 8
        }
      ]
    },
    {
      "cell_type": "code",
      "source": [
        "data.columns"
      ],
      "metadata": {
        "colab": {
          "base_uri": "https://localhost:8080/"
        },
        "id": "fpZEko1TE0v9",
        "outputId": "a60b0f1c-317b-405b-a7dc-45f7bc4b77c5"
      },
      "execution_count": 9,
      "outputs": [
        {
          "output_type": "execute_result",
          "data": {
            "text/plain": [
              "Index(['회원일련번호값', '측정연령수', '측정일자', '성별구분코드', '인증구분명', '신장(cm)', '체중(kg)',\n",
              "       '체지방율(%)', '앉아윗몸앞으로굽히기(cm)', 'BMI(kg/㎡)', '교차윗몸일으키기(회)', '왕복오래달리기(회)',\n",
              "       '10M 4회 왕복달리기(초)', '제자리 멀리뛰기(cm)', '상대악력(%)', '준비운동', '본운동', '마무리운동'],\n",
              "      dtype='object')"
            ]
          },
          "metadata": {},
          "execution_count": 9
        }
      ]
    },
    {
      "cell_type": "code",
      "source": [
        "data.head()"
      ],
      "metadata": {
        "colab": {
          "base_uri": "https://localhost:8080/",
          "height": 857
        },
        "id": "v3MrUVtpGRtQ",
        "outputId": "44f7cf28-0171-408c-f782-82a4404e54f8"
      },
      "execution_count": 10,
      "outputs": [
        {
          "output_type": "execute_result",
          "data": {
            "text/plain": [
              "                    회원일련번호값  측정연령수      측정일자 성별구분코드 인증구분명  신장(cm)  체중(kg)  \\\n",
              "0  AAG5scSkx90/QuAl06tA8wuC     59  20190102      F   참가증   159.0    57.5   \n",
              "1  AAHMUHU8ZnWT2Dqdgq5QIMrm     60  20190102      F   참가증   160.3    59.4   \n",
              "2  AAEIkFejDxJhMG7x6KPtE45Z     64  20190102      M   2등급   163.9    59.3   \n",
              "3  AAGOaVPSy8aq6s1PTwzEsgfx     42  20190102      M   참가증   167.6    73.1   \n",
              "4  AAECwHF8wknRv812NQT09fxu     32  20190102      F   1등급   167.9    56.4   \n",
              "\n",
              "   체지방율(%)  앉아윗몸앞으로굽히기(cm)  BMI(kg/㎡)  교차윗몸일으키기(회)  왕복오래달리기(회)  \\\n",
              "0     32.0            15.5       22.7          1.0        11.0   \n",
              "1     30.7            21.2       23.1          0.0         8.0   \n",
              "2     24.2            14.1       22.1         30.0        20.0   \n",
              "3     26.8            19.6       26.0         32.0        20.0   \n",
              "4     19.3            22.0       20.0         35.0        35.0   \n",
              "\n",
              "   10M 4회 왕복달리기(초)  제자리 멀리뛰기(cm)  상대악력(%)  \\\n",
              "0            15.76         126.0     41.0   \n",
              "1            16.03         107.0     30.1   \n",
              "2            13.00         169.0     61.5   \n",
              "3            11.63         191.0     64.5   \n",
              "4            11.94         192.0     50.0   \n",
              "\n",
              "                                                준비운동  \\\n",
              "0                              상지 루틴 스트레칭,전신 루틴 스트레칭   \n",
              "1  깍지 끼고 상체 숙이기,목 스트레칭,등/어깨 뒤쪽 스트레칭,어깨 뒤쪽 스트레칭,아래...   \n",
              "2  깍지 끼고 상체 숙이기,목 스트레칭,등/어깨 뒤쪽 스트레칭,어깨 뒤쪽 스트레칭,아래...   \n",
              "3  깍지 끼고 상체 숙이기,목 스트레칭,등/어깨 뒤쪽 스트레칭,어깨 뒤쪽 스트레칭,아래...   \n",
              "4  깍지 끼고 상체 숙이기,목 스트레칭,등/어깨 뒤쪽 스트레칭,어깨 뒤쪽 스트레칭,아래...   \n",
              "\n",
              "                                                 본운동  \\\n",
              "0  윗몸올리기,엎드려 버티기,누워서 다리 들어올리기,누워서 수직으로 다리 들어올리기,누...   \n",
              "1  몸통 들어올리기,소파를 이용한 윗몸올리기,엎드려 버티기,옆으로 누워 버티기,네발기기...   \n",
              "2  몸통 들어올리기,소파를 이용한 윗몸올리기,엎드려 버티기,옆으로 누워 버티기,네발기기...   \n",
              "3  몸통 들어올리기,소파를 이용한 윗몸올리기,엎드려 버티기,옆으로 누워 버티기,네발기기...   \n",
              "4  몸통 들어올리기,소파를 이용한 윗몸올리기,엎드려 버티기,옆으로 누워 버티기,네발기기...   \n",
              "\n",
              "                                               마무리운동  \n",
              "0                   하지 루틴 스트레칭,하지 루틴 스트레칭,전신 루틴 스트레칭  \n",
              "1  깍지 끼고 상체 숙이기,목 스트레칭,등/어깨 뒤쪽 스트레칭,아래 팔 스트레칭,넙다리...  \n",
              "2  깍지 끼고 상체 숙이기,목 스트레칭,등/어깨 뒤쪽 스트레칭,아래 팔 스트레칭,넙다리...  \n",
              "3  깍지 끼고 상체 숙이기,목 스트레칭,등/어깨 뒤쪽 스트레칭,아래 팔 스트레칭,넙다리...  \n",
              "4  깍지 끼고 상체 숙이기,목 스트레칭,등/어깨 뒤쪽 스트레칭,아래 팔 스트레칭,넙다리...  "
            ],
            "text/html": [
              "\n",
              "  <div id=\"df-187acc3b-c975-4a3a-9e30-c7a0ba8bc810\">\n",
              "    <div class=\"colab-df-container\">\n",
              "      <div>\n",
              "<style scoped>\n",
              "    .dataframe tbody tr th:only-of-type {\n",
              "        vertical-align: middle;\n",
              "    }\n",
              "\n",
              "    .dataframe tbody tr th {\n",
              "        vertical-align: top;\n",
              "    }\n",
              "\n",
              "    .dataframe thead th {\n",
              "        text-align: right;\n",
              "    }\n",
              "</style>\n",
              "<table border=\"1\" class=\"dataframe\">\n",
              "  <thead>\n",
              "    <tr style=\"text-align: right;\">\n",
              "      <th></th>\n",
              "      <th>회원일련번호값</th>\n",
              "      <th>측정연령수</th>\n",
              "      <th>측정일자</th>\n",
              "      <th>성별구분코드</th>\n",
              "      <th>인증구분명</th>\n",
              "      <th>신장(cm)</th>\n",
              "      <th>체중(kg)</th>\n",
              "      <th>체지방율(%)</th>\n",
              "      <th>앉아윗몸앞으로굽히기(cm)</th>\n",
              "      <th>BMI(kg/㎡)</th>\n",
              "      <th>교차윗몸일으키기(회)</th>\n",
              "      <th>왕복오래달리기(회)</th>\n",
              "      <th>10M 4회 왕복달리기(초)</th>\n",
              "      <th>제자리 멀리뛰기(cm)</th>\n",
              "      <th>상대악력(%)</th>\n",
              "      <th>준비운동</th>\n",
              "      <th>본운동</th>\n",
              "      <th>마무리운동</th>\n",
              "    </tr>\n",
              "  </thead>\n",
              "  <tbody>\n",
              "    <tr>\n",
              "      <th>0</th>\n",
              "      <td>AAG5scSkx90/QuAl06tA8wuC</td>\n",
              "      <td>59</td>\n",
              "      <td>20190102</td>\n",
              "      <td>F</td>\n",
              "      <td>참가증</td>\n",
              "      <td>159.0</td>\n",
              "      <td>57.5</td>\n",
              "      <td>32.0</td>\n",
              "      <td>15.5</td>\n",
              "      <td>22.7</td>\n",
              "      <td>1.0</td>\n",
              "      <td>11.0</td>\n",
              "      <td>15.76</td>\n",
              "      <td>126.0</td>\n",
              "      <td>41.0</td>\n",
              "      <td>상지 루틴 스트레칭,전신 루틴 스트레칭</td>\n",
              "      <td>윗몸올리기,엎드려 버티기,누워서 다리 들어올리기,누워서 수직으로 다리 들어올리기,누...</td>\n",
              "      <td>하지 루틴 스트레칭,하지 루틴 스트레칭,전신 루틴 스트레칭</td>\n",
              "    </tr>\n",
              "    <tr>\n",
              "      <th>1</th>\n",
              "      <td>AAHMUHU8ZnWT2Dqdgq5QIMrm</td>\n",
              "      <td>60</td>\n",
              "      <td>20190102</td>\n",
              "      <td>F</td>\n",
              "      <td>참가증</td>\n",
              "      <td>160.3</td>\n",
              "      <td>59.4</td>\n",
              "      <td>30.7</td>\n",
              "      <td>21.2</td>\n",
              "      <td>23.1</td>\n",
              "      <td>0.0</td>\n",
              "      <td>8.0</td>\n",
              "      <td>16.03</td>\n",
              "      <td>107.0</td>\n",
              "      <td>30.1</td>\n",
              "      <td>깍지 끼고 상체 숙이기,목 스트레칭,등/어깨 뒤쪽 스트레칭,어깨 뒤쪽 스트레칭,아래...</td>\n",
              "      <td>몸통 들어올리기,소파를 이용한 윗몸올리기,엎드려 버티기,옆으로 누워 버티기,네발기기...</td>\n",
              "      <td>깍지 끼고 상체 숙이기,목 스트레칭,등/어깨 뒤쪽 스트레칭,아래 팔 스트레칭,넙다리...</td>\n",
              "    </tr>\n",
              "    <tr>\n",
              "      <th>2</th>\n",
              "      <td>AAEIkFejDxJhMG7x6KPtE45Z</td>\n",
              "      <td>64</td>\n",
              "      <td>20190102</td>\n",
              "      <td>M</td>\n",
              "      <td>2등급</td>\n",
              "      <td>163.9</td>\n",
              "      <td>59.3</td>\n",
              "      <td>24.2</td>\n",
              "      <td>14.1</td>\n",
              "      <td>22.1</td>\n",
              "      <td>30.0</td>\n",
              "      <td>20.0</td>\n",
              "      <td>13.00</td>\n",
              "      <td>169.0</td>\n",
              "      <td>61.5</td>\n",
              "      <td>깍지 끼고 상체 숙이기,목 스트레칭,등/어깨 뒤쪽 스트레칭,어깨 뒤쪽 스트레칭,아래...</td>\n",
              "      <td>몸통 들어올리기,소파를 이용한 윗몸올리기,엎드려 버티기,옆으로 누워 버티기,네발기기...</td>\n",
              "      <td>깍지 끼고 상체 숙이기,목 스트레칭,등/어깨 뒤쪽 스트레칭,아래 팔 스트레칭,넙다리...</td>\n",
              "    </tr>\n",
              "    <tr>\n",
              "      <th>3</th>\n",
              "      <td>AAGOaVPSy8aq6s1PTwzEsgfx</td>\n",
              "      <td>42</td>\n",
              "      <td>20190102</td>\n",
              "      <td>M</td>\n",
              "      <td>참가증</td>\n",
              "      <td>167.6</td>\n",
              "      <td>73.1</td>\n",
              "      <td>26.8</td>\n",
              "      <td>19.6</td>\n",
              "      <td>26.0</td>\n",
              "      <td>32.0</td>\n",
              "      <td>20.0</td>\n",
              "      <td>11.63</td>\n",
              "      <td>191.0</td>\n",
              "      <td>64.5</td>\n",
              "      <td>깍지 끼고 상체 숙이기,목 스트레칭,등/어깨 뒤쪽 스트레칭,어깨 뒤쪽 스트레칭,아래...</td>\n",
              "      <td>몸통 들어올리기,소파를 이용한 윗몸올리기,엎드려 버티기,옆으로 누워 버티기,네발기기...</td>\n",
              "      <td>깍지 끼고 상체 숙이기,목 스트레칭,등/어깨 뒤쪽 스트레칭,아래 팔 스트레칭,넙다리...</td>\n",
              "    </tr>\n",
              "    <tr>\n",
              "      <th>4</th>\n",
              "      <td>AAECwHF8wknRv812NQT09fxu</td>\n",
              "      <td>32</td>\n",
              "      <td>20190102</td>\n",
              "      <td>F</td>\n",
              "      <td>1등급</td>\n",
              "      <td>167.9</td>\n",
              "      <td>56.4</td>\n",
              "      <td>19.3</td>\n",
              "      <td>22.0</td>\n",
              "      <td>20.0</td>\n",
              "      <td>35.0</td>\n",
              "      <td>35.0</td>\n",
              "      <td>11.94</td>\n",
              "      <td>192.0</td>\n",
              "      <td>50.0</td>\n",
              "      <td>깍지 끼고 상체 숙이기,목 스트레칭,등/어깨 뒤쪽 스트레칭,어깨 뒤쪽 스트레칭,아래...</td>\n",
              "      <td>몸통 들어올리기,소파를 이용한 윗몸올리기,엎드려 버티기,옆으로 누워 버티기,네발기기...</td>\n",
              "      <td>깍지 끼고 상체 숙이기,목 스트레칭,등/어깨 뒤쪽 스트레칭,아래 팔 스트레칭,넙다리...</td>\n",
              "    </tr>\n",
              "  </tbody>\n",
              "</table>\n",
              "</div>\n",
              "      <button class=\"colab-df-convert\" onclick=\"convertToInteractive('df-187acc3b-c975-4a3a-9e30-c7a0ba8bc810')\"\n",
              "              title=\"Convert this dataframe to an interactive table.\"\n",
              "              style=\"display:none;\">\n",
              "        \n",
              "  <svg xmlns=\"http://www.w3.org/2000/svg\" height=\"24px\"viewBox=\"0 0 24 24\"\n",
              "       width=\"24px\">\n",
              "    <path d=\"M0 0h24v24H0V0z\" fill=\"none\"/>\n",
              "    <path d=\"M18.56 5.44l.94 2.06.94-2.06 2.06-.94-2.06-.94-.94-2.06-.94 2.06-2.06.94zm-11 1L8.5 8.5l.94-2.06 2.06-.94-2.06-.94L8.5 2.5l-.94 2.06-2.06.94zm10 10l.94 2.06.94-2.06 2.06-.94-2.06-.94-.94-2.06-.94 2.06-2.06.94z\"/><path d=\"M17.41 7.96l-1.37-1.37c-.4-.4-.92-.59-1.43-.59-.52 0-1.04.2-1.43.59L10.3 9.45l-7.72 7.72c-.78.78-.78 2.05 0 2.83L4 21.41c.39.39.9.59 1.41.59.51 0 1.02-.2 1.41-.59l7.78-7.78 2.81-2.81c.8-.78.8-2.07 0-2.86zM5.41 20L4 18.59l7.72-7.72 1.47 1.35L5.41 20z\"/>\n",
              "  </svg>\n",
              "      </button>\n",
              "      \n",
              "  <style>\n",
              "    .colab-df-container {\n",
              "      display:flex;\n",
              "      flex-wrap:wrap;\n",
              "      gap: 12px;\n",
              "    }\n",
              "\n",
              "    .colab-df-convert {\n",
              "      background-color: #E8F0FE;\n",
              "      border: none;\n",
              "      border-radius: 50%;\n",
              "      cursor: pointer;\n",
              "      display: none;\n",
              "      fill: #1967D2;\n",
              "      height: 32px;\n",
              "      padding: 0 0 0 0;\n",
              "      width: 32px;\n",
              "    }\n",
              "\n",
              "    .colab-df-convert:hover {\n",
              "      background-color: #E2EBFA;\n",
              "      box-shadow: 0px 1px 2px rgba(60, 64, 67, 0.3), 0px 1px 3px 1px rgba(60, 64, 67, 0.15);\n",
              "      fill: #174EA6;\n",
              "    }\n",
              "\n",
              "    [theme=dark] .colab-df-convert {\n",
              "      background-color: #3B4455;\n",
              "      fill: #D2E3FC;\n",
              "    }\n",
              "\n",
              "    [theme=dark] .colab-df-convert:hover {\n",
              "      background-color: #434B5C;\n",
              "      box-shadow: 0px 1px 3px 1px rgba(0, 0, 0, 0.15);\n",
              "      filter: drop-shadow(0px 1px 2px rgba(0, 0, 0, 0.3));\n",
              "      fill: #FFFFFF;\n",
              "    }\n",
              "  </style>\n",
              "\n",
              "      <script>\n",
              "        const buttonEl =\n",
              "          document.querySelector('#df-187acc3b-c975-4a3a-9e30-c7a0ba8bc810 button.colab-df-convert');\n",
              "        buttonEl.style.display =\n",
              "          google.colab.kernel.accessAllowed ? 'block' : 'none';\n",
              "\n",
              "        async function convertToInteractive(key) {\n",
              "          const element = document.querySelector('#df-187acc3b-c975-4a3a-9e30-c7a0ba8bc810');\n",
              "          const dataTable =\n",
              "            await google.colab.kernel.invokeFunction('convertToInteractive',\n",
              "                                                     [key], {});\n",
              "          if (!dataTable) return;\n",
              "\n",
              "          const docLinkHtml = 'Like what you see? Visit the ' +\n",
              "            '<a target=\"_blank\" href=https://colab.research.google.com/notebooks/data_table.ipynb>data table notebook</a>'\n",
              "            + ' to learn more about interactive tables.';\n",
              "          element.innerHTML = '';\n",
              "          dataTable['output_type'] = 'display_data';\n",
              "          await google.colab.output.renderOutput(dataTable, element);\n",
              "          const docLink = document.createElement('div');\n",
              "          docLink.innerHTML = docLinkHtml;\n",
              "          element.appendChild(docLink);\n",
              "        }\n",
              "      </script>\n",
              "    </div>\n",
              "  </div>\n",
              "  "
            ]
          },
          "metadata": {},
          "execution_count": 10
        }
      ]
    },
    {
      "cell_type": "markdown",
      "source": [
        "# 유저 그룹 정보 분리해 저장"
      ],
      "metadata": {
        "id": "fIsfSQOKMtDn"
      }
    },
    {
      "cell_type": "code",
      "source": [
        "data = pd.get_dummies(data = data, columns = ['성별구분코드'], prefix = '성별구분코드')"
      ],
      "metadata": {
        "id": "ubOiDhv1h3nX"
      },
      "execution_count": null,
      "outputs": []
    },
    {
      "cell_type": "code",
      "source": [
        "info_col = [\"회원일련번호값\",\"측정연령수\",\"측정일자\"]\n",
        "category_col = [\"성별구분코드_F\", \"성별구분코드_M\"]\n",
        "body_col = [\"신장(cm)\",\"체중(kg)\",\"체지방율(%)\"]\n",
        "# 신장, 체중, 신체 구성, \n",
        "health_col = [\"앉아윗몸앞으로굽히기(cm)\",\"BMI(kg/㎡)\",\"교차윗몸일으키기(회)\",\"왕복오래달리기(회)\",\"10M 4회 왕복달리기(초)\",\"제자리 멀리뛰기(cm)\",\"상대악력(%)\"]\n",
        "# 유연성, 체질량지수, 근지구력, 심폐지구력, 민첩성, 순발력, 근력\n",
        "ex_col = [\"준비운동\",\"본운동\",\"마무리운동\"]\n",
        "target = [\"인증구분명\"]"
      ],
      "metadata": {
        "id": "xGO6GSnOEz6t"
      },
      "execution_count": null,
      "outputs": []
    },
    {
      "cell_type": "code",
      "source": [
        "\n",
        "adult_group_0 = data[data[\"인증구분명\"]==\"참가증\"][category_col+body_col+health_col+ex_col]\n",
        "adult_group_0[\"index\"] = list(range(0, len(adult_group_0)))\n",
        "adult_group_0=adult_group_0.set_index(\"index\")\n",
        "\n",
        "\n",
        "adult_group_0.to_csv('./cleaned_data/adult_group/adult_2019_0.csv',encoding='utf-8',index=False)"
      ],
      "metadata": {
        "id": "A2HuVXr3eelT"
      },
      "execution_count": null,
      "outputs": []
    },
    {
      "cell_type": "code",
      "source": [
        "adult_group_1 = data[data[\"인증구분명\"]==\"3등급\"][category_col+body_col+health_col+ex_col]\n",
        "\n",
        "adult_group_1[\"index\"] = list(range(0, len(adult_group_1)))\n",
        "adult_group_1=adult_group_1.set_index(\"index\")\n",
        "\n",
        "\n",
        "adult_group_1.to_csv('./cleaned_data/adult_group/adult_2019_1.csv',encoding='utf-8',index=False)"
      ],
      "metadata": {
        "id": "neYtyLmMeok4"
      },
      "execution_count": null,
      "outputs": []
    },
    {
      "cell_type": "code",
      "source": [
        "adult_group_2 = data[data[\"인증구분명\"]==\"2등급\"][category_col+body_col+health_col+ex_col]\n",
        "\n",
        "adult_group_2[\"index\"] = list(range(0, len(adult_group_2)))\n",
        "adult_group_2=adult_group_2.set_index(\"index\")\n",
        "\n",
        "\n",
        "adult_group_2.to_csv('./cleaned_data/adult_group/adult_2019_2.csv',encoding='utf-8',index=False)"
      ],
      "metadata": {
        "id": "oXXvVOmMesWD"
      },
      "execution_count": null,
      "outputs": []
    },
    {
      "cell_type": "code",
      "source": [
        "adult_group_3 = data[data[\"인증구분명\"]==\"1등급\"][category_col+body_col+health_col+ex_col]\n",
        "\n",
        "adult_group_3[\"index\"] = list(range(0, len(adult_group_3)))\n",
        "adult_group_3=adult_group_3.set_index(\"index\")\n",
        "\n",
        "\n",
        "adult_group_3.to_csv('./cleaned_data/adult_group/adult_2019_3.csv',encoding='utf-8',index=False)"
      ],
      "metadata": {
        "id": "EWKWo1N_evCA"
      },
      "execution_count": null,
      "outputs": []
    },
    {
      "cell_type": "markdown",
      "source": [
        "# 그룹별 데이터 읽어오기"
      ],
      "metadata": {
        "id": "VmCdv_iVQntw"
      }
    },
    {
      "cell_type": "code",
      "source": [
        "## adult group 0\n",
        "adult_group_0 = pd.read_csv('./cleaned_data/adult_group/adult_2019_0.csv')\n",
        "## adult group 1\n",
        "adult_group_1 = pd.read_csv('./cleaned_data/adult_group/adult_2019_1.csv')\n",
        "## adult group 0\n",
        "adult_group_2 = pd.read_csv('./cleaned_data/adult_group/adult_2019_2.csv')\n",
        "## adult group 0\n",
        "adult_group_3 = pd.read_csv('./cleaned_data/adult_group/adult_2019_3.csv')"
      ],
      "metadata": {
        "id": "JPCKoZ_cnKOK"
      },
      "execution_count": 11,
      "outputs": []
    },
    {
      "cell_type": "code",
      "source": [
        "adult_group_0.head(7)"
      ],
      "metadata": {
        "colab": {
          "base_uri": "https://localhost:8080/",
          "height": 660
        },
        "id": "jEaZe7LXEpKM",
        "outputId": "f4777c54-9f36-4243-c0e7-35047e529d38"
      },
      "execution_count": 12,
      "outputs": [
        {
          "output_type": "execute_result",
          "data": {
            "text/plain": [
              "   성별구분코드_F  성별구분코드_M  신장(cm)  체중(kg)  체지방율(%)  앉아윗몸앞으로굽히기(cm)  BMI(kg/㎡)  \\\n",
              "0         1         0   159.0    57.5     32.0            15.5       22.7   \n",
              "1         1         0   160.3    59.4     30.7            21.2       23.1   \n",
              "2         0         1   167.6    73.1     26.8            19.6       26.0   \n",
              "3         0         1   167.1    87.8     29.6             8.2       31.4   \n",
              "4         0         1   171.4    82.1     25.0            -2.0       27.9   \n",
              "5         1         0   164.7    60.4     32.3             2.1       22.3   \n",
              "6         0         1   166.3    63.7     20.2             1.1       23.0   \n",
              "\n",
              "   교차윗몸일으키기(회)  왕복오래달리기(회)  10M 4회 왕복달리기(초)  제자리 멀리뛰기(cm)  상대악력(%)  \\\n",
              "0          1.0   11.000000            15.76         126.0     41.0   \n",
              "1          0.0    8.000000            16.03         107.0     30.1   \n",
              "2         32.0   20.000000            11.63         191.0     64.5   \n",
              "3         44.0   28.000000            11.59         189.0     48.1   \n",
              "4         39.0   30.510531            11.30         196.0     52.6   \n",
              "5         20.0   12.000000            15.01         127.0     38.4   \n",
              "6         48.0   47.000000            10.15         242.0     73.9   \n",
              "\n",
              "                                                준비운동  \\\n",
              "0                              상지 루틴 스트레칭,전신 루틴 스트레칭   \n",
              "1  깍지 끼고 상체 숙이기,목 스트레칭,등/어깨 뒤쪽 스트레칭,어깨 뒤쪽 스트레칭,아래...   \n",
              "2  깍지 끼고 상체 숙이기,목 스트레칭,등/어깨 뒤쪽 스트레칭,어깨 뒤쪽 스트레칭,아래...   \n",
              "3  깍지 끼고 상체 숙이기,목 스트레칭,등/어깨 뒤쪽 스트레칭,어깨 뒤쪽 스트레칭,아래...   \n",
              "4                                                 걷기   \n",
              "5  목 스트레칭,등/어깨 뒤쪽 스트레칭,가슴/어깨 앞쪽 스트레칭,아래 팔 스트레칭,하지...   \n",
              "6                              하지 루틴 스트레칭,상지 루틴 스트레칭   \n",
              "\n",
              "                                                 본운동  \\\n",
              "0  윗몸올리기,엎드려 버티기,누워서 다리 들어올리기,누워서 수직으로 다리 들어올리기,누...   \n",
              "1  몸통 들어올리기,소파를 이용한 윗몸올리기,엎드려 버티기,옆으로 누워 버티기,네발기기...   \n",
              "2  몸통 들어올리기,소파를 이용한 윗몸올리기,엎드려 버티기,옆으로 누워 버티기,네발기기...   \n",
              "3  몸통 들어올리기,소파를 이용한 윗몸올리기,엎드려 버티기,옆으로 누워 버티기,네발기기...   \n",
              "4                                  달리기,무릎 높여 제자리 달리기   \n",
              "5  의자 앞에서 앉았다 일어서기,엎드려 버티기,누워서 엉덩이 들어올리기,네발기기 자세로...   \n",
              "6                                         전신 루틴 스트레칭   \n",
              "\n",
              "                                               마무리운동  \n",
              "0                   하지 루틴 스트레칭,하지 루틴 스트레칭,전신 루틴 스트레칭  \n",
              "1  깍지 끼고 상체 숙이기,목 스트레칭,등/어깨 뒤쪽 스트레칭,아래 팔 스트레칭,넙다리...  \n",
              "2  깍지 끼고 상체 숙이기,목 스트레칭,등/어깨 뒤쪽 스트레칭,아래 팔 스트레칭,넙다리...  \n",
              "3  깍지 끼고 상체 숙이기,목 스트레칭,등/어깨 뒤쪽 스트레칭,아래 팔 스트레칭,넙다리...  \n",
              "4                                         전신 루틴 스트레칭  \n",
              "5      걷기,계단 올라갔다 내려오기,수영,옆구리 스트레칭,넙다리 스트레칭,넙다리 스트레칭  \n",
              "6                                    자가근막이완술 루틴 스트레칭  "
            ],
            "text/html": [
              "\n",
              "  <div id=\"df-5fcdb0ff-5bf5-488b-b3e3-676d42a7e8e0\">\n",
              "    <div class=\"colab-df-container\">\n",
              "      <div>\n",
              "<style scoped>\n",
              "    .dataframe tbody tr th:only-of-type {\n",
              "        vertical-align: middle;\n",
              "    }\n",
              "\n",
              "    .dataframe tbody tr th {\n",
              "        vertical-align: top;\n",
              "    }\n",
              "\n",
              "    .dataframe thead th {\n",
              "        text-align: right;\n",
              "    }\n",
              "</style>\n",
              "<table border=\"1\" class=\"dataframe\">\n",
              "  <thead>\n",
              "    <tr style=\"text-align: right;\">\n",
              "      <th></th>\n",
              "      <th>성별구분코드_F</th>\n",
              "      <th>성별구분코드_M</th>\n",
              "      <th>신장(cm)</th>\n",
              "      <th>체중(kg)</th>\n",
              "      <th>체지방율(%)</th>\n",
              "      <th>앉아윗몸앞으로굽히기(cm)</th>\n",
              "      <th>BMI(kg/㎡)</th>\n",
              "      <th>교차윗몸일으키기(회)</th>\n",
              "      <th>왕복오래달리기(회)</th>\n",
              "      <th>10M 4회 왕복달리기(초)</th>\n",
              "      <th>제자리 멀리뛰기(cm)</th>\n",
              "      <th>상대악력(%)</th>\n",
              "      <th>준비운동</th>\n",
              "      <th>본운동</th>\n",
              "      <th>마무리운동</th>\n",
              "    </tr>\n",
              "  </thead>\n",
              "  <tbody>\n",
              "    <tr>\n",
              "      <th>0</th>\n",
              "      <td>1</td>\n",
              "      <td>0</td>\n",
              "      <td>159.0</td>\n",
              "      <td>57.5</td>\n",
              "      <td>32.0</td>\n",
              "      <td>15.5</td>\n",
              "      <td>22.7</td>\n",
              "      <td>1.0</td>\n",
              "      <td>11.000000</td>\n",
              "      <td>15.76</td>\n",
              "      <td>126.0</td>\n",
              "      <td>41.0</td>\n",
              "      <td>상지 루틴 스트레칭,전신 루틴 스트레칭</td>\n",
              "      <td>윗몸올리기,엎드려 버티기,누워서 다리 들어올리기,누워서 수직으로 다리 들어올리기,누...</td>\n",
              "      <td>하지 루틴 스트레칭,하지 루틴 스트레칭,전신 루틴 스트레칭</td>\n",
              "    </tr>\n",
              "    <tr>\n",
              "      <th>1</th>\n",
              "      <td>1</td>\n",
              "      <td>0</td>\n",
              "      <td>160.3</td>\n",
              "      <td>59.4</td>\n",
              "      <td>30.7</td>\n",
              "      <td>21.2</td>\n",
              "      <td>23.1</td>\n",
              "      <td>0.0</td>\n",
              "      <td>8.000000</td>\n",
              "      <td>16.03</td>\n",
              "      <td>107.0</td>\n",
              "      <td>30.1</td>\n",
              "      <td>깍지 끼고 상체 숙이기,목 스트레칭,등/어깨 뒤쪽 스트레칭,어깨 뒤쪽 스트레칭,아래...</td>\n",
              "      <td>몸통 들어올리기,소파를 이용한 윗몸올리기,엎드려 버티기,옆으로 누워 버티기,네발기기...</td>\n",
              "      <td>깍지 끼고 상체 숙이기,목 스트레칭,등/어깨 뒤쪽 스트레칭,아래 팔 스트레칭,넙다리...</td>\n",
              "    </tr>\n",
              "    <tr>\n",
              "      <th>2</th>\n",
              "      <td>0</td>\n",
              "      <td>1</td>\n",
              "      <td>167.6</td>\n",
              "      <td>73.1</td>\n",
              "      <td>26.8</td>\n",
              "      <td>19.6</td>\n",
              "      <td>26.0</td>\n",
              "      <td>32.0</td>\n",
              "      <td>20.000000</td>\n",
              "      <td>11.63</td>\n",
              "      <td>191.0</td>\n",
              "      <td>64.5</td>\n",
              "      <td>깍지 끼고 상체 숙이기,목 스트레칭,등/어깨 뒤쪽 스트레칭,어깨 뒤쪽 스트레칭,아래...</td>\n",
              "      <td>몸통 들어올리기,소파를 이용한 윗몸올리기,엎드려 버티기,옆으로 누워 버티기,네발기기...</td>\n",
              "      <td>깍지 끼고 상체 숙이기,목 스트레칭,등/어깨 뒤쪽 스트레칭,아래 팔 스트레칭,넙다리...</td>\n",
              "    </tr>\n",
              "    <tr>\n",
              "      <th>3</th>\n",
              "      <td>0</td>\n",
              "      <td>1</td>\n",
              "      <td>167.1</td>\n",
              "      <td>87.8</td>\n",
              "      <td>29.6</td>\n",
              "      <td>8.2</td>\n",
              "      <td>31.4</td>\n",
              "      <td>44.0</td>\n",
              "      <td>28.000000</td>\n",
              "      <td>11.59</td>\n",
              "      <td>189.0</td>\n",
              "      <td>48.1</td>\n",
              "      <td>깍지 끼고 상체 숙이기,목 스트레칭,등/어깨 뒤쪽 스트레칭,어깨 뒤쪽 스트레칭,아래...</td>\n",
              "      <td>몸통 들어올리기,소파를 이용한 윗몸올리기,엎드려 버티기,옆으로 누워 버티기,네발기기...</td>\n",
              "      <td>깍지 끼고 상체 숙이기,목 스트레칭,등/어깨 뒤쪽 스트레칭,아래 팔 스트레칭,넙다리...</td>\n",
              "    </tr>\n",
              "    <tr>\n",
              "      <th>4</th>\n",
              "      <td>0</td>\n",
              "      <td>1</td>\n",
              "      <td>171.4</td>\n",
              "      <td>82.1</td>\n",
              "      <td>25.0</td>\n",
              "      <td>-2.0</td>\n",
              "      <td>27.9</td>\n",
              "      <td>39.0</td>\n",
              "      <td>30.510531</td>\n",
              "      <td>11.30</td>\n",
              "      <td>196.0</td>\n",
              "      <td>52.6</td>\n",
              "      <td>걷기</td>\n",
              "      <td>달리기,무릎 높여 제자리 달리기</td>\n",
              "      <td>전신 루틴 스트레칭</td>\n",
              "    </tr>\n",
              "    <tr>\n",
              "      <th>5</th>\n",
              "      <td>1</td>\n",
              "      <td>0</td>\n",
              "      <td>164.7</td>\n",
              "      <td>60.4</td>\n",
              "      <td>32.3</td>\n",
              "      <td>2.1</td>\n",
              "      <td>22.3</td>\n",
              "      <td>20.0</td>\n",
              "      <td>12.000000</td>\n",
              "      <td>15.01</td>\n",
              "      <td>127.0</td>\n",
              "      <td>38.4</td>\n",
              "      <td>목 스트레칭,등/어깨 뒤쪽 스트레칭,가슴/어깨 앞쪽 스트레칭,아래 팔 스트레칭,하지...</td>\n",
              "      <td>의자 앞에서 앉았다 일어서기,엎드려 버티기,누워서 엉덩이 들어올리기,네발기기 자세로...</td>\n",
              "      <td>걷기,계단 올라갔다 내려오기,수영,옆구리 스트레칭,넙다리 스트레칭,넙다리 스트레칭</td>\n",
              "    </tr>\n",
              "    <tr>\n",
              "      <th>6</th>\n",
              "      <td>0</td>\n",
              "      <td>1</td>\n",
              "      <td>166.3</td>\n",
              "      <td>63.7</td>\n",
              "      <td>20.2</td>\n",
              "      <td>1.1</td>\n",
              "      <td>23.0</td>\n",
              "      <td>48.0</td>\n",
              "      <td>47.000000</td>\n",
              "      <td>10.15</td>\n",
              "      <td>242.0</td>\n",
              "      <td>73.9</td>\n",
              "      <td>하지 루틴 스트레칭,상지 루틴 스트레칭</td>\n",
              "      <td>전신 루틴 스트레칭</td>\n",
              "      <td>자가근막이완술 루틴 스트레칭</td>\n",
              "    </tr>\n",
              "  </tbody>\n",
              "</table>\n",
              "</div>\n",
              "      <button class=\"colab-df-convert\" onclick=\"convertToInteractive('df-5fcdb0ff-5bf5-488b-b3e3-676d42a7e8e0')\"\n",
              "              title=\"Convert this dataframe to an interactive table.\"\n",
              "              style=\"display:none;\">\n",
              "        \n",
              "  <svg xmlns=\"http://www.w3.org/2000/svg\" height=\"24px\"viewBox=\"0 0 24 24\"\n",
              "       width=\"24px\">\n",
              "    <path d=\"M0 0h24v24H0V0z\" fill=\"none\"/>\n",
              "    <path d=\"M18.56 5.44l.94 2.06.94-2.06 2.06-.94-2.06-.94-.94-2.06-.94 2.06-2.06.94zm-11 1L8.5 8.5l.94-2.06 2.06-.94-2.06-.94L8.5 2.5l-.94 2.06-2.06.94zm10 10l.94 2.06.94-2.06 2.06-.94-2.06-.94-.94-2.06-.94 2.06-2.06.94z\"/><path d=\"M17.41 7.96l-1.37-1.37c-.4-.4-.92-.59-1.43-.59-.52 0-1.04.2-1.43.59L10.3 9.45l-7.72 7.72c-.78.78-.78 2.05 0 2.83L4 21.41c.39.39.9.59 1.41.59.51 0 1.02-.2 1.41-.59l7.78-7.78 2.81-2.81c.8-.78.8-2.07 0-2.86zM5.41 20L4 18.59l7.72-7.72 1.47 1.35L5.41 20z\"/>\n",
              "  </svg>\n",
              "      </button>\n",
              "      \n",
              "  <style>\n",
              "    .colab-df-container {\n",
              "      display:flex;\n",
              "      flex-wrap:wrap;\n",
              "      gap: 12px;\n",
              "    }\n",
              "\n",
              "    .colab-df-convert {\n",
              "      background-color: #E8F0FE;\n",
              "      border: none;\n",
              "      border-radius: 50%;\n",
              "      cursor: pointer;\n",
              "      display: none;\n",
              "      fill: #1967D2;\n",
              "      height: 32px;\n",
              "      padding: 0 0 0 0;\n",
              "      width: 32px;\n",
              "    }\n",
              "\n",
              "    .colab-df-convert:hover {\n",
              "      background-color: #E2EBFA;\n",
              "      box-shadow: 0px 1px 2px rgba(60, 64, 67, 0.3), 0px 1px 3px 1px rgba(60, 64, 67, 0.15);\n",
              "      fill: #174EA6;\n",
              "    }\n",
              "\n",
              "    [theme=dark] .colab-df-convert {\n",
              "      background-color: #3B4455;\n",
              "      fill: #D2E3FC;\n",
              "    }\n",
              "\n",
              "    [theme=dark] .colab-df-convert:hover {\n",
              "      background-color: #434B5C;\n",
              "      box-shadow: 0px 1px 3px 1px rgba(0, 0, 0, 0.15);\n",
              "      filter: drop-shadow(0px 1px 2px rgba(0, 0, 0, 0.3));\n",
              "      fill: #FFFFFF;\n",
              "    }\n",
              "  </style>\n",
              "\n",
              "      <script>\n",
              "        const buttonEl =\n",
              "          document.querySelector('#df-5fcdb0ff-5bf5-488b-b3e3-676d42a7e8e0 button.colab-df-convert');\n",
              "        buttonEl.style.display =\n",
              "          google.colab.kernel.accessAllowed ? 'block' : 'none';\n",
              "\n",
              "        async function convertToInteractive(key) {\n",
              "          const element = document.querySelector('#df-5fcdb0ff-5bf5-488b-b3e3-676d42a7e8e0');\n",
              "          const dataTable =\n",
              "            await google.colab.kernel.invokeFunction('convertToInteractive',\n",
              "                                                     [key], {});\n",
              "          if (!dataTable) return;\n",
              "\n",
              "          const docLinkHtml = 'Like what you see? Visit the ' +\n",
              "            '<a target=\"_blank\" href=https://colab.research.google.com/notebooks/data_table.ipynb>data table notebook</a>'\n",
              "            + ' to learn more about interactive tables.';\n",
              "          element.innerHTML = '';\n",
              "          dataTable['output_type'] = 'display_data';\n",
              "          await google.colab.output.renderOutput(dataTable, element);\n",
              "          const docLink = document.createElement('div');\n",
              "          docLink.innerHTML = docLinkHtml;\n",
              "          element.appendChild(docLink);\n",
              "        }\n",
              "      </script>\n",
              "    </div>\n",
              "  </div>\n",
              "  "
            ]
          },
          "metadata": {},
          "execution_count": 12
        }
      ]
    },
    {
      "cell_type": "code",
      "source": [
        "# 유저가 0 그룹인 경우 - 기존의 0 그룹 테이블 가져오기 (0 ~ 3)\n",
        "adult_group_0.shape"
      ],
      "metadata": {
        "id": "1If-_pWGMvII",
        "colab": {
          "base_uri": "https://localhost:8080/"
        },
        "outputId": "026546b6-14b9-48cd-d2c3-29dfedf5ba05"
      },
      "execution_count": 13,
      "outputs": [
        {
          "output_type": "execute_result",
          "data": {
            "text/plain": [
              "(29280, 15)"
            ]
          },
          "metadata": {},
          "execution_count": 13
        }
      ]
    },
    {
      "cell_type": "code",
      "source": [
        "adult_group_0.tail()"
      ],
      "metadata": {
        "colab": {
          "base_uri": "https://localhost:8080/",
          "height": 527
        },
        "id": "BfZho8bdW2Dy",
        "outputId": "28f7da42-e8c8-438b-9242-427b45411835"
      },
      "execution_count": 14,
      "outputs": [
        {
          "output_type": "execute_result",
          "data": {
            "text/plain": [
              "       성별구분코드_F  성별구분코드_M  신장(cm)  체중(kg)  체지방율(%)  앉아윗몸앞으로굽히기(cm)  BMI(kg/㎡)  \\\n",
              "29275         0         1   175.3   78.10     26.0            24.1       25.4   \n",
              "29276         0         1   165.0   68.66     20.4            -3.7       25.2   \n",
              "29277         1         0   168.5   63.40     35.4             1.7       22.3   \n",
              "29278         0         1   180.5   96.30     24.2             4.6       29.6   \n",
              "29279         0         1   173.0   83.60     24.1            15.9       27.9   \n",
              "\n",
              "       교차윗몸일으키기(회)  왕복오래달리기(회)  10M 4회 왕복달리기(초)  제자리 멀리뛰기(cm)  상대악력(%)  \\\n",
              "29275         46.0   42.000000            10.00         188.0     59.6   \n",
              "29276         20.0   30.510531            13.80         172.0     56.9   \n",
              "29277         28.0   16.000000            12.36         146.0     42.1   \n",
              "29278         29.0   30.510531            12.06         184.0     44.8   \n",
              "29279         39.0   52.000000            10.66         211.0     54.4   \n",
              "\n",
              "                                                    준비운동  \\\n",
              "29275                             걷기,유산소 운동 전 동적 루틴 스트레칭   \n",
              "29276                                                 걷기   \n",
              "29277              걷기,줄넘기,전신 루틴 스트레칭,유산소 운동 전 동적 루틴 스트레칭   \n",
              "29278  상지 루틴 스트레칭,하지 루틴 스트레칭,하지 루틴 스트레칭,전신 루틴 스트레칭,유산...   \n",
              "29279                     전신 루틴 스트레칭,유산소 운동 전 동적 루틴 스트레칭   \n",
              "\n",
              "                                                     본운동  \\\n",
              "29275  맨몸운동 루틴프로그램,팔벌려뛰기,사다리 옆으로 발 옮기기,옆으로 펀치하기,스텝퍼 오...   \n",
              "29276                                  달리기,무릎 높여 제자리 달리기   \n",
              "29277  서서 상체 일으키기,앉았다 일어서기,소파를 이용한 윗몸올리기,엎드려 버티기,네발기기...   \n",
              "29278  탄력밴드 어깨 가쪽 돌림,서서 탄력밴드 당겨내리기/올리기,엎드려 버티기,누워서 다리...   \n",
              "29279  윗몸 말아 올리기,윗몸올리기,누워서 다리 들어올리기,누워서 팔 다리 동시에 들어올리...   \n",
              "\n",
              "                                                   마무리운동  \n",
              "29275                                         전신 루틴 스트레칭  \n",
              "29276                                         전신 루틴 스트레칭  \n",
              "29277   하지 루틴 스트레칭,하지 루틴 스트레칭,상지 루틴 스트레칭,자가근막이완술 루틴 스트레칭  \n",
              "29278  목 스트레칭,허리 스트레칭,배 스트레칭,짐볼을 이용한 동적 루틴 스트레칭,작은 공을...  \n",
              "29279                                         전신 루틴 스트레칭  "
            ],
            "text/html": [
              "\n",
              "  <div id=\"df-d0f2e1e0-df63-403b-8eea-b8c31521a271\">\n",
              "    <div class=\"colab-df-container\">\n",
              "      <div>\n",
              "<style scoped>\n",
              "    .dataframe tbody tr th:only-of-type {\n",
              "        vertical-align: middle;\n",
              "    }\n",
              "\n",
              "    .dataframe tbody tr th {\n",
              "        vertical-align: top;\n",
              "    }\n",
              "\n",
              "    .dataframe thead th {\n",
              "        text-align: right;\n",
              "    }\n",
              "</style>\n",
              "<table border=\"1\" class=\"dataframe\">\n",
              "  <thead>\n",
              "    <tr style=\"text-align: right;\">\n",
              "      <th></th>\n",
              "      <th>성별구분코드_F</th>\n",
              "      <th>성별구분코드_M</th>\n",
              "      <th>신장(cm)</th>\n",
              "      <th>체중(kg)</th>\n",
              "      <th>체지방율(%)</th>\n",
              "      <th>앉아윗몸앞으로굽히기(cm)</th>\n",
              "      <th>BMI(kg/㎡)</th>\n",
              "      <th>교차윗몸일으키기(회)</th>\n",
              "      <th>왕복오래달리기(회)</th>\n",
              "      <th>10M 4회 왕복달리기(초)</th>\n",
              "      <th>제자리 멀리뛰기(cm)</th>\n",
              "      <th>상대악력(%)</th>\n",
              "      <th>준비운동</th>\n",
              "      <th>본운동</th>\n",
              "      <th>마무리운동</th>\n",
              "    </tr>\n",
              "  </thead>\n",
              "  <tbody>\n",
              "    <tr>\n",
              "      <th>29275</th>\n",
              "      <td>0</td>\n",
              "      <td>1</td>\n",
              "      <td>175.3</td>\n",
              "      <td>78.10</td>\n",
              "      <td>26.0</td>\n",
              "      <td>24.1</td>\n",
              "      <td>25.4</td>\n",
              "      <td>46.0</td>\n",
              "      <td>42.000000</td>\n",
              "      <td>10.00</td>\n",
              "      <td>188.0</td>\n",
              "      <td>59.6</td>\n",
              "      <td>걷기,유산소 운동 전 동적 루틴 스트레칭</td>\n",
              "      <td>맨몸운동 루틴프로그램,팔벌려뛰기,사다리 옆으로 발 옮기기,옆으로 펀치하기,스텝퍼 오...</td>\n",
              "      <td>전신 루틴 스트레칭</td>\n",
              "    </tr>\n",
              "    <tr>\n",
              "      <th>29276</th>\n",
              "      <td>0</td>\n",
              "      <td>1</td>\n",
              "      <td>165.0</td>\n",
              "      <td>68.66</td>\n",
              "      <td>20.4</td>\n",
              "      <td>-3.7</td>\n",
              "      <td>25.2</td>\n",
              "      <td>20.0</td>\n",
              "      <td>30.510531</td>\n",
              "      <td>13.80</td>\n",
              "      <td>172.0</td>\n",
              "      <td>56.9</td>\n",
              "      <td>걷기</td>\n",
              "      <td>달리기,무릎 높여 제자리 달리기</td>\n",
              "      <td>전신 루틴 스트레칭</td>\n",
              "    </tr>\n",
              "    <tr>\n",
              "      <th>29277</th>\n",
              "      <td>1</td>\n",
              "      <td>0</td>\n",
              "      <td>168.5</td>\n",
              "      <td>63.40</td>\n",
              "      <td>35.4</td>\n",
              "      <td>1.7</td>\n",
              "      <td>22.3</td>\n",
              "      <td>28.0</td>\n",
              "      <td>16.000000</td>\n",
              "      <td>12.36</td>\n",
              "      <td>146.0</td>\n",
              "      <td>42.1</td>\n",
              "      <td>걷기,줄넘기,전신 루틴 스트레칭,유산소 운동 전 동적 루틴 스트레칭</td>\n",
              "      <td>서서 상체 일으키기,앉았다 일어서기,소파를 이용한 윗몸올리기,엎드려 버티기,네발기기...</td>\n",
              "      <td>하지 루틴 스트레칭,하지 루틴 스트레칭,상지 루틴 스트레칭,자가근막이완술 루틴 스트레칭</td>\n",
              "    </tr>\n",
              "    <tr>\n",
              "      <th>29278</th>\n",
              "      <td>0</td>\n",
              "      <td>1</td>\n",
              "      <td>180.5</td>\n",
              "      <td>96.30</td>\n",
              "      <td>24.2</td>\n",
              "      <td>4.6</td>\n",
              "      <td>29.6</td>\n",
              "      <td>29.0</td>\n",
              "      <td>30.510531</td>\n",
              "      <td>12.06</td>\n",
              "      <td>184.0</td>\n",
              "      <td>44.8</td>\n",
              "      <td>상지 루틴 스트레칭,하지 루틴 스트레칭,하지 루틴 스트레칭,전신 루틴 스트레칭,유산...</td>\n",
              "      <td>탄력밴드 어깨 가쪽 돌림,서서 탄력밴드 당겨내리기/올리기,엎드려 버티기,누워서 다리...</td>\n",
              "      <td>목 스트레칭,허리 스트레칭,배 스트레칭,짐볼을 이용한 동적 루틴 스트레칭,작은 공을...</td>\n",
              "    </tr>\n",
              "    <tr>\n",
              "      <th>29279</th>\n",
              "      <td>0</td>\n",
              "      <td>1</td>\n",
              "      <td>173.0</td>\n",
              "      <td>83.60</td>\n",
              "      <td>24.1</td>\n",
              "      <td>15.9</td>\n",
              "      <td>27.9</td>\n",
              "      <td>39.0</td>\n",
              "      <td>52.000000</td>\n",
              "      <td>10.66</td>\n",
              "      <td>211.0</td>\n",
              "      <td>54.4</td>\n",
              "      <td>전신 루틴 스트레칭,유산소 운동 전 동적 루틴 스트레칭</td>\n",
              "      <td>윗몸 말아 올리기,윗몸올리기,누워서 다리 들어올리기,누워서 팔 다리 동시에 들어올리...</td>\n",
              "      <td>전신 루틴 스트레칭</td>\n",
              "    </tr>\n",
              "  </tbody>\n",
              "</table>\n",
              "</div>\n",
              "      <button class=\"colab-df-convert\" onclick=\"convertToInteractive('df-d0f2e1e0-df63-403b-8eea-b8c31521a271')\"\n",
              "              title=\"Convert this dataframe to an interactive table.\"\n",
              "              style=\"display:none;\">\n",
              "        \n",
              "  <svg xmlns=\"http://www.w3.org/2000/svg\" height=\"24px\"viewBox=\"0 0 24 24\"\n",
              "       width=\"24px\">\n",
              "    <path d=\"M0 0h24v24H0V0z\" fill=\"none\"/>\n",
              "    <path d=\"M18.56 5.44l.94 2.06.94-2.06 2.06-.94-2.06-.94-.94-2.06-.94 2.06-2.06.94zm-11 1L8.5 8.5l.94-2.06 2.06-.94-2.06-.94L8.5 2.5l-.94 2.06-2.06.94zm10 10l.94 2.06.94-2.06 2.06-.94-2.06-.94-.94-2.06-.94 2.06-2.06.94z\"/><path d=\"M17.41 7.96l-1.37-1.37c-.4-.4-.92-.59-1.43-.59-.52 0-1.04.2-1.43.59L10.3 9.45l-7.72 7.72c-.78.78-.78 2.05 0 2.83L4 21.41c.39.39.9.59 1.41.59.51 0 1.02-.2 1.41-.59l7.78-7.78 2.81-2.81c.8-.78.8-2.07 0-2.86zM5.41 20L4 18.59l7.72-7.72 1.47 1.35L5.41 20z\"/>\n",
              "  </svg>\n",
              "      </button>\n",
              "      \n",
              "  <style>\n",
              "    .colab-df-container {\n",
              "      display:flex;\n",
              "      flex-wrap:wrap;\n",
              "      gap: 12px;\n",
              "    }\n",
              "\n",
              "    .colab-df-convert {\n",
              "      background-color: #E8F0FE;\n",
              "      border: none;\n",
              "      border-radius: 50%;\n",
              "      cursor: pointer;\n",
              "      display: none;\n",
              "      fill: #1967D2;\n",
              "      height: 32px;\n",
              "      padding: 0 0 0 0;\n",
              "      width: 32px;\n",
              "    }\n",
              "\n",
              "    .colab-df-convert:hover {\n",
              "      background-color: #E2EBFA;\n",
              "      box-shadow: 0px 1px 2px rgba(60, 64, 67, 0.3), 0px 1px 3px 1px rgba(60, 64, 67, 0.15);\n",
              "      fill: #174EA6;\n",
              "    }\n",
              "\n",
              "    [theme=dark] .colab-df-convert {\n",
              "      background-color: #3B4455;\n",
              "      fill: #D2E3FC;\n",
              "    }\n",
              "\n",
              "    [theme=dark] .colab-df-convert:hover {\n",
              "      background-color: #434B5C;\n",
              "      box-shadow: 0px 1px 3px 1px rgba(0, 0, 0, 0.15);\n",
              "      filter: drop-shadow(0px 1px 2px rgba(0, 0, 0, 0.3));\n",
              "      fill: #FFFFFF;\n",
              "    }\n",
              "  </style>\n",
              "\n",
              "      <script>\n",
              "        const buttonEl =\n",
              "          document.querySelector('#df-d0f2e1e0-df63-403b-8eea-b8c31521a271 button.colab-df-convert');\n",
              "        buttonEl.style.display =\n",
              "          google.colab.kernel.accessAllowed ? 'block' : 'none';\n",
              "\n",
              "        async function convertToInteractive(key) {\n",
              "          const element = document.querySelector('#df-d0f2e1e0-df63-403b-8eea-b8c31521a271');\n",
              "          const dataTable =\n",
              "            await google.colab.kernel.invokeFunction('convertToInteractive',\n",
              "                                                     [key], {});\n",
              "          if (!dataTable) return;\n",
              "\n",
              "          const docLinkHtml = 'Like what you see? Visit the ' +\n",
              "            '<a target=\"_blank\" href=https://colab.research.google.com/notebooks/data_table.ipynb>data table notebook</a>'\n",
              "            + ' to learn more about interactive tables.';\n",
              "          element.innerHTML = '';\n",
              "          dataTable['output_type'] = 'display_data';\n",
              "          await google.colab.output.renderOutput(dataTable, element);\n",
              "          const docLink = document.createElement('div');\n",
              "          docLink.innerHTML = docLinkHtml;\n",
              "          element.appendChild(docLink);\n",
              "        }\n",
              "      </script>\n",
              "    </div>\n",
              "  </div>\n",
              "  "
            ]
          },
          "metadata": {},
          "execution_count": 14
        }
      ]
    },
    {
      "cell_type": "markdown",
      "source": [
        "# 유사 유저 구하기"
      ],
      "metadata": {
        "id": "BKajfKjAmxJe"
      }
    },
    {
      "cell_type": "code",
      "source": [
        "# 새로운 유저 정보 - 가짜 데이터\n",
        "new_user_dict = {'성별구분코드_F' : 1, '성별구분코드_M' : 0, '신장(cm)' : 159, \n",
        "                            \"체중(kg)\":57.5, \"체지방율(%)\":32.00, \"앉아윗몸앞으로굽히기(cm)\":15.5, \n",
        "                            \"BMI(kg/㎡)\":22.70, \"교차윗몸일으키기(회)\" : 1, \"왕복오래달리기(회)\":11.00,\n",
        "                            \"10M 4회 왕복달리기(초)\":15.76, \"제자리 멀리뛰기(cm)\":126, \"상대악력(%)\":41.00\n",
        "                            }"
      ],
      "metadata": {
        "id": "xqIEPezHfc3a"
      },
      "execution_count": null,
      "outputs": []
    },
    {
      "cell_type": "code",
      "source": [],
      "metadata": {
        "id": "YEzfy4ep12_N"
      },
      "execution_count": null,
      "outputs": []
    },
    {
      "cell_type": "code",
      "source": [
        "# 마지막에 추가하는 거 함수화\n",
        "def add_NewUser(group, new_user):\n",
        "  # 체력평가등급 0 그룹 내 piv 테이블 생성에 필요한 칼러만 가져오기\n",
        "  category_col = [\"성별구분코드_F\", \"성별구분코드_M\"]\n",
        "  body_col = [\"신장(cm)\",\"체중(kg)\",\"체지방율(%)\"]\n",
        "  # 신장, 체중, 신체 구성, \n",
        "  health_col = [\"앉아윗몸앞으로굽히기(cm)\",\"BMI(kg/㎡)\",\"교차윗몸일으키기(회)\",\"왕복오래달리기(회)\",\"10M 4회 왕복달리기(초)\",\"제자리 멀리뛰기(cm)\",\"상대악력(%)\"]\n",
        "  group_table = group[category_col+body_col + health_col]\n",
        "  # 새로운 유저 정보 + 기존 체력 평가 등급 0 그룹 테이블\n",
        "  total_user = group_table.append(new_user, ignore_index=True)\n",
        "  return total_user\n"
      ],
      "metadata": {
        "id": "JUQGDQPJgd0-"
      },
      "execution_count": 42,
      "outputs": []
    },
    {
      "cell_type": "code",
      "source": [
        "def create_CF(total_user):\n",
        "  CF = pd.DataFrame(cosine_similarity(total_user))\n",
        "  CF.index = total_user.index\n",
        "  CF.columns = total_user.index\n",
        "  return CF\n"
      ],
      "metadata": {
        "id": "ZUSDuM6cgJ_t"
      },
      "execution_count": 33,
      "outputs": []
    },
    {
      "cell_type": "code",
      "source": [
        "def getCF(userId,CF, ex_type, top_n):\n",
        "    Id = userId\n",
        "    idx = CF[Id].sort_values(ascending = False)[1:top_n].index.values\n",
        "    viewed_list = data[data.index==Id][ex_type].values\n",
        "    ex_list = []\n",
        "    for i in idx:\n",
        "        other_viewed_list = data[data.index==i][ex_type].values\n",
        "        for j in other_viewed_list:\n",
        "            if j not in viewed_list:\n",
        "              ex_list.append(j.split(\",\"))\n",
        "    \n",
        "    #print('====={} 운동 추천 목록 ====='.format(ex_type))\n",
        "    #for i in ex_list:\n",
        "      #print(i)\n",
        "    \n",
        "    return ex_list"
      ],
      "metadata": {
        "id": "aeR1dtxcQU47"
      },
      "execution_count": 35,
      "outputs": []
    },
    {
      "cell_type": "code",
      "source": [
        "# 가장 비슷한 상위 10% 유저의 준비 운동 목록 \n",
        "\n",
        "# 새로운 유저 포함 테이블 생성\n",
        "total_user = add_NewUser(adult_group_0, new_user_dict)\n",
        "# 새로운 유저 번호 부여\n",
        "new_user_idx = len(total_user)-1\n",
        "# 새로운 유저와 유사한 상위 10% 유저의 운동 처방 가져오기 - 새로운 유저, 본운동\n",
        "top_10percent_ex_list = getCF(new_user_idx, create_CF(total_user), \"본운동\", int(data.shape[0]*(10/100)))\n",
        "print(\"new user idx\", len(total_user))\n",
        "#print(top_10percent_ex_list)"
      ],
      "metadata": {
        "colab": {
          "base_uri": "https://localhost:8080/"
        },
        "id": "PJSqGBjlR5IO",
        "outputId": "fc86a987-b1d6-4388-b301-fd2110e54c0d"
      },
      "execution_count": null,
      "outputs": [
        {
          "output_type": "stream",
          "name": "stdout",
          "text": [
            "new user idx 29281\n",
            "[['달리기', '자전거타기', '줄넘기', '계단 올라갔다 내려오기', '계단 뛰기', '수영', '팔벌려뛰기', '버피운동', '목 스트레칭', '등/어깨 뒤쪽 스트레칭', '허리 스트레칭', '엉덩이 스트레칭', '넙다리 스트레칭', '넙다리 스트레칭', '넙다리 스트레칭', '하지 루틴 스트레칭', '하지 루틴 스트레칭', '상지 루틴 스트레칭', '전신 루틴 스트레칭'], ['앉았다 일어서기', '한발 앞으로 내밀고 앉았다 일어서기', '넙다리 스트레칭', '하지 루틴 스트레칭', '상지 루틴 스트레칭', '좌식생활자를 위한 동적 루틴 스트레칭 '], ['윗몸올리기', '누워서 엉덩이 들어올리기', '엎드려 버티기', '서서 상체 일으키기', '앉아서 밀기', '앉아서 당겨 내리기', '앉아서 다리 밀기', '앉아서 다리 펴기', '자전거타기', '걷기'], ['상지 루틴 스트레칭', '전신 루틴 스트레칭'], ['팔굽혀펴기', '허리 굽혀 팔 뒤로 들기', '앉았다 일어서기', '달리기', '계단 올라갔다 내려오기'], ['달리기', '무릎 높여 제자리 달리기'], ['앉았다 일어서기', '한발 앞으로 내밀고 앉았다 일어서기', '턱걸이', '점프 팔굽혀펴기', '소파를 이용한 윗몸올리기', '엎드려 버티기'], ['달리기', '자전거타기', '줄넘기', '계단 올라갔다 내려오기'], ['달리기', '자전거타기', '줄넘기'], ['달리기', '자전거타기', '자전거타기', '줄넘기', '계단 올라갔다 내려오기'], ['앉았다 일어서기', '팔굽혀펴기', '윗몸올리기', '누워서 엉덩이 들어올리기', '네발기기 자세로 팔 다리 들기', '엎드려 버티기', '누워서 수직으로 다리 들어올리기', '누워서 다리 좌우로 움직이기'], ['몸통 들어올리기', '소파를 이용한 윗몸올리기', '엎드려 버티기', '옆으로 누워 버티기', '네발기기 자세로 팔 다리 들기', '엎드려서 팔 다리 들기'], ['맨몸운동 루틴프로그램'], ['전완대고 버티기', '윗몸 일으키기'], ['서서 상체 일으키기', '앉았다 일어서기', '소파를 이용한 윗몸올리기', '엎드려 버티기', '네발기기 자세로 팔 다리 들기', '서서 다리 뒤로 차기'], ['앉았다 일어서기', '한발 앞으로 내밀고 앉았다 일어서기', '윗몸올리기', '엎드려 버티기', '옆으로 누워 버티기', '누워서 엉덩이 들어올리기'], ['팔굽혀펴기', '허리 굽혀 팔 뒤로 들기', '앉았다 일어서기', '달리기', '계단 올라갔다 내려오기'], ['허리 굽혀 팔 뒤로 들기', '물병 옆으로 들어올리기', '네발기기 자세로 팔 다리 들기', '누워서 엉덩이 들어올리기', '자전거타기', '걷기'], ['앉았다 일어서면서 점프하기', '무릎 높여 제자리 달리기', '옆으로 펀치하기'], ['목 스트레칭', '등/어깨 뒤쪽 스트레칭', '가슴/어깨 앞쪽 스트레칭', '아래 팔 스트레칭', '허리 스트레칭', '배 스트레칭', '옆구리 스트레칭', '엉덩이 스트레칭', '넙다리 스트레칭', '넙다리 스트레칭', '넙다리 스트레칭', '좌식생활자를 위한 동적 루틴 스트레칭 '], ['앉았다 일어서기', '한발 앞으로 내밀고 앉았다 일어서기', '턱걸이', '점프 팔굽혀펴기', '소파를 이용한 윗몸올리기', '엎드려 버티기'], ['달리기', '무릎 높여 제자리 달리기'], ['맨몸운동 루틴프로그램', '자전거타기', '걷기', '줄넘기', '수영'], ['허리 굽혀 팔 뒤로 들기', '물병 옆으로 들어올리기', '네발기기 자세로 팔 다리 들기', '누워서 엉덩이 들어올리기', '자전거타기', '걷기'], ['몸통 들어올리기', '소파를 이용한 윗몸올리기', '엎드려 버티기', '옆으로 누워 버티기', '네발기기 자세로 팔 다리 들기', '엎드려서 팔 다리 들기'], ['목 스트레칭', '등/어깨 뒤쪽 스트레칭', '가슴/어깨 앞쪽 스트레칭', '아래 팔 스트레칭', '허리 스트레칭', '배 스트레칭', '옆구리 스트레칭', '엉덩이 스트레칭', '넙다리 스트레칭', '넙다리 스트레칭', '넙다리 스트레칭', '좌식생활자를 위한 동적 루틴 스트레칭 '], ['달리기', '무릎 높여 제자리 달리기'], ['앉았다 일어서기', '한발 앞으로 내밀고 앉았다 일어서기', '앉아서 다리 밀기', '앉아서 다리 굽히기', '앉아서 위로 밀기', '서서 바벨 위로 밀기', '탄력밴드 어깨 가쪽 돌림', '서서 탄력밴드 당겨내리기/올리기'], ['자전거타기', '줄넘기', '계단 올라갔다 내려오기', '수영', '아쿠아로빅', '스텝박스'], ['달리기', '자전거타기', '자전거타기', '걷기', '계단 올라갔다 내려오기', '수영'], ['달리기', '줄넘기', '수영', '맨몸운동 루틴프로그램', '짐볼 운동 루틴프로그램', '앉았다 일어나며 점프하기'], ['앉았다 일어서기', '서서 뒤꿈치 들기', '자전거타기', '줄넘기', '계단 올라갔다 내려오기'], ['달리기', '무릎 높여 제자리 달리기'], ['서서 상체 일으키기', '앉았다 일어서기', '윗몸올리기', '옆으로 누워 버티기', '누워서 엉덩이 들어올리기', '앉아서 팔꿈치 굽히기/펴기', '달리기', '자전거타기', '걷기', '줄넘기', '계단 올라갔다 내려오기', '수영', '스텝퍼 뛰어서 오르내리기', '스텝퍼 뛰어서 넘어가기', '사다리 안팎 뛰기', '앉았다 일어서면서 점프하기', '무릎 높여 제자리 달리기', '버피운동'], ['윗몸올리기', '누워서 엉덩이 들어올리기', '엎드려 버티기', '서서 상체 일으키기', '앉아서 밀기', '앉아서 당겨 내리기', '앉아서 다리 밀기', '앉아서 다리 펴기', '자전거타기', '걷기'], ['계단 올라갔다 내려오기', '계단 뛰기', '수영', '자전거타기', '자전거타기'], ['달리기', '무릎 높여 제자리 달리기'], ['계단 올라갔다 내려오기', '계단 뛰기', '수영', '자전거타기', '자전거타기'], ['엎드려 버티기', '옆으로 누워 버티기'], ['바벨 당겨 올리기', '앉아서 덤벨로 손목 굽히기', '플렉스 바 비틀기', '팔굽혀 펴기', '턱걸이', '뒤로 팔굽혀펴기'], ['앉아서 다리 펴기', '앉아서 다리 굽히기', '앉아서 당겨 내리기', '앉아서 밀기'], ['윗몸올리기', '엎드려 버티기'], ['달리기', '무릎 높여 제자리 달리기'], ['팔꿈치 굽히기', '물병 옆으로 들어올리기', '뒤로 팔굽혀펴기', '손목 펴기/굽히기', '자전거타기', '걷기', '줄넘기', '수영'], ['누워서 다리 들어올리기', '팔꿈치 굽히기', '서서 다리로 탄력밴드 당기기', '누워서 엉덩이 들어올리기', '팔굽혀펴기', '윗몸올리기', '한발 앞으로 내밀고 앉았다 일어서기', '서서 뒤꿈치 들기', '엎드려서 팔 다리 들기', '허리 굽혀 팔 뒤로 들기', '앉았다 일어서기', '물병 옆으로 들어올리기', '자전거타기', '걷기', '계단 올라갔다 내려오기', '수영'], ['탄력밴드 어깨 가쪽 돌림', '서서 탄력밴드 당겨내리기/올리기', '엎드려 버티기', '누워서 다리 들어올리기', '누워서 하늘 자전거', '누워서 엉덩이 들어올리기', '서서 뒤꿈치 들기', '의자 앞에서 앉았다 일어서기', '달리기', '자전거타기', '걷기', '줄넘기', '계단 올라갔다 내려오기', '수영', '스텝퍼 뛰어서 오르내리기', '스텝퍼 뛰어서 넘어가기', '사다리 안팎 뛰기', '앉았다 일어서면서 점프하기', '무릎 높여 제자리 달리기', '버피운동'], ['달리기', '수영', '자전거타기', '자전거타기'], ['자전거타기', '물누르기/올리기'], ['앉았다 일어서기', '팔굽혀펴기', '윗몸올리기', '누워서 엉덩이 들어올리기', '네발기기 자세로 팔 다리 들기', '엎드려 버티기', '누워서 수직으로 다리 들어올리기', '누워서 다리 좌우로 움직이기'], ['달리기', '무릎 높여 제자리 달리기'], ['윗몸 말아 올리기', '윗몸올리기', '누워서 다리 들어올리기', '누워서 팔 다리 동시에 들어올리기', '팔굽혀펴기'], ['바운딩 운동 루틴프로그램', '박스 운동 루틴프로그램'], ['자전거타기', '걷기', '계단 올라갔다 내려오기', '수영'], ['앉았다 일어서기', '팔굽혀펴기', '엎드려 버티기', '서서 상체 일으키기'], ['앉아서 다리 밀기', '앉아서 다리 펴기', '앉아서 다리 모으기', '앉았다 일어서기', '한발 앞으로 내밀고 앉았다 일어서기', '의자에 앉아 다리 뻗어 올리기'], ['버피운동', '앉았다 일어서기', '앉았다 일어서면서 점프하기', '맨몸운동 루틴프로그램', '전완대고 버티기', '팔다리 교차 버티기'], ['상지 루틴 스트레칭', '전신 루틴 스트레칭'], ['몸통 들어올리기', '소파를 이용한 윗몸올리기', '엎드려 버티기', '옆으로 누워 버티기', '네발기기 자세로 팔 다리 들기', '엎드려서 팔 다리 들기'], ['계단 뛰기', '달리기', '스텝박스', '박스 운동 루틴프로그램', '사다리 운동 루틴프로그램', '콘운동 루틴프로그램', '사이드 스텝 점프하기', '한발로 점프하기'], ['계단 올라갔다 내려오기', '달리기', '팔굽혀 펴기', '바로서서 상체 숙이기', '앉았다 일어서기'], ['대퇴이두근 스트레칭', '요통을 위한 스트레칭', '몸통 앞으로 굽혀 걷기', '앉아서 상체 앞 옆으로 기울기', '앉았다 일어서기', '바벨들어올리기', '누워서 가슴 밀기', '서서 바벨 위로 밀기', '앉아서 당겨 내리기', '한발 앞으로 내밀고 앉았다 일어서기', '달리기', '자전거타기', '계단 올라갔다 내려오기', '계단 뛰기', '수영', '버피운동', '목 스트레칭', '전신 루틴 스트레칭'], ['앉았다 일어서기', '한발 앞으로 내밀고 앉았다 일어서기', '넙다리 스트레칭', '하지 루틴 스트레칭', '상지 루틴 스트레칭', '좌식생활자를 위한 동적 루틴 스트레칭 '], ['몸통 들어올리기', '소파를 이용한 윗몸올리기', '엎드려 버티기', '옆으로 누워 버티기', '네발기기 자세로 팔 다리 들기', '엎드려서 팔 다리 들기'], ['자전거타기', '줄넘기', '계단 올라갔다 내려오기', '수영', '아쿠아로빅', '스텝박스'], ['앉았다 일어서기', '한발 앞으로 내밀고 앉았다 일어서기', '앉았다 일어서기', '윗몸올리기', '엎드려 버티기', '누워서 다리 들어올리기', '누워서 엉덩이 들어올리기', '팔굽혀펴기', '팔벌려뛰기', '버피운동', '줄넘기', '수영'], ['서서 상체 일으키기', '앉았다 일어서기', '윗몸올리기', '엎드려 버티기', '누워서 다리 들어올리기', '누워서 엉덩이 들어올리기', '네발기기 자세로 팔 다리 들기', '짐볼에 엎드려서 몸통 젖히기', '팔굽혀펴기', '허리 굽혀 팔 뒤로 들기', '물병 옆으로 들어올리기', '팔꿈치 굽히기', '밴드 머리 뒤로 들어올리기', '벽에서 팔굽혀 펴기', '한발 앞으로 내밀고 앉았다 일어서기', '의자에 앉아 다리 뻗어 올리기', '서서 다리 뒤로 차기', '서서 다리로 탄력밴드 당기기', '서서 다리로 탄력밴드 당기기', '엎드려 팔다리 교차올리기', '누워서 덤벨 들어올리기', '앉아서 당겨 내리기', '앉아서 뒤로 당기기', '바벨들어올리기', '버피운동'], ['몸통 들어올리기', '엎드려서 균형잡기', '윗몸 말아 올리기', '엎드려서 다리 차올리기', '엎드려 버티기', '옆으로 누워 버티기', '누워서 다리 들어올리기', '누워서 다리 좌우로 움직이기', '누워서 하늘 자전거', '누워서 엉덩이 들어올리기', '네발기기 자세로 팔 다리 들기', '엎드려서 팔 다리 들기', '네발기기 자세에서 다리 위로 뻗어올리기', '누워서 배가로근 수축', '누워서 배가로근 수축 '], ['계단 올라갔다 내려오기', '계단 뛰기', '수영', '자전거타기', '자전거타기'], ['앉아서 다리 밀기', '앉아서 다리 펴기', '앉아서 다리 굽히기', '앉아서 당겨 내리기', '앉아서 뒤로 당기기', '앉아서 밀기', '앉아서 위로 밀기', '윗몸올리기', '누워서 다리 들어올리기', '몸통 들어올리기'], ['몸통 들어올리기', '소파를 이용한 윗몸올리기', '엎드려 버티기', '옆으로 누워 버티기', '네발기기 자세로 팔 다리 들기', '엎드려서 팔 다리 들기'], ['윗몸올리기', '누워서 엉덩이 들어올리기', '엎드려 버티기', '서서 상체 일으키기', '앉아서 밀기', '앉아서 당겨 내리기', '앉아서 다리 밀기', '앉아서 다리 펴기', '자전거타기', '걷기'], ['달리기', '무릎 높여 제자리 달리기'], ['스텝퍼 뛰어서 오르내리기', '스텝퍼 뛰어서 넘어가기', '스텝퍼 옆으로 뛰어넘기', '스텝퍼 올라가서 점프하여 착지하기', '뛰어 내렸다가 바로 점프하기'], ['몸통 들어올리기', '소파를 이용한 윗몸올리기', '엎드려 버티기', '옆으로 누워 버티기', '네발기기 자세로 팔 다리 들기', '엎드려서 팔 다리 들기'], ['맨몸운동 루틴프로그램', '저항밴드 운동 루틴프로그램', '웨이트 트레이닝 루틴프로그램'], ['스텝퍼 옆으로 뛰어넘기', '스텝퍼 올라가서 점프하여 착지하기', '뛰어 내렸다가 바로 점프하기', '버피운동', '점프 팔굽혀펴기'], ['스텝퍼 옆으로 뛰어넘기', '스텝퍼 올라가서 점프하여 착지하기', '뛰어 내렸다가 바로 점프하기', '사다리 안팎 뛰기', '앉았다 일어서면서 점프하기', '무릎 높여 제자리 달리기', '파워클린', '팔굽혀펴기'], ['네발기기 자세로 팔 다리 들기', '서서 다리 뒤로 차기', '엎드려 버티기', '엎드려서 팔 다리 들기', '누워서 엉덩이 들어올리기', '윗몸올리기', '몸통 옆으로 굽히기', '자전거타기', '걷기'], ['달리기', '자전거타기', '줄넘기', '계단 올라갔다 내려오기'], ['앉았다 일어서기', '한발 앞으로 내밀고 앉았다 일어서기', '넙다리 스트레칭', '하지 루틴 스트레칭', '상지 루틴 스트레칭', '좌식생활자를 위한 동적 루틴 스트레칭 '], ['자전거타기', '걷기', '계단 올라갔다 내려오기', '앉았다 일어서기', '서서 뒤꿈치 들기'], ['상지 루틴 스트레칭', '하지 루틴 스트레칭', '전신 루틴 스트레칭'], ['윗몸올리기', '누워서 엉덩이 들어올리기', '엎드려 버티기', '서서 상체 일으키기', '앉아서 밀기', '앉아서 당겨 내리기', '앉아서 다리 밀기', '앉아서 다리 펴기', '자전거타기', '걷기'], ['앉아서 당겨 내리기', '앉아서 뒤로 당기기', '앉아서 밀기', '앉아서 모으기', '한발 앞으로 내밀고 앉았다 일어서기', '윗몸올리기', '엎드려 버티기', '누워서 다리 들어올리기', '앉았다 일어서기', '의자에 앉아 다리 뻗어 올리기', '앉아서 엉덩관절 굽히기'], ['줄넘기', '수영', '앉아서 다리 밀기', '앉아서 다리 펴기'], ['짐볼 이용 근력운동 루틴 프로그램', '의자 이용 근력운동 루틴 프로그램', '머신이용 근력운동 루틴프로그램'], ['맨몸운동 루틴프로그램', '팔벌려뛰기', '사다리 옆으로 발 옮기기', '옆으로 펀치하기', '스텝퍼 오르내리기', '무릎 높여 제자리 달리기'], ['달리기', '계단 올라갔다 내려오기', '자전거타기', '걷기'], ['계단 뛰기', '달리기', '줄넘기', '스텝박스 오르내리기 '], ['의자에 한 다리 올리고 앉앗다 일어서기', '한발 앞으로 내밀고 앉았다 일어서기', '허리 굽혀 팔 뒤로 들기', '물병 옆으로 들어올리기', '네발기기 자세로 팔 다리 들기', '누워서 엉덩이 들어올리기'], ['몸통 들어올리기', '소파를 이용한 윗몸올리기', '엎드려 버티기', '옆으로 누워 버티기', '네발기기 자세로 팔 다리 들기', '엎드려서 팔 다리 들기'], ['윗몸올리기', '한발 앞으로 내밀고 앉았다 일어서기', '버피운동', '팔굽혀펴기'], ['덤벨 잡고 앉았다 일어서기', '바벨들어올리기', '앉아서 다리 펴기', '엎드려서 다리 굽히기', '앉아서 다리 밀기', '덤벨 잡고 뒤꿈치 들기', '덤벨 잡고 한발 내밀어 굽혔다 펴기'], ['목 스트레칭', '등/어깨 뒤쪽 스트레칭', '가슴/어깨 앞쪽 스트레칭', '아래 팔 스트레칭', '허리 스트레칭', '배 스트레칭', '옆구리 스트레칭', '엉덩이 스트레칭', '넙다리 스트레칭', '넙다리 스트레칭', '넙다리 스트레칭', '좌식생활자를 위한 동적 루틴 스트레칭 '], ['앉았다 일어서기', '한발 앞으로 내밀고 앉았다 일어서기', '턱걸이', '점프 팔굽혀펴기', '소파를 이용한 윗몸올리기', '엎드려 버티기'], ['계단 올라갔다 내려오기', '계단 뛰기', '수영', '자전거타기', '자전거타기'], ['앉아서 당겨 내리기', '앉아서 뒤로 당기기', '앉아서 밀기', '앉아서 모으기', '한발 앞으로 내밀고 앉았다 일어서기', '윗몸올리기', '엎드려 버티기', '누워서 다리 들어올리기', '앉았다 일어서기', '의자에 앉아 다리 뻗어 올리기', '앉아서 엉덩관절 굽히기'], ['달리기', '무릎 높여 제자리 달리기'], ['앉았다 일어서기', '한발 앞으로 내밀고 앉았다 일어서기', '윗몸올리기', '엎드려 버티기', '옆으로 누워 버티기', '누워서 엉덩이 들어올리기'], ['서서 상체 일으키기', '앉았다 일어서기', '윗몸올리기', '옆으로 누워 버티기', '누워서 엉덩이 들어올리기', '앉아서 팔꿈치 굽히기/펴기', '달리기', '자전거타기', '걷기', '줄넘기', '계단 올라갔다 내려오기', '수영', '스텝퍼 뛰어서 오르내리기', '스텝퍼 뛰어서 넘어가기', '사다리 안팎 뛰기', '앉았다 일어서면서 점프하기', '무릎 높여 제자리 달리기', '버피운동'], ['앉았다 일어서기', '한발 앞으로 내밀고 앉았다 일어서기', '앉아서 다리 펴기', '앉아서 다리 밀기', '누워서 엉덩이 들어올리기', '윗몸올리기', '엎드려 버티기', '옆으로 누워 버티기', '앉아서 밀기', '앉아서 위로 밀기', '탄력밴드 어깨 가쪽 돌림', '뒤로 팔굽혀펴기'], ['앉았다 일어서기', '팔굽혀펴기', '윗몸올리기', '누워서 엉덩이 들어올리기', '네발기기 자세로 팔 다리 들기', '엎드려 버티기', '누워서 수직으로 다리 들어올리기', '누워서 다리 좌우로 움직이기'], ['허리 스트레칭', '배 스트레칭', '엉덩이 스트레칭', '하지 루틴 스트레칭', '좌식생활자를 위한 동적 루틴 스트레칭', '작은 공을 이용한 동적 루틴 스트레칭 '], ['앉아서 다리 밀기', '앉아서 밀기', '바벨들어올리기', '앉았다 일어서기', '앉았다 일어서기', '팔굽혀펴기'], ['탄력밴드 어깨 가쪽 돌림', '서서 탄력밴드 당겨내리기/올리기', '엎드려 버티기', '누워서 다리 들어올리기', '누워서 하늘 자전거', '누워서 엉덩이 들어올리기', '서서 뒤꿈치 들기', '의자 앞에서 앉았다 일어서기', '달리기', '자전거타기', '걷기', '줄넘기', '계단 올라갔다 내려오기', '수영', '스텝퍼 뛰어서 오르내리기', '스텝퍼 뛰어서 넘어가기', '사다리 안팎 뛰기', '앉았다 일어서면서 점프하기', '무릎 높여 제자리 달리기', '버피운동'], ['앉았다 일어서기', '의자 앞에서 앉았다 일어서기', '엎드려 버티기', '누워서 다리 들어올리기', '누워서 하늘 자전거', '누워서 엉덩이 들어올리기'], ['윗몸올리기', '소파를 이용한 윗몸올리기', '엎드려 버티기', '누워서 다리 들어올리기', '누워서 수직으로 다리 들어올리기', '누워서 엉덩이 들어올리기', '엎드려서 팔 다리 들기'], ['달리기', '무릎 높여 제자리 달리기'], ['팔굽혀펴기', '허리 굽혀 팔 뒤로 들기', '앉았다 일어서기', '달리기', '계단 올라갔다 내려오기', '고정한 상태에서 덤벨 들고 팔꿈치 굽히기', '허리 굽혀 덤벨 뒤로 들기'], ['윗몸올리기', '누워서 엉덩이 들어올리기', '엎드려 버티기', '서서 상체 일으키기', '앉아서 밀기', '앉아서 당겨 내리기', '앉아서 다리 밀기', '앉아서 다리 펴기', '자전거타기', '걷기'], ['앉아서 당겨 내리기', '앉아서 뒤로 당기기', '앉아서 밀기', '앉아서 모으기', '한발 앞으로 내밀고 앉았다 일어서기', '윗몸올리기', '엎드려 버티기', '누워서 다리 들어올리기', '앉았다 일어서기', '의자에 앉아 다리 뻗어 올리기', '앉아서 엉덩관절 굽히기'], ['달리기', '무릎 높여 제자리 달리기'], ['서서 상체 일으키기', '윗몸올리기', '소파를 이용한 윗몸올리기', '엎드려 버티기', '누워서 다리 들어올리기', '누워서 팔 다리 동시에 들어올리기', '누워서 수직으로 다리 들어올리기', '누워서 엉덩이 들어올리기', '엎드려서 팔 다리 들기', '앉았다 일어서기', '의자 앞에서 앉았다 일어서기', '한발 앞으로 내밀고 앉았다 일어서기', '의자에 한 다리 올리고 앉앗다 일어서기', '의자에 앉아 다리 뻗어 올리기', '서서 뒤꿈치 들기', '손목 펴기/굽히기', '뒤로 팔굽혀펴기', '허리 굽혀 팔 뒤로 들기', '물병 옆으로 들어올리기', '팔꿈치 굽히기'], ['팔굽혀펴기', '허리 굽혀 팔 뒤로 들기', '앉았다 일어서기', '달리기', '계단 올라갔다 내려오기', '고정한 상태에서 덤벨 들고 팔꿈치 굽히기', '허리 굽혀 덤벨 뒤로 들기'], ['윗몸 말아 올리기', '윗몸올리기', '누워서 다리 들어올리기', '누워서 팔 다리 동시에 들어올리기', '팔굽혀펴기'], ['팔굽혀펴기', '허리 굽혀 팔 뒤로 들기', '앉았다 일어서기', '달리기', '계단 올라갔다 내려오기', '고정한 상태에서 덤벨 들고 팔꿈치 굽히기', '허리 굽혀 덤벨 뒤로 들기'], ['양팔 크게 벌리기', '허리 굽혀 덤벨 들기', '서서 바벨 위로 밀기', '앉았다 일어서기', '한발 앞으로 내밀고 앉았다 일어서기'], ['달리기', '맨몸운동 루틴프로그램'], ['달리기', '무릎 높여 제자리 달리기'], ['달리기', '무릎 높여 제자리 달리기'], ['달리기', '자전거타기', '계단 올라갔다 내려오기', '수영', '서서 다리 뒤로 차기', '누워서 엉덩이 들어올리기', '윗몸올리기', '네발기기 자세로 팔 다리 들기', '몸통 옆으로 굽히기', '엎드려 버티기', '누워서 다리 들어올리기', '엎드려서 팔 다리 들기'], ['몸통 들어올리기', '소파를 이용한 윗몸올리기', '엎드려 버티기', '옆으로 누워 버티기', '네발기기 자세로 팔 다리 들기', '엎드려서 팔 다리 들기'], ['양팔 크게 벌리기', '허리 굽혀 덤벨 들기', '서서 바벨 위로 밀기', '앉았다 일어서기', '한발 앞으로 내밀고 앉았다 일어서기'], ['앉았다 일어서기', '의자 앞에서 앉았다 일어서기', '윗몸올리기', '소파를 이용한 윗몸올리기', '팔굽혀펴기'], ['앉아서 다리 밀기', '앉아서 다리 펴기', '앉아서 다리 굽히기', '앉아서 당겨 내리기', '앉아서 뒤로 당기기', '앉아서 밀기', '앉아서 위로 밀기', '윗몸올리기', '누워서 다리 들어올리기', '몸통 들어올리기'], ['양팔 크게 벌리기', '허리 굽혀 덤벨 들기', '서서 바벨 위로 밀기', '앉았다 일어서기', '한발 앞으로 내밀고 앉았다 일어서기'], ['버피운동', '무릎 높여 제자리 달리기', '앉아서 다리 펴기', '앉아서 다리 굽히기', '앉아서 다리 모으기', '앉아서 다리 벌리기', '고정한 상태에서 덤벨 들고 팔꿈치 굽히기', '앉아서 팔꿈치 굽히기/펴기', '서서 탄력밴드 당겨내리기/올리기', '물병 옆으로 들어올리기'], ['맨몸운동 루틴프로그램', '팔벌려뛰기', '사다리 옆으로 발 옮기기', '옆으로 펀치하기', '스텝퍼 오르내리기', '무릎 높여 제자리 달리기'], ['자전거타기', '수영', '달리기', '앉았다 일어서기', '팔굽혀펴기', '윗몸올리기', '누워서 엉덩이 들어올리기', '엎드려 버티기', '엎드려서 팔 다리 들기'], ['달리기', '자전거타기', '자전거타기', '걷기', '줄넘기', '계단 올라갔다 내려오기', '계단 뛰기', '수영'], ['앉아서 다리 밀기', '앉아서 밀기', '바벨들어올리기', '앉았다 일어서기', '앉았다 일어서기', '팔굽혀펴기'], ['달리기', '자전거타기', '줄넘기', '계단 올라갔다 내려오기'], ['서서 상체 일으키기', '앉았다 일어서기', '윗몸올리기', '옆으로 누워 버티기', '누워서 엉덩이 들어올리기', '앉아서 팔꿈치 굽히기/펴기', '달리기', '자전거타기', '걷기', '줄넘기', '계단 올라갔다 내려오기', '수영', '스텝퍼 뛰어서 오르내리기', '스텝퍼 뛰어서 넘어가기', '사다리 안팎 뛰기', '앉았다 일어서면서 점프하기', '무릎 높여 제자리 달리기', '버피운동'], ['앉았다 일어서기', '윗몸올리기', '엎드려 버티기', '옆으로 누워 버티기', '누워서 다리 들어올리기', '네발기기 자세로 팔 다리 들기', '엎드려서 팔 다리 들기', '팔굽혀펴기', '서서 뒤꿈치 들기'], ['몸통 들어올리기', '소파를 이용한 윗몸올리기', '엎드려 버티기', '옆으로 누워 버티기', '네발기기 자세로 팔 다리 들기', '엎드려서 팔 다리 들기'], ['계단 뛰기', '달리기', '스텝박스', '박스 운동 루틴프로그램', '사다리 운동 루틴프로그램', '콘운동 루틴프로그램', '사이드 스텝 점프하기', '한발로 점프하기'], ['허리 스트레칭', '배 스트레칭', '옆구리 스트레칭', '엉덩이 스트레칭', '넙다리 스트레칭', '넙다리 스트레칭', '넙다리 스트레칭', '좌식생활자를 위한 동적 루틴 스트레칭 '], ['엎드려 버티기', '옆으로 누워 버티기'], ['앉았다 일어서기', '한발 앞으로 내밀고 앉았다 일어서기', '앉아서 다리 펴기', '앉아서 다리 밀기', '누워서 엉덩이 들어올리기', '윗몸올리기', '엎드려 버티기', '옆으로 누워 버티기', '앉아서 밀기', '앉아서 위로 밀기', '탄력밴드 어깨 가쪽 돌림', '뒤로 팔굽혀펴기'], ['달리기', '자전거타기', '고혈압환자_순환식 근력운동 프로그램', '요통을 위한 근력운동'], ['하지 루틴 스트레칭', '전신 루틴 스트레칭'], ['바운딩 운동 루틴프로그램', '박스 운동 루틴프로그램'], ['버피운동', '무릎 높여 제자리 달리기', '앉아서 다리 펴기', '앉아서 다리 굽히기', '앉아서 다리 모으기', '앉아서 다리 벌리기', '고정한 상태에서 덤벨 들고 팔꿈치 굽히기', '앉아서 팔꿈치 굽히기/펴기', '서서 탄력밴드 당겨내리기/올리기', '물병 옆으로 들어올리기'], ['달리기', '자전거타기', '계단 올라갔다 내려오기', '수영', '서서 다리 뒤로 차기', '누워서 엉덩이 들어올리기', '윗몸올리기', '네발기기 자세로 팔 다리 들기', '몸통 옆으로 굽히기', '엎드려 버티기', '누워서 다리 들어올리기', '엎드려서 팔 다리 들기'], ['바벨들어올리기', '원판던지기', '앉았다 일어서기', '한발 앞으로 내밀고 앉았다 일어서기', '바벨 끌어당기기'], ['허리 굽혀 팔 뒤로 들기', '물병 옆으로 들어올리기', '네발기기 자세로 팔 다리 들기', '누워서 엉덩이 들어올리기', '자전거타기', '걷기'], ['바벨 당겨 올리기', '앉아서 덤벨로 손목 굽히기', '플렉스 바 비틀기', '팔굽혀 펴기', '턱걸이', '뒤로 팔굽혀펴기'], ['앉았다 일어서기', '한발 앞으로 내밀고 앉았다 일어서기', '누워서 덤벨 들어올리기', '윗몸올리기', '턱걸이', '바벨 끌어당기기'], ['양팔 크게 벌리기', '허리 굽혀 덤벨 들기', '서서 바벨 위로 밀기', '앉았다 일어서기', '한발 앞으로 내밀고 앉았다 일어서기'], ['달리기', '자전거타기', '자전거타기', '걷기', '줄넘기', '계단 올라갔다 내려오기', '계단 뛰기', '수영'], ['달리기', '자전거타기', '자전거타기', '걷기', '줄넘기', '계단 올라갔다 내려오기', '계단 뛰기', '수영'], ['의자 이용 중심 잡기 루틴 운동', '서서 다리로 탄력밴드 당겨 중심 잡기 루틴 운동', '짐볼 앉아 중심 잡기 루틴 운동', '사다리 이용 루틴 운동', '윗몸올리기', '소파를 이용한 윗몸올리기', '엎드려 버티기', '누워서 다리 들어올리기', '누워서 팔 다리 동시에 들어올리기', '누워서 수직으로 다리 들어올리기', '누워서 엉덩이 들어올리기', '엎드려서 팔 다리 들기'], ['앉아서 다리 밀기', '앉아서 다리 펴기', '앉아서 다리 굽히기', '앉아서 당겨 내리기', '앉아서 뒤로 당기기', '앉아서 밀기', '앉아서 위로 밀기', '윗몸올리기', '누워서 다리 들어올리기', '몸통 들어올리기'], ['달리기', '자전거타기', '계단 올라갔다 내려오기', '수영', '서서 다리 뒤로 차기', '누워서 엉덩이 들어올리기', '윗몸올리기', '네발기기 자세로 팔 다리 들기', '몸통 옆으로 굽히기', '엎드려 버티기', '누워서 다리 들어올리기', '엎드려서 팔 다리 들기'], ['앉아서 다리 밀기', '앉아서 다리 펴기', '앉아서 다리 굽히기', '앉아서 당겨 내리기', '앉아서 뒤로 당기기', '앉아서 밀기', '앉아서 위로 밀기', '윗몸올리기', '누워서 다리 들어올리기', '몸통 들어올리기'], ['윗몸올리기', '누워서 엉덩이 들어올리기', '엎드려 버티기', '서서 상체 일으키기', '앉아서 밀기', '앉아서 당겨 내리기', '앉아서 다리 밀기', '앉아서 다리 펴기', '자전거타기', '걷기'], ['달리기', '무릎 높여 제자리 달리기'], ['엉덩이 스트레칭', '엉덩이 스트레칭', '몸통 앞으로 굽혀 걷기', '한쪽 다리펴고 상체 숙이기', '넙다리 스트레칭', '넙다리 스트레칭'], ['팔벌려뛰기', '버피운동'], ['몸통 들어올리기', '소파를 이용한 윗몸올리기', '엎드려 버티기', '옆으로 누워 버티기', '네발기기 자세로 팔 다리 들기', '엎드려서 팔 다리 들기'], ['앉았다 일어서기', '한발 앞으로 내밀고 앉았다 일어서기', '넙다리 스트레칭', '하지 루틴 스트레칭', '상지 루틴 스트레칭', '좌식생활자를 위한 동적 루틴 스트레칭 '], ['자전거타기', '줄넘기', '계단 올라갔다 내려오기', '수영', '아쿠아로빅', '스텝박스'], ['앉아서 다리 펴기', '앉아서 다리 굽히기', '앉아서 당겨 내리기', '앉아서 밀기'], ['앉았다 일어서기', '의자 앞에서 앉았다 일어서기', '윗몸올리기', '엎드려 버티기', '옆으로 누워 버티기', '누워서 다리 들어올리기', '누워서 엉덩이 들어올리기', '네발기기 자세로 팔 다리 들기', '네발기기 자세에서 손바닥으로 바닥밀기', '팔굽혀펴기'], ['배 스트레칭', '달리기'], ['대퇴이두근 스트레칭', '요통을 위한 스트레칭', '몸통 앞으로 굽혀 걷기', '앉아서 상체 앞 옆으로 기울기', '앉았다 일어서기', '바벨들어올리기', '누워서 가슴 밀기', '서서 바벨 위로 밀기', '앉아서 당겨 내리기', '한발 앞으로 내밀고 앉았다 일어서기', '달리기', '자전거타기', '계단 올라갔다 내려오기', '계단 뛰기', '수영', '버피운동', '목 스트레칭', '전신 루틴 스트레칭'], ['달리기', '자전거타기', '자전거타기', '걷기', '줄넘기', '계단 올라갔다 내려오기', '계단 뛰기', '수영'], ['버피운동', '무릎 높여 제자리 달리기', '앉아서 다리 펴기', '앉아서 다리 굽히기', '앉아서 다리 모으기', '앉아서 다리 벌리기', '고정한 상태에서 덤벨 들고 팔꿈치 굽히기', '앉아서 팔꿈치 굽히기/펴기', '서서 탄력밴드 당겨내리기/올리기', '물병 옆으로 들어올리기'], ['자전거타기', '줄넘기', '계단 올라갔다 내려오기', '수영', '아쿠아로빅', '스텝박스'], ['앉았다 일어서기', '한발 앞으로 내밀고 앉았다 일어서기', '누워서 덤벨 들어올리기', '윗몸올리기', '턱걸이', '바벨 끌어당기기'], ['밴드 잡고 몸통 옆으로 굽히기', '몸통 들어올리기', '팔굽혀 펴기', '바로서서 상체 숙이기', '누워 다리 들어올리기', '의자에 앉아 물병 들고 몸통 돌리기', '네발기기 자세로 팔 다리 들기', '엎드려서 팔 다리 들기'], ['스텝퍼 뛰어서 오르내리기', '스텝퍼 뛰어서 넘어가기', '스텝퍼 옆으로 뛰어넘기', '스텝퍼 올라가서 점프하여 착지하기', '뛰어 내렸다가 바로 점프하기'], ['서서 상체 일으키기', '앉았다 일어서기', '소파를 이용한 윗몸올리기', '엎드려 버티기', '네발기기 자세로 팔 다리 들기', '서서 다리 뒤로 차기'], ['엎드려서 팔 다리 들기', '네발기기 자세로 팔 다리 들기', '누워서 수직으로 다리 들어올리기', '누워서 팔 다리 동시에 들어올리기', '엎드려 버티기', '윗몸올리기', '달리기', '자전거타기', '걷기', '수영'], ['목 스트레칭', '등/어깨 뒤쪽 스트레칭', '가슴/어깨 앞쪽 스트레칭', '아래 팔 스트레칭', '허리 스트레칭', '배 스트레칭', '옆구리 스트레칭', '엉덩이 스트레칭', '넙다리 스트레칭', '넙다리 스트레칭', '넙다리 스트레칭', '좌식생활자를 위한 동적 루틴 스트레칭 '], ['앉아서 다리 밀기', '앉아서 다리 펴기', '앉아서 다리 굽히기', '앉아서 당겨 내리기', '앉아서 뒤로 당기기', '앉아서 밀기', '앉아서 위로 밀기', '윗몸올리기', '누워서 다리 들어올리기', '몸통 들어올리기'], ['앉아서 다리 밀기', '앉아서 다리 펴기', '앉아서 다리 굽히기', '앉아서 당겨 내리기', '앉아서 뒤로 당기기', '앉아서 밀기', '앉아서 위로 밀기', '윗몸올리기', '누워서 다리 들어올리기', '몸통 들어올리기'], ['앉았다 일어서기', '한발 앞으로 내밀고 앉았다 일어서기', '넙다리 스트레칭', '하지 루틴 스트레칭', '상지 루틴 스트레칭', '좌식생활자를 위한 동적 루틴 스트레칭 '], ['버피운동', '무릎 높여 제자리 달리기', '앉아서 다리 펴기', '앉아서 다리 굽히기', '앉아서 다리 모으기', '앉아서 다리 벌리기', '고정한 상태에서 덤벨 들고 팔꿈치 굽히기', '앉아서 팔꿈치 굽히기/펴기', '서서 탄력밴드 당겨내리기/올리기', '물병 옆으로 들어올리기'], ['팔굽혀펴기', '허리 굽혀 팔 뒤로 들기', '앉았다 일어서기', '달리기', '계단 올라갔다 내려오기'], ['계단 올라갔다 내려오기', '계단 뛰기', '수영', '몸 기울이기/회전하기', '몸통 들어올리기', '앉아서 밀기', '누워서 밀기', '비스듬히 누워서 밀기', '파워클린', '서서 어깨 들어올리기', '누워서 덤벨 들어올리기'], ['팔굽혀펴기', '허리 굽혀 팔 뒤로 들기', '앉았다 일어서기', '달리기', '계단 올라갔다 내려오기'], ['앉아서 다리 펴기', '앉아서 다리 굽히기', '앉아서 당겨 내리기', '앉아서 밀기'], ['상지 루틴 스트레칭', '전신 루틴 스트레칭'], ['팔굽혀펴기', '허리 굽혀 팔 뒤로 들기', '앉았다 일어서기', '달리기', '계단 올라갔다 내려오기'], ['달리기', '계단 올라갔다 내려오기', '자전거타기', '걷기', '엉덩이 스트레칭', '넙다리 스트레칭', '넙다리 스트레칭', '넙다리 스트레칭', '배 스트레칭', '허리 스트레칭', '목 스트레칭', '옆구리 스트레칭'], ['자전거타기', '줄넘기', '계단 올라갔다 내려오기', '수영', '아쿠아로빅', '스텝박스', '앉아서 다리 밀기', '앉아서 다리 펴기', '앉아서 다리 모으기', '앉아서 다리 벌리기', '앉아서 당겨 내리기', '앉아서 뒤로 당기기', '앉아서 밀기'], ['자전거타기', '줄넘기', '계단 올라갔다 내려오기', '수영', '아쿠아로빅', '스텝박스'], ['달리기', '무릎 높여 제자리 달리기'], ['버피운동', '무릎 높여 제자리 달리기', '앉아서 다리 펴기', '앉아서 다리 굽히기', '앉아서 다리 모으기', '앉아서 다리 벌리기', '고정한 상태에서 덤벨 들고 팔꿈치 굽히기', '앉아서 팔꿈치 굽히기/펴기', '서서 탄력밴드 당겨내리기/올리기', '물병 옆으로 들어올리기'], ['앉았다 일어서기', '팔굽혀펴기', '윗몸올리기', '누워서 엉덩이 들어올리기', '네발기기 자세로 팔 다리 들기', '엎드려 버티기', '누워서 수직으로 다리 들어올리기', '누워서 다리 좌우로 움직이기'], ['앉았다 일어서기', '한발 앞으로 내밀고 앉았다 일어서기', '앉아서 다리 밀기', '앉아서 다리 펴기', '앉아서 다리 굽히기', '누워서 다리 좌우로 움직이기', '앉아서 다리 모으기', '앉아서 다리 벌리기', '엎드려 버티기', '옆으로 누워 버티기'], ['앉았다 일어서기', '한발 앞으로 내밀고 앉았다 일어서기', '앉았다 일어서기', '윗몸올리기', '엎드려 버티기', '누워서 다리 들어올리기', '누워서 엉덩이 들어올리기', '팔굽혀펴기', '팔벌려뛰기', '버피운동', '줄넘기', '수영'], ['앉아서 다리 밀기', '앉아서 다리 펴기', '앉아서 다리 굽히기', '앉아서 당겨 내리기', '앉아서 뒤로 당기기', '앉아서 밀기', '앉아서 위로 밀기', '윗몸올리기', '누워서 다리 들어올리기', '몸통 들어올리기'], ['앉았다 일어서기', '윗몸올리기', '엎드려 버티기', '옆으로 누워 버티기', '누워서 다리 들어올리기', '네발기기 자세로 팔 다리 들기', '엎드려서 팔 다리 들기', '팔굽혀펴기', '서서 뒤꿈치 들기'], ['서서 상체 일으키기', '앉았다 일어서기', '윗몸올리기', '옆으로 누워 버티기', '누워서 엉덩이 들어올리기', '앉아서 팔꿈치 굽히기/펴기', '달리기', '자전거타기', '걷기', '줄넘기', '계단 올라갔다 내려오기', '수영', '스텝퍼 뛰어서 오르내리기', '스텝퍼 뛰어서 넘어가기', '사다리 안팎 뛰기', '앉았다 일어서면서 점프하기', '무릎 높여 제자리 달리기', '버피운동'], ['앉았다 일어서기', '한발 앞으로 내밀고 앉았다 일어서기', '넙다리 스트레칭', '하지 루틴 스트레칭', '상지 루틴 스트레칭', '좌식생활자를 위한 동적 루틴 스트레칭 '], ['달리기', '무릎 높여 제자리 달리기'], ['자전거타기', '걷기', '계단 올라갔다 내려오기', '수영'], ['달리기', '수영'], ['앉아서 위로 밀기', '턱걸이', '바벨 끌어당기기', '고정한 상태에서 덤벨 들고 팔꿈치 굽히기', '앉아서 다리 밀기', '앉아서 다리 펴기', '앉아서 다리 굽히기', '원판던지기'], ['앉았다 일어서기', '한발 앞으로 내밀고 앉았다 일어서기', '넙다리 스트레칭', '하지 루틴 스트레칭', '상지 루틴 스트레칭', '좌식생활자를 위한 동적 루틴 스트레칭 '], ['맨몸운동 루틴프로그램', '자전거타기', '걷기', '줄넘기', '수영'], ['버피운동', '앉았다 일어서면서 점프하기', '앉았다 일어서기', '한발 앞으로 내밀고 앉았다 일어서기', '팔굽혀펴기', '앉아서 당겨 내리기', '원판던지기', '윗몸 말아 올리기', '네발기기 자세에서 다리 위로 뻗어올리기'], ['윗몸올리기', '누워서 엉덩이 들어올리기', '엎드려 버티기', '서서 상체 일으키기', '앉아서 밀기', '앉아서 당겨 내리기', '앉아서 다리 밀기', '앉아서 다리 펴기', '자전거타기', '걷기'], ['버피운동', '앉았다 일어서면서 점프하기', '앉았다 일어서기', '한발 앞으로 내밀고 앉았다 일어서기', '팔굽혀펴기', '앉아서 당겨 내리기', '원판던지기', '윗몸 말아 올리기', '네발기기 자세에서 다리 위로 뻗어올리기'], ['앉았다 일어서기', '팔굽혀펴기', '윗몸올리기', '누워서 엉덩이 들어올리기', '네발기기 자세로 팔 다리 들기', '엎드려 버티기', '누워서 수직으로 다리 들어올리기', '누워서 다리 좌우로 움직이기'], ['달리기', '무릎 높여 제자리 달리기'], ['앉았다 일어서기', '한발 앞으로 내밀고 앉았다 일어서기', '앉아서 다리 밀기', '앉아서 다리 굽히기', '앉아서 위로 밀기', '서서 바벨 위로 밀기', '탄력밴드 어깨 가쪽 돌림', '서서 탄력밴드 당겨내리기/올리기'], ['앉아서 몸통 움츠리기', '누워서 밀기', '바벨들어올리기', '원판던지기', '파워클린', '앉았다 일어서기', '한발 앞으로 내밀고 앉았다 일어서기', '바벨 끌어당기기', '매달려서 다리 들기', '서서 바벨 위로 밀기', '고정한 상태에서 덤벨 들고 팔꿈치 굽히기', '허리 굽혀 덤벨 뒤로 들기', '손목 펴기/굽히기', '누워서 팔 다리 동시에 들어올리기', '누워서 다리 좌우로 움직이기', '뛰어 내렸다가 바로 점프하기', '사다리 안팎 뛰기', '앉았다 일어서면서 점프하기', '사다리 좌우 뛰기', '사다리 옆으로 발 옮기기', '계단 뛰기'], ['달리기', '자전거타기', '자전거타기', '걷기', '줄넘기', '계단 올라갔다 내려오기', '계단 뛰기', '수영'], ['탄력밴드 어깨 가쪽 돌림', '서서 탄력밴드 당겨내리기/올리기', '엎드려 버티기', '누워서 다리 들어올리기', '누워서 하늘 자전거', '누워서 엉덩이 들어올리기', '서서 뒤꿈치 들기', '의자 앞에서 앉았다 일어서기', '달리기', '자전거타기', '걷기', '줄넘기', '계단 올라갔다 내려오기', '수영', '스텝퍼 뛰어서 오르내리기', '스텝퍼 뛰어서 넘어가기', '사다리 안팎 뛰기', '앉았다 일어서면서 점프하기', '무릎 높여 제자리 달리기', '버피운동'], ['달리기', '자전거타기', '줄넘기', '계단 올라갔다 내려오기'], ['좌식생활자를 위한 동적 루틴 스트레칭', '짐볼을 이용한 동적 루틴 스트레칭', '작은 공을 이용한 동적 루틴 스트레칭', '하지 루틴 스트레칭', '하지 루틴 스트레칭', '상지 루틴 스트레칭'], ['달리기', '자전거타기', '자전거타기', '걷기', '계단 올라갔다 내려오기', '수영'], ['윗몸올리기', '누워서 엉덩이 들어올리기', '엎드려 버티기', '서서 상체 일으키기', '앉아서 밀기', '앉아서 당겨 내리기', '앉아서 다리 밀기', '앉아서 다리 펴기', '자전거타기', '걷기'], ['앉았다 일어서기', '엎드려 버티기', '팔굽혀펴기'], ['앉았다 일어서기', '한발 앞으로 내밀고 앉았다 일어서기', '앉아서 다리 펴기', '앉아서 다리 밀기', '누워서 엉덩이 들어올리기', '윗몸올리기', '엎드려 버티기', '옆으로 누워 버티기', '앉아서 밀기', '앉아서 위로 밀기', '탄력밴드 어깨 가쪽 돌림', '뒤로 팔굽혀펴기'], ['윗몸올리기', '누워서 엉덩이 들어올리기', '엎드려 버티기', '서서 상체 일으키기', '앉아서 밀기', '앉아서 당겨 내리기', '앉아서 다리 밀기', '앉아서 다리 펴기', '자전거타기', '걷기'], ['네발기기 자세로 팔 다리 들기', '서서 다리 뒤로 차기', '엎드려 버티기', '엎드려서 팔 다리 들기', '누워서 엉덩이 들어올리기', '윗몸올리기', '몸통 옆으로 굽히기', '자전거타기', '걷기'], ['서서 상체 일으키기', '앉았다 일어서기', '윗몸올리기', '옆으로 누워 버티기', '누워서 엉덩이 들어올리기', '앉아서 팔꿈치 굽히기/펴기', '달리기', '자전거타기', '걷기', '줄넘기', '계단 올라갔다 내려오기', '수영', '스텝퍼 뛰어서 오르내리기', '스텝퍼 뛰어서 넘어가기', '사다리 안팎 뛰기', '앉았다 일어서면서 점프하기', '무릎 높여 제자리 달리기', '버피운동'], ['버피운동', '앉았다 일어서기', '앉았다 일어서면서 점프하기', '맨몸운동 루틴프로그램', '전완대고 버티기', '팔다리 교차 버티기'], ['몸통 들어올리기', '엎드려서 균형잡기', '윗몸 말아 올리기', '엎드려서 다리 차올리기', '엎드려 버티기', '옆으로 누워 버티기', '누워서 다리 들어올리기', '누워서 다리 좌우로 움직이기', '누워서 하늘 자전거', '누워서 엉덩이 들어올리기', '네발기기 자세로 팔 다리 들기', '엎드려서 팔 다리 들기', '네발기기 자세에서 다리 위로 뻗어올리기', '누워서 배가로근 수축', '누워서 배가로근 수축 '], ['달리기', '수영'], ['윗몸 말아 올리기', '팔굽혀 펴기'], ['손목 펴기/굽히기', '뒤로 팔굽혀펴기', '허리 굽혀 팔 뒤로 들기', '팔꿈치 굽히기', '앉아서 당겨 내리기', '앉아서 뒤로 당기기', '앉아서 밀기', '앉아서 모으기', '바벨들어올리기', '매달려서 뒤로 팔굽혀 펴기', '한발 앞으로 내밀고 앉았다 일어서기', '누워서 덤벨 들어올리기', '서서 상체 일으키기', '윗몸올리기', '엎드려 버티기', '옆으로 누워 버티기', '누워서 다리 들어올리기', '누워서 엉덩이 들어올리기', '팔굽혀펴기', '한발 앞으로 내밀고 앉았다 일어서기'], ['스텝퍼 옆으로 뛰어넘기', '스텝퍼 올라가서 점프하여 착지하기', '앉았다 일어서면서 점프하기', '무릎 높여 제자리 달리기', '스텝퍼 오르내리기', '옆으로 펀치하기'], ['엎드려서 팔 다리 들기', '네발기기 자세로 팔 다리 들기', '누워서 수직으로 다리 들어올리기', '누워서 팔 다리 동시에 들어올리기', '엎드려 버티기', '윗몸올리기', '달리기', '자전거타기', '걷기', '수영'], ['앉았다 일어서기', '엎드려 버티기', '팔굽혀펴기'], ['의자 앞에서 앉았다 일어서기', '엎드려 버티기', '누워서 엉덩이 들어올리기', '네발기기 자세로 팔 다리 들기', '엎드려서 팔 다리 들기', '누워서 배가로근 수축 '], ['양팔 크게 벌리기', '허리 굽혀 덤벨 들기', '서서 바벨 위로 밀기', '앉았다 일어서기', '한발 앞으로 내밀고 앉았다 일어서기'], ['앉았다 일어서기', '한발 앞으로 내밀고 앉았다 일어서기', '넙다리 스트레칭', '하지 루틴 스트레칭', '상지 루틴 스트레칭', '좌식생활자를 위한 동적 루틴 스트레칭 '], ['자전거타기', '걷기', '줄넘기', '계단 올라갔다 내려오기'], ['달리기', '무릎 높여 제자리 달리기'], ['엉덩이 스트레칭', '엉덩이 스트레칭', '몸통 앞으로 굽혀 걷기', '한쪽 다리펴고 상체 숙이기', '넙다리 스트레칭', '넙다리 스트레칭'], ['누워서 팔 밀기', '앉아서 가슴 모으기', '앉아서 양팔 당기기', '앉아서 당겨 내리기', '몸통 옆으로 굽히기', '앉아서 몸통 움츠리기'], ['계단 올라갔다 내려오기', '달리기', '팔굽혀 펴기', '바로서서 상체 숙이기', '앉았다 일어서기'], ['맨몸운동 루틴프로그램', '저항밴드 운동 루틴프로그램', '웨이트 트레이닝 루틴프로그램'], ['버피운동', '앉았다 일어서기', '앉았다 일어서면서 점프하기', '맨몸운동 루틴프로그램', '전완대고 버티기', '팔다리 교차 버티기'], ['몸통 들어올리기', '소파를 이용한 윗몸올리기', '엎드려 버티기', '옆으로 누워 버티기', '네발기기 자세로 팔 다리 들기', '엎드려서 팔 다리 들기'], ['탄력밴드 어깨 가쪽 돌림', '서서 탄력밴드 당겨내리기/올리기', '엎드려 버티기', '누워서 다리 들어올리기', '누워서 하늘 자전거', '누워서 엉덩이 들어올리기', '서서 뒤꿈치 들기', '의자 앞에서 앉았다 일어서기', '달리기', '자전거타기', '걷기', '줄넘기', '계단 올라갔다 내려오기', '수영', '스텝퍼 뛰어서 오르내리기', '스텝퍼 뛰어서 넘어가기', '사다리 안팎 뛰기', '앉았다 일어서면서 점프하기', '무릎 높여 제자리 달리기', '버피운동'], ['앉았다 일어서기', '한발 앞으로 내밀고 앉았다 일어서기', '윗몸올리기', '엎드려 버티기', '옆으로 누워 버티기', '누워서 엉덩이 들어올리기'], ['계단 올라갔다 내려오기', '계단 뛰기', '수영', '자전거타기', '자전거타기'], ['앉았다 일어서기', '한발 앞으로 내밀고 앉았다 일어서기', '넙다리 스트레칭', '하지 루틴 스트레칭', '상지 루틴 스트레칭', '좌식생활자를 위한 동적 루틴 스트레칭 '], ['달리기', '자전거타기', '자전거타기', '걷기', '줄넘기', '계단 올라갔다 내려오기', '계단 뛰기', '수영'], ['앉았다 일어서기', '앞굽이 앉았다 일어서기', '연속 사이드 스쿼드', '팔굽혀 펴기', '뒤로 팔굽혀펴기', '서서 상체 일으키기', '윗몸올리기', '누워서 다리 들어올리기', '누워서 엉덩이 들어올리기'], ['누워서 팔 밀기', '앉아서 가슴 모으기', '앉아서 양팔 당기기', '앉아서 당겨 내리기', '몸통 옆으로 굽히기', '앉아서 몸통 움츠리기'], ['몸통 들어올리기', '소파를 이용한 윗몸올리기', '엎드려 버티기', '옆으로 누워 버티기', '네발기기 자세로 팔 다리 들기', '엎드려서 팔 다리 들기'], ['대퇴이두근 스트레칭', '요통을 위한 스트레칭', '몸통 앞으로 굽혀 걷기', '앉아서 상체 앞 옆으로 기울기', '앉았다 일어서기', '바벨들어올리기', '누워서 가슴 밀기', '서서 바벨 위로 밀기', '앉아서 당겨 내리기', '한발 앞으로 내밀고 앉았다 일어서기', '달리기', '자전거타기', '계단 올라갔다 내려오기', '계단 뛰기', '수영', '버피운동', '목 스트레칭', '전신 루틴 스트레칭'], ['윗몸올리기', '한발 앞으로 내밀고 앉았다 일어서기', '버피운동', '팔굽혀펴기'], ['윗몸올리기', '누워서 엉덩이 들어올리기', '엎드려 버티기', '서서 상체 일으키기', '앉아서 밀기', '앉아서 당겨 내리기', '앉아서 다리 밀기', '앉아서 다리 펴기', '자전거타기', '걷기'], ['자전거타기', '수영', '달리기', '앉았다 일어서기', '팔굽혀펴기', '윗몸올리기', '누워서 엉덩이 들어올리기', '엎드려 버티기', '엎드려서 팔 다리 들기'], ['몸통 들어올리기', '앉아서 밀기', '누워서 밀기', '비스듬히 누워서 밀기', '파워클린', '서서 어깨 들어올리기', '누워서 덤벨 들어올리기', '좌식생활자를 위한 동적 루틴 스트레칭', '짐볼을 이용한 동적 루틴 스트레칭', '작은 공을 이용한 동적 루틴 스트레칭', '하지 루틴 스트레칭', '하지 루틴 스트레칭', '상지 루틴 스트레칭'], ['달리기', '무릎 높여 제자리 달리기'], ['엉덩이 스트레칭', '엉덩이 스트레칭', '몸통 앞으로 굽혀 걷기', '한쪽 다리펴고 상체 숙이기', '넙다리 스트레칭', '넙다리 스트레칭'], ['팔굽혀펴기', '허리 굽혀 팔 뒤로 들기', '앉았다 일어서기', '달리기', '계단 올라갔다 내려오기'], ['달리기', '무릎 높여 제자리 달리기'], ['버피운동', '앉았다 일어서기', '앉았다 일어서면서 점프하기', '맨몸운동 루틴프로그램', '전완대고 버티기', '팔다리 교차 버티기'], ['윗몸올리기', '누워서 엉덩이 들어올리기', '엎드려 버티기', '서서 상체 일으키기', '앉아서 밀기', '앉아서 당겨 내리기', '앉아서 다리 밀기', '앉아서 다리 펴기', '자전거타기', '걷기'], ['팔굽혀펴기', '허리 굽혀 팔 뒤로 들기', '앉았다 일어서기', '달리기', '계단 올라갔다 내려오기'], ['네발기기 자세로 팔 다리 들기', '서서 다리 뒤로 차기', '엎드려 버티기', '엎드려서 팔 다리 들기', '누워서 엉덩이 들어올리기', '윗몸올리기', '몸통 옆으로 굽히기', '자전거타기', '걷기'], ['몸통 들어올리기', '앉아서 밀기', '누워서 밀기', '비스듬히 누워서 밀기', '파워클린', '서서 어깨 들어올리기', '누워서 덤벨 들어올리기'], ['달리기', '자전거타기', '줄넘기', '계단 올라갔다 내려오기'], ['앉았다 일어서기', '한발 앞으로 내밀고 앉았다 일어서기', '윗몸올리기', '엎드려 버티기', '옆으로 누워 버티기', '누워서 엉덩이 들어올리기'], ['걷기', '줄넘기', '계단 올라갔다 내려오기', '계단 뛰기', '수영'], ['자전거타기', '걷기', '계단 올라갔다 내려오기', '앉았다 일어서기', '서서 뒤꿈치 들기'], ['달리기', '수영', '자전거타기', '자전거타기'], ['자전거타기', '물누르기/올리기'], ['앉았다 일어서기', '한발 앞으로 내밀고 앉았다 일어서기', '앉았다 일어서기', '윗몸올리기', '엎드려 버티기', '누워서 다리 들어올리기', '누워서 엉덩이 들어올리기', '팔굽혀펴기', '팔벌려뛰기', '버피운동', '줄넘기', '수영'], ['허리 스트레칭', '배 스트레칭', '엉덩이 스트레칭', '하지 루틴 스트레칭', '좌식생활자를 위한 동적 루틴 스트레칭', '작은 공을 이용한 동적 루틴 스트레칭 '], ['서서 상체 일으키기', '윗몸올리기', '소파를 이용한 윗몸올리기', '엎드려 버티기', '누워서 다리 들어올리기', '누워서 팔 다리 동시에 들어올리기', '누워서 수직으로 다리 들어올리기', '누워서 엉덩이 들어올리기', '엎드려서 팔 다리 들기', '앉았다 일어서기', '의자 앞에서 앉았다 일어서기', '한발 앞으로 내밀고 앉았다 일어서기', '의자에 한 다리 올리고 앉앗다 일어서기', '의자에 앉아 다리 뻗어 올리기', '서서 뒤꿈치 들기', '손목 펴기/굽히기', '뒤로 팔굽혀펴기', '허리 굽혀 팔 뒤로 들기', '물병 옆으로 들어올리기', '팔꿈치 굽히기'], ['의자이용 유연성운동 루틴 프로그램', '정적 스트레칭 루틴프로그램', '동적 스트레칭 루틴프로그램'], ['네발기기 자세로 팔 다리 들기', '서서 다리 뒤로 차기', '엎드려 버티기', '엎드려서 팔 다리 들기', '누워서 엉덩이 들어올리기', '윗몸올리기', '몸통 옆으로 굽히기', '자전거타기', '걷기'], ['앉았다 일어서기', '윗몸올리기', '엎드려 버티기', '옆으로 누워 버티기', '누워서 다리 들어올리기', '네발기기 자세로 팔 다리 들기', '엎드려서 팔 다리 들기', '팔굽혀펴기', '서서 뒤꿈치 들기'], ['허리 스트레칭', '배 스트레칭', '엉덩이 스트레칭', '하지 루틴 스트레칭', '좌식생활자를 위한 동적 루틴 스트레칭', '작은 공을 이용한 동적 루틴 스트레칭 '], ['윗몸올리기', '누워서 엉덩이 들어올리기', '엎드려 버티기', '서서 상체 일으키기', '앉아서 밀기', '앉아서 당겨 내리기', '앉아서 다리 밀기', '앉아서 다리 펴기', '자전거타기', '걷기'], ['전신 루틴 스트레칭', '유산소 운동 전 동적 루틴 스트레칭', '좌식생활자를 위한 동적 루틴 스트레칭', '짐볼을 이용한 동적 루틴 스트레칭'], ['버피운동', '앉았다 일어서면서 점프하기', '앉았다 일어서기', '한발 앞으로 내밀고 앉았다 일어서기', '팔굽혀펴기', '앉아서 당겨 내리기', '원판던지기', '윗몸 말아 올리기', '네발기기 자세에서 다리 위로 뻗어올리기'], ['줄넘기', '계단 올라갔다 내려오기'], ['윗몸올리기', '누워서 엉덩이 들어올리기', '엎드려 버티기', '서서 상체 일으키기', '앉아서 밀기', '앉아서 당겨 내리기', '앉아서 다리 밀기', '앉아서 다리 펴기', '자전거타기', '걷기'], ['달리기', '무릎 높여 제자리 달리기'], ['앉아서 다리 펴기', '앉아서 다리 굽히기', '앉아서 당겨 내리기', '앉아서 밀기'], ['엉덩이 스트레칭', '엉덩이 스트레칭', '몸통 앞으로 굽혀 걷기', '한쪽 다리펴고 상체 숙이기', '넙다리 스트레칭', '넙다리 스트레칭'], ['달리기', '무릎 높여 제자리 달리기'], ['앉았다 일어서기', '윗몸올리기', '엎드려 버티기', '옆으로 누워 버티기', '누워서 다리 들어올리기', '네발기기 자세로 팔 다리 들기', '엎드려서 팔 다리 들기', '팔굽혀펴기', '서서 뒤꿈치 들기'], ['허리 스트레칭', '배 스트레칭', '엉덩이 스트레칭', '하지 루틴 스트레칭', '앉아서 다리 밀기', '앉아서 다리 펴기', '앉아서 다리 모으기', '앉아서 다리 벌리기', '앉아서 당겨 내리기', '앉아서 뒤로 당기기', '앉아서 밀기', '자전거타기', '줄넘기', '계단 올라갔다 내려오기', '수영', '아쿠아로빅', '스텝박스'], ['달리기', '자전거타기', '줄넘기', '계단 올라갔다 내려오기', '계단 뛰기', '수영', '팔벌려뛰기', '버피운동'], ['달리기', '무릎 높여 제자리 달리기'], ['자전거타기', '걷기', '계단 올라갔다 내려오기', '앉았다 일어서기', '서서 뒤꿈치 들기'], ['계단 뛰기', '달리기', '스텝박스', '박스 운동 루틴프로그램', '사다리 운동 루틴프로그램', '콘운동 루틴프로그램', '사이드 스텝 점프하기', '한발로 점프하기'], ['네발기기 자세로 팔 다리 들기', '서서 다리 뒤로 차기', '엎드려 버티기', '엎드려서 팔 다리 들기', '누워서 엉덩이 들어올리기', '윗몸올리기', '몸통 옆으로 굽히기', '자전거타기', '걷기'], ['하지 루틴 스트레칭', '하지 루틴 스트레칭', '수영', '달리기', '자전거타기', '스텝박스'], ['앉아서 다리 펴기', '앉아서 다리 굽히기', '앉아서 당겨 내리기', '앉아서 밀기'], ['윗몸올리기', '누워서 엉덩이 들어올리기', '엎드려 버티기', '서서 상체 일으키기', '앉아서 밀기', '앉아서 당겨 내리기', '앉아서 다리 밀기', '앉아서 다리 펴기', '자전거타기', '걷기'], ['팔굽혀펴기', '허리 굽혀 팔 뒤로 들기', '앉았다 일어서기', '달리기', '계단 올라갔다 내려오기'], ['달리기', '계단 올라갔다 내려오기', '자전거타기', '걷기'], ['맨몸운동 루틴프로그램', '저항밴드 운동 루틴프로그램', '웨이트 트레이닝 루틴프로그램'], ['엎드려 버티기', '옆으로 누워 버티기'], ['앉았다 일어서기', '서서 뒤꿈치 들기', '자전거타기', '줄넘기', '계단 올라갔다 내려오기'], ['자전거타기', '줄넘기', '계단 올라갔다 내려오기', '수영', '아쿠아로빅', '스텝박스'], ['바운딩 운동 루틴프로그램', '박스 운동 루틴프로그램'], ['달리기', '수영', '자전거타기', '자전거타기'], ['서서 상체 일으키기', '앉았다 일어서기', '소파를 이용한 윗몸올리기', '엎드려 버티기', '네발기기 자세로 팔 다리 들기', '서서 다리 뒤로 차기'], ['달리기', '수영', '자전거타기', '자전거타기'], ['달리기', '무릎 높여 제자리 달리기'], ['달리기', '자전거타기', '계단 올라갔다 내려오기', '수영', '목 스트레칭', '등/어깨 뒤쪽 스트레칭', '가슴/어깨 앞쪽 스트레칭', '아래 팔 스트레칭', '허리 스트레칭', '배 스트레칭', '옆구리 스트레칭', '엉덩이 스트레칭', '넙다리 스트레칭', '넙다리 스트레칭', '넙다리 스트레칭'], ['몸통 들어올리기', '소파를 이용한 윗몸올리기', '엎드려 버티기', '옆으로 누워 버티기', '네발기기 자세로 팔 다리 들기', '엎드려서 팔 다리 들기'], ['대퇴이두근 스트레칭', '요통을 위한 스트레칭', '몸통 앞으로 굽혀 걷기', '앉아서 상체 앞 옆으로 기울기', '앉았다 일어서기', '바벨들어올리기', '누워서 가슴 밀기', '서서 바벨 위로 밀기', '앉아서 당겨 내리기', '한발 앞으로 내밀고 앉았다 일어서기', '달리기', '자전거타기', '계단 올라갔다 내려오기', '계단 뛰기', '수영', '버피운동', '목 스트레칭', '전신 루틴 스트레칭'], ['자전거타기', '걷기', '계단 올라갔다 내려오기', '수영'], ['윗몸올리기', '엎드려 버티기', '누워서 다리 들어올리기', '팔굽혀펴기', '누워서 엉덩이 들어올리기', '엎드려서 팔 다리 들기', '물병 옆으로 들어올리기', '팔꿈치 굽히기', '앉았다 일어서기', '의자 앞에서 앉았다 일어서기', '한발 앞으로 내밀고 앉았다 일어서기'], ['맨몸운동 루틴프로그램', '저항밴드 운동 루틴프로그램', '웨이트 트레이닝 루틴프로그램'], ['맨몸운동 루틴프로그램', '자전거타기', '걷기', '줄넘기', '수영'], ['달리기', '자전거타기', '자전거타기', '걷기', '줄넘기', '계단 올라갔다 내려오기', '계단 뛰기', '수영'], ['윗몸올리기', '누워서 엉덩이 들어올리기', '엎드려 버티기', '서서 상체 일으키기', '앉아서 밀기', '앉아서 당겨 내리기', '앉아서 다리 밀기', '앉아서 다리 펴기', '자전거타기', '걷기'], ['걷기', '달리기', '계단 올라갔다 내려오기', '자전거타기'], ['윗몸올리기', '누워서 엉덩이 들어올리기', '엎드려 버티기', '서서 상체 일으키기', '앉아서 밀기', '앉아서 당겨 내리기', '앉아서 다리 밀기', '앉아서 다리 펴기', '자전거타기', '걷기'], ['계단 올라갔다 내려오기', '달리기', '팔굽혀 펴기', '바로서서 상체 숙이기', '앉았다 일어서기'], ['맨몸운동 루틴프로그램', '자전거타기', '걷기', '줄넘기', '수영'], ['맨몸운동 루틴프로그램', '팔벌려뛰기', '사다리 옆으로 발 옮기기', '옆으로 펀치하기', '스텝퍼 오르내리기', '무릎 높여 제자리 달리기'], ['앉았다 일어서기', '팔굽혀펴기', '엎드려 버티기', '서서 상체 일으키기'], ['팔벌려뛰기', '버피운동', '점프 팔굽혀펴기', '뛰어 내렸다가 바로 점프하기', '앉았다 일어서면서 점프하기', '무릎 높여 제자리 달리기', '계단 뛰기', '계단 뛰기'], ['달리기', '무릎 높여 제자리 달리기'], ['앉았다 일어서기', '한발 앞으로 내밀고 앉았다 일어서기', '앉아서 다리 밀기', '앉아서 다리 굽히기', '앉아서 위로 밀기', '서서 바벨 위로 밀기', '탄력밴드 어깨 가쪽 돌림', '서서 탄력밴드 당겨내리기/올리기'], ['스텝퍼 옆으로 뛰어넘기', '스텝퍼 올라가서 점프하여 착지하기', '뛰어 내렸다가 바로 점프하기', '사다리 안팎 뛰기', '앉았다 일어서면서 점프하기', '무릎 높여 제자리 달리기', '파워클린', '팔굽혀펴기'], ['윗몸올리기', '엎드려 버티기', '누워서 다리 들어올리기', '팔굽혀펴기', '누워서 엉덩이 들어올리기', '엎드려서 팔 다리 들기', '물병 옆으로 들어올리기', '팔꿈치 굽히기', '앉았다 일어서기', '의자 앞에서 앉았다 일어서기', '한발 앞으로 내밀고 앉았다 일어서기'], ['자전거타기', '계단 올라갔다 내려오기', '수영', '앉았다 일어서기', '한발 앞으로 내밀고 앉았다 일어서기', '윗몸올리기', '엎드려 버티기', '옆으로 누워 버티기', '누워서 엉덩이 들어올리기'], ['앉았다 일어서기', '의자 앞에서 앉았다 일어서기', '윗몸올리기', '엎드려 버티기', '옆으로 누워 버티기', '누워서 다리 들어올리기', '누워서 엉덩이 들어올리기', '네발기기 자세로 팔 다리 들기', '네발기기 자세에서 손바닥으로 바닥밀기', '팔굽혀펴기'], ['계단 뛰기', '달리기', '줄넘기', '스텝박스 오르내리기 '], ['계단 올라갔다 내려오기', '달리기', '팔굽혀 펴기', '바로서서 상체 숙이기', '앉았다 일어서기'], ['달리기', '자전거타기', '줄넘기', '계단 올라갔다 내려오기'], ['윗몸올리기', '누워서 엉덩이 들어올리기', '엎드려 버티기', '서서 상체 일으키기', '앉아서 밀기', '앉아서 당겨 내리기', '앉아서 다리 밀기', '앉아서 다리 펴기', '자전거타기', '걷기'], ['달리기', '계단 올라갔다 내려오기'], ['맨몸운동 루틴프로그램', '팔벌려뛰기', '사다리 옆으로 발 옮기기', '옆으로 펀치하기', '스텝퍼 오르내리기', '무릎 높여 제자리 달리기'], ['대퇴이두근 스트레칭', '요통을 위한 스트레칭', '몸통 앞으로 굽혀 걷기', '앉아서 상체 앞 옆으로 기울기', '앉았다 일어서기', '바벨들어올리기', '누워서 가슴 밀기', '서서 바벨 위로 밀기', '앉아서 당겨 내리기', '한발 앞으로 내밀고 앉았다 일어서기', '달리기', '자전거타기', '계단 올라갔다 내려오기', '계단 뛰기', '수영', '버피운동', '목 스트레칭', '전신 루틴 스트레칭'], ['대퇴이두근 스트레칭', '요통을 위한 스트레칭', '몸통 앞으로 굽혀 걷기', '앉아서 상체 앞 옆으로 기울기', '앉았다 일어서기', '바벨들어올리기', '누워서 가슴 밀기', '서서 바벨 위로 밀기', '앉아서 당겨 내리기', '한발 앞으로 내밀고 앉았다 일어서기', '달리기', '자전거타기', '계단 올라갔다 내려오기', '계단 뛰기', '수영', '버피운동', '목 스트레칭', '전신 루틴 스트레칭'], ['바로서서 상체 숙이기', '손목 펴기/굽히기', '물병 옆으로 들어올리기', '목 굽힘/ 폄', '팔굽혀 펴기', '엉덩이 스트레칭', '넙다리 스트레칭', '합장하여 앞으로 숙이기'], ['몸통 들어올리기', '소파를 이용한 윗몸올리기', '엎드려 버티기', '옆으로 누워 버티기', '네발기기 자세로 팔 다리 들기', '엎드려서 팔 다리 들기'], ['윗몸올리기', '누워서 엉덩이 들어올리기', '엎드려 버티기', '서서 상체 일으키기', '앉아서 밀기', '앉아서 당겨 내리기', '앉아서 다리 밀기', '앉아서 다리 펴기', '자전거타기', '걷기'], ['앉았다 일어서기', '턱걸이', '매달려서 다리 들기', '엎드려서 균형잡기', '서서 균형잡으며 몸통 회전하기', '엎드려 버티기', '옆으로 누워 버티기', '누워서 다리 들어올리기', '누워서 팔 다리 동시에 들어올리기', '팔굽혀펴기', '뒤로 팔굽혀펴기', '의자에 한 다리 올리고 앉앗다 일어서기', '팔벌려뛰기', '버피운동'], ['달리기', '계단 올라갔다 내려오기', '자전거타기', '걷기'], ['앉았다 일어서기', '한발 앞으로 내밀고 앉았다 일어서기', '넙다리 스트레칭', '하지 루틴 스트레칭', '상지 루틴 스트레칭', '좌식생활자를 위한 동적 루틴 스트레칭 '], ['앉아서 다리 밀기', '앉아서 다리 펴기', '앉아서 다리 모으기', '앉아서 당겨 내리기', '앉아서 뒤로 당기기', '몸통 들어올리기', '앉아서 밀기', '앉아서 위로 밀기', '앉았다 일어서기', '몸통 옆으로 굽히기'], ['양팔 크게 벌리기', '허리 굽혀 덤벨 들기', '서서 바벨 위로 밀기', '앉았다 일어서기', '한발 앞으로 내밀고 앉았다 일어서기'], ['누워서 다리 들어올리기', '팔꿈치 굽히기', '서서 다리로 탄력밴드 당기기', '누워서 엉덩이 들어올리기', '팔굽혀펴기', '윗몸올리기', '한발 앞으로 내밀고 앉았다 일어서기', '서서 뒤꿈치 들기', '엎드려서 팔 다리 들기', '허리 굽혀 팔 뒤로 들기', '앉았다 일어서기', '물병 옆으로 들어올리기', '자전거타기', '걷기', '계단 올라갔다 내려오기', '수영'], ['계단 올라갔다 내려오기', '달리기', '팔굽혀 펴기', '바로서서 상체 숙이기', '앉았다 일어서기'], ['앉았다 일어서기', '한발 앞으로 내밀고 앉았다 일어서기', '턱걸이', '점프 팔굽혀펴기', '소파를 이용한 윗몸올리기', '엎드려 버티기'], ['자전거타기', '걷기', '계단 올라갔다 내려오기', '앉았다 일어서기', '서서 뒤꿈치 들기'], ['자전거타기', '걷기', '계단 올라갔다 내려오기', '앉았다 일어서기', '서서 뒤꿈치 들기'], ['몸통 들어올리기', '앉아서 밀기', '누워서 밀기', '비스듬히 누워서 밀기', '파워클린', '서서 어깨 들어올리기', '누워서 덤벨 들어올리기'], ['대퇴이두근 스트레칭', '요통을 위한 스트레칭', '몸통 앞으로 굽혀 걷기', '앉아서 상체 앞 옆으로 기울기', '앉았다 일어서기', '바벨들어올리기', '누워서 가슴 밀기', '서서 바벨 위로 밀기', '앉아서 당겨 내리기', '한발 앞으로 내밀고 앉았다 일어서기', '달리기', '자전거타기', '계단 올라갔다 내려오기', '계단 뛰기', '수영', '버피운동', '목 스트레칭', '전신 루틴 스트레칭'], ['스텝퍼 뛰어서 오르내리기', '스텝퍼 뛰어서 넘어가기', '스텝퍼 옆으로 뛰어넘기', '스텝퍼 올라가서 점프하여 착지하기', '뛰어 내렸다가 바로 점프하기'], ['누워서 다리 들어올리기', '팔꿈치 굽히기', '서서 다리로 탄력밴드 당기기', '누워서 엉덩이 들어올리기', '팔굽혀펴기', '윗몸올리기', '한발 앞으로 내밀고 앉았다 일어서기', '서서 뒤꿈치 들기', '엎드려서 팔 다리 들기', '허리 굽혀 팔 뒤로 들기', '앉았다 일어서기', '물병 옆으로 들어올리기', '자전거타기', '걷기', '계단 올라갔다 내려오기', '수영'], ['윗몸올리기', '누워서 엉덩이 들어올리기', '엎드려 버티기', '서서 상체 일으키기', '앉아서 밀기', '앉아서 당겨 내리기', '앉아서 다리 밀기', '앉아서 다리 펴기', '자전거타기', '걷기'], ['서서 상체 일으키기', '앉았다 일어서기', '윗몸올리기', '옆으로 누워 버티기', '누워서 엉덩이 들어올리기', '앉아서 팔꿈치 굽히기/펴기', '달리기', '자전거타기', '걷기', '줄넘기', '계단 올라갔다 내려오기', '수영', '스텝퍼 뛰어서 오르내리기', '스텝퍼 뛰어서 넘어가기', '사다리 안팎 뛰기', '앉았다 일어서면서 점프하기', '무릎 높여 제자리 달리기', '버피운동'], ['앉았다 일어서기', '한발 앞으로 내밀고 앉았다 일어서기', '턱걸이', '점프 팔굽혀펴기', '소파를 이용한 윗몸올리기', '엎드려 버티기'], ['맨몸운동 루틴프로그램', '팔벌려뛰기', '사다리 옆으로 발 옮기기', '옆으로 펀치하기', '스텝퍼 오르내리기', '무릎 높여 제자리 달리기'], ['윗몸올리기', '누워서 엉덩이 들어올리기', '엎드려 버티기', '서서 상체 일으키기', '앉아서 밀기', '앉아서 당겨 내리기', '앉아서 다리 밀기', '앉아서 다리 펴기', '자전거타기', '걷기'], ['달리기', '무릎 높여 제자리 달리기'], ['달리기', '무릎 높여 제자리 달리기'], ['자전거타기', '걷기', '계단 올라갔다 내려오기', '수영'], ['맨몸운동 루틴프로그램', '자전거타기', '걷기', '줄넘기', '수영'], ['앉아서 다리 밀기', '앉아서 다리 펴기', '앉아서 다리 모으기', '앉아서 당겨 내리기', '앉아서 뒤로 당기기', '몸통 들어올리기', '앉아서 밀기', '앉아서 위로 밀기', '앉았다 일어서기', '몸통 옆으로 굽히기'], ['윗몸 말아 올리기', '윗몸올리기', '누워서 다리 들어올리기', '누워서 팔 다리 동시에 들어올리기', '팔굽혀펴기'], ['앉았다 일어서기', '원판던지기', '한발 앞으로 내밀고 앉았다 일어서기', '몸통 들어올리기', '바벨들어올리기', '윗몸올리기', '엎드려 버티기', '옆으로 누워 버티기'], ['달리기', '무릎 높여 제자리 달리기'], ['앉았다 일어서기', '한발 앞으로 내밀고 앉았다 일어서기', '넙다리 스트레칭', '하지 루틴 스트레칭', '상지 루틴 스트레칭', '좌식생활자를 위한 동적 루틴 스트레칭 '], ['몸통 들어올리기', '소파를 이용한 윗몸올리기', '엎드려 버티기', '옆으로 누워 버티기', '네발기기 자세로 팔 다리 들기', '엎드려서 팔 다리 들기'], ['누워서 다리 들어올리기', '팔꿈치 굽히기', '서서 다리로 탄력밴드 당기기', '누워서 엉덩이 들어올리기', '팔굽혀펴기', '윗몸올리기', '한발 앞으로 내밀고 앉았다 일어서기', '서서 뒤꿈치 들기', '엎드려서 팔 다리 들기', '허리 굽혀 팔 뒤로 들기', '앉았다 일어서기', '물병 옆으로 들어올리기', '자전거타기', '걷기', '계단 올라갔다 내려오기', '수영'], ['자전거타기', '물누르기/올리기'], ['맨몸운동 루틴프로그램', '팔벌려뛰기', '사다리 옆으로 발 옮기기', '옆으로 펀치하기', '스텝퍼 오르내리기', '무릎 높여 제자리 달리기'], ['대퇴이두근 스트레칭', '요통을 위한 스트레칭', '몸통 앞으로 굽혀 걷기', '앉아서 상체 앞 옆으로 기울기', '앉았다 일어서기', '바벨들어올리기', '누워서 가슴 밀기', '서서 바벨 위로 밀기', '앉아서 당겨 내리기', '한발 앞으로 내밀고 앉았다 일어서기', '달리기', '자전거타기', '계단 올라갔다 내려오기', '계단 뛰기', '수영', '버피운동', '목 스트레칭', '전신 루틴 스트레칭'], ['계단 올라갔다 내려오기', '계단 뛰기', '수영', '자전거타기', '자전거타기'], ['앉았다 일어서기', '팔굽혀펴기', '윗몸올리기', '누워서 엉덩이 들어올리기', '네발기기 자세로 팔 다리 들기', '엎드려 버티기', '누워서 수직으로 다리 들어올리기', '누워서 다리 좌우로 움직이기'], ['허리 스트레칭', '배 스트레칭', '엉덩이 스트레칭', '하지 루틴 스트레칭', '앉아서 다리 밀기', '앉아서 다리 펴기', '앉아서 다리 모으기', '앉아서 다리 벌리기', '앉아서 당겨 내리기', '앉아서 뒤로 당기기', '앉아서 밀기', '자전거타기', '계단 올라갔다 내려오기', '수영', '아쿠아로빅', '스텝박스'], ['허리 스트레칭', '유산소 운동 전 동적 루틴 스트레칭', '좌식생활자를 위한 동적 루틴 스트레칭', '엎드려 버티기', '옆으로 누워 버티기'], ['바로서서 상체 숙이기', '손목 펴기/굽히기', '물병 옆으로 들어올리기', '목 굽힘/ 폄', '팔굽혀 펴기', '엉덩이 스트레칭', '넙다리 스트레칭', '합장하여 앞으로 숙이기'], ['팔굽혀펴기', '허리 굽혀 팔 뒤로 들기', '앉았다 일어서기', '달리기', '계단 올라갔다 내려오기', '고정한 상태에서 덤벨 들고 팔꿈치 굽히기', '허리 굽혀 덤벨 뒤로 들기'], ['윗몸올리기', '누워서 엉덩이 들어올리기', '엎드려 버티기', '서서 상체 일으키기', '앉아서 밀기', '앉아서 당겨 내리기', '앉아서 다리 밀기', '앉아서 다리 펴기', '자전거타기', '걷기'], ['앉았다 일어서기', '서서 뒤꿈치 들기', '자전거타기', '줄넘기', '계단 올라갔다 내려오기'], ['서서 상체 일으키기', '앉았다 일어서기', '윗몸올리기', '옆으로 누워 버티기', '누워서 엉덩이 들어올리기', '앉아서 팔꿈치 굽히기/펴기', '달리기', '자전거타기', '걷기', '줄넘기', '계단 올라갔다 내려오기', '수영', '스텝퍼 뛰어서 오르내리기', '스텝퍼 뛰어서 넘어가기', '사다리 안팎 뛰기', '앉았다 일어서면서 점프하기', '무릎 높여 제자리 달리기', '버피운동'], ['달리기', '계단 올라갔다 내려오기'], ['달리기', '맨몸운동 루틴프로그램'], ['버피운동', '무릎 높여 제자리 달리기', '앉아서 다리 펴기', '앉아서 다리 굽히기', '앉아서 다리 모으기', '앉아서 다리 벌리기', '고정한 상태에서 덤벨 들고 팔꿈치 굽히기', '앉아서 팔꿈치 굽히기/펴기', '서서 탄력밴드 당겨내리기/올리기', '물병 옆으로 들어올리기'], ['양팔 크게 벌리기', '허리 굽혀 덤벨 들기', '서서 바벨 위로 밀기', '앉았다 일어서기', '한발 앞으로 내밀고 앉았다 일어서기'], ['앉았다 일어서기', '한발 앞으로 내밀고 앉았다 일어서기', '넙다리 스트레칭', '하지 루틴 스트레칭', '상지 루틴 스트레칭', '좌식생활자를 위한 동적 루틴 스트레칭 '], ['달리기', '자전거타기', '줄넘기', '계단 올라갔다 내려오기'], ['앉았다 일어서기', '원판던지기', '한발 앞으로 내밀고 앉았다 일어서기', '몸통 들어올리기', '바벨들어올리기', '윗몸올리기', '엎드려 버티기', '옆으로 누워 버티기'], ['서서 상체 일으키기', '앉았다 일어서기', '소파를 이용한 윗몸올리기', '엎드려 버티기', '네발기기 자세로 팔 다리 들기', '서서 다리 뒤로 차기'], ['버피운동', '앉았다 일어서면서 점프하기', '앉았다 일어서기', '한발 앞으로 내밀고 앉았다 일어서기', '팔굽혀펴기', '앉아서 당겨 내리기', '원판던지기', '윗몸 말아 올리기', '네발기기 자세에서 다리 위로 뻗어올리기'], ['윗몸올리기', '누워서 엉덩이 들어올리기', '엎드려 버티기', '서서 상체 일으키기', '앉아서 밀기', '앉아서 당겨 내리기', '앉아서 다리 밀기', '앉아서 다리 펴기', '자전거타기', '걷기'], ['앉아서 위로 밀기', '턱걸이', '바벨 끌어당기기', '고정한 상태에서 덤벨 들고 팔꿈치 굽히기', '앉아서 다리 밀기', '앉아서 다리 펴기', '앉아서 다리 굽히기', '원판던지기'], ['버피운동', '앉았다 일어서면서 점프하기', '앉았다 일어서기', '한발 앞으로 내밀고 앉았다 일어서기', '팔굽혀펴기', '앉아서 당겨 내리기', '원판던지기', '윗몸 말아 올리기', '네발기기 자세에서 다리 위로 뻗어올리기'], ['누워서 팔 밀기', '앉아서 가슴 모으기', '앉아서 양팔 당기기', '앉아서 당겨 내리기', '몸통 옆으로 굽히기', '앉아서 몸통 움츠리기'], ['달리기', '수영'], ['윗몸올리기', '누워서 엉덩이 들어올리기', '엎드려 버티기', '서서 상체 일으키기', '앉아서 밀기', '앉아서 당겨 내리기', '앉아서 다리 밀기', '앉아서 다리 펴기', '자전거타기', '걷기'], ['앉았다 일어서기', '한발 앞으로 내밀고 앉았다 일어서기', '누워서 덤벨 들어올리기', '윗몸올리기', '턱걸이', '바벨 끌어당기기'], ['버피운동', '무릎 높여 제자리 달리기', '앉아서 다리 펴기', '앉아서 다리 굽히기', '앉아서 다리 모으기', '앉아서 다리 벌리기', '고정한 상태에서 덤벨 들고 팔꿈치 굽히기', '앉아서 팔꿈치 굽히기/펴기', '서서 탄력밴드 당겨내리기/올리기', '물병 옆으로 들어올리기'], ['팔굽혀펴기', '엎드려서 팔 다리 들기', '몸통 들어올리기', '엎드려 버티기', '옆으로 누워 버티기', '누워서 배가로근 수축', '의자 앞에서 앉았다 일어서기', '한발 앞으로 내밀고 앉았다 일어서기'], ['앉았다 일어서기', '한발 앞으로 내밀고 앉았다 일어서기', '누워서 다리 들어올리기', '팔굽혀펴기', '팔꿈치 굽히기'], ['좌식생활자를 위한 동적 루틴 스트레칭', '짐볼을 이용한 동적 루틴 스트레칭', '작은 공을 이용한 동적 루틴 스트레칭', '하지 루틴 스트레칭', '하지 루틴 스트레칭', '상지 루틴 스트레칭'], ['달리기', '무릎 높여 제자리 달리기'], ['앉았다 일어서기', '누워서 엉덩이 들어올리기', '서서 뒤꿈치 들기', '서서 상체 일으키기', '네발기기 자세로 팔 다리 들기', '엎드려서 팔 다리 들기', '네발기기 자세에서 손바닥으로 바닥밀기', '짐볼에 다리 올리고 좌우로 움직이기', '뒤로 팔굽혀펴기', '의자에 앉아 다리 뻗어 올리기', '서서 다리 뒤로 차기'], ['자전거타기', '줄넘기', '계단 올라갔다 내려오기', '수영', '아쿠아로빅', '스텝박스'], ['달리기', '자전거타기', '수영', '달리기', '계단 올라갔다 내려오기'], ['상지 루틴 스트레칭', '전신 루틴 스트레칭'], ['달리기', '자전거타기', '자전거타기', '걷기', '줄넘기', '계단 올라갔다 내려오기', '계단 뛰기', '수영'], ['버피운동', '무릎 높여 제자리 달리기', '앉아서 다리 펴기', '앉아서 다리 굽히기', '앉아서 다리 모으기', '앉아서 다리 벌리기', '고정한 상태에서 덤벨 들고 팔꿈치 굽히기', '앉아서 팔꿈치 굽히기/펴기', '서서 탄력밴드 당겨내리기/올리기', '물병 옆으로 들어올리기'], ['앉았다 일어서기', '한발 앞으로 내밀고 앉았다 일어서기', '누워서 다리 들어올리기', '팔굽혀펴기', '팔꿈치 굽히기'], ['누워서 팔 밀기', '앉아서 가슴 모으기', '앉아서 양팔 당기기', '앉아서 당겨 내리기', '몸통 옆으로 굽히기', '앉아서 몸통 움츠리기'], ['맨몸운동 루틴프로그램', '걷기'], ['탄력밴드 어깨 가쪽 돌림', '서서 탄력밴드 당겨내리기/올리기', '엎드려 버티기', '누워서 다리 들어올리기', '누워서 하늘 자전거', '누워서 엉덩이 들어올리기', '서서 뒤꿈치 들기', '의자 앞에서 앉았다 일어서기', '달리기', '자전거타기', '걷기', '줄넘기', '계단 올라갔다 내려오기', '수영', '스텝퍼 뛰어서 오르내리기', '스텝퍼 뛰어서 넘어가기', '사다리 안팎 뛰기', '앉았다 일어서면서 점프하기', '무릎 높여 제자리 달리기', '버피운동'], ['몸통 들어올리기', '앉아서 밀기', '누워서 밀기', '비스듬히 누워서 밀기', '파워클린', '서서 어깨 들어올리기', '누워서 덤벨 들어올리기'], ['앉았다 일어서기', '한발 앞으로 내밀고 앉았다 일어서기', '누워서 덤벨 들어올리기', '윗몸올리기', '턱걸이', '바벨 끌어당기기'], ['상지 루틴 스트레칭', '전신 루틴 스트레칭'], ['앉았다 일어서기', '턱걸이', '매달려서 다리 들기', '엎드려서 균형잡기', '서서 균형잡으며 몸통 회전하기', '엎드려 버티기', '옆으로 누워 버티기', '누워서 다리 들어올리기', '누워서 팔 다리 동시에 들어올리기', '팔굽혀펴기', '뒤로 팔굽혀펴기', '의자에 한 다리 올리고 앉앗다 일어서기', '팔벌려뛰기', '버피운동'], ['달리기', '무릎 높여 제자리 달리기'], ['윗몸올리기', '누워서 엉덩이 들어올리기', '엎드려 버티기', '서서 상체 일으키기', '앉아서 밀기', '앉아서 당겨 내리기', '앉아서 다리 밀기', '앉아서 다리 펴기', '자전거타기', '걷기'], ['맨몸운동 루틴프로그램', '저항밴드 운동 루틴프로그램', '웨이트 트레이닝 루틴프로그램'], ['달리기', '무릎 높여 제자리 달리기'], ['자전거타기', '걷기', '계단 올라갔다 내려오기', '앉았다 일어서기', '서서 뒤꿈치 들기'], ['앉았다 일어서기', '한발 앞으로 내밀고 앉았다 일어서기', '서서 다리로 탄력밴드 당기기', '서서 다리로 탄력밴드 당기기', '서서 뒤꿈치 들기', '누워서 엉덩이 들어올리기', '팔굽혀 펴기', '뒤로 팔굽혀펴기', '앉아서 팔꿈치 굽히기/펴기', '엎드려 버티기', '옆으로 누워 버티기'], ['달리기', '자전거타기', '계단 올라갔다 내려오기', '수영', '목 스트레칭', '등/어깨 뒤쪽 스트레칭', '가슴/어깨 앞쪽 스트레칭', '아래 팔 스트레칭', '허리 스트레칭', '배 스트레칭', '옆구리 스트레칭', '엉덩이 스트레칭', '넙다리 스트레칭', '넙다리 스트레칭', '넙다리 스트레칭'], ['맨몸운동 루틴프로그램', '팔벌려뛰기', '사다리 옆으로 발 옮기기', '옆으로 펀치하기', '스텝퍼 오르내리기', '무릎 높여 제자리 달리기'], ['윗몸올리기', '누워서 엉덩이 들어올리기', '엎드려 버티기', '서서 상체 일으키기', '앉아서 밀기', '앉아서 당겨 내리기', '앉아서 다리 밀기', '앉아서 다리 펴기', '자전거타기', '걷기'], ['계단 올라갔다 내려오기', '달리기', '팔굽혀 펴기', '바로서서 상체 숙이기', '앉았다 일어서기'], ['자전거타기', '줄넘기', '계단 올라갔다 내려오기', '수영', '아쿠아로빅', '스텝박스'], ['계단 뛰기', '달리기', '스텝박스', '박스 운동 루틴프로그램', '사다리 운동 루틴프로그램', '콘운동 루틴프로그램', '사이드 스텝 점프하기', '한발로 점프하기'], ['앉았다 일어서기', '앞굽이 앉았다 일어서기', '연속 사이드 스쿼드', '팔굽혀 펴기', '뒤로 팔굽혀펴기', '서서 상체 일으키기', '윗몸올리기', '누워서 다리 들어올리기', '누워서 엉덩이 들어올리기'], ['상지 루틴 스트레칭', '하지 루틴 스트레칭', '하지 루틴 스트레칭', '요가 및 필라테스 루틴프로그램', '자가근막이완술 루틴 스트레칭', '작은 공을 이용한 동적 루틴 스트레칭', '짐볼을 이용한 동적 루틴 스트레칭'], ['몸통 들어올리기', '소파를 이용한 윗몸올리기', '엎드려 버티기', '옆으로 누워 버티기', '네발기기 자세로 팔 다리 들기', '엎드려서 팔 다리 들기'], ['달리기', '계단 올라갔다 내려오기', '자전거타기', '걷기'], ['앉았다 일어서기', '앞굽이 앉았다 일어서기', '연속 사이드 스쿼드', '팔굽혀 펴기', '뒤로 팔굽혀펴기', '서서 상체 일으키기', '윗몸올리기', '누워서 다리 들어올리기', '누워서 엉덩이 들어올리기'], ['탄력밴드 어깨 가쪽 돌림', '서서 탄력밴드 당겨내리기/올리기', '엎드려 버티기', '누워서 다리 들어올리기', '누워서 하늘 자전거', '누워서 엉덩이 들어올리기', '서서 뒤꿈치 들기', '의자 앞에서 앉았다 일어서기', '달리기', '자전거타기', '걷기', '줄넘기', '계단 올라갔다 내려오기', '수영', '스텝퍼 뛰어서 오르내리기', '스텝퍼 뛰어서 넘어가기', '사다리 안팎 뛰기', '앉았다 일어서면서 점프하기', '무릎 높여 제자리 달리기', '버피운동'], ['앉았다 일어서기', '한발 앞으로 내밀고 앉았다 일어서기', '턱걸이', '점프 팔굽혀펴기', '소파를 이용한 윗몸올리기', '엎드려 버티기'], ['버피운동', '앉았다 일어서면서 점프하기', '앉았다 일어서기', '한발 앞으로 내밀고 앉았다 일어서기', '팔굽혀펴기', '앉아서 당겨 내리기', '원판던지기', '윗몸 말아 올리기', '네발기기 자세에서 다리 위로 뻗어올리기'], ['서서 상체 일으키기', '팔꿈치 굽히기', '윗몸올리기', '팔굽혀펴기'], ['계단 올라갔다 내려오기', '달리기', '팔굽혀 펴기', '바로서서 상체 숙이기', '앉았다 일어서기'], ['걷기', '계단 올라갔다 내려오기', '자전거타기'], ['양팔 크게 벌리기', '허리 굽혀 덤벨 들기', '서서 바벨 위로 밀기', '앉았다 일어서기', '한발 앞으로 내밀고 앉았다 일어서기'], ['상지 루틴 스트레칭', '전신 루틴 스트레칭'], ['앉았다 일어서기', '한발 앞으로 내밀고 앉았다 일어서기', '턱걸이', '점프 팔굽혀펴기', '소파를 이용한 윗몸올리기', '엎드려 버티기'], ['맨몸운동 루틴프로그램', '팔벌려뛰기', '사다리 옆으로 발 옮기기', '옆으로 펀치하기', '스텝퍼 오르내리기', '무릎 높여 제자리 달리기'], ['앉아서 당겨 내리기', '앉아서 뒤로 당기기', '앉아서 밀기', '앉아서 모으기', '한발 앞으로 내밀고 앉았다 일어서기', '윗몸올리기', '엎드려 버티기', '누워서 다리 들어올리기', '앉았다 일어서기', '의자에 앉아 다리 뻗어 올리기', '앉아서 엉덩관절 굽히기'], ['자전거타기', '줄넘기', '계단 올라갔다 내려오기', '수영', '아쿠아로빅', '스텝박스'], ['자전거타기', '수영', '달리기', '앉았다 일어서기', '팔굽혀펴기', '윗몸올리기', '누워서 엉덩이 들어올리기', '엎드려 버티기', '엎드려서 팔 다리 들기'], ['달리기', '자전거타기', '수영', '달리기', '계단 올라갔다 내려오기'], ['엉덩이 스트레칭', '엉덩이 스트레칭', '몸통 앞으로 굽혀 걷기', '한쪽 다리펴고 상체 숙이기', '넙다리 스트레칭', '넙다리 스트레칭'], ['달리기', '자전거타기', '자전거타기', '걷기', '계단 올라갔다 내려오기', '수영'], ['윗몸올리기', '누워서 엉덩이 들어올리기', '엎드려 버티기', '서서 상체 일으키기', '앉아서 밀기', '앉아서 당겨 내리기', '앉아서 다리 밀기', '앉아서 다리 펴기', '자전거타기', '걷기'], ['앉았다 일어서기', '윗몸올리기', '엎드려 버티기', '옆으로 누워 버티기', '누워서 다리 들어올리기', '네발기기 자세로 팔 다리 들기', '엎드려서 팔 다리 들기', '팔굽혀펴기', '서서 뒤꿈치 들기'], ['앉았다 일어서기', '원판던지기', '한발 앞으로 내밀고 앉았다 일어서기', '몸통 들어올리기', '바벨들어올리기', '윗몸올리기', '엎드려 버티기', '옆으로 누워 버티기'], ['목 스트레칭', '등/어깨 뒤쪽 스트레칭', '가슴/어깨 앞쪽 스트레칭', '아래 팔 스트레칭', '허리 스트레칭', '배 스트레칭', '옆구리 스트레칭', '엉덩이 스트레칭', '넙다리 스트레칭', '넙다리 스트레칭', '넙다리 스트레칭', '좌식생활자를 위한 동적 루틴 스트레칭 '], ['스텝박스 오르내리기', '달리기', '자전거타기', '줄넘기', '계단 올라갔다 내려오기', '수영', '아쿠아로빅', '물속에서 걷기', '버피운동'], ['누워서 팔 밀기', '앉아서 가슴 모으기', '앉아서 양팔 당기기', '앉아서 당겨 내리기', '몸통 옆으로 굽히기', '앉아서 몸통 움츠리기'], ['줄넘기', '계단 올라갔다 내려오기'], ['엎드려서 다리 차올리기', '엎드려서 팔 다리 들기', '밴드 걸고 엎드려서 다리 구부리기', '덤벨 잡고 뒤꿈치 들기', '밴드 걸고 누워서 다리 들어올리기', '밴드 걸고 옆으로 누워 다리 올리기', '의자 앞에서 앉았다 일어서기', '자전거타기'], ['누워서 다리 들어올리기', '팔꿈치 굽히기', '서서 다리로 탄력밴드 당기기', '누워서 엉덩이 들어올리기', '팔굽혀펴기', '윗몸올리기', '한발 앞으로 내밀고 앉았다 일어서기', '서서 뒤꿈치 들기', '엎드려서 팔 다리 들기', '허리 굽혀 팔 뒤로 들기', '앉았다 일어서기', '물병 옆으로 들어올리기', '자전거타기', '걷기', '계단 올라갔다 내려오기', '수영'], ['윗몸올리기', '누워서 엉덩이 들어올리기', '엎드려 버티기', '서서 상체 일으키기', '앉아서 밀기', '앉아서 당겨 내리기', '앉아서 다리 밀기', '앉아서 다리 펴기', '자전거타기', '걷기'], ['상지 루틴 스트레칭', '하지 루틴 스트레칭', '전신 루틴 스트레칭'], ['앉았다 일어서기', '엎드려 버티기', '팔굽혀펴기'], ['대퇴이두근 스트레칭', '요통을 위한 스트레칭', '몸통 앞으로 굽혀 걷기', '앉아서 상체 앞 옆으로 기울기', '앉았다 일어서기', '바벨들어올리기', '누워서 가슴 밀기', '서서 바벨 위로 밀기', '앉아서 당겨 내리기', '한발 앞으로 내밀고 앉았다 일어서기', '달리기', '자전거타기', '계단 올라갔다 내려오기', '계단 뛰기', '수영', '버피운동', '목 스트레칭', '전신 루틴 스트레칭'], ['앉아서 다리 펴기', '뒤꿈치 들기', '앉아서 다리 모으기', '앉아서 다리 벌리기', '파워클린', '앉았다 일어서기', '한발 앞으로 내밀고 앉았다 일어서기', '앉았다 일어서기', '의자 앞에서 앉았다 일어서기', '한발 앞으로 내밀고 앉았다 일어서기', '서서 뒤꿈치 들기'], ['달리기'], ['스텝퍼 옆으로 뛰어넘기', '스텝퍼 올라가서 점프하여 착지하기', '뛰어 내렸다가 바로 점프하기', '사다리 안팎 뛰기', '앉았다 일어서면서 점프하기', '무릎 높여 제자리 달리기', '파워클린', '팔굽혀펴기'], ['앉아서 위로 밀기', '턱걸이', '바벨 끌어당기기', '고정한 상태에서 덤벨 들고 팔꿈치 굽히기', '앉아서 다리 밀기', '앉아서 다리 펴기', '앉아서 다리 굽히기', '원판던지기'], ['윗몸올리기', '누워서 엉덩이 들어올리기', '엎드려 버티기', '서서 상체 일으키기', '앉아서 밀기', '앉아서 당겨 내리기', '앉아서 다리 밀기', '앉아서 다리 펴기', '자전거타기', '걷기'], ['자전거타기', '걷기', '계단 올라갔다 내려오기', '앉았다 일어서기', '서서 뒤꿈치 들기'], ['앉아서 다리 밀기', '앉아서 다리 펴기', '앉아서 다리 모으기', '앉아서 당겨 내리기', '앉아서 뒤로 당기기', '몸통 들어올리기', '앉아서 밀기', '앉아서 위로 밀기', '앉았다 일어서기', '몸통 옆으로 굽히기'], ['계단 뛰기', '달리기', '줄넘기', '스텝박스 오르내리기 '], ['윗몸올리기', '누워서 엉덩이 들어올리기', '엎드려 버티기', '서서 상체 일으키기', '앉아서 밀기', '앉아서 당겨 내리기', '앉아서 다리 밀기', '앉아서 다리 펴기', '자전거타기', '걷기'], ['윗몸올리기', '누워서 엉덩이 들어올리기', '엎드려 버티기', '서서 상체 일으키기', '앉아서 밀기', '앉아서 당겨 내리기', '앉아서 다리 밀기', '앉아서 다리 펴기', '자전거타기', '걷기'], ['윗몸올리기', '누워서 엉덩이 들어올리기', '엎드려 버티기', '서서 상체 일으키기', '앉아서 밀기', '앉아서 당겨 내리기', '앉아서 다리 밀기', '앉아서 다리 펴기', '자전거타기', '걷기'], ['걷기', '자전거타기', '달리기', '수영'], ['윗몸올리기', '엎드려 버티기', '누워서 다리 들어올리기', '팔굽혀펴기', '누워서 엉덩이 들어올리기', '엎드려서 팔 다리 들기', '물병 옆으로 들어올리기', '팔꿈치 굽히기', '앉았다 일어서기', '의자 앞에서 앉았다 일어서기', '한발 앞으로 내밀고 앉았다 일어서기'], ['허리 스트레칭', '배 스트레칭', '옆구리 스트레칭', '엉덩이 스트레칭'], ['허리 스트레칭', '배 스트레칭', '엉덩이 스트레칭', '하지 루틴 스트레칭', '좌식생활자를 위한 동적 루틴 스트레칭', '작은 공을 이용한 동적 루틴 스트레칭 '], ['걷기', '자전거타기', '걷기', '달리기'], ['줄넘기', '계단 올라갔다 내려오기'], ['달리기', '수영', '줄넘기', '계단 올라갔다 내려오기', '계단 뛰기', '앉았다 일어서기', '의자 앞에서 앉았다 일어서기', '윗몸올리기', '옆으로 누워 버티기', '누워서 다리 들어올리기', '누워서 수직으로 다리 들어올리기 '], ['앉아서 다리 밀기', '앉아서 다리 펴기', '앉아서 다리 굽히기', '앉아서 다리 모으기', '앉아서 다리 벌리기', '앉았다 일어서기', '한발 앞으로 내밀고 앉았다 일어서기', '앉아서 당겨 내리기', '앉아서 뒤로 당기기', '몸통 들어올리기', '앉아서 밀기', '앉아서 모으기', '바벨들어올리기', '윗몸올리기', '엎드려 버티기', '누워서 팔 다리 동시에 들어올리기', '팔굽혀펴기'], ['스텝박스 오르내리기', '달리기', '자전거타기', '줄넘기', '계단 올라갔다 내려오기', '수영', '아쿠아로빅', '물속에서 걷기', '버피운동'], ['뒤로 팔굽혀펴기'], ['달리기', '무릎 높여 제자리 달리기'], ['스텝퍼 옆으로 뛰어넘기', '스텝퍼 올라가서 점프하여 착지하기', '뛰어 내렸다가 바로 점프하기', '사다리 안팎 뛰기', '앉았다 일어서면서 점프하기', '무릎 높여 제자리 달리기', '파워클린', '팔굽혀펴기'], ['앉아서 당겨 내리기', '앉아서 뒤로 당기기', '앉아서 밀기', '앉아서 모으기', '한발 앞으로 내밀고 앉았다 일어서기', '윗몸올리기', '엎드려 버티기', '누워서 다리 들어올리기', '앉았다 일어서기', '의자에 앉아 다리 뻗어 올리기', '앉아서 엉덩관절 굽히기'], ['계단 올라갔다 내려오기', '달리기', '팔굽혀 펴기', '바로서서 상체 숙이기', '앉았다 일어서기'], ['누워서 다리 들어올리기', '팔꿈치 굽히기', '서서 다리로 탄력밴드 당기기', '누워서 엉덩이 들어올리기', '팔굽혀펴기', '윗몸올리기', '한발 앞으로 내밀고 앉았다 일어서기', '서서 뒤꿈치 들기', '엎드려서 팔 다리 들기', '허리 굽혀 팔 뒤로 들기', '앉았다 일어서기', '물병 옆으로 들어올리기', '자전거타기', '걷기', '계단 올라갔다 내려오기', '수영'], ['달리기', '무릎 높여 제자리 달리기'], ['윗몸올리기', '누워서 엉덩이 들어올리기', '엎드려 버티기', '서서 상체 일으키기', '앉아서 밀기', '앉아서 당겨 내리기', '앉아서 다리 밀기', '앉아서 다리 펴기', '자전거타기', '걷기'], ['달리기', '무릎 높여 제자리 달리기'], ['바벨 당겨 올리기', '앉아서 덤벨로 손목 굽히기', '플렉스 바 비틀기', '팔굽혀 펴기', '턱걸이', '뒤로 팔굽혀펴기'], ['앉았다 일어서기', '윗몸올리기', '엎드려 버티기', '옆으로 누워 버티기', '누워서 다리 들어올리기', '네발기기 자세로 팔 다리 들기', '엎드려서 팔 다리 들기', '팔굽혀펴기', '서서 뒤꿈치 들기'], ['달리기', '무릎 높여 제자리 달리기'], ['유산소 운동 전 동적 루틴 스트레칭', '좌식생활자를 위한 동적 루틴 스트레칭', '짐볼을 이용한 동적 루틴 스트레칭', '작은 공을 이용한 동적 루틴 스트레칭 '], ['달리기', '자전거타기', '줄넘기', '계단 올라갔다 내려오기'], ['탄력밴드 어깨 가쪽 돌림', '서서 탄력밴드 당겨내리기/올리기', '엎드려 버티기', '누워서 다리 들어올리기', '누워서 하늘 자전거', '누워서 엉덩이 들어올리기', '서서 뒤꿈치 들기', '의자 앞에서 앉았다 일어서기', '달리기', '자전거타기', '걷기', '줄넘기', '계단 올라갔다 내려오기', '수영', '스텝퍼 뛰어서 오르내리기', '스텝퍼 뛰어서 넘어가기', '사다리 안팎 뛰기', '앉았다 일어서면서 점프하기', '무릎 높여 제자리 달리기', '버피운동'], ['윗몸올리기', '누워서 엉덩이 들어올리기', '엎드려 버티기', '서서 상체 일으키기', '앉아서 밀기', '앉아서 당겨 내리기', '앉아서 다리 밀기', '앉아서 다리 펴기', '자전거타기', '걷기'], ['앉아서 위로 밀기', '턱걸이', '바벨 끌어당기기', '고정한 상태에서 덤벨 들고 팔꿈치 굽히기', '앉아서 다리 밀기', '앉아서 다리 펴기', '앉아서 다리 굽히기', '원판던지기'], ['앉았다 일어서기', '윗몸올리기', '엎드려 버티기', '옆으로 누워 버티기', '누워서 다리 들어올리기', '네발기기 자세로 팔 다리 들기', '엎드려서 팔 다리 들기', '팔굽혀펴기', '서서 뒤꿈치 들기'], ['달리기', '자전거타기', '줄넘기'], ['탄력밴드 어깨 가쪽 돌림', '서서 탄력밴드 당겨내리기/올리기', '엎드려 버티기', '누워서 다리 들어올리기', '누워서 하늘 자전거', '누워서 엉덩이 들어올리기', '서서 뒤꿈치 들기', '의자 앞에서 앉았다 일어서기', '달리기', '자전거타기', '걷기', '줄넘기', '계단 올라갔다 내려오기', '수영', '스텝퍼 뛰어서 오르내리기', '스텝퍼 뛰어서 넘어가기', '사다리 안팎 뛰기', '앉았다 일어서면서 점프하기', '무릎 높여 제자리 달리기', '버피운동'], ['자전거타기', '수영'], ['윗몸올리기', '누워서 엉덩이 들어올리기', '엎드려 버티기', '서서 상체 일으키기', '앉아서 밀기', '앉아서 당겨 내리기', '앉아서 다리 밀기', '앉아서 다리 펴기', '자전거타기', '걷기'], ['몸통 들어올리기', '소파를 이용한 윗몸올리기', '엎드려 버티기', '옆으로 누워 버티기', '네발기기 자세로 팔 다리 들기', '엎드려서 팔 다리 들기'], ['윗몸 말아 올리기', '윗몸올리기', '누워서 다리 들어올리기', '누워서 팔 다리 동시에 들어올리기', '팔굽혀펴기'], ['앉았다 일어서기', '서서 뒤꿈치 들기', '자전거타기', '계단 올라갔다 내려오기'], ['순간반응 콘 찍기', '앉았다 일어나며 점프하기', '다리 뻗어 점프하기', '좌우 양발모아 점프하기', '한발로 점프하기', '연속 상향 점프하기', '좌우 이동하며 팔굽혀펴기', '팔굽혀펴기 후 점프하기', '크게 다리벌려 교차 뛰기', '뒷발 교차 뛰기'], ['걷기', '계단 올라갔다 내려오기', '자전거타기'], ['달리기', '자전거타기', '수영', '달리기', '계단 올라갔다 내려오기'], ['윗몸 말아 올리기', '팔굽혀 펴기'], ['앉았다 일어서기', '한발 앞으로 내밀고 앉았다 일어서기', '넙다리 스트레칭', '하지 루틴 스트레칭', '상지 루틴 스트레칭', '좌식생활자를 위한 동적 루틴 스트레칭 '], ['앉아서 다리 밀기', '앉아서 다리 펴기', '앉아서 다리 굽히기', '앉아서 당겨 내리기', '앉아서 뒤로 당기기', '앉아서 밀기', '앉아서 위로 밀기', '윗몸올리기', '누워서 다리 들어올리기', '몸통 들어올리기'], ['달리기', '무릎 높여 제자리 달리기'], ['달리기', '무릎 높여 제자리 달리기'], ['서서 상체 일으키기', '앉았다 일어서기', '소파를 이용한 윗몸올리기', '엎드려 버티기', '네발기기 자세로 팔 다리 들기', '서서 다리 뒤로 차기'], ['팔굽혀펴기', '허리 굽혀 팔 뒤로 들기', '앉았다 일어서기', '달리기', '계단 올라갔다 내려오기', '고정한 상태에서 덤벨 들고 팔꿈치 굽히기', '허리 굽혀 덤벨 뒤로 들기'], ['버피운동', '무릎 높여 제자리 달리기', '앉아서 다리 펴기', '앉아서 다리 굽히기', '앉아서 다리 모으기', '앉아서 다리 벌리기', '고정한 상태에서 덤벨 들고 팔꿈치 굽히기', '앉아서 팔꿈치 굽히기/펴기', '서서 탄력밴드 당겨내리기/올리기', '물병 옆으로 들어올리기'], ['엎드려 버티기', '옆으로 누워 버티기'], ['맨몸운동 루틴프로그램', '저항밴드 운동 루틴프로그램', '웨이트 트레이닝 루틴프로그램'], ['앉아서 다리 밀기', '앉아서 다리 펴기', '앉아서 다리 모으기', '앉아서 당겨 내리기', '앉아서 뒤로 당기기', '몸통 들어올리기', '앉아서 밀기', '앉아서 위로 밀기', '앉았다 일어서기', '몸통 옆으로 굽히기'], ['앉아서 위로 밀기', '턱걸이', '바벨 끌어당기기', '고정한 상태에서 덤벨 들고 팔꿈치 굽히기', '앉아서 다리 밀기', '앉아서 다리 펴기', '앉아서 다리 굽히기', '원판던지기'], ['앉았다 일어서기', '의자 앞에서 앉았다 일어서기', '서서 뒤꿈치 들기', '서서 상체 일으키기', '윗몸올리기', '엎드려 버티기', '누워서 다리 들어올리기', '누워서 수직으로 다리 들어올리기', '누워서 엉덩이 들어올리기', '엎드려서 팔 다리 들기', '손목 펴기/굽히기', '허리 굽혀 팔 뒤로 들기', '물병 옆으로 들어올리기', '팔꿈치 굽히기'], ['팔굽혀펴기', '허리 굽혀 팔 뒤로 들기', '앉았다 일어서기', '달리기', '계단 올라갔다 내려오기'], ['자전거타기', '걷기', '계단 올라갔다 내려오기', '앉았다 일어서기', '서서 뒤꿈치 들기'], ['앉아서 다리 밀기', '앉아서 다리 펴기', '앉아서 다리 모으기', '앉아서 당겨 내리기', '앉아서 뒤로 당기기', '몸통 들어올리기', '앉아서 밀기', '앉아서 위로 밀기', '앉았다 일어서기', '몸통 옆으로 굽히기'], ['누워서 팔 밀기', '앉아서 가슴 모으기', '앉아서 양팔 당기기', '앉아서 당겨 내리기', '몸통 옆으로 굽히기', '앉아서 몸통 움츠리기'], ['서서 상체 일으키기', '앉았다 일어서기', '소파를 이용한 윗몸올리기', '엎드려 버티기', '네발기기 자세로 팔 다리 들기', '서서 다리 뒤로 차기'], ['윗몸올리기', '누워서 엉덩이 들어올리기', '엎드려 버티기', '서서 상체 일으키기', '앉아서 밀기', '앉아서 당겨 내리기', '앉아서 다리 밀기', '앉아서 다리 펴기', '자전거타기', '걷기'], ['앉아서 당겨 내리기', '앉아서 뒤로 당기기', '앉아서 밀기', '앉아서 모으기', '한발 앞으로 내밀고 앉았다 일어서기', '윗몸올리기', '엎드려 버티기', '누워서 다리 들어올리기', '앉았다 일어서기', '의자에 앉아 다리 뻗어 올리기', '앉아서 엉덩관절 굽히기'], ['팔굽혀펴기', '허리 굽혀 팔 뒤로 들기', '앉았다 일어서기', '달리기', '계단 올라갔다 내려오기'], ['버피운동', '무릎 높여 제자리 달리기', '앉아서 다리 펴기', '앉아서 다리 굽히기', '앉아서 다리 모으기', '앉아서 다리 벌리기', '고정한 상태에서 덤벨 들고 팔꿈치 굽히기', '앉아서 팔꿈치 굽히기/펴기', '서서 탄력밴드 당겨내리기/올리기', '물병 옆으로 들어올리기'], ['자전거타기', '걷기', '계단 올라갔다 내려오기', '앉았다 일어서기', '서서 뒤꿈치 들기'], ['바운딩 운동 루틴프로그램', '박스 운동 루틴프로그램'], ['줄넘기', '계단 올라갔다 내려오기'], ['누워서 다리 들어올리기', '팔꿈치 굽히기', '서서 다리로 탄력밴드 당기기', '누워서 엉덩이 들어올리기', '팔굽혀펴기', '윗몸올리기', '한발 앞으로 내밀고 앉았다 일어서기', '서서 뒤꿈치 들기', '엎드려서 팔 다리 들기', '허리 굽혀 팔 뒤로 들기', '앉았다 일어서기', '물병 옆으로 들어올리기', '자전거타기', '걷기', '계단 올라갔다 내려오기', '수영'], ['자전거타기', '자전거타기', '걷기'], ['순간반응 콘 찍기', '앉았다 일어나며 점프하기', '다리 뻗어 점프하기', '좌우 양발모아 점프하기', '한발로 점프하기', '연속 상향 점프하기', '좌우 이동하며 팔굽혀펴기', '팔굽혀펴기 후 점프하기', '크게 다리벌려 교차 뛰기', '뒷발 교차 뛰기'], ['자전거타기', '계단 올라갔다 내려오기', '수영', '앉았다 일어서기', '한발 앞으로 내밀고 앉았다 일어서기', '윗몸올리기', '엎드려 버티기', '옆으로 누워 버티기', '누워서 엉덩이 들어올리기', '누워 다리 들어올리기', '팔굽혀 펴기', '바벨 들어 팔꿈치 굽히기', '물병 옆으로 들어올리기'], ['누워서 팔 밀기', '앉아서 가슴 모으기', '앉아서 양팔 당기기', '앉아서 당겨 내리기', '몸통 옆으로 굽히기', '앉아서 몸통 움츠리기'], ['허리 스트레칭', '배 스트레칭', '엉덩이 스트레칭', '넙다리 스트레칭', '넙다리 스트레칭', '넙다리 스트레칭'], ['몸통 들어올리기', '소파를 이용한 윗몸올리기', '엎드려 버티기', '옆으로 누워 버티기', '네발기기 자세로 팔 다리 들기', '엎드려서 팔 다리 들기'], ['앉았다 일어서기', '한발 앞으로 내밀고 앉았다 일어서기', '윗몸올리기', '엎드려 버티기', '옆으로 누워 버티기', '누워서 엉덩이 들어올리기'], ['탄력밴드 어깨 가쪽 돌림', '서서 탄력밴드 당겨내리기/올리기', '엎드려 버티기', '누워서 다리 들어올리기', '누워서 하늘 자전거', '누워서 엉덩이 들어올리기', '서서 뒤꿈치 들기', '의자 앞에서 앉았다 일어서기', '달리기', '자전거타기', '걷기', '줄넘기', '계단 올라갔다 내려오기', '수영', '스텝퍼 뛰어서 오르내리기', '스텝퍼 뛰어서 넘어가기', '사다리 안팎 뛰기', '앉았다 일어서면서 점프하기', '무릎 높여 제자리 달리기', '버피운동'], ['앉았다 일어서기', '한발 앞으로 내밀고 앉았다 일어서기', '넙다리 스트레칭', '하지 루틴 스트레칭', '상지 루틴 스트레칭', '좌식생활자를 위한 동적 루틴 스트레칭 '], ['앉았다 일어서기', '팔굽혀펴기', '윗몸올리기', '누워서 엉덩이 들어올리기', '네발기기 자세로 팔 다리 들기', '엎드려 버티기', '누워서 수직으로 다리 들어올리기', '누워서 다리 좌우로 움직이기'], ['윗몸올리기', '누워서 엉덩이 들어올리기', '엎드려 버티기', '서서 상체 일으키기', '앉아서 밀기', '앉아서 당겨 내리기', '앉아서 다리 밀기', '앉아서 다리 펴기', '자전거타기', '걷기'], ['앉아서 다리 밀기', '앉아서 다리 펴기', '앉아서 다리 굽히기', '앉아서 당겨 내리기', '앉아서 뒤로 당기기', '앉아서 밀기', '앉아서 위로 밀기', '윗몸올리기', '누워서 다리 들어올리기', '몸통 들어올리기'], ['자전거타기', '걷기', '계단 올라갔다 내려오기', '앉았다 일어서기', '서서 뒤꿈치 들기'], ['앉았다 일어서기', '한발 앞으로 내밀고 앉았다 일어서기', '앉아서 다리 펴기', '앉아서 다리 밀기', '누워서 엉덩이 들어올리기', '윗몸올리기', '엎드려 버티기', '옆으로 누워 버티기', '앉아서 밀기', '앉아서 위로 밀기', '탄력밴드 어깨 가쪽 돌림', '뒤로 팔굽혀펴기'], ['네발기기 자세로 팔 다리 들기', '서서 다리 뒤로 차기', '엎드려 버티기', '엎드려서 팔 다리 들기', '누워서 엉덩이 들어올리기', '윗몸올리기', '몸통 옆으로 굽히기', '자전거타기', '걷기'], ['짐볼 이용 근력운동 루틴 프로그램', '의자 이용 근력운동 루틴 프로그램', '머신이용 근력운동 루틴프로그램'], ['앉았다 일어서기', '한발 앞으로 내밀고 앉았다 일어서기', '앉아서 다리 펴기', '앉아서 다리 밀기', '누워서 엉덩이 들어올리기', '윗몸올리기', '엎드려 버티기', '옆으로 누워 버티기', '앉아서 밀기', '앉아서 위로 밀기', '탄력밴드 어깨 가쪽 돌림', '뒤로 팔굽혀펴기'], ['버피운동', '무릎 높여 제자리 달리기', '앉아서 다리 펴기', '앉아서 다리 굽히기', '앉아서 다리 모으기', '앉아서 다리 벌리기', '고정한 상태에서 덤벨 들고 팔꿈치 굽히기', '앉아서 팔꿈치 굽히기/펴기', '서서 탄력밴드 당겨내리기/올리기', '물병 옆으로 들어올리기'], ['버피운동', '무릎 높여 제자리 달리기', '앉아서 다리 펴기', '앉아서 다리 굽히기', '앉아서 다리 모으기', '앉아서 다리 벌리기', '고정한 상태에서 덤벨 들고 팔꿈치 굽히기', '앉아서 팔꿈치 굽히기/펴기', '서서 탄력밴드 당겨내리기/올리기', '물병 옆으로 들어올리기'], ['앉아서 다리 밀기', '앉아서 다리 펴기', '앉아서 다리 굽히기', '몸통 들어올리기', '앉아서 밀기', '앉아서 모으기', '앉아서 위로 밀기', '팔굽혀펴기'], ['탄력밴드 어깨 가쪽 돌림', '서서 탄력밴드 당겨내리기/올리기', '엎드려 버티기', '누워서 다리 들어올리기', '누워서 하늘 자전거', '누워서 엉덩이 들어올리기', '서서 뒤꿈치 들기', '의자 앞에서 앉았다 일어서기', '달리기', '자전거타기', '걷기', '줄넘기', '계단 올라갔다 내려오기', '수영', '스텝퍼 뛰어서 오르내리기', '스텝퍼 뛰어서 넘어가기', '사다리 안팎 뛰기', '앉았다 일어서면서 점프하기', '무릎 높여 제자리 달리기', '버피운동'], ['윗몸올리기', '누워서 엉덩이 들어올리기', '엎드려 버티기', '서서 상체 일으키기', '앉아서 밀기', '앉아서 당겨 내리기', '앉아서 다리 밀기', '앉아서 다리 펴기', '자전거타기', '걷기'], ['앉아서 다리 밀기', '앉아서 밀기', '바벨들어올리기', '앉았다 일어서기', '앉았다 일어서기', '팔굽혀펴기'], ['하지 루틴 스트레칭', '하지 루틴 스트레칭', '수영', '달리기', '자전거타기', '스텝박스'], ['앉아서 당겨 내리기', '앉아서 뒤로 당기기', '앉아서 밀기', '앉아서 모으기', '한발 앞으로 내밀고 앉았다 일어서기', '윗몸올리기', '엎드려 버티기', '누워서 다리 들어올리기', '앉았다 일어서기', '의자에 앉아 다리 뻗어 올리기', '앉아서 엉덩관절 굽히기'], ['스텝박스 오르내리기', '달리기', '자전거타기', '줄넘기', '계단 올라갔다 내려오기', '수영', '아쿠아로빅', '물속에서 걷기', '버피운동'], ['팔굽혀펴기', '엎드려서 팔 다리 들기', '몸통 들어올리기', '엎드려 버티기', '옆으로 누워 버티기', '누워서 배가로근 수축', '의자 앞에서 앉았다 일어서기', '한발 앞으로 내밀고 앉았다 일어서기'], ['팔굽혀펴기', '허리 굽혀 팔 뒤로 들기', '앉았다 일어서기', '달리기', '계단 올라갔다 내려오기'], ['달리기', '무릎 높여 제자리 달리기'], ['팔굽혀펴기', '허리 굽혀 팔 뒤로 들기', '앉았다 일어서기', '달리기', '계단 올라갔다 내려오기'], ['앉아서 당겨 내리기', '앉아서 뒤로 당기기', '앉아서 밀기', '앉아서 모으기', '한발 앞으로 내밀고 앉았다 일어서기', '윗몸올리기', '엎드려 버티기', '누워서 다리 들어올리기', '앉았다 일어서기', '의자에 앉아 다리 뻗어 올리기', '앉아서 엉덩관절 굽히기'], ['앉았다 일어서기', '엎드려 버티기', '팔굽혀펴기'], ['목 굽힘/ 폄', '네발기기 자세에서 손바닥으로 바닥밀기', '물병 옆으로 들어올리기', '탄력밴드 어깨 가쪽 돌림', '허리 굽혀 팔 뒤로 들기', '엎드려 버티기'], ['버피운동', '앉았다 일어서면서 점프하기', '앉았다 일어서기', '한발 앞으로 내밀고 앉았다 일어서기', '팔굽혀펴기', '앉아서 당겨 내리기', '원판던지기', '윗몸 말아 올리기', '네발기기 자세에서 다리 위로 뻗어올리기'], ['바벨들어올리기', '턱걸이', '원판던지기', '바벨 끌어당기기', '바벨 들어 팔꿈치 굽히기', '손목 펴기/굽히기'], ['하지 루틴 스트레칭', '하지 루틴 스트레칭', '수영', '달리기', '자전거타기', '스텝박스'], ['달리기', '자전거타기', '줄넘기', '계단 올라갔다 내려오기'], ['의자 앞에서 앉았다 일어서기', '엎드려 버티기', '누워서 엉덩이 들어올리기', '네발기기 자세로 팔 다리 들기', '엎드려서 팔 다리 들기', '누워서 배가로근 수축 '], ['윗몸올리기', '한발 앞으로 내밀고 앉았다 일어서기', '버피운동', '팔굽혀펴기'], ['하지 루틴 스트레칭', '하지 루틴 스트레칭', '수영', '달리기', '자전거타기', '스텝박스'], ['저항밴드 운동 루틴프로그램', '자전거타기', '걷기', '줄넘기', '수영'], ['앉았다 일어서기', '윗몸 일으키기'], ['앉았다 일어서기', '한발 앞으로 내밀고 앉았다 일어서기', '넙다리 스트레칭', '하지 루틴 스트레칭', '상지 루틴 스트레칭', '좌식생활자를 위한 동적 루틴 스트레칭 '], ['좌식생활자를 위한 동적 루틴 스트레칭', '짐볼을 이용한 동적 루틴 스트레칭', '작은 공을 이용한 동적 루틴 스트레칭', '하지 루틴 스트레칭', '하지 루틴 스트레칭', '상지 루틴 스트레칭'], ['팔굽혀펴기', '허리 굽혀 팔 뒤로 들기', '앉았다 일어서기', '달리기', '계단 올라갔다 내려오기', '고정한 상태에서 덤벨 들고 팔꿈치 굽히기', '허리 굽혀 덤벨 뒤로 들기'], ['스텝퍼 옆으로 뛰어넘기', '스텝퍼 올라가서 점프하여 착지하기', '뛰어 내렸다가 바로 점프하기', '사다리 안팎 뛰기', '앉았다 일어서면서 점프하기', '무릎 높여 제자리 달리기', '파워클린', '팔굽혀펴기'], ['팔굽혀펴기', '허리 굽혀 팔 뒤로 들기', '앉았다 일어서기', '달리기', '계단 올라갔다 내려오기'], ['몸통 들어올리기', '소파를 이용한 윗몸올리기', '엎드려 버티기', '옆으로 누워 버티기', '네발기기 자세로 팔 다리 들기', '엎드려서 팔 다리 들기'], ['달리기', '무릎 높여 제자리 달리기'], ['의자 앞에서 앉았다 일어서기', '엎드려 버티기', '누워서 엉덩이 들어올리기', '네발기기 자세로 팔 다리 들기', '엎드려서 팔 다리 들기', '누워서 배가로근 수축 '], ['달리기', '무릎 높여 제자리 달리기'], ['버피운동', '무릎 높여 제자리 달리기', '앉아서 다리 펴기', '앉아서 다리 굽히기', '앉아서 다리 모으기', '앉아서 다리 벌리기', '고정한 상태에서 덤벨 들고 팔꿈치 굽히기', '앉아서 팔꿈치 굽히기/펴기', '서서 탄력밴드 당겨내리기/올리기', '물병 옆으로 들어올리기'], ['탄력밴드 어깨 가쪽 돌림', '서서 탄력밴드 당겨내리기/올리기', '엎드려 버티기', '누워서 다리 들어올리기', '누워서 하늘 자전거', '누워서 엉덩이 들어올리기', '서서 뒤꿈치 들기', '의자 앞에서 앉았다 일어서기', '달리기', '자전거타기', '걷기', '줄넘기', '계단 올라갔다 내려오기', '수영', '스텝퍼 뛰어서 오르내리기', '스텝퍼 뛰어서 넘어가기', '사다리 안팎 뛰기', '앉았다 일어서면서 점프하기', '무릎 높여 제자리 달리기', '버피운동'], ['바운딩 운동 루틴프로그램', '박스 운동 루틴프로그램'], ['윗몸올리기', '누워서 엉덩이 들어올리기', '엎드려 버티기', '서서 상체 일으키기', '앉아서 밀기', '앉아서 당겨 내리기', '앉아서 다리 밀기', '앉아서 다리 펴기', '자전거타기', '걷기'], ['허리 스트레칭', '배 스트레칭', '엉덩이 스트레칭', '하지 루틴 스트레칭', '좌식생활자를 위한 동적 루틴 스트레칭', '작은 공을 이용한 동적 루틴 스트레칭 '], ['맨몸운동 루틴프로그램', '팔벌려뛰기', '사다리 옆으로 발 옮기기', '옆으로 펀치하기', '스텝퍼 오르내리기', '무릎 높여 제자리 달리기'], ['앉았다 일어서기', '의자 앞에서 앉았다 일어서기', '의자에 앉아 다리 뻗어 올리기', '서서 뒤꿈치 들기', '서서 상체 일으키기', '윗몸올리기', '엎드려 버티기', '누워서 다리 들어올리기', '누워서 수직으로 다리 들어올리기', '누워서 엉덩이 들어올리기', '엎드려서 팔 다리 들기', '손목 펴기/굽히기', '뒤로 팔굽혀펴기', '허리 굽혀 팔 뒤로 들기', '물병 옆으로 들어올리기', '팔꿈치 굽히기', '자전거타기', '걷기', '계단 올라갔다 내려오기', '수영'], ['윗몸올리기', '누워서 엉덩이 들어올리기', '엎드려 버티기', '서서 상체 일으키기', '앉아서 밀기', '앉아서 당겨 내리기', '앉아서 다리 밀기', '앉아서 다리 펴기', '자전거타기', '걷기'], ['앉았다 일어서기', '앞굽이 앉았다 일어서기', '연속 사이드 스쿼드', '팔굽혀 펴기', '뒤로 팔굽혀펴기', '서서 상체 일으키기', '윗몸올리기', '누워서 다리 들어올리기', '누워서 엉덩이 들어올리기'], ['팔굽혀펴기', '허리 굽혀 팔 뒤로 들기', '앉았다 일어서기', '달리기', '계단 올라갔다 내려오기', '고정한 상태에서 덤벨 들고 팔꿈치 굽히기', '허리 굽혀 덤벨 뒤로 들기'], ['달리기', '자전거타기', '줄넘기', '계단 올라갔다 내려오기'], ['상지 루틴 스트레칭', '전신 루틴 스트레칭'], ['앉아서 다리 밀기', '앉아서 다리 펴기', '앉아서 다리 굽히기', '앉아서 당겨 내리기', '앉아서 뒤로 당기기', '앉아서 밀기', '앉아서 위로 밀기', '윗몸올리기', '누워서 다리 들어올리기', '몸통 들어올리기'], ['버피운동', '무릎 높여 제자리 달리기', '앉아서 다리 펴기', '앉아서 다리 굽히기', '앉아서 다리 모으기', '앉아서 다리 벌리기', '고정한 상태에서 덤벨 들고 팔꿈치 굽히기', '앉아서 팔꿈치 굽히기/펴기', '서서 탄력밴드 당겨내리기/올리기', '물병 옆으로 들어올리기'], ['스텝퍼 옆으로 뛰어넘기', '스텝퍼 올라가서 점프하여 착지하기', '뛰어 내렸다가 바로 점프하기', '사다리 안팎 뛰기', '앉았다 일어서면서 점프하기', '무릎 높여 제자리 달리기', '파워클린', '팔굽혀펴기'], ['달리기', '수영', '자전거타기', '자전거타기'], ['앉았다 일어서기', '엎드려서 균형잡기', '엎드려 버티기', '옆으로 누워 버티기', '누워서 다리 들어올리기', '누워서 다리 좌우로 움직이기'], ['자전거타기', '물누르기/올리기'], ['몸통 들어올리기', '소파를 이용한 윗몸올리기', '엎드려 버티기', '옆으로 누워 버티기', '네발기기 자세로 팔 다리 들기', '엎드려서 팔 다리 들기'], ['탄력밴드 어깨 가쪽 돌림', '서서 탄력밴드 당겨내리기/올리기', '엎드려 버티기', '누워서 다리 들어올리기', '누워서 하늘 자전거', '누워서 엉덩이 들어올리기', '서서 뒤꿈치 들기', '의자 앞에서 앉았다 일어서기', '달리기', '자전거타기', '걷기', '줄넘기', '계단 올라갔다 내려오기', '수영', '스텝퍼 뛰어서 오르내리기', '스텝퍼 뛰어서 넘어가기', '사다리 안팎 뛰기', '앉았다 일어서면서 점프하기', '무릎 높여 제자리 달리기', '버피운동'], ['달리기', '수영', '자전거타기', '자전거타기'], ['누워서 다리 들어올리기', '팔꿈치 굽히기', '서서 다리로 탄력밴드 당기기', '누워서 엉덩이 들어올리기', '팔굽혀펴기', '윗몸올리기', '한발 앞으로 내밀고 앉았다 일어서기', '서서 뒤꿈치 들기', '엎드려서 팔 다리 들기', '허리 굽혀 팔 뒤로 들기', '앉았다 일어서기', '물병 옆으로 들어올리기', '자전거타기', '걷기', '계단 올라갔다 내려오기', '수영'], ['서서 상체 일으키기', '앉았다 일어서기', '윗몸올리기', '옆으로 누워 버티기', '누워서 엉덩이 들어올리기', '앉아서 팔꿈치 굽히기/펴기', '달리기', '자전거타기', '걷기', '줄넘기', '계단 올라갔다 내려오기', '수영', '스텝퍼 뛰어서 오르내리기', '스텝퍼 뛰어서 넘어가기', '사다리 안팎 뛰기', '앉았다 일어서면서 점프하기', '무릎 높여 제자리 달리기', '버피운동'], ['좌식생활자를 위한 동적 루틴 스트레칭', '짐볼을 이용한 동적 루틴 스트레칭', '작은 공을 이용한 동적 루틴 스트레칭', '하지 루틴 스트레칭', '하지 루틴 스트레칭', '상지 루틴 스트레칭'], ['자전거타기', '수영', '달리기', '앉았다 일어서기', '팔굽혀펴기', '윗몸올리기', '누워서 엉덩이 들어올리기', '엎드려 버티기', '엎드려서 팔 다리 들기'], ['앉았다 일어서기', '한발 앞으로 내밀고 앉았다 일어서기', '윗몸올리기', '엎드려 버티기', '옆으로 누워 버티기', '누워서 엉덩이 들어올리기'], ['서서 뒤꿈치 들기', '한발 서서 균형잡기', '의자에 앉아 다리 뻗어 올리기'], ['달리기', '계단 올라갔다 내려오기', '자전거타기', '걷기'], ['맨몸운동 루틴프로그램', '자전거타기', '걷기', '줄넘기', '수영'], ['줄넘기', '계단 올라갔다 내려오기'], ['턱걸이', '버피운동'], ['윗몸올리기', '누워서 엉덩이 들어올리기', '엎드려 버티기', '서서 상체 일으키기', '앉아서 밀기', '앉아서 당겨 내리기', '앉아서 다리 밀기', '앉아서 다리 펴기', '자전거타기', '걷기'], ['앉았다 일어서기', '윗몸올리기', '엎드려 버티기', '옆으로 누워 버티기', '누워서 다리 들어올리기', '네발기기 자세로 팔 다리 들기', '엎드려서 팔 다리 들기', '팔굽혀펴기', '서서 뒤꿈치 들기'], ['스텝퍼 옆으로 뛰어넘기', '스텝퍼 올라가서 점프하여 착지하기', '뛰어 내렸다가 바로 점프하기', '사다리 안팎 뛰기', '앉았다 일어서면서 점프하기', '무릎 높여 제자리 달리기', '파워클린', '팔굽혀펴기'], ['앉았다 일어서기', '윗몸올리기', '엎드려 버티기', '옆으로 누워 버티기', '누워서 다리 들어올리기', '네발기기 자세로 팔 다리 들기', '엎드려서 팔 다리 들기', '팔굽혀펴기', '서서 뒤꿈치 들기'], ['상지 루틴 스트레칭', '전신 루틴 스트레칭'], ['맨몸운동 루틴프로그램', '저항밴드 운동 루틴프로그램', '웨이트 트레이닝 루틴프로그램'], ['몸통 들어올리기', '소파를 이용한 윗몸올리기', '엎드려 버티기', '옆으로 누워 버티기', '네발기기 자세로 팔 다리 들기', '엎드려서 팔 다리 들기'], ['달리기', '무릎 높여 제자리 달리기'], ['자전거타기', '걷기', '계단 올라갔다 내려오기', '수영'], ['목 스트레칭', '등/어깨 뒤쪽 스트레칭', '가슴/어깨 앞쪽 스트레칭', '아래 팔 스트레칭', '허리 스트레칭', '배 스트레칭', '옆구리 스트레칭', '엉덩이 스트레칭', '넙다리 스트레칭', '넙다리 스트레칭', '넙다리 스트레칭', '좌식생활자를 위한 동적 루틴 스트레칭 '], ['앉았다 일어서기', '팔굽혀펴기', '엎드려 버티기', '서서 상체 일으키기'], ['앉았다 일어서기', '앞굽이 앉았다 일어서기', '연속 사이드 스쿼드', '팔굽혀 펴기', '뒤로 팔굽혀펴기', '서서 상체 일으키기', '윗몸올리기', '누워서 다리 들어올리기', '누워서 엉덩이 들어올리기'], ['윗몸올리기', '누워서 엉덩이 들어올리기', '엎드려 버티기', '서서 상체 일으키기', '앉아서 밀기', '앉아서 당겨 내리기', '앉아서 다리 밀기', '앉아서 다리 펴기', '자전거타기', '걷기'], ['상지 루틴 스트레칭', '전신 루틴 스트레칭'], ['한발 앞으로 내밀고 앉았다 일어서기', '앉아서 엉덩관절 굽히기', '서서 뒤꿈치 들기', '한발 서서 균형잡기', '누워서 배가로근 수축', '누워서 배가로근 수축 '], ['자전거타기', '걷기'], ['앉았다 일어서기', '엎드려 버티기', '팔굽혀펴기'], ['몸통 들어올리기', '소파를 이용한 윗몸올리기', '엎드려 버티기', '옆으로 누워 버티기', '네발기기 자세로 팔 다리 들기', '엎드려서 팔 다리 들기'], ['자전거타기', '줄넘기', '계단 올라갔다 내려오기', '수영', '아쿠아로빅', '스텝박스'], ['허리 스트레칭', '배 스트레칭', '엉덩이 스트레칭', '하지 루틴 스트레칭', '좌식생활자를 위한 동적 루틴 스트레칭', '작은 공을 이용한 동적 루틴 스트레칭 '], ['윗몸올리기', '누워서 엉덩이 들어올리기', '엎드려 버티기', '서서 상체 일으키기', '앉아서 밀기', '앉아서 당겨 내리기', '앉아서 다리 밀기', '앉아서 다리 펴기', '자전거타기', '걷기'], ['앉았다 일어서기', '한발 앞으로 내밀고 앉았다 일어서기', '누워서 덤벨 들어올리기', '윗몸올리기', '턱걸이', '바벨 끌어당기기'], ['자전거타기', '걷기', '계단 올라갔다 내려오기', '앉았다 일어서기', '서서 뒤꿈치 들기'], ['달리기', '무릎 높여 제자리 달리기'], ['허리 스트레칭', '배 스트레칭', '엉덩이 스트레칭', '하지 루틴 스트레칭', '좌식생활자를 위한 동적 루틴 스트레칭', '작은 공을 이용한 동적 루틴 스트레칭 '], ['탄력밴드 어깨 가쪽 돌림', '서서 탄력밴드 당겨내리기/올리기', '엎드려 버티기', '누워서 다리 들어올리기', '누워서 하늘 자전거', '누워서 엉덩이 들어올리기', '서서 뒤꿈치 들기', '의자 앞에서 앉았다 일어서기', '달리기', '자전거타기', '걷기', '줄넘기', '계단 올라갔다 내려오기', '수영', '스텝퍼 뛰어서 오르내리기', '스텝퍼 뛰어서 넘어가기', '사다리 안팎 뛰기', '앉았다 일어서면서 점프하기', '무릎 높여 제자리 달리기', '버피운동'], ['달리기', '자전거타기', '줄넘기', '계단 올라갔다 내려오기'], ['앉았다 일어서기', '원판던지기', '한발 앞으로 내밀고 앉았다 일어서기', '몸통 들어올리기', '바벨들어올리기', '윗몸올리기', '엎드려 버티기', '옆으로 누워 버티기'], ['자전거타기', '줄넘기', '계단 올라갔다 내려오기'], ['달리기', '무릎 높여 제자리 달리기'], ['계단 뛰기', '달리기', '스텝박스', '박스 운동 루틴프로그램', '사다리 운동 루틴프로그램', '콘운동 루틴프로그램', '사이드 스텝 점프하기', '한발로 점프하기'], ['팔꿈치 굽히기', '물병 옆으로 들어올리기', '뒤로 팔굽혀펴기', '손목 펴기/굽히기', '자전거타기', '걷기', '줄넘기', '수영'], ['달리기', '자전거타기', '줄넘기', '계단 올라갔다 내려오기'], ['밴드 잡고 몸통 옆으로 굽히기', '몸통 들어올리기', '팔굽혀 펴기', '바로서서 상체 숙이기', '누워 다리 들어올리기', '의자에 앉아 물병 들고 몸통 돌리기', '네발기기 자세로 팔 다리 들기', '엎드려서 팔 다리 들기'], ['자전거타기', '물누르기/올리기'], ['자전거타기', '수영', '달리기', '앉았다 일어서기', '팔굽혀펴기', '윗몸올리기', '누워서 엉덩이 들어올리기', '엎드려 버티기', '엎드려서 팔 다리 들기'], ['윗몸올리기', '누워서 엉덩이 들어올리기', '엎드려 버티기', '서서 상체 일으키기', '앉아서 밀기', '앉아서 당겨 내리기', '앉아서 다리 밀기', '앉아서 다리 펴기', '자전거타기', '걷기'], ['자전거타기', '자전거타기', '걷기'], ['앉았다 일어서기', '한발 앞으로 내밀고 앉았다 일어서기', '앉아서 다리 밀기', '앉아서 다리 굽히기', '앉아서 위로 밀기', '서서 바벨 위로 밀기', '탄력밴드 어깨 가쪽 돌림', '서서 탄력밴드 당겨내리기/올리기'], ['자전거타기', '걷기', '계단 올라갔다 내려오기', '앉았다 일어서기', '서서 뒤꿈치 들기'], ['달리기', '무릎 높여 제자리 달리기'], ['앉아서 다리 펴기', '앉아서 다리 굽히기', '앉아서 당겨 내리기', '앉아서 밀기'], ['달리기', '무릎 높여 제자리 달리기'], ['몸통 들어올리기', '엎드려서 균형잡기', '윗몸 말아 올리기', '엎드려서 다리 차올리기', '엎드려 버티기', '옆으로 누워 버티기', '누워서 다리 들어올리기', '누워서 다리 좌우로 움직이기', '누워서 하늘 자전거', '누워서 엉덩이 들어올리기', '네발기기 자세로 팔 다리 들기', '엎드려서 팔 다리 들기', '네발기기 자세에서 다리 위로 뻗어올리기', '누워서 배가로근 수축', '누워서 배가로근 수축 '], ['앉았다 일어서기', '윗몸올리기', '엎드려 버티기', '옆으로 누워 버티기', '누워서 다리 들어올리기', '네발기기 자세로 팔 다리 들기', '엎드려서 팔 다리 들기', '팔굽혀펴기', '서서 뒤꿈치 들기'], ['달리기', '계단 올라갔다 내려오기', '자전거타기', '걷기'], ['대퇴이두근 스트레칭', '요통을 위한 스트레칭', '몸통 앞으로 굽혀 걷기', '앉아서 상체 앞 옆으로 기울기', '앉았다 일어서기', '바벨들어올리기', '누워서 가슴 밀기', '서서 바벨 위로 밀기', '앉아서 당겨 내리기', '한발 앞으로 내밀고 앉았다 일어서기', '달리기', '자전거타기', '계단 올라갔다 내려오기', '계단 뛰기', '수영', '버피운동', '목 스트레칭', '전신 루틴 스트레칭'], ['몸통 들어올리기', '팔굽혀 펴기', '앞굽이 앉았다 일어서기'], ['윗몸올리기', '누워서 엉덩이 들어올리기', '엎드려 버티기', '서서 상체 일으키기', '앉아서 밀기', '앉아서 당겨 내리기', '앉아서 다리 밀기', '앉아서 다리 펴기', '자전거타기', '걷기'], ['맨몸운동 루틴프로그램', '걷기'], ['의자 앞에서 앉았다 일어서기', '엎드려 버티기', '누워서 엉덩이 들어올리기', '네발기기 자세로 팔 다리 들기', '엎드려서 팔 다리 들기', '누워서 배가로근 수축 '], ['서서 상체 일으키기', '앉았다 일어서기', '윗몸올리기', '옆으로 누워 버티기', '누워서 엉덩이 들어올리기', '앉아서 팔꿈치 굽히기/펴기', '달리기', '자전거타기', '걷기', '줄넘기', '계단 올라갔다 내려오기', '수영', '스텝퍼 뛰어서 오르내리기', '스텝퍼 뛰어서 넘어가기', '사다리 안팎 뛰기', '앉았다 일어서면서 점프하기', '무릎 높여 제자리 달리기', '버피운동'], ['양팔 크게 벌리기', '허리 굽혀 덤벨 들기', '서서 바벨 위로 밀기', '앉았다 일어서기', '한발 앞으로 내밀고 앉았다 일어서기'], ['앉아서 다리 밀기', '앉아서 다리 펴기', '앉아서 다리 굽히기', '앉아서 당겨 내리기', '앉아서 뒤로 당기기', '앉아서 밀기', '앉아서 위로 밀기', '윗몸올리기', '누워서 다리 들어올리기', '몸통 들어올리기'], ['맨몸운동 루틴프로그램', '저항밴드 운동 루틴프로그램', '웨이트 트레이닝 루틴프로그램'], ['허리 스트레칭', '배 스트레칭', '엉덩이 스트레칭', '하지 루틴 스트레칭', '앉아서 다리 밀기', '앉아서 다리 펴기', '앉아서 다리 모으기', '앉아서 다리 벌리기', '앉아서 당겨 내리기', '앉아서 뒤로 당기기', '앉아서 밀기', '자전거타기', '줄넘기', '계단 올라갔다 내려오기', '수영', '아쿠아로빅', '스텝박스', '스텝퍼 뛰어서 오르내리기', '스텝퍼 옆으로 뛰어넘기', '뛰어 내렸다가 바로 점프하기', '사다리 안팎 뛰기', '앉았다 일어서면서 점프하기', '무릎 높여 제자리 달리기', '옆으로 펀치하기', '버피운동', '계단 뛰기', '빠른 발 뛰기'], ['달리기', '자전거타기', '자전거타기', '걷기', '줄넘기', '계단 올라갔다 내려오기', '계단 뛰기', '수영'], ['달리기', '자전거타기', '계단 올라갔다 내려오기', '수영', '서서 다리 뒤로 차기', '누워서 엉덩이 들어올리기', '윗몸올리기', '네발기기 자세로 팔 다리 들기', '몸통 옆으로 굽히기', '엎드려 버티기', '누워서 다리 들어올리기', '엎드려서 팔 다리 들기'], ['달리기', '무릎 높여 제자리 달리기'], ['앉았다 일어서기', '한발 앞으로 내밀고 앉았다 일어서기', '넙다리 스트레칭', '하지 루틴 스트레칭', '상지 루틴 스트레칭', '좌식생활자를 위한 동적 루틴 스트레칭 '], ['계단 올라갔다 내려오기', '계단 뛰기', '수영', '자전거타기', '자전거타기'], ['달리기', '무릎 높여 제자리 달리기'], ['자전거타기', '줄넘기', '계단 올라갔다 내려오기', '수영', '아쿠아로빅', '스텝박스'], ['윗몸올리기', '누워서 엉덩이 들어올리기', '엎드려 버티기', '서서 상체 일으키기', '앉아서 밀기', '앉아서 당겨 내리기', '앉아서 다리 밀기', '앉아서 다리 펴기', '자전거타기', '걷기'], ['맨몸운동 루틴프로그램', '저항밴드 운동 루틴프로그램', '웨이트 트레이닝 루틴프로그램'], ['윗몸올리기', '누워서 엉덩이 들어올리기', '엎드려 버티기', '서서 상체 일으키기', '앉아서 밀기', '앉아서 당겨 내리기', '앉아서 다리 밀기', '앉아서 다리 펴기', '자전거타기', '걷기'], ['앉아서 다리 밀기', '앉아서 다리 펴기', '앉아서 다리 굽히기', '누워서 밀기', '앉아서 모으기', '앉아서 위로 밀기', '바벨들어올리기', '앉았다 일어서기', '한발 앞으로 내밀고 앉았다 일어서기', '턱걸이', '바벨 끌어당기기', '허리 굽혀 덤벨 들기', '누워서 덤벨 들어올리기', '손목 펴기/굽히기', '소파를 이용한 윗몸올리기', '누워서 다리 들어올리기', '누워서 하늘 자전거', '누워서 엉덩이 들어올리기', '팔굽혀펴기', '달리기', '자전거타기', '계단 올라갔다 내려오기', '계단 뛰기', '수영'], ['앉아서 위로 밀기', '턱걸이', '바벨 끌어당기기', '고정한 상태에서 덤벨 들고 팔꿈치 굽히기', '앉아서 다리 밀기', '앉아서 다리 펴기', '앉아서 다리 굽히기', '원판던지기'], ['달리기', '무릎 높여 제자리 달리기'], ['탄력밴드 어깨 가쪽 돌림', '서서 탄력밴드 당겨내리기/올리기', '엎드려 버티기', '누워서 다리 들어올리기', '누워서 하늘 자전거', '누워서 엉덩이 들어올리기', '서서 뒤꿈치 들기', '의자 앞에서 앉았다 일어서기', '달리기', '자전거타기', '걷기', '줄넘기', '계단 올라갔다 내려오기', '수영', '스텝퍼 뛰어서 오르내리기', '스텝퍼 뛰어서 넘어가기', '사다리 안팎 뛰기', '앉았다 일어서면서 점프하기', '무릎 높여 제자리 달리기', '버피운동'], ['달리기', '무릎 높여 제자리 달리기'], ['윗몸올리기', '누워서 엉덩이 들어올리기', '엎드려 버티기', '서서 상체 일으키기', '앉아서 밀기', '앉아서 당겨 내리기', '앉아서 다리 밀기', '앉아서 다리 펴기', '자전거타기', '걷기'], ['윗몸올리기', '누워서 엉덩이 들어올리기', '엎드려 버티기', '서서 상체 일으키기', '앉아서 밀기', '앉아서 당겨 내리기', '앉아서 다리 밀기', '앉아서 다리 펴기', '자전거타기', '걷기'], ['엉덩이 스트레칭', '엉덩이 스트레칭', '넙다리 스트레칭', '넙다리 스트레칭', '몸통 앞으로 굽혀 걷기', '다리들어 옆으로 올리기', '무릎굽혀 원 그리기', '전진 점프하며 발바닥 찍기'], ['달리기', '계단 올라갔다 내려오기', '자전거타기', '걷기'], ['짐볼 이용 근력운동 루틴 프로그램', '의자 이용 근력운동 루틴 프로그램', '머신이용 근력운동 루틴프로그램'], ['뛰어 내렸다가 바로 점프하기', '앉았다 일어서면서 점프하기', '스텝퍼 오르내리기', '무릎 높여 제자리 달리기'], ['몸통 들어올리기', '소파를 이용한 윗몸올리기', '엎드려 버티기', '옆으로 누워 버티기', '네발기기 자세로 팔 다리 들기', '엎드려서 팔 다리 들기'], ['앉았다 일어서기', '한발 앞으로 내밀고 앉았다 일어서기', '누워서 덤벨 들어올리기', '윗몸올리기', '턱걸이', '바벨 끌어당기기'], ['앉아서 당겨 내리기', '앉아서 뒤로 당기기', '앉아서 밀기', '앉았다 일어서기', '한발 앞으로 내밀고 앉았다 일어서기', '턱걸이', '몸통 옆으로 굽히기', '윗몸올리기', '엎드려 버티기', '옆으로 누워 버티기'], ['탄력밴드 어깨 가쪽 돌림', '서서 탄력밴드 당겨내리기/올리기', '엎드려 버티기', '누워서 다리 들어올리기', '누워서 하늘 자전거', '누워서 엉덩이 들어올리기', '서서 뒤꿈치 들기', '의자 앞에서 앉았다 일어서기', '달리기', '자전거타기', '걷기', '줄넘기', '계단 올라갔다 내려오기', '수영', '스텝퍼 뛰어서 오르내리기', '스텝퍼 뛰어서 넘어가기', '사다리 안팎 뛰기', '앉았다 일어서면서 점프하기', '무릎 높여 제자리 달리기', '버피운동'], ['계단 올라갔다 내려오기', '달리기', '팔굽혀 펴기', '바로서서 상체 숙이기', '앉았다 일어서기'], ['자전거타기', '수영', '달리기', '앉았다 일어서기', '팔굽혀펴기', '윗몸올리기', '누워서 엉덩이 들어올리기', '엎드려 버티기', '엎드려서 팔 다리 들기'], ['윗몸올리기', '누워서 엉덩이 들어올리기', '엎드려 버티기', '서서 상체 일으키기', '앉아서 밀기', '앉아서 당겨 내리기', '앉아서 다리 밀기', '앉아서 다리 펴기', '자전거타기', '걷기'], ['앉았다 일어서기', '한발 앞으로 내밀고 앉았다 일어서기', '윗몸올리기', '엎드려 버티기', '옆으로 누워 버티기', '누워서 엉덩이 들어올리기'], ['윗몸올리기', '누워서 엉덩이 들어올리기', '엎드려 버티기', '서서 상체 일으키기', '앉아서 밀기', '앉아서 당겨 내리기', '앉아서 다리 밀기', '앉아서 다리 펴기', '자전거타기', '걷기'], ['앉아서 다리 밀기', '앉아서 다리 펴기', '앉아서 다리 굽히기', '몸통 들어올리기', '앉아서 밀기', '앉아서 모으기', '앉아서 위로 밀기', '팔굽혀펴기'], ['달리기', '자전거타기', '수영', '달리기', '계단 올라갔다 내려오기'], ['몸통 들어올리기', '소파를 이용한 윗몸올리기', '엎드려 버티기', '옆으로 누워 버티기', '네발기기 자세로 팔 다리 들기', '엎드려서 팔 다리 들기'], ['맨몸운동 루틴프로그램'], ['달리기', '자전거타기', '자전거타기', '걷기', '줄넘기', '계단 올라갔다 내려오기', '계단 뛰기', '수영'], ['달리기', '무릎 높여 제자리 달리기'], ['스텝퍼 옆으로 뛰어넘기', '앉았다 일어서면서 점프하기', '무릎 높여 제자리 달리기', '스텝퍼 오르내리기', '한발 연속 뛰기', '사이드 지그재그 뛰기', '순간반응 콘 찍기', '팔 벌려 뛰기', '앉았다 일어나며 점프하기', '점프 후 버티기', '좌우 양발모아 점프하기', '한발로 점프하기', '좌우 이동하며 팔굽혀펴기'], ['달리기', '무릎 높여 제자리 달리기'], ['허리 스트레칭', '배 스트레칭', '엉덩이 스트레칭', '하지 루틴 스트레칭', '자전거타기', '줄넘기', '계단 올라갔다 내려오기', '수영', '아쿠아로빅', '스텝박스', '스텝퍼 뛰어서 오르내리기', '스텝퍼 옆으로 뛰어넘기', '뛰어 내렸다가 바로 점프하기', '사다리 안팎 뛰기', '앉았다 일어서면서 점프하기', '무릎 높여 제자리 달리기', '옆으로 펀치하기', '버피운동', '계단 뛰기', '빠른 발 뛰기'], ['앉았다 일어서기', '엎드려 버티기', '팔굽혀펴기'], ['앉았다 일어서기', '한발 앞으로 내밀고 앉았다 일어서기', '턱걸이', '점프 팔굽혀펴기', '소파를 이용한 윗몸올리기', '엎드려 버티기'], ['달리기'], ['팔굽혀펴기', '엎드려서 팔 다리 들기', '몸통 들어올리기', '엎드려 버티기', '옆으로 누워 버티기', '누워서 배가로근 수축', '의자 앞에서 앉았다 일어서기', '한발 앞으로 내밀고 앉았다 일어서기'], ['허리 스트레칭', '배 스트레칭', '엉덩이 스트레칭', '넙다리 스트레칭', '넙다리 스트레칭', '넙다리 스트레칭'], ['맨몸운동 루틴프로그램'], ['앉았다 일어서면서 점프하기', '무릎 높여 제자리 달리기'], ['윗몸올리기', '누워서 엉덩이 들어올리기', '엎드려 버티기', '서서 상체 일으키기', '앉아서 밀기', '앉아서 당겨 내리기', '앉아서 다리 밀기', '앉아서 다리 펴기', '자전거타기', '걷기'], ['몸통 들어올리기', '소파를 이용한 윗몸올리기', '엎드려 버티기', '옆으로 누워 버티기', '네발기기 자세로 팔 다리 들기', '엎드려서 팔 다리 들기'], ['누워서 팔 밀기', '앉아서 가슴 모으기', '앉아서 양팔 당기기', '앉아서 당겨 내리기', '몸통 옆으로 굽히기', '앉아서 몸통 움츠리기'], ['허리 굽혀 팔 뒤로 들기', '물병 옆으로 들어올리기', '네발기기 자세로 팔 다리 들기', '누워서 엉덩이 들어올리기', '자전거타기', '걷기'], ['앉았다 일어서기', '한발 앞으로 내밀고 앉았다 일어서기', '앉아서 다리 밀기', '앉아서 다리 굽히기', '앉아서 위로 밀기', '서서 바벨 위로 밀기', '탄력밴드 어깨 가쪽 돌림', '서서 탄력밴드 당겨내리기/올리기'], ['대퇴이두근 스트레칭', '요통을 위한 스트레칭', '몸통 앞으로 굽혀 걷기', '앉아서 상체 앞 옆으로 기울기', '앉았다 일어서기', '바벨들어올리기', '누워서 가슴 밀기', '서서 바벨 위로 밀기', '앉아서 당겨 내리기', '한발 앞으로 내밀고 앉았다 일어서기', '달리기', '자전거타기', '계단 올라갔다 내려오기', '계단 뛰기', '수영', '버피운동', '목 스트레칭', '전신 루틴 스트레칭'], ['윗몸올리기', '누워서 엉덩이 들어올리기', '엎드려 버티기', '서서 상체 일으키기', '앉아서 밀기', '앉아서 당겨 내리기', '앉아서 다리 밀기', '앉아서 다리 펴기', '자전거타기', '걷기'], ['윗몸올리기', '누워서 엉덩이 들어올리기', '엎드려 버티기', '서서 상체 일으키기', '앉아서 밀기', '앉아서 당겨 내리기', '앉아서 다리 밀기', '앉아서 다리 펴기', '자전거타기', '걷기'], ['고정한 상태에서 덤벨 들고 팔꿈치 굽히기', '손목 펴기/굽히기', '뒤로 팔굽혀펴기', '팔꿈치 굽히기'], ['팔벌려뛰기', '버피운동'], ['달리기', '무릎 높여 제자리 달리기'], ['계단 올라갔다 내려오기', '계단 뛰기', '수영', '자전거타기', '자전거타기'], ['달리기', '줄넘기', '계단 뛰기'], ['팔벌려뛰기', '버피운동', '점프 팔굽혀펴기', '뛰어 내렸다가 바로 점프하기', '앉았다 일어서면서 점프하기', '무릎 높여 제자리 달리기', '계단 뛰기', '계단 뛰기'], ['맨몸운동 루틴프로그램', '걷기'], ['앉았다 일어서기', '한발 앞으로 내밀고 앉았다 일어서기', '누워서 다리 들어올리기', '팔굽혀펴기', '팔꿈치 굽히기'], ['계단 올라갔다 내려오기', '계단 뛰기', '수영', '자전거타기', '자전거타기'], ['누워서 팔 밀기', '앉아서 가슴 모으기', '앉아서 양팔 당기기', '앉아서 당겨 내리기', '몸통 옆으로 굽히기', '앉아서 몸통 움츠리기'], ['앉았다 일어서기', '한발 앞으로 내밀고 앉았다 일어서기', '넙다리 스트레칭', '하지 루틴 스트레칭', '상지 루틴 스트레칭', '좌식생활자를 위한 동적 루틴 스트레칭 '], ['앉았다 일어서기', '한발 앞으로 내밀고 앉았다 일어서기', '앉았다 일어서기', '윗몸올리기', '엎드려 버티기', '누워서 다리 들어올리기', '누워서 엉덩이 들어올리기', '팔굽혀펴기', '팔벌려뛰기', '버피운동', '줄넘기', '수영'], ['윗몸올리기', '누워서 엉덩이 들어올리기', '엎드려 버티기', '서서 상체 일으키기', '앉아서 밀기', '앉아서 당겨 내리기', '앉아서 다리 밀기', '앉아서 다리 펴기', '자전거타기', '걷기'], ['서서 상체 일으키기', '앉았다 일어서기', '소파를 이용한 윗몸올리기', '엎드려 버티기', '네발기기 자세로 팔 다리 들기', '서서 다리 뒤로 차기'], ['목 스트레칭', '등/어깨 뒤쪽 스트레칭', '가슴/어깨 앞쪽 스트레칭', '아래 팔 스트레칭', '허리 스트레칭', '배 스트레칭', '옆구리 스트레칭', '엉덩이 스트레칭', '넙다리 스트레칭', '넙다리 스트레칭', '넙다리 스트레칭', '좌식생활자를 위한 동적 루틴 스트레칭 '], ['달리기', '줄넘기', '계단 뛰기', '윗몸올리기', '누워서 다리 들어올리기'], ['누워서 팔 밀기', '앉아서 가슴 모으기', '앉아서 양팔 당기기', '앉아서 당겨 내리기', '몸통 옆으로 굽히기', '앉아서 몸통 움츠리기'], ['앉았다 일어서기', '한발 앞으로 내밀고 앉았다 일어서기', '누워서 덤벨 들어올리기', '윗몸올리기', '턱걸이', '바벨 끌어당기기'], ['계단 뛰기', '달리기', '스텝박스', '박스 운동 루틴프로그램', '사다리 운동 루틴프로그램', '콘운동 루틴프로그램', '사이드 스텝 점프하기', '한발로 점프하기'], ['달리기', '자전거타기', '자전거타기', '걷기', '계단 올라갔다 내려오기', '수영'], ['달리기', '계단 올라갔다 내려오기', '자전거타기', '걷기'], ['몸통 들어올리기', '소파를 이용한 윗몸올리기', '엎드려 버티기', '옆으로 누워 버티기', '네발기기 자세로 팔 다리 들기', '엎드려서 팔 다리 들기'], ['서서 상체 일으키기', '앉았다 일어서기', '윗몸올리기', '옆으로 누워 버티기', '누워서 엉덩이 들어올리기', '앉아서 팔꿈치 굽히기/펴기', '달리기', '자전거타기', '걷기', '줄넘기', '계단 올라갔다 내려오기', '수영', '스텝퍼 뛰어서 오르내리기', '스텝퍼 뛰어서 넘어가기', '사다리 안팎 뛰기', '앉았다 일어서면서 점프하기', '무릎 높여 제자리 달리기', '버피운동'], ['상지 루틴 스트레칭', '전신 루틴 스트레칭'], ['윗몸올리기', '누워서 엉덩이 들어올리기', '엎드려 버티기', '서서 상체 일으키기', '앉아서 밀기', '앉아서 당겨 내리기', '앉아서 다리 밀기', '앉아서 다리 펴기', '자전거타기', '걷기'], ['윗몸올리기', '누워서 엉덩이 들어올리기', '엎드려 버티기', '서서 상체 일으키기', '앉아서 밀기', '앉아서 당겨 내리기', '앉아서 다리 밀기', '앉아서 다리 펴기', '자전거타기', '걷기'], ['윗몸 말아 올리기', '윗몸올리기', '누워서 다리 들어올리기', '누워서 팔 다리 동시에 들어올리기', '팔굽혀펴기'], ['윗몸올리기', '누워서 엉덩이 들어올리기', '엎드려 버티기', '서서 상체 일으키기', '앉아서 밀기', '앉아서 당겨 내리기', '앉아서 다리 밀기', '앉아서 다리 펴기', '자전거타기', '걷기'], ['밴드 잡고 몸통 옆으로 굽히기', '몸통 들어올리기', '팔굽혀 펴기', '바로서서 상체 숙이기', '누워 다리 들어올리기', '의자에 앉아 물병 들고 몸통 돌리기', '네발기기 자세로 팔 다리 들기', '엎드려서 팔 다리 들기'], ['팔굽혀펴기', '허리 굽혀 팔 뒤로 들기', '앉았다 일어서기', '달리기', '계단 올라갔다 내려오기'], ['앉았다 일어서기', '한발 앞으로 내밀고 앉았다 일어서기', '턱걸이', '점프 팔굽혀펴기', '소파를 이용한 윗몸올리기', '엎드려 버티기'], ['달리기', '자전거타기', '줄넘기', '계단 올라갔다 내려오기'], ['스텝퍼 옆으로 뛰어넘기', '스텝퍼 올라가서 점프하여 착지하기', '뛰어 내렸다가 바로 점프하기', '사다리 안팎 뛰기', '앉았다 일어서면서 점프하기', '무릎 높여 제자리 달리기', '파워클린', '팔굽혀펴기'], ['맨몸운동 루틴프로그램', '자전거타기', '걷기', '줄넘기', '수영'], ['달리기', '무릎 높여 제자리 달리기'], ['앉아서 당겨 내리기', '앉아서 뒤로 당기기', '앉아서 밀기', '앉아서 모으기', '한발 앞으로 내밀고 앉았다 일어서기', '윗몸올리기', '엎드려 버티기', '누워서 다리 들어올리기', '앉았다 일어서기', '의자에 앉아 다리 뻗어 올리기', '앉아서 엉덩관절 굽히기'], ['달리기', '자전거타기', '줄넘기', '계단 올라갔다 내려오기'], ['걷기', '자전거타기', '걷기', '달리기'], ['앉았다 일어서기', '한발 앞으로 내밀고 앉았다 일어서기', '누워서 덤벨 들어올리기', '윗몸올리기', '턱걸이', '바벨 끌어당기기'], ['윗몸 말아 올리기', '윗몸올리기', '누워서 다리 들어올리기', '누워서 팔 다리 동시에 들어올리기', '팔굽혀펴기'], ['팔굽혀 펴기', '배 스트레칭'], ['자전거타기', '줄넘기', '계단 올라갔다 내려오기', '수영', '아쿠아로빅', '스텝박스'], ['서서 상체 일으키기', '앉았다 일어서기', '소파를 이용한 윗몸올리기', '엎드려 버티기', '네발기기 자세로 팔 다리 들기', '서서 다리 뒤로 차기'], ['자전거타기', '줄넘기', '계단 올라갔다 내려오기', '수영', '아쿠아로빅', '스텝박스'], ['매달려서 다리 들기', '덤벨 옆으로 들어올리기', '윗몸올리기', '소파를 이용한 윗몸올리기', '한발 앞으로 내밀고 앉았다 일어서기'], ['손목 펴기/굽히기', '뒤로 팔굽혀펴기', '허리 굽혀 팔 뒤로 들기', '팔꿈치 굽히기', '앉아서 당겨 내리기', '앉아서 뒤로 당기기', '앉아서 밀기', '앉아서 모으기', '바벨들어올리기', '매달려서 뒤로 팔굽혀 펴기', '한발 앞으로 내밀고 앉았다 일어서기', '누워서 덤벨 들어올리기', '서서 상체 일으키기', '윗몸올리기', '엎드려 버티기', '옆으로 누워 버티기', '누워서 다리 들어올리기', '누워서 엉덩이 들어올리기', '팔굽혀펴기', '한발 앞으로 내밀고 앉았다 일어서기'], ['바로서서 상체 숙이기', '의자 앞에서 앉았다 일어서기', '네발기기 자세로 팔 다리 들기', '네발기기 자세에서 손바닥으로 바닥밀기', '누워서 배가로근 수축 '], ['허리 스트레칭', '배 스트레칭', '엉덩이 스트레칭', '하지 루틴 스트레칭', '자전거타기', '줄넘기', '계단 올라갔다 내려오기', '수영', '아쿠아로빅', '스텝박스'], ['앉았다 일어서기', '턱걸이', '윗몸 말아 올리기', '엎드려서 다리 차올리기', '앉았다 일어서기', '의자 앞에서 앉았다 일어서기', '윗몸올리기', '엎드려 버티기', '옆으로 누워 버티기', '누워서 다리 들어올리기', '누워서 수직으로 다리 들어올리기', '누워서 엉덩이 들어올리기', '네발기기 자세로 팔 다리 들기', '엎드려서 팔 다리 들기', '네발기기 자세에서 손바닥으로 바닥밀기', '네발기기 자세에서 다리 위로 뻗어올리기', '팔굽혀펴기', '뒤로 팔굽혀펴기', '앉아서 엉덩관절 굽히기', '서서 다리 뒤로 차기', '서서 뒤꿈치 들기', '한발 서서 균형잡기', '발등굽힘/발바닥굽힘', '누워서 배가로근 수축', '누워서 배가로근 수축 '], ['몸통 들어올리기', '소파를 이용한 윗몸올리기', '엎드려 버티기', '옆으로 누워 버티기', '네발기기 자세로 팔 다리 들기', '엎드려서 팔 다리 들기'], ['상지 루틴 스트레칭', '전신 루틴 스트레칭'], ['앉았다 일어서기', '윗몸올리기', '소파를 이용한 윗몸올리기', '엎드려 버티기', '누워서 다리 들어올리기', '누워서 팔 다리 동시에 들어올리기', '누워서 다리 좌우로 움직이기', '엎드려서 다리 차올리기', '서서 균형잡으며 몸통 회전하기', '스텝퍼 뛰어서 오르내리기', '스텝퍼 뛰어서 넘어가기'], ['앉았다 일어서기', '한발 앞으로 내밀고 앉았다 일어서기', '넙다리 스트레칭', '하지 루틴 스트레칭', '상지 루틴 스트레칭', '좌식생활자를 위한 동적 루틴 스트레칭 '], ['맨몸운동 루틴프로그램', '달리기'], ['계단 뛰기', '달리기', '스텝박스', '박스 운동 루틴프로그램', '사다리 운동 루틴프로그램', '콘운동 루틴프로그램', '사이드 스텝 점프하기', '한발로 점프하기'], ['앉아서 다리 펴기', '앉아서 다리 굽히기', '앉아서 당겨 내리기', '앉아서 밀기'], ['앉았다 일어서기', '한발 앞으로 내밀고 앉았다 일어서기', '앉았다 일어서기', '윗몸올리기', '엎드려 버티기', '누워서 다리 들어올리기', '누워서 엉덩이 들어올리기', '팔굽혀펴기', '팔벌려뛰기', '버피운동', '줄넘기', '수영'], ['앉아서 다리 밀기', '앉아서 다리 펴기', '앉아서 다리 굽히기', '뒤꿈치 들기', '앉아서 당겨 내리기', '앉아서 뒤로 당기기', '몸통 들어올리기', '앉아서 밀기', '누워서 밀기', '서서 바벨 위로 밀기', '엎드려 버티기'], ['목 스트레칭', '등/어깨 뒤쪽 스트레칭', '가슴/어깨 앞쪽 스트레칭', '아래 팔 스트레칭', '허리 스트레칭', '배 스트레칭', '옆구리 스트레칭', '엉덩이 스트레칭', '넙다리 스트레칭', '넙다리 스트레칭', '넙다리 스트레칭', '좌식생활자를 위한 동적 루틴 스트레칭 '], ['상지 루틴 스트레칭', '전신 루틴 스트레칭'], ['팔굽혀펴기', '엎드려서 팔 다리 들기', '몸통 들어올리기', '엎드려 버티기', '옆으로 누워 버티기', '누워서 배가로근 수축', '의자 앞에서 앉았다 일어서기', '한발 앞으로 내밀고 앉았다 일어서기'], ['목 스트레칭', '등/어깨 뒤쪽 스트레칭', '가슴/어깨 앞쪽 스트레칭', '아래 팔 스트레칭', '허리 스트레칭', '배 스트레칭', '옆구리 스트레칭', '엉덩이 스트레칭', '넙다리 스트레칭', '넙다리 스트레칭', '넙다리 스트레칭', '좌식생활자를 위한 동적 루틴 스트레칭 '], ['앉았다 일어서기', '한발 앞으로 내밀고 앉았다 일어서기', '누워서 덤벨 들어올리기', '윗몸올리기', '턱걸이', '바벨 끌어당기기'], ['스텝퍼 옆으로 뛰어넘기', '스텝퍼 올라가서 점프하여 착지하기', '뛰어 내렸다가 바로 점프하기', '사다리 안팎 뛰기', '앉았다 일어서면서 점프하기', '무릎 높여 제자리 달리기', '파워클린', '팔굽혀펴기'], ['저항밴드 운동 루틴프로그램', '자전거타기', '걷기', '줄넘기', '수영'], ['달리기', '무릎 높여 제자리 달리기'], ['앉아서 다리 펴기', '앉아서 다리 굽히기', '앉아서 당겨 내리기', '앉아서 밀기'], ['달리기', '자전거타기', '자전거타기', '걷기', '줄넘기', '계단 올라갔다 내려오기', '계단 뛰기', '수영'], ['앉아서 다리 밀기', '앉아서 다리 펴기', '앉아서 다리 굽히기', '몸통 들어올리기', '앉아서 밀기', '앉아서 모으기', '앉아서 위로 밀기', '팔굽혀펴기'], ['줄넘기', '계단 올라갔다 내려오기'], ['달리기', '무릎 높여 제자리 달리기'], ['달리기', '무릎 높여 제자리 달리기'], ['달리기', '무릎 높여 제자리 달리기'], ['달리기', '무릎 높여 제자리 달리기'], ['앉았다 일어서기', '앞굽이 앉았다 일어서기', '연속 사이드 스쿼드', '팔굽혀 펴기', '뒤로 팔굽혀펴기', '서서 상체 일으키기', '윗몸올리기', '누워서 다리 들어올리기', '누워서 엉덩이 들어올리기'], ['팔굽혀펴기', '허리 굽혀 팔 뒤로 들기', '앉았다 일어서기', '달리기', '계단 올라갔다 내려오기'], ['탄력밴드 어깨 가쪽 돌림', '서서 탄력밴드 당겨내리기/올리기', '엎드려 버티기', '누워서 다리 들어올리기', '누워서 하늘 자전거', '누워서 엉덩이 들어올리기', '서서 뒤꿈치 들기', '의자 앞에서 앉았다 일어서기', '달리기', '자전거타기', '걷기', '줄넘기', '계단 올라갔다 내려오기', '수영', '스텝퍼 뛰어서 오르내리기', '스텝퍼 뛰어서 넘어가기', '사다리 안팎 뛰기', '앉았다 일어서면서 점프하기', '무릎 높여 제자리 달리기', '버피운동'], ['앉았다 일어서기', '한발 앞으로 내밀고 앉았다 일어서기', '넙다리 스트레칭', '하지 루틴 스트레칭', '상지 루틴 스트레칭', '좌식생활자를 위한 동적 루틴 스트레칭 '], ['달리기', '무릎 높여 제자리 달리기'], ['팔벌려뛰기', '버피운동'], ['고정한 상태에서 덤벨 들고 팔꿈치 굽히기', '손목 펴기/굽히기', '뒤로 팔굽혀펴기', '팔꿈치 굽히기'], ['앉았다 일어서기', '한발 앞으로 내밀고 앉았다 일어서기', '턱걸이', '점프 팔굽혀펴기', '소파를 이용한 윗몸올리기', '엎드려 버티기'], ['탄력밴드 어깨 가쪽 돌림', '서서 탄력밴드 당겨내리기/올리기', '엎드려 버티기', '누워서 다리 들어올리기', '누워서 하늘 자전거', '누워서 엉덩이 들어올리기', '서서 뒤꿈치 들기', '의자 앞에서 앉았다 일어서기', '달리기', '자전거타기', '걷기', '줄넘기', '계단 올라갔다 내려오기', '수영', '스텝퍼 뛰어서 오르내리기', '스텝퍼 뛰어서 넘어가기', '사다리 안팎 뛰기', '앉았다 일어서면서 점프하기', '무릎 높여 제자리 달리기', '버피운동'], ['달리기', '계단 올라갔다 내려오기', '자전거타기', '걷기'], ['맨몸운동 루틴프로그램'], ['줄넘기', '전신 루틴 스트레칭'], ['앉았다 일어서기', '원판던지기', '한발 앞으로 내밀고 앉았다 일어서기', '몸통 들어올리기', '바벨들어올리기', '윗몸올리기', '엎드려 버티기', '옆으로 누워 버티기'], ['앉았다 일어서기', '한발 앞으로 내밀고 앉았다 일어서기', '턱걸이', '점프 팔굽혀펴기', '소파를 이용한 윗몸올리기', '엎드려 버티기'], ['엎드려서 다리 차올리기', '엎드려서 팔 다리 들기', '밴드 걸고 엎드려서 다리 구부리기', '덤벨 잡고 뒤꿈치 들기', '밴드 걸고 누워서 다리 들어올리기', '밴드 걸고 옆으로 누워 다리 올리기', '의자 앞에서 앉았다 일어서기', '자전거타기'], ['허리 스트레칭', '배 스트레칭', '옆구리 스트레칭', '엉덩이 스트레칭'], ['버피운동', '앉았다 일어서면서 점프하기', '앉았다 일어서기', '한발 앞으로 내밀고 앉았다 일어서기', '팔굽혀펴기', '앉아서 당겨 내리기', '원판던지기', '윗몸 말아 올리기', '네발기기 자세에서 다리 위로 뻗어올리기'], ['자전거타기', '줄넘기', '계단 올라갔다 내려오기', '수영', '아쿠아로빅', '스텝박스'], ['몸통 들어올리기', '덤벨 잡고 뒤꿈치 들기', '밴드 걸고 누워서 다리 들어올리기', '한 발 뒤로 들어올리기'], ['허리 스트레칭', '배 스트레칭', '옆구리 스트레칭', '엉덩이 스트레칭', '넙다리 스트레칭', '넙다리 스트레칭', '넙다리 스트레칭', '좌식생활자를 위한 동적 루틴 스트레칭 '], ['윗몸올리기', '누워서 엉덩이 들어올리기', '엎드려 버티기', '서서 상체 일으키기', '앉아서 밀기', '앉아서 당겨 내리기', '앉아서 다리 밀기', '앉아서 다리 펴기', '자전거타기', '걷기'], ['앉아서 당겨 내리기', '앉아서 뒤로 당기기', '앉아서 밀기', '앉아서 모으기', '한발 앞으로 내밀고 앉았다 일어서기', '윗몸올리기', '엎드려 버티기', '누워서 다리 들어올리기', '앉았다 일어서기', '의자에 앉아 다리 뻗어 올리기', '앉아서 엉덩관절 굽히기'], ['탄력밴드 어깨 가쪽 돌림', '서서 탄력밴드 당겨내리기/올리기', '엎드려 버티기', '누워서 다리 들어올리기', '누워서 하늘 자전거', '누워서 엉덩이 들어올리기', '서서 뒤꿈치 들기', '의자 앞에서 앉았다 일어서기', '달리기', '자전거타기', '걷기', '줄넘기', '계단 올라갔다 내려오기', '수영', '스텝퍼 뛰어서 오르내리기', '스텝퍼 뛰어서 넘어가기', '사다리 안팎 뛰기', '앉았다 일어서면서 점프하기', '무릎 높여 제자리 달리기', '버피운동'], ['몸통 들어올리기', '앉아서 밀기', '누워서 밀기', '비스듬히 누워서 밀기', '파워클린', '서서 어깨 들어올리기', '누워서 덤벨 들어올리기'], ['앉았다 일어서기', '한발 앞으로 내밀고 앉았다 일어서기', '턱걸이', '점프 팔굽혀펴기', '소파를 이용한 윗몸올리기', '엎드려 버티기'], ['버피운동', '달리기'], ['버피운동', '계단 뛰기'], ['자전거타기', '걷기', '계단 올라갔다 내려오기', '수영'], ['몸통 들어올리기', '엎드려서 균형잡기', '윗몸 말아 올리기', '엎드려서 다리 차올리기', '엎드려 버티기', '옆으로 누워 버티기', '누워서 다리 들어올리기', '누워서 다리 좌우로 움직이기', '누워서 하늘 자전거', '누워서 엉덩이 들어올리기', '네발기기 자세로 팔 다리 들기', '엎드려서 팔 다리 들기', '네발기기 자세에서 다리 위로 뻗어올리기', '누워서 배가로근 수축', '누워서 배가로근 수축 '], ['달리기', '무릎 높여 제자리 달리기'], ['네발기기 자세로 팔 다리 들기', '서서 다리 뒤로 차기', '엎드려 버티기', '엎드려서 팔 다리 들기', '누워서 엉덩이 들어올리기', '윗몸올리기', '몸통 옆으로 굽히기', '자전거타기', '달리기', '계단 올라갔다 내려오기', '수영'], ['맨몸운동 루틴프로그램', '저항밴드 운동 루틴프로그램', '전완대고 버티기', '앉았다 일어서기', '발 바꿔 뛰기', '버피운동', '걷기', '달리기', '자전거타기', '줄넘기', '수영', '사이드 지그재그 뛰기', '순간반응 콘 찍기', '뒤꿈치 높이들어 뛰기', '무릎 높이 들어 뛰기', '팔 벌려 뛰기', '앉았다 일어나며 점프하기', '요가 및 필라테스 루틴프로그램', '측면 팔대고 버티기', '옆으로 팔 벌리며 점프하기', '팔 돌리며 점프하기', '다리 들어올리기', '다리자세'], ['엎드려서 팔 다리 들기', '네발기기 자세로 팔 다리 들기', '누워서 수직으로 다리 들어올리기', '누워서 팔 다리 동시에 들어올리기', '엎드려 버티기', '윗몸올리기', '달리기', '자전거타기', '걷기', '수영'], ['달리기', '자전거타기', '줄넘기', '계단 올라갔다 내려오기'], ['허리 스트레칭', '팔굽혀 펴기'], ['달리기', '자전거타기', '고혈압환자_순환식 근력운동 프로그램', '요통을 위한 근력운동'], ['달리기', '무릎 높여 제자리 달리기'], ['윗몸올리기', '누워서 엉덩이 들어올리기', '엎드려 버티기', '서서 상체 일으키기', '앉아서 밀기', '앉아서 당겨 내리기', '앉아서 다리 밀기', '앉아서 다리 펴기', '자전거타기', '걷기'], ['몸통 들어올리기', '소파를 이용한 윗몸올리기', '엎드려 버티기', '옆으로 누워 버티기', '네발기기 자세로 팔 다리 들기', '엎드려서 팔 다리 들기'], ['윗몸올리기', '누워서 엉덩이 들어올리기', '엎드려 버티기', '서서 상체 일으키기', '앉아서 밀기', '앉아서 당겨 내리기', '앉아서 다리 밀기', '앉아서 다리 펴기', '자전거타기', '걷기'], ['상지 루틴 스트레칭', '전신 루틴 스트레칭'], ['달리기', '무릎 높여 제자리 달리기'], ['엉덩이 스트레칭', '엉덩이 스트레칭', '몸통 앞으로 굽혀 걷기', '한쪽 다리펴고 상체 숙이기', '넙다리 스트레칭', '넙다리 스트레칭'], ['앉았다 일어서기', '윗몸올리기', '엎드려 버티기', '옆으로 누워 버티기', '누워서 다리 들어올리기', '네발기기 자세로 팔 다리 들기', '엎드려서 팔 다리 들기', '팔굽혀펴기', '서서 뒤꿈치 들기'], ['자전거타기', '걷기', '계단 올라갔다 내려오기', '수영'], ['달리기', '계단 올라갔다 내려오기', '자전거타기', '걷기'], ['앉았다 일어서기', '앞굽이 앉았다 일어서기', '연속 사이드 스쿼드', '팔굽혀 펴기', '뒤로 팔굽혀펴기', '서서 상체 일으키기', '윗몸올리기', '누워서 다리 들어올리기', '누워서 엉덩이 들어올리기'], ['자전거타기', '걷기', '계단 올라갔다 내려오기', '수영'], ['맨몸운동 루틴프로그램', '달리기'], ['바벨 당겨 올리기', '앉아서 덤벨로 손목 굽히기', '플렉스 바 비틀기', '팔굽혀 펴기', '턱걸이', '뒤로 팔굽혀펴기'], ['허리 굽혀 팔 뒤로 들기', '물병 옆으로 들어올리기', '네발기기 자세로 팔 다리 들기', '누워서 엉덩이 들어올리기', '자전거타기', '걷기'], ['허리 굽혀 팔 뒤로 들기', '물병 옆으로 들어올리기', '네발기기 자세로 팔 다리 들기', '누워서 엉덩이 들어올리기', '자전거타기', '걷기'], ['달리기', '자전거타기', '줄넘기'], ['자전거타기', '계단 올라갔다 내려오기', '수영', '앉았다 일어서기', '한발 앞으로 내밀고 앉았다 일어서기', '윗몸올리기', '엎드려 버티기', '옆으로 누워 버티기', '누워서 엉덩이 들어올리기'], ['팔굽혀펴기', '허리 굽혀 팔 뒤로 들기', '앉았다 일어서기', '달리기', '계단 올라갔다 내려오기', '고정한 상태에서 덤벨 들고 팔꿈치 굽히기', '허리 굽혀 덤벨 뒤로 들기'], ['양팔 크게 벌리기', '허리 굽혀 덤벨 들기', '서서 바벨 위로 밀기', '앉았다 일어서기', '한발 앞으로 내밀고 앉았다 일어서기'], ['전완대고 버티기', '윗몸 일으키기'], ['윗몸올리기', '누워서 엉덩이 들어올리기', '엎드려 버티기', '서서 상체 일으키기', '앉아서 밀기', '앉아서 당겨 내리기', '앉아서 다리 밀기', '앉아서 다리 펴기', '자전거타기', '걷기'], ['달리기', '무릎 높여 제자리 달리기'], ['몸통 들어올리기', '소파를 이용한 윗몸올리기', '엎드려 버티기', '옆으로 누워 버티기', '네발기기 자세로 팔 다리 들기', '엎드려서 팔 다리 들기'], ['자전거타기', '줄넘기', '계단 올라갔다 내려오기', '수영', '아쿠아로빅', '스텝박스'], ['계단 뛰기', '달리기', '줄넘기', '스텝박스 오르내리기 '], ['계단 뛰기', '달리기', '스텝박스', '박스 운동 루틴프로그램', '사다리 운동 루틴프로그램', '콘운동 루틴프로그램', '사이드 스텝 점프하기', '한발로 점프하기'], ['달리기', '계단 올라갔다 내려오기', '자전거타기', '걷기'], ['윗몸올리기', '누워서 엉덩이 들어올리기', '엎드려 버티기', '서서 상체 일으키기', '앉아서 밀기', '앉아서 당겨 내리기', '앉아서 다리 밀기', '앉아서 다리 펴기', '자전거타기', '걷기'], ['누워서 다리 들어올리기', '팔꿈치 굽히기', '서서 다리로 탄력밴드 당기기', '누워서 엉덩이 들어올리기', '팔굽혀펴기', '윗몸올리기', '한발 앞으로 내밀고 앉았다 일어서기', '서서 뒤꿈치 들기', '엎드려서 팔 다리 들기', '허리 굽혀 팔 뒤로 들기', '앉았다 일어서기', '물병 옆으로 들어올리기', '자전거타기', '걷기', '계단 올라갔다 내려오기', '수영'], ['달리기', '수영', '자전거타기', '자전거타기'], ['탄력밴드 어깨 가쪽 돌림', '서서 탄력밴드 당겨내리기/올리기', '엎드려 버티기', '누워서 다리 들어올리기', '누워서 하늘 자전거', '누워서 엉덩이 들어올리기', '서서 뒤꿈치 들기', '의자 앞에서 앉았다 일어서기', '달리기', '자전거타기', '걷기', '줄넘기', '계단 올라갔다 내려오기', '수영', '스텝퍼 뛰어서 오르내리기', '스텝퍼 뛰어서 넘어가기', '사다리 안팎 뛰기', '앉았다 일어서면서 점프하기', '무릎 높여 제자리 달리기', '버피운동'], ['앉았다 일어서기', '한발 앞으로 내밀고 앉았다 일어서기', '서서 다리로 탄력밴드 당기기', '서서 다리로 탄력밴드 당기기', '서서 뒤꿈치 들기', '누워서 엉덩이 들어올리기', '팔굽혀 펴기', '뒤로 팔굽혀펴기', '앉아서 팔꿈치 굽히기/펴기', '엎드려 버티기', '옆으로 누워 버티기'], ['계단 올라갔다 내려오기', '달리기', '팔굽혀 펴기', '바로서서 상체 숙이기', '앉았다 일어서기'], ['엉덩이 스트레칭', '엉덩이 스트레칭', '몸통 앞으로 굽혀 걷기', '한쪽 다리펴고 상체 숙이기', '넙다리 스트레칭', '넙다리 스트레칭'], ['윗몸올리기', '누워서 엉덩이 들어올리기', '엎드려 버티기', '서서 상체 일으키기', '앉아서 밀기', '앉아서 당겨 내리기', '앉아서 다리 밀기', '앉아서 다리 펴기', '자전거타기', '걷기'], ['누워서 다리 들어올리기', '팔꿈치 굽히기', '서서 다리로 탄력밴드 당기기', '누워서 엉덩이 들어올리기', '팔굽혀펴기', '윗몸올리기', '한발 앞으로 내밀고 앉았다 일어서기', '서서 뒤꿈치 들기', '엎드려서 팔 다리 들기', '허리 굽혀 팔 뒤로 들기', '앉았다 일어서기', '물병 옆으로 들어올리기', '자전거타기', '걷기', '계단 올라갔다 내려오기', '수영'], ['달리기', '무릎 높여 제자리 달리기'], ['마주보고 종아리 펴기', '허리 스트레칭', '엉덩이 스트레칭', '넙다리 스트레칭', '넙다리 스트레칭', '달리기', '줄넘기', '계단 뛰기'], ['자전거타기', '계단 올라갔다 내려오기', '수영', '앉았다 일어서기', '한발 앞으로 내밀고 앉았다 일어서기', '윗몸올리기', '엎드려 버티기', '옆으로 누워 버티기', '누워서 엉덩이 들어올리기'], ['걷기', '달리기', '계단 올라갔다 내려오기', '자전거타기'], ['앉았다 일어서기', '엎드려 버티기', '팔굽혀펴기'], ['앉았다 일어서기', '턱걸이', '매달려서 다리 들기', '엎드려서 균형잡기', '서서 균형잡으며 몸통 회전하기', '엎드려 버티기', '옆으로 누워 버티기', '누워서 다리 들어올리기', '누워서 팔 다리 동시에 들어올리기', '팔굽혀펴기', '뒤로 팔굽혀펴기', '의자에 한 다리 올리고 앉앗다 일어서기', '팔벌려뛰기', '버피운동'], ['줄넘기', '계단 올라갔다 내려오기'], ['탄력밴드 어깨 가쪽 돌림', '서서 탄력밴드 당겨내리기/올리기', '엎드려 버티기', '누워서 다리 들어올리기', '누워서 하늘 자전거', '누워서 엉덩이 들어올리기', '서서 뒤꿈치 들기', '의자 앞에서 앉았다 일어서기', '달리기', '자전거타기', '걷기', '줄넘기', '계단 올라갔다 내려오기', '수영', '스텝퍼 뛰어서 오르내리기', '스텝퍼 뛰어서 넘어가기', '사다리 안팎 뛰기', '앉았다 일어서면서 점프하기', '무릎 높여 제자리 달리기', '버피운동'], ['앉았다 일어서기', '한발 앞으로 내밀고 앉았다 일어서기', '넙다리 스트레칭', '하지 루틴 스트레칭', '상지 루틴 스트레칭', '좌식생활자를 위한 동적 루틴 스트레칭 '], ['허리 스트레칭', '배 스트레칭', '엉덩이 스트레칭', '하지 루틴 스트레칭', '자전거타기', '줄넘기', '계단 올라갔다 내려오기', '수영', '아쿠아로빅', '스텝박스'], ['고정한 상태에서 덤벨 들고 팔꿈치 굽히기', '손목 펴기/굽히기', '뒤로 팔굽혀펴기', '팔꿈치 굽히기'], ['양팔 크게 벌리기', '허리 굽혀 덤벨 들기', '서서 바벨 위로 밀기', '앉았다 일어서기', '한발 앞으로 내밀고 앉았다 일어서기'], ['상지 루틴 스트레칭', '전신 루틴 스트레칭'], ['달리기', '자전거타기', '줄넘기', '계단 올라갔다 내려오기'], ['누워서 팔 밀기', '앉아서 가슴 모으기', '앉아서 양팔 당기기', '앉아서 당겨 내리기', '몸통 옆으로 굽히기', '앉아서 몸통 움츠리기'], ['달리기', '무릎 높여 제자리 달리기'], ['맨몸운동 루틴프로그램'], ['달리기', '자전거타기', '자전거타기', '걷기', '줄넘기', '계단 올라갔다 내려오기', '계단 뛰기', '수영'], ['앉아서 당겨 내리기', '앉아서 뒤로 당기기', '앉아서 밀기', '앉아서 모으기', '한발 앞으로 내밀고 앉았다 일어서기', '윗몸올리기', '엎드려 버티기', '누워서 다리 들어올리기', '앉았다 일어서기', '의자에 앉아 다리 뻗어 올리기', '앉아서 엉덩관절 굽히기'], ['앉았다 일어서기', '한발 앞으로 내밀고 앉았다 일어서기', '넙다리 스트레칭', '하지 루틴 스트레칭', '상지 루틴 스트레칭', '좌식생활자를 위한 동적 루틴 스트레칭 '], ['달리기', '자전거타기', '자전거타기', '걷기', '계단 올라갔다 내려오기', '수영'], ['팔굽혀펴기', '허리 굽혀 팔 뒤로 들기', '앉았다 일어서기', '달리기', '계단 올라갔다 내려오기', '고정한 상태에서 덤벨 들고 팔꿈치 굽히기', '허리 굽혀 덤벨 뒤로 들기'], ['계단 뛰기', '달리기', '스텝박스', '박스 운동 루틴프로그램', '사다리 운동 루틴프로그램', '콘운동 루틴프로그램', '사이드 스텝 점프하기', '한발로 점프하기'], ['앉았다 일어서기', '의자 앞에서 앉았다 일어서기', '엎드려 버티기', '누워서 다리 들어올리기', '누워서 하늘 자전거', '누워서 엉덩이 들어올리기'], ['허리 스트레칭', '배 스트레칭', '엉덩이 스트레칭', '하지 루틴 스트레칭', '좌식생활자를 위한 동적 루틴 스트레칭', '작은 공을 이용한 동적 루틴 스트레칭 '], ['자전거타기', '자전거타기', '걷기'], ['윗몸올리기', '누워서 엉덩이 들어올리기', '엎드려 버티기', '서서 상체 일으키기', '앉아서 밀기', '앉아서 당겨 내리기', '앉아서 다리 밀기', '앉아서 다리 펴기', '자전거타기', '걷기'], ['달리기', '계단 올라갔다 내려오기'], ['달리기', '자전거타기', '수영', '달리기', '계단 올라갔다 내려오기'], ['앉았다 일어서기', '서서 뒤꿈치 들기', '자전거타기', '줄넘기', '계단 올라갔다 내려오기'], ['버피운동', '앉았다 일어서기', '앉았다 일어서면서 점프하기', '맨몸운동 루틴프로그램', '전완대고 버티기', '팔다리 교차 버티기'], ['앉았다 일어서기', '한발 앞으로 내밀고 앉았다 일어서기', '누워서 덤벨 들어올리기', '윗몸올리기', '턱걸이', '바벨 끌어당기기'], ['자전거타기', '줄넘기', '계단 올라갔다 내려오기', '수영', '아쿠아로빅', '스텝박스'], ['달리기', '자전거타기', '자전거타기', '걷기', '계단 올라갔다 내려오기', '수영'], ['스텝퍼 옆으로 뛰어넘기', '스텝퍼 올라가서 점프하여 착지하기', '뛰어 내렸다가 바로 점프하기', '사다리 안팎 뛰기', '앉았다 일어서면서 점프하기', '무릎 높여 제자리 달리기', '파워클린', '팔굽혀펴기'], ['달리기'], ['엉덩이 스트레칭', '엉덩이 스트레칭', '넙다리 스트레칭', '넙다리 스트레칭', '몸통 앞으로 굽혀 걷기', '다리들어 옆으로 올리기', '무릎굽혀 원 그리기', '전진 점프하며 발바닥 찍기'], ['몸통 들어올리기', '소파를 이용한 윗몸올리기', '엎드려 버티기', '옆으로 누워 버티기', '네발기기 자세로 팔 다리 들기', '엎드려서 팔 다리 들기'], ['목 스트레칭', '등/어깨 뒤쪽 스트레칭', '가슴/어깨 앞쪽 스트레칭', '아래 팔 스트레칭', '허리 스트레칭', '배 스트레칭', '옆구리 스트레칭', '엉덩이 스트레칭', '넙다리 스트레칭', '넙다리 스트레칭', '넙다리 스트레칭', '좌식생활자를 위한 동적 루틴 스트레칭 '], ['팔굽혀펴기', '엎드려서 팔 다리 들기', '몸통 들어올리기', '엎드려 버티기', '옆으로 누워 버티기', '누워서 배가로근 수축', '의자 앞에서 앉았다 일어서기', '한발 앞으로 내밀고 앉았다 일어서기'], ['목 스트레칭', '등/어깨 뒤쪽 스트레칭', '가슴/어깨 앞쪽 스트레칭', '아래 팔 스트레칭', '허리 스트레칭', '배 스트레칭', '옆구리 스트레칭', '엉덩이 스트레칭', '넙다리 스트레칭', '넙다리 스트레칭', '넙다리 스트레칭', '좌식생활자를 위한 동적 루틴 스트레칭 '], ['양팔 벌려 전신 비틀기', '회전근개 스트레칭', '어깨 양 옆으로 돌리기'], ['달리기', '무릎 높여 제자리 달리기'], ['허리 스트레칭', '배 스트레칭', '엉덩이 스트레칭', '하지 루틴 스트레칭', '좌식생활자를 위한 동적 루틴 스트레칭', '작은 공을 이용한 동적 루틴 스트레칭 '], ['허리 굽혀 팔 뒤로 들기', '물병 옆으로 들어올리기', '네발기기 자세로 팔 다리 들기', '누워서 엉덩이 들어올리기', '자전거타기', '걷기'], ['엉덩이 스트레칭', '엉덩이 스트레칭', '몸통 앞으로 굽혀 걷기', '한쪽 다리펴고 상체 숙이기', '넙다리 스트레칭', '넙다리 스트레칭'], ['팔굽혀펴기', '허리 굽혀 팔 뒤로 들기', '앉았다 일어서기', '달리기', '계단 올라갔다 내려오기'], ['맨몸운동 루틴프로그램', '달리기'], ['버피운동', '무릎 높여 제자리 달리기', '앉아서 다리 펴기', '앉아서 다리 굽히기', '앉아서 다리 모으기', '앉아서 다리 벌리기', '고정한 상태에서 덤벨 들고 팔꿈치 굽히기', '앉아서 팔꿈치 굽히기/펴기', '서서 탄력밴드 당겨내리기/올리기', '물병 옆으로 들어올리기'], ['서서 상체 일으키기', '앉았다 일어서기', '윗몸올리기', '옆으로 누워 버티기', '누워서 엉덩이 들어올리기', '앉아서 팔꿈치 굽히기/펴기', '달리기', '자전거타기', '걷기', '줄넘기', '계단 올라갔다 내려오기', '수영', '스텝퍼 뛰어서 오르내리기', '스텝퍼 뛰어서 넘어가기', '사다리 안팎 뛰기', '앉았다 일어서면서 점프하기', '무릎 높여 제자리 달리기', '버피운동'], ['허리 스트레칭', '배 스트레칭', '엉덩이 스트레칭', '하지 루틴 스트레칭', '좌식생활자를 위한 동적 루틴 스트레칭', '작은 공을 이용한 동적 루틴 스트레칭 '], ['앉았다 일어서기', '한발 앞으로 내밀고 앉았다 일어서기', '누워서 덤벨 들어올리기', '윗몸올리기', '턱걸이', '바벨 끌어당기기'], ['팔벌려뛰기', '버피운동'], ['앉았다 일어서기', '한발 앞으로 내밀고 앉았다 일어서기', '넙다리 스트레칭', '하지 루틴 스트레칭', '상지 루틴 스트레칭', '좌식생활자를 위한 동적 루틴 스트레칭 '], ['몸통 들어올리기', '앉아서 밀기', '누워서 밀기', '비스듬히 누워서 밀기', '파워클린', '서서 어깨 들어올리기', '누워서 덤벨 들어올리기'], ['누워서 다리 들어올리기', '팔꿈치 굽히기', '서서 다리로 탄력밴드 당기기', '누워서 엉덩이 들어올리기', '팔굽혀펴기', '윗몸올리기', '한발 앞으로 내밀고 앉았다 일어서기', '서서 뒤꿈치 들기', '엎드려서 팔 다리 들기', '허리 굽혀 팔 뒤로 들기', '앉았다 일어서기', '물병 옆으로 들어올리기', '자전거타기', '걷기', '계단 올라갔다 내려오기', '수영'], ['계단 올라갔다 내려오기', '계단 뛰기', '수영', '자전거타기', '자전거타기'], ['스텝퍼 옆으로 뛰어넘기', '스텝퍼 올라가서 점프하여 착지하기', '뛰어 내렸다가 바로 점프하기', '사다리 안팎 뛰기', '앉았다 일어서면서 점프하기', '무릎 높여 제자리 달리기', '파워클린', '팔굽혀펴기'], ['유산소 운동 전 동적 루틴 스트레칭', '좌식생활자를 위한 동적 루틴 스트레칭', '짐볼을 이용한 동적 루틴 스트레칭', '작은 공을 이용한 동적 루틴 스트레칭 '], ['전완대고 버티기', '윗몸 일으키기'], ['앉았다 일어서기', '한발 앞으로 내밀고 앉았다 일어서기', '앉아서 다리 밀기', '앉아서 다리 굽히기', '앉아서 위로 밀기', '서서 바벨 위로 밀기', '탄력밴드 어깨 가쪽 돌림', '서서 탄력밴드 당겨내리기/올리기'], ['팔굽혀펴기', '엎드려서 팔 다리 들기', '몸통 들어올리기', '엎드려 버티기', '옆으로 누워 버티기', '누워서 배가로근 수축', '의자 앞에서 앉았다 일어서기', '한발 앞으로 내밀고 앉았다 일어서기'], ['엎드려서 팔 다리 들기', '네발기기 자세로 팔 다리 들기', '누워서 수직으로 다리 들어올리기', '누워서 팔 다리 동시에 들어올리기', '엎드려 버티기', '윗몸올리기', '달리기', '자전거타기', '걷기', '수영'], ['앉아서 다리 펴기', '앉아서 다리 굽히기', '앉아서 당겨 내리기', '앉아서 밀기'], ['의자 앞에서 앉았다 일어서기', '엎드려 버티기', '누워서 엉덩이 들어올리기', '네발기기 자세로 팔 다리 들기', '엎드려서 팔 다리 들기', '누워서 배가로근 수축 '], ['앉았다 일어서기', '한발 앞으로 내밀고 앉았다 일어서기', '앉았다 일어서기', '윗몸올리기', '엎드려 버티기', '누워서 다리 들어올리기', '누워서 엉덩이 들어올리기', '팔굽혀펴기', '팔벌려뛰기', '버피운동', '줄넘기', '수영'], ['윗몸올리기', '누워서 엉덩이 들어올리기', '엎드려 버티기', '서서 상체 일으키기', '앉아서 밀기', '앉아서 당겨 내리기', '앉아서 다리 밀기', '앉아서 다리 펴기', '자전거타기', '걷기'], ['버피운동', '앉았다 일어서면서 점프하기', '앉았다 일어서기', '한발 앞으로 내밀고 앉았다 일어서기', '팔굽혀펴기', '앉아서 당겨 내리기', '원판던지기', '윗몸 말아 올리기', '네발기기 자세에서 다리 위로 뻗어올리기'], ['상지 루틴 스트레칭', '전신 루틴 스트레칭'], ['몸통 들어올리기', '소파를 이용한 윗몸올리기', '엎드려 버티기', '옆으로 누워 버티기', '네발기기 자세로 팔 다리 들기', '엎드려서 팔 다리 들기'], ['허리 스트레칭', '배 스트레칭', '옆구리 스트레칭', '엉덩이 스트레칭'], ['윗몸 말아 올리기', '버피운동'], ['윗몸올리기', '엎드려 버티기', '누워서 다리 들어올리기', '팔굽혀펴기', '누워서 엉덩이 들어올리기', '엎드려서 팔 다리 들기', '물병 옆으로 들어올리기', '팔꿈치 굽히기', '앉았다 일어서기', '의자 앞에서 앉았다 일어서기', '한발 앞으로 내밀고 앉았다 일어서기'], ['양팔 크게 벌리기', '허리 굽혀 덤벨 들기', '서서 바벨 위로 밀기', '앉았다 일어서기', '한발 앞으로 내밀고 앉았다 일어서기'], ['누워서 다리 들어올리기', '팔꿈치 굽히기', '서서 다리로 탄력밴드 당기기', '누워서 엉덩이 들어올리기', '팔굽혀펴기', '윗몸올리기', '한발 앞으로 내밀고 앉았다 일어서기', '서서 뒤꿈치 들기', '엎드려서 팔 다리 들기', '허리 굽혀 팔 뒤로 들기', '앉았다 일어서기', '물병 옆으로 들어올리기', '자전거타기', '걷기', '계단 올라갔다 내려오기', '수영'], ['앉아서 당겨 내리기', '앉아서 뒤로 당기기', '앉아서 밀기', '앉아서 모으기', '한발 앞으로 내밀고 앉았다 일어서기', '윗몸올리기', '엎드려 버티기', '누워서 다리 들어올리기', '앉았다 일어서기', '의자에 앉아 다리 뻗어 올리기', '앉아서 엉덩관절 굽히기'], ['달리기', '자전거타기', '자전거타기', '걷기', '계단 올라갔다 내려오기', '수영'], ['엎드려 버티기', '앉았다 일어서기', '한발 앞으로 내밀고 앉았다 일어서기', '턱걸이', '뒤로 팔굽혀펴기', '누워서 다리 들어올리기'], ['윗몸올리기', '누워서 엉덩이 들어올리기', '엎드려 버티기', '서서 상체 일으키기', '앉아서 밀기', '앉아서 당겨 내리기', '앉아서 다리 밀기', '앉아서 다리 펴기', '자전거타기', '걷기'], ['앉아서 위로 밀기', '턱걸이', '바벨 끌어당기기', '고정한 상태에서 덤벨 들고 팔꿈치 굽히기', '앉아서 다리 밀기', '앉아서 다리 펴기', '앉아서 다리 굽히기', '원판던지기'], ['달리기', '자전거타기', '자전거타기', '걷기', '줄넘기', '계단 올라갔다 내려오기', '계단 뛰기', '수영'], ['팔굽혀펴기', '허리 굽혀 팔 뒤로 들기', '앉았다 일어서기', '달리기', '계단 올라갔다 내려오기'], ['엎드려서 다리 차올리기', '엎드려서 팔 다리 들기', '밴드 걸고 엎드려서 다리 구부리기', '덤벨 잡고 뒤꿈치 들기', '밴드 걸고 누워서 다리 들어올리기', '밴드 걸고 옆으로 누워 다리 올리기', '의자 앞에서 앉았다 일어서기', '자전거타기'], ['목 스트레칭', '등/어깨 뒤쪽 스트레칭', '가슴/어깨 앞쪽 스트레칭', '아래 팔 스트레칭', '허리 스트레칭', '배 스트레칭', '옆구리 스트레칭', '엉덩이 스트레칭', '넙다리 스트레칭', '넙다리 스트레칭', '넙다리 스트레칭', '좌식생활자를 위한 동적 루틴 스트레칭 '], ['허리 스트레칭', '배 스트레칭', '옆구리 스트레칭', '엉덩이 스트레칭', '넙다리 스트레칭', '넙다리 스트레칭', '넙다리 스트레칭', '좌식생활자를 위한 동적 루틴 스트레칭 '], ['엉덩이 스트레칭', '엉덩이 스트레칭', '몸통 앞으로 굽혀 걷기', '한쪽 다리펴고 상체 숙이기', '넙다리 스트레칭', '넙다리 스트레칭'], ['달리기', '무릎 높여 제자리 달리기'], ['앉아서 당겨 내리기', '앉아서 뒤로 당기기', '앉아서 밀기', '앉아서 모으기', '한발 앞으로 내밀고 앉았다 일어서기', '윗몸올리기', '엎드려 버티기', '누워서 다리 들어올리기', '앉았다 일어서기', '의자에 앉아 다리 뻗어 올리기', '앉아서 엉덩관절 굽히기'], ['앉았다 일어서기', '한발 앞으로 내밀고 앉았다 일어서기', '누워서 다리 들어올리기', '팔굽혀펴기', '팔꿈치 굽히기'], ['탄력밴드 어깨 가쪽 돌림', '서서 탄력밴드 당겨내리기/올리기', '엎드려 버티기', '누워서 다리 들어올리기', '누워서 하늘 자전거', '누워서 엉덩이 들어올리기', '서서 뒤꿈치 들기', '의자 앞에서 앉았다 일어서기', '달리기', '자전거타기', '걷기', '줄넘기', '계단 올라갔다 내려오기', '수영', '스텝퍼 뛰어서 오르내리기', '스텝퍼 뛰어서 넘어가기', '사다리 안팎 뛰기', '앉았다 일어서면서 점프하기', '무릎 높여 제자리 달리기', '버피운동'], ['목 굽힘/ 폄', '네발기기 자세에서 손바닥으로 바닥밀기', '물병 옆으로 들어올리기', '탄력밴드 어깨 가쪽 돌림', '허리 굽혀 팔 뒤로 들기', '엎드려 버티기'], ['윗몸올리기', '누워서 엉덩이 들어올리기', '엎드려 버티기', '서서 상체 일으키기', '앉아서 밀기', '앉아서 당겨 내리기', '앉아서 다리 밀기', '앉아서 다리 펴기', '자전거타기', '걷기'], ['달리기', '자전거타기', '자전거타기', '걷기', '계단 올라갔다 내려오기', '수영'], ['자전거타기', '물누르기/올리기'], ['밴드 잡고 몸통 옆으로 굽히기', '몸통 들어올리기', '팔굽혀 펴기', '바로서서 상체 숙이기', '누워 다리 들어올리기', '의자에 앉아 물병 들고 몸통 돌리기', '네발기기 자세로 팔 다리 들기', '엎드려서 팔 다리 들기'], ['팔굽혀펴기', '허리 굽혀 팔 뒤로 들기', '앉았다 일어서기', '달리기', '계단 올라갔다 내려오기'], ['달리기', '자전거타기', '자전거타기', '줄넘기', '계단 올라갔다 내려오기'], ['달리기', '자전거타기', '줄넘기', '계단 올라갔다 내려오기'], ['달리기', '자전거타기', '계단 올라갔다 내려오기', '수영', '목 스트레칭', '등/어깨 뒤쪽 스트레칭', '가슴/어깨 앞쪽 스트레칭', '아래 팔 스트레칭', '허리 스트레칭', '배 스트레칭', '옆구리 스트레칭', '엉덩이 스트레칭', '넙다리 스트레칭', '넙다리 스트레칭', '넙다리 스트레칭'], ['맨몸운동 루틴프로그램', '달리기'], ['양팔 크게 벌리기', '허리 굽혀 덤벨 들기', '서서 바벨 위로 밀기', '앉았다 일어서기', '한발 앞으로 내밀고 앉았다 일어서기'], ['자전거타기', '줄넘기', '계단 올라갔다 내려오기', '수영', '아쿠아로빅', '스텝박스'], ['누워서 다리 들어올리기', '팔꿈치 굽히기', '서서 다리로 탄력밴드 당기기', '누워서 엉덩이 들어올리기', '팔굽혀펴기', '윗몸올리기', '한발 앞으로 내밀고 앉았다 일어서기', '서서 뒤꿈치 들기', '엎드려서 팔 다리 들기', '허리 굽혀 팔 뒤로 들기', '앉았다 일어서기', '물병 옆으로 들어올리기', '자전거타기', '걷기', '계단 올라갔다 내려오기', '수영'], ['윗몸올리기', '엎드려 버티기', '누워서 다리 들어올리기', '팔굽혀펴기', '누워서 엉덩이 들어올리기', '엎드려서 팔 다리 들기', '물병 옆으로 들어올리기', '팔꿈치 굽히기', '앉았다 일어서기', '의자 앞에서 앉았다 일어서기', '한발 앞으로 내밀고 앉았다 일어서기'], ['윗몸올리기', '엎드려 버티기', '누워서 다리 들어올리기', '팔굽혀펴기', '누워서 엉덩이 들어올리기', '엎드려서 팔 다리 들기', '물병 옆으로 들어올리기', '팔꿈치 굽히기', '앉았다 일어서기', '의자 앞에서 앉았다 일어서기', '한발 앞으로 내밀고 앉았다 일어서기'], ['달리기', '자전거타기', '수영', '달리기', '계단 올라갔다 내려오기'], ['앉았다 일어서기', '한발 앞으로 내밀고 앉았다 일어서기', '넙다리 스트레칭', '하지 루틴 스트레칭', '상지 루틴 스트레칭', '좌식생활자를 위한 동적 루틴 스트레칭 '], ['달리기'], ['탄력밴드 어깨 가쪽 돌림', '서서 탄력밴드 당겨내리기/올리기', '엎드려 버티기', '누워서 다리 들어올리기', '누워서 하늘 자전거', '누워서 엉덩이 들어올리기', '서서 뒤꿈치 들기', '의자 앞에서 앉았다 일어서기', '달리기', '자전거타기', '걷기', '줄넘기', '계단 올라갔다 내려오기', '수영', '스텝퍼 뛰어서 오르내리기', '스텝퍼 뛰어서 넘어가기', '사다리 안팎 뛰기', '앉았다 일어서면서 점프하기', '무릎 높여 제자리 달리기', '버피운동'], ['앉았다 일어서기', '한발 앞으로 내밀고 앉았다 일어서기', '넙다리 스트레칭', '하지 루틴 스트레칭', '상지 루틴 스트레칭', '좌식생활자를 위한 동적 루틴 스트레칭 '], ['자전거타기', '줄넘기', '계단 올라갔다 내려오기', '수영', '아쿠아로빅', '스텝박스', '앉아서 다리 밀기', '앉아서 다리 펴기', '앉아서 다리 모으기', '앉아서 다리 벌리기', '앉아서 당겨 내리기', '앉아서 뒤로 당기기', '앉아서 밀기', '스텝퍼 뛰어서 오르내리기', '스텝퍼 옆으로 뛰어넘기', '뛰어 내렸다가 바로 점프하기', '사다리 안팎 뛰기', '앉았다 일어서면서 점프하기', '무릎 높여 제자리 달리기', '옆으로 펀치하기', '버피운동', '계단 뛰기', '빠른 발 뛰기'], ['서서 상체 일으키기', '앉았다 일어서기', '소파를 이용한 윗몸올리기', '엎드려 버티기', '네발기기 자세로 팔 다리 들기', '서서 다리 뒤로 차기'], ['윗몸올리기', '한발 앞으로 내밀고 앉았다 일어서기', '버피운동', '팔굽혀펴기'], ['버피운동', '무릎 높여 제자리 달리기', '앉아서 다리 펴기', '앉아서 다리 굽히기', '앉아서 다리 모으기', '앉아서 다리 벌리기', '고정한 상태에서 덤벨 들고 팔꿈치 굽히기', '앉아서 팔꿈치 굽히기/펴기', '서서 탄력밴드 당겨내리기/올리기', '물병 옆으로 들어올리기'], ['버피운동', '앉았다 일어서기', '앉았다 일어서면서 점프하기', '맨몸운동 루틴프로그램', '전완대고 버티기', '팔다리 교차 버티기'], ['누워서 팔 밀기', '앉아서 가슴 모으기', '앉아서 양팔 당기기', '앉아서 당겨 내리기', '몸통 옆으로 굽히기', '앉아서 몸통 움츠리기'], ['앉았다 일어서기', '한발 앞으로 내밀고 앉았다 일어서기', '윗몸올리기', '엎드려 버티기', '옆으로 누워 버티기', '누워서 엉덩이 들어올리기'], ['윗몸올리기', '누워서 엉덩이 들어올리기', '엎드려 버티기', '서서 상체 일으키기', '앉아서 밀기', '앉아서 당겨 내리기', '앉아서 다리 밀기', '앉아서 다리 펴기', '자전거타기', '걷기'], ['팔굽혀펴기', '허리 굽혀 팔 뒤로 들기', '앉았다 일어서기', '달리기', '계단 올라갔다 내려오기'], ['달리기', '자전거타기', '자전거타기', '걷기', '줄넘기', '계단 올라갔다 내려오기', '계단 뛰기', '수영'], ['앉았다 일어서기', '앞굽이 앉았다 일어서기', '연속 사이드 스쿼드', '팔굽혀 펴기', '뒤로 팔굽혀펴기', '서서 상체 일으키기', '윗몸올리기', '누워서 다리 들어올리기', '누워서 엉덩이 들어올리기'], ['앉아서 다리 펴기', '앉아서 다리 굽히기', '앉아서 당겨 내리기', '앉아서 밀기'], ['달리기', '자전거타기', '자전거타기', '줄넘기', '계단 올라갔다 내려오기'], ['달리기', '계단 올라갔다 내려오기'], ['앉아서 당겨 내리기', '앉아서 뒤로 당기기', '앉아서 밀기', '앉아서 모으기', '한발 앞으로 내밀고 앉았다 일어서기', '윗몸올리기', '엎드려 버티기', '누워서 다리 들어올리기', '앉았다 일어서기', '의자에 앉아 다리 뻗어 올리기', '앉아서 엉덩관절 굽히기'], ['달리기', '자전거타기', '자전거타기', '걷기', '줄넘기', '계단 올라갔다 내려오기', '계단 뛰기', '수영'], ['앉아서 다리 밀기', '앉아서 다리 펴기', '앉아서 다리 모으기', '앉아서 당겨 내리기', '앉아서 뒤로 당기기', '몸통 들어올리기', '앉아서 밀기', '앉아서 위로 밀기', '앉았다 일어서기', '몸통 옆으로 굽히기'], ['상지 루틴 스트레칭', '전신 루틴 스트레칭'], ['달리기', '계단 올라갔다 내려오기', '자전거타기', '걷기'], ['팔굽혀펴기', '허리 굽혀 팔 뒤로 들기', '앉았다 일어서기', '달리기', '계단 올라갔다 내려오기', '고정한 상태에서 덤벨 들고 팔꿈치 굽히기', '허리 굽혀 덤벨 뒤로 들기'], ['팔굽혀펴기', '허리 굽혀 팔 뒤로 들기', '앉았다 일어서기', '달리기', '계단 올라갔다 내려오기', '고정한 상태에서 덤벨 들고 팔꿈치 굽히기', '허리 굽혀 덤벨 뒤로 들기'], ['앉았다 일어서기', '턱걸이', '매달려서 다리 들기', '엎드려서 균형잡기', '서서 균형잡으며 몸통 회전하기', '엎드려 버티기', '옆으로 누워 버티기', '누워서 다리 들어올리기', '누워서 팔 다리 동시에 들어올리기', '팔굽혀펴기', '뒤로 팔굽혀펴기', '의자에 한 다리 올리고 앉앗다 일어서기', '팔벌려뛰기', '버피운동'], ['달리기', '자전거타기', '계단 올라갔다 내려오기', '수영', '서서 다리 뒤로 차기', '누워서 엉덩이 들어올리기', '윗몸올리기', '네발기기 자세로 팔 다리 들기', '몸통 옆으로 굽히기', '엎드려 버티기', '누워서 다리 들어올리기', '엎드려서 팔 다리 들기'], ['앉았다 일어서기', '한발 앞으로 내밀고 앉았다 일어서기', '앉아서 다리 밀기', '앉아서 다리 펴기', '앉아서 다리 굽히기', '누워서 다리 좌우로 움직이기', '앉아서 다리 모으기', '앉아서 다리 벌리기', '엎드려 버티기', '옆으로 누워 버티기'], ['계단 올라갔다 내려오기', '계단 뛰기', '수영', '몸 기울이기/회전하기'], ['목 스트레칭', '등/어깨 뒤쪽 스트레칭', '가슴/어깨 앞쪽 스트레칭', '아래 팔 스트레칭', '허리 스트레칭', '배 스트레칭', '옆구리 스트레칭', '엉덩이 스트레칭', '넙다리 스트레칭', '넙다리 스트레칭', '넙다리 스트레칭', '좌식생활자를 위한 동적 루틴 스트레칭 '], ['앉았다 일어서기', '한발 앞으로 내밀고 앉았다 일어서기', '넙다리 스트레칭', '하지 루틴 스트레칭', '상지 루틴 스트레칭', '좌식생활자를 위한 동적 루틴 스트레칭 '], ['허리 굽혀 팔 뒤로 들기', '물병 옆으로 들어올리기', '네발기기 자세로 팔 다리 들기', '누워서 엉덩이 들어올리기', '자전거타기', '걷기'], ['스텝박스 오르내리기', '달리기', '자전거타기', '줄넘기', '계단 올라갔다 내려오기', '수영', '아쿠아로빅', '물속에서 걷기', '버피운동'], ['앉아서 다리 밀기', '앉아서 다리 펴기', '앉아서 다리 굽히기', '앉아서 당겨 내리기', '앉아서 뒤로 당기기', '앉아서 밀기', '앉아서 위로 밀기', '윗몸올리기', '누워서 다리 들어올리기', '몸통 들어올리기'], ['자전거타기', '걷기', '계단 올라갔다 내려오기', '수영'], ['몸통 들어올리기', '소파를 이용한 윗몸올리기', '엎드려 버티기', '옆으로 누워 버티기', '네발기기 자세로 팔 다리 들기', '엎드려서 팔 다리 들기'], ['허리 스트레칭', '배 스트레칭', '엉덩이 스트레칭', '하지 루틴 스트레칭', '자전거타기', '줄넘기', '계단 올라갔다 내려오기', '수영', '아쿠아로빅', '스텝박스'], ['앉아서 다리 밀기', '앉아서 다리 펴기', '앉아서 다리 굽히기', '앉아서 당겨 내리기', '앉아서 뒤로 당기기', '앉아서 밀기', '앉아서 위로 밀기', '윗몸올리기', '누워서 다리 들어올리기', '몸통 들어올리기'], ['자전거타기', '걷기', '계단 올라갔다 내려오기', '앉았다 일어서기', '서서 뒤꿈치 들기'], ['서서 상체 일으키기', '앉았다 일어서기', '소파를 이용한 윗몸올리기', '엎드려 버티기', '네발기기 자세로 팔 다리 들기', '서서 다리 뒤로 차기'], ['달리기', '자전거타기', '자전거타기', '줄넘기', '계단 올라갔다 내려오기'], ['달리기', '무릎 높여 제자리 달리기'], ['전완대고 버티기', '윗몸 일으키기'], ['자전거타기', '걷기', '계단 올라갔다 내려오기', '앉았다 일어서기', '서서 뒤꿈치 들기'], ['전신 루틴 스트레칭'], ['윗몸올리기', '누워서 엉덩이 들어올리기', '엎드려 버티기', '서서 상체 일으키기', '앉아서 밀기', '앉아서 당겨 내리기', '앉아서 다리 밀기', '앉아서 다리 펴기', '자전거타기', '걷기'], ['목 스트레칭', '등/어깨 뒤쪽 스트레칭', '가슴/어깨 앞쪽 스트레칭', '아래 팔 스트레칭', '허리 스트레칭', '배 스트레칭', '옆구리 스트레칭', '엉덩이 스트레칭', '넙다리 스트레칭', '넙다리 스트레칭', '넙다리 스트레칭', '좌식생활자를 위한 동적 루틴 스트레칭 '], ['걷기', '계단 올라갔다 내려오기', '자전거타기'], ['줄넘기', '계단 올라갔다 내려오기'], ['버피운동', '앉았다 일어서기', '앉았다 일어서면서 점프하기', '맨몸운동 루틴프로그램', '전완대고 버티기', '팔다리 교차 버티기'], ['윗몸올리기', '누워서 엉덩이 들어올리기', '엎드려 버티기', '서서 상체 일으키기', '앉아서 밀기', '앉아서 당겨 내리기', '앉아서 다리 밀기', '앉아서 다리 펴기', '자전거타기', '걷기'], ['앉았다 일어서기', '의자 앞에서 앉았다 일어서기', '윗몸올리기', '엎드려 버티기', '옆으로 누워 버티기', '누워서 다리 들어올리기', '누워서 엉덩이 들어올리기', '네발기기 자세로 팔 다리 들기', '네발기기 자세에서 손바닥으로 바닥밀기', '팔굽혀펴기'], ['윗몸올리기', '누워서 엉덩이 들어올리기', '엎드려 버티기', '서서 상체 일으키기', '앉아서 밀기', '앉아서 당겨 내리기', '앉아서 다리 밀기', '앉아서 다리 펴기', '자전거타기', '걷기'], ['윗몸올리기', '누워서 엉덩이 들어올리기', '엎드려 버티기', '서서 상체 일으키기', '앉아서 밀기', '앉아서 당겨 내리기', '앉아서 다리 밀기', '앉아서 다리 펴기', '자전거타기', '걷기'], ['자전거타기', '걷기', '계단 올라갔다 내려오기', '앉았다 일어서기', '서서 뒤꿈치 들기'], ['줄넘기', '팔굽혀 펴기'], ['자전거타기', '걷기', '수영'], ['앉아서 당겨 내리기', '앉아서 뒤로 당기기', '앉아서 밀기', '앉았다 일어서기', '한발 앞으로 내밀고 앉았다 일어서기', '턱걸이', '몸통 옆으로 굽히기', '윗몸올리기', '엎드려 버티기', '옆으로 누워 버티기'], ['앉아서 다리 밀기', '앉아서 다리 펴기', '앉아서 다리 모으기', '앉아서 당겨 내리기', '앉아서 뒤로 당기기', '몸통 들어올리기', '앉아서 밀기', '앉아서 위로 밀기', '앉았다 일어서기', '몸통 옆으로 굽히기'], ['앉았다 일어서기', '한발 앞으로 내밀고 앉았다 일어서기', '누워서 다리 들어올리기', '팔굽혀펴기', '팔꿈치 굽히기'], ['앉아서 다리 밀기', '앉아서 다리 펴기', '앉아서 다리 굽히기', '앉아서 당겨 내리기', '앉아서 뒤로 당기기', '앉아서 밀기', '앉아서 위로 밀기', '윗몸올리기', '누워서 다리 들어올리기', '몸통 들어올리기'], ['달리기', '줄넘기', '계단 뛰기'], ['손목 펴기/굽히기', '앉았다 일어서기', '윗몸올리기', '엎드려 버티기', '엎드려서 팔 다리 들기', '팔굽혀펴기', '서서 뒤꿈치 들기'], ['엉덩이 스트레칭', '엉덩이 스트레칭', '몸통 앞으로 굽혀 걷기', '한쪽 다리펴고 상체 숙이기', '넙다리 스트레칭', '넙다리 스트레칭'], ['윗몸올리기', '누워서 엉덩이 들어올리기', '엎드려 버티기', '서서 상체 일으키기', '앉아서 밀기', '앉아서 당겨 내리기', '앉아서 다리 밀기', '앉아서 다리 펴기', '자전거타기', '걷기'], ['자전거타기', '물누르기/올리기'], ['버피운동', '앉았다 일어서면서 점프하기', '앉았다 일어서기', '한발 앞으로 내밀고 앉았다 일어서기', '팔굽혀펴기', '앉아서 당겨 내리기', '원판던지기', '윗몸 말아 올리기', '네발기기 자세에서 다리 위로 뻗어올리기'], ['달리기', '무릎 높여 제자리 달리기'], ['버피운동', '무릎 높여 제자리 달리기', '앉아서 다리 펴기', '앉아서 다리 굽히기', '앉아서 다리 모으기', '앉아서 다리 벌리기', '고정한 상태에서 덤벨 들고 팔꿈치 굽히기', '앉아서 팔꿈치 굽히기/펴기', '서서 탄력밴드 당겨내리기/올리기', '물병 옆으로 들어올리기'], ['달리기', '무릎 높여 제자리 달리기'], ['척추 들어올리기', '엎드려 상체 들어올리기', '의자에 앉아 옆구리 숙이기', '온 몸 뻗어주기'], ['대퇴이두근 스트레칭', '요통을 위한 스트레칭', '몸통 앞으로 굽혀 걷기', '앉아서 상체 앞 옆으로 기울기', '앉았다 일어서기', '바벨들어올리기', '누워서 가슴 밀기', '서서 바벨 위로 밀기', '앉아서 당겨 내리기', '한발 앞으로 내밀고 앉았다 일어서기', '달리기', '자전거타기', '계단 올라갔다 내려오기', '계단 뛰기', '수영', '버피운동', '목 스트레칭', '전신 루틴 스트레칭'], ['자전거타기', '줄넘기', '계단 올라갔다 내려오기', '수영', '아쿠아로빅', '스텝박스'], ['달리기', '자전거타기', '줄넘기', '계단 올라갔다 내려오기'], ['윗몸올리기', '누워서 엉덩이 들어올리기', '엎드려 버티기', '서서 상체 일으키기', '앉아서 밀기', '앉아서 당겨 내리기', '앉아서 다리 밀기', '앉아서 다리 펴기', '자전거타기', '걷기'], ['누워서 전신 뻗기', '깍지 끼고 상체 숙이기', '목 스트레칭', '등/어깨 뒤쪽 스트레칭', '어깨 뒤쪽 스트레칭', '아래 팔 스트레칭', '허리 스트레칭', '양팔 벌려 전신 비틀기', '회전근개 스트레칭', '어깨 스트레칭'], ['버피운동', '무릎 높여 제자리 달리기', '앉아서 다리 펴기', '앉아서 다리 굽히기', '앉아서 다리 모으기', '앉아서 다리 벌리기', '고정한 상태에서 덤벨 들고 팔꿈치 굽히기', '앉아서 팔꿈치 굽히기/펴기', '서서 탄력밴드 당겨내리기/올리기', '물병 옆으로 들어올리기'], ['전완대고 버티기', '윗몸 일으키기'], ['앉았다 일어서기', '한발 앞으로 내밀고 앉았다 일어서기', '윗몸올리기', '엎드려 버티기', '옆으로 누워 버티기', '누워서 엉덩이 들어올리기'], ['윗몸올리기', '누워서 엉덩이 들어올리기', '엎드려 버티기', '서서 상체 일으키기', '앉아서 밀기', '앉아서 당겨 내리기', '앉아서 다리 밀기', '앉아서 다리 펴기', '자전거타기', '걷기'], ['앉아서 다리 밀기', '앉아서 다리 펴기', '앉아서 다리 모으기', '앉아서 당겨 내리기', '앉아서 뒤로 당기기', '몸통 들어올리기', '앉아서 밀기', '앉아서 위로 밀기', '앉았다 일어서기', '몸통 옆으로 굽히기'], ['달리기', '무릎 높여 제자리 달리기'], ['줄넘기', '계단 올라갔다 내려오기', '계단 뛰기'], ['서서 상체 일으키기', '앉았다 일어서기', '소파를 이용한 윗몸올리기', '엎드려 버티기', '네발기기 자세로 팔 다리 들기', '서서 다리 뒤로 차기'], ['허리 스트레칭', '배 스트레칭', '엉덩이 스트레칭', '넙다리 스트레칭', '넙다리 스트레칭', '넙다리 스트레칭'], ['달리기', '자전거타기', '줄넘기', '계단 올라갔다 내려오기'], ['서서 상체 일으키기', '앉았다 일어서기', '윗몸올리기', '옆으로 누워 버티기', '누워서 엉덩이 들어올리기', '앉아서 팔꿈치 굽히기/펴기', '달리기', '자전거타기', '걷기', '줄넘기', '계단 올라갔다 내려오기', '수영', '스텝퍼 뛰어서 오르내리기', '스텝퍼 뛰어서 넘어가기', '사다리 안팎 뛰기', '앉았다 일어서면서 점프하기', '무릎 높여 제자리 달리기', '버피운동'], ['버피운동', '무릎 높여 제자리 달리기', '앉아서 다리 펴기', '앉아서 다리 굽히기', '앉아서 다리 모으기', '앉아서 다리 벌리기', '고정한 상태에서 덤벨 들고 팔꿈치 굽히기', '앉아서 팔꿈치 굽히기/펴기', '서서 탄력밴드 당겨내리기/올리기', '물병 옆으로 들어올리기'], ['버피운동', '앉았다 일어서면서 점프하기', '앉았다 일어서기', '한발 앞으로 내밀고 앉았다 일어서기', '팔굽혀펴기', '앉아서 당겨 내리기', '원판던지기', '윗몸 말아 올리기', '네발기기 자세에서 다리 위로 뻗어올리기'], ['달리기', '자전거타기', '줄넘기', '계단 올라갔다 내려오기'], ['달리기', '무릎 높여 제자리 달리기'], ['달리기', '자전거타기', '수영', '달리기', '계단 올라갔다 내려오기'], ['앉았다 일어서기', '한발 앞으로 내밀고 앉았다 일어서기', '누워서 덤벨 들어올리기', '윗몸올리기', '턱걸이', '바벨 끌어당기기'], ['앉아서 다리 밀기', '앉아서 다리 펴기', '앉아서 다리 굽히기', '앉아서 당겨 내리기', '앉아서 뒤로 당기기', '앉아서 밀기', '앉아서 위로 밀기', '윗몸올리기', '누워서 다리 들어올리기', '몸통 들어올리기'], ['스텝박스 오르내리기', '달리기', '자전거타기', '줄넘기', '계단 올라갔다 내려오기', '수영', '아쿠아로빅', '물속에서 걷기', '버피운동'], ['앉아서 다리 밀기', '앉아서 다리 펴기', '앉아서 다리 굽히기', '뒤꿈치 들기', '앉아서 당겨 내리기', '앉아서 뒤로 당기기', '앉아서 밀기', '비스듬히 누워서 밀기', '앉아서 위로 밀기', '앉았다 일어서기', '몸통 옆으로 굽히기', '바벨 들어 팔꿈치 굽히기'], ['걷기', '자전거타기', '걷기', '달리기'], ['맨몸운동 루틴프로그램', '걷기'], ['누워서 팔 밀기', '앉아서 가슴 모으기', '앉아서 양팔 당기기', '앉아서 당겨 내리기', '몸통 옆으로 굽히기', '앉아서 몸통 움츠리기'], ['달리기', '자전거타기', '줄넘기', '계단 올라갔다 내려오기'], ['앉았다 일어서기', '한발 앞으로 내밀고 앉았다 일어서기', '턱걸이', '점프 팔굽혀펴기', '소파를 이용한 윗몸올리기', '엎드려 버티기'], ['하지 루틴 스트레칭', '하지 루틴 스트레칭', '수영', '달리기', '자전거타기', '스텝박스'], ['허리 스트레칭', '배 스트레칭', '엉덩이 스트레칭', '하지 루틴 스트레칭', '좌식생활자를 위한 동적 루틴 스트레칭', '작은 공을 이용한 동적 루틴 스트레칭 '], ['엎드려서 팔 다리 들기', '네발기기 자세로 팔 다리 들기', '누워서 수직으로 다리 들어올리기', '누워서 팔 다리 동시에 들어올리기', '엎드려 버티기', '윗몸올리기', '달리기', '자전거타기', '걷기', '수영'], ['앉아서 당겨 내리기', '앉아서 뒤로 당기기', '앉아서 밀기', '앉아서 모으기', '한발 앞으로 내밀고 앉았다 일어서기', '윗몸올리기', '엎드려 버티기', '누워서 다리 들어올리기', '앉았다 일어서기', '의자에 앉아 다리 뻗어 올리기', '앉아서 엉덩관절 굽히기'], ['상지 루틴 스트레칭', '전신 루틴 스트레칭'], ['바벨 당겨 올리기', '앉아서 덤벨로 손목 굽히기', '플렉스 바 비틀기', '팔굽혀 펴기', '턱걸이', '뒤로 팔굽혀펴기'], ['몸통 들어올리기', '소파를 이용한 윗몸올리기', '엎드려 버티기', '옆으로 누워 버티기', '네발기기 자세로 팔 다리 들기', '엎드려서 팔 다리 들기'], ['앉았다 일어서기', '한발 앞으로 내밀고 앉았다 일어서기', '윗몸올리기', '엎드려 버티기', '옆으로 누워 버티기', '누워서 엉덩이 들어올리기'], ['걷기', '자전거타기', '걷기', '달리기'], ['앉았다 일어서기', '서서 뒤꿈치 들기', '자전거타기', '줄넘기', '계단 올라갔다 내려오기'], ['버피운동', '앉았다 일어서기', '앉았다 일어서면서 점프하기', '맨몸운동 루틴프로그램', '전완대고 버티기', '팔다리 교차 버티기'], ['윗몸올리기', '누워서 엉덩이 들어올리기', '엎드려 버티기', '서서 상체 일으키기', '앉아서 밀기', '앉아서 당겨 내리기', '앉아서 다리 밀기', '앉아서 다리 펴기', '자전거타기', '걷기'], ['버피운동', '앉았다 일어서면서 점프하기', '앉았다 일어서기', '한발 앞으로 내밀고 앉았다 일어서기', '팔굽혀펴기', '앉아서 당겨 내리기', '원판던지기', '윗몸 말아 올리기', '네발기기 자세에서 다리 위로 뻗어올리기'], ['윗몸올리기', '누워서 엉덩이 들어올리기', '엎드려 버티기', '서서 상체 일으키기', '앉아서 밀기', '앉아서 당겨 내리기', '앉아서 다리 밀기', '앉아서 다리 펴기', '자전거타기', '걷기'], ['버피운동', '무릎 높여 제자리 달리기', '앉아서 다리 펴기', '앉아서 다리 굽히기', '앉아서 다리 모으기', '앉아서 다리 벌리기', '고정한 상태에서 덤벨 들고 팔꿈치 굽히기', '앉아서 팔꿈치 굽히기/펴기', '서서 탄력밴드 당겨내리기/올리기', '물병 옆으로 들어올리기'], ['앉았다 일어서기', '의자 앞에서 앉았다 일어서기', '윗몸올리기', '소파를 이용한 윗몸올리기', '팔굽혀펴기'], ['탄력밴드 어깨 가쪽 돌림', '서서 탄력밴드 당겨내리기/올리기', '엎드려 버티기', '누워서 다리 들어올리기', '누워서 하늘 자전거', '누워서 엉덩이 들어올리기', '서서 뒤꿈치 들기', '의자 앞에서 앉았다 일어서기', '달리기', '자전거타기', '걷기', '줄넘기', '계단 올라갔다 내려오기', '수영', '스텝퍼 뛰어서 오르내리기', '스텝퍼 뛰어서 넘어가기', '사다리 안팎 뛰기', '앉았다 일어서면서 점프하기', '무릎 높여 제자리 달리기', '버피운동'], ['달리기', '무릎 높여 제자리 달리기'], ['줄넘기', '계단 올라갔다 내려오기'], ['앉았다 일어서기', '윗몸올리기', '엎드려 버티기', '옆으로 누워 버티기', '누워서 다리 들어올리기', '네발기기 자세로 팔 다리 들기', '엎드려서 팔 다리 들기', '팔굽혀펴기', '서서 뒤꿈치 들기'], ['앉았다 일어서기', '엎드려 버티기', '팔굽혀펴기'], ['스텝퍼 옆으로 뛰어넘기', '스텝퍼 올라가서 점프하여 착지하기', '뛰어 내렸다가 바로 점프하기', '사다리 안팎 뛰기', '앉았다 일어서면서 점프하기', '무릎 높여 제자리 달리기', '파워클린', '팔굽혀펴기'], ['앉았다 일어서기', '한발 앞으로 내밀고 앉았다 일어서기', '윗몸올리기', '엎드려 버티기', '옆으로 누워 버티기', '누워서 엉덩이 들어올리기'], ['달리기', '자전거타기', '줄넘기'], ['달리기', '자전거타기', '계단 올라갔다 내려오기', '수영', '서서 다리 뒤로 차기', '누워서 엉덩이 들어올리기', '윗몸올리기', '네발기기 자세로 팔 다리 들기', '몸통 옆으로 굽히기', '엎드려 버티기', '누워서 다리 들어올리기', '엎드려서 팔 다리 들기'], ['앉았다 일어서기', '한발 앞으로 내밀고 앉았다 일어서기', '앉아서 다리 펴기', '앉아서 다리 밀기', '누워서 엉덩이 들어올리기', '윗몸올리기', '엎드려 버티기', '옆으로 누워 버티기', '앉아서 밀기', '앉아서 위로 밀기', '탄력밴드 어깨 가쪽 돌림', '뒤로 팔굽혀펴기'], ['맨몸운동 루틴프로그램', '팔벌려뛰기', '사다리 옆으로 발 옮기기', '옆으로 펀치하기', '스텝퍼 오르내리기', '무릎 높여 제자리 달리기'], ['앉았다 일어서기', '한발 앞으로 내밀고 앉았다 일어서기', '넙다리 스트레칭', '하지 루틴 스트레칭', '상지 루틴 스트레칭', '좌식생활자를 위한 동적 루틴 스트레칭 '], ['앉았다 일어서기', '한발 앞으로 내밀고 앉았다 일어서기', '윗몸올리기', '엎드려 버티기', '옆으로 누워 버티기', '누워서 엉덩이 들어올리기'], ['윗몸올리기', '누워서 엉덩이 들어올리기', '엎드려 버티기', '서서 상체 일으키기', '앉아서 밀기', '앉아서 당겨 내리기', '앉아서 다리 밀기', '앉아서 다리 펴기', '자전거타기', '걷기'], ['맨몸운동 루틴프로그램', '팔벌려뛰기', '사다리 옆으로 발 옮기기', '옆으로 펀치하기', '스텝퍼 오르내리기', '무릎 높여 제자리 달리기'], ['앉았다 일어서기', '한발 앞으로 내밀고 앉았다 일어서기', '넙다리 스트레칭', '하지 루틴 스트레칭', '상지 루틴 스트레칭', '좌식생활자를 위한 동적 루틴 스트레칭 '], ['맨몸운동 루틴프로그램', '걷기'], ['서서 상체 일으키기', '앉았다 일어서기', '윗몸올리기', '옆으로 누워 버티기', '누워서 엉덩이 들어올리기', '앉아서 팔꿈치 굽히기/펴기', '달리기', '자전거타기', '걷기', '줄넘기', '계단 올라갔다 내려오기', '수영', '스텝퍼 뛰어서 오르내리기', '스텝퍼 뛰어서 넘어가기', '사다리 안팎 뛰기', '앉았다 일어서면서 점프하기', '무릎 높여 제자리 달리기', '버피운동'], ['좌식생활자를 위한 동적 루틴 스트레칭', '짐볼을 이용한 동적 루틴 스트레칭', '작은 공을 이용한 동적 루틴 스트레칭', '하지 루틴 스트레칭', '하지 루틴 스트레칭', '상지 루틴 스트레칭'], ['달리기', '자전거타기', '자전거타기', '줄넘기', '계단 올라갔다 내려오기'], ['윗몸올리기', '누워서 엉덩이 들어올리기', '엎드려 버티기', '서서 상체 일으키기', '앉아서 밀기', '앉아서 당겨 내리기', '앉아서 다리 밀기', '앉아서 다리 펴기', '자전거타기', '걷기'], ['자전거타기', '걷기', '계단 올라갔다 내려오기', '앉았다 일어서기', '서서 뒤꿈치 들기'], ['상지 루틴 스트레칭', '하지 루틴 스트레칭', '하지 루틴 스트레칭', '요가 및 필라테스 루틴프로그램', '자가근막이완술 루틴 스트레칭', '작은 공을 이용한 동적 루틴 스트레칭', '짐볼을 이용한 동적 루틴 스트레칭'], ['달리기', '자전거타기', '계단 올라갔다 내려오기', '수영', '서서 다리 뒤로 차기', '누워서 엉덩이 들어올리기', '윗몸올리기', '네발기기 자세로 팔 다리 들기', '몸통 옆으로 굽히기', '엎드려 버티기', '누워서 다리 들어올리기', '엎드려서 팔 다리 들기'], ['달리기', '자전거타기', '줄넘기'], ['앉아서 당겨 내리기', '앉아서 뒤로 당기기', '앉아서 밀기', '앉아서 모으기', '한발 앞으로 내밀고 앉았다 일어서기', '윗몸올리기', '엎드려 버티기', '누워서 다리 들어올리기', '앉았다 일어서기', '의자에 앉아 다리 뻗어 올리기', '앉아서 엉덩관절 굽히기'], ['앉았다 일어서기', '한발 앞으로 내밀고 앉았다 일어서기', '턱걸이', '점프 팔굽혀펴기', '소파를 이용한 윗몸올리기', '엎드려 버티기'], ['윗몸올리기', '한발 앞으로 내밀고 앉았다 일어서기', '버피운동', '팔굽혀펴기'], ['엎드려서 팔 다리 들기', '네발기기 자세로 팔 다리 들기', '누워서 수직으로 다리 들어올리기', '누워서 팔 다리 동시에 들어올리기', '엎드려 버티기', '윗몸올리기', '달리기', '자전거타기', '걷기', '수영'], ['손목 펴기/굽히기', '뒤로 팔굽혀펴기', '허리 굽혀 팔 뒤로 들기', '팔꿈치 굽히기', '앉아서 당겨 내리기', '앉아서 뒤로 당기기', '앉아서 밀기', '앉아서 모으기', '바벨들어올리기', '매달려서 뒤로 팔굽혀 펴기', '한발 앞으로 내밀고 앉았다 일어서기', '누워서 덤벨 들어올리기', '서서 상체 일으키기', '윗몸올리기', '엎드려 버티기', '옆으로 누워 버티기', '누워서 다리 들어올리기', '누워서 엉덩이 들어올리기', '팔굽혀펴기', '한발 앞으로 내밀고 앉았다 일어서기'], ['앉아서 다리 밀기', '앉아서 다리 펴기', '앉아서 다리 굽히기', '앉아서 당겨 내리기', '앉아서 뒤로 당기기', '앉아서 밀기', '앉아서 위로 밀기', '윗몸올리기', '누워서 다리 들어올리기', '몸통 들어올리기'], ['자전거타기', '걷기', '계단 올라갔다 내려오기', '앉았다 일어서기', '서서 뒤꿈치 들기'], ['맨몸운동 루틴프로그램', '팔벌려뛰기', '사다리 옆으로 발 옮기기', '옆으로 펀치하기', '스텝퍼 오르내리기', '무릎 높여 제자리 달리기'], ['달리기', '물병 들고 한발 앞으로 내밀고 앉았다 일어서기'], ['맨몸운동 루틴프로그램'], ['몸통 들어올리기', '소파를 이용한 윗몸올리기', '엎드려 버티기', '옆으로 누워 버티기', '네발기기 자세로 팔 다리 들기', '엎드려서 팔 다리 들기'], ['웨이트 트레이닝 루틴프로그램'], ['팔굽혀펴기', '허리 굽혀 팔 뒤로 들기', '앉았다 일어서기', '달리기', '계단 올라갔다 내려오기'], ['버피운동', '앉았다 일어서기', '앉았다 일어서면서 점프하기', '맨몸운동 루틴프로그램', '전완대고 버티기', '팔다리 교차 버티기'], ['저항밴드 운동 루틴프로그램', '자전거타기', '걷기', '줄넘기', '수영'], ['서서 상체 일으키기', '팔꿈치 굽히기', '윗몸올리기', '팔굽혀펴기'], ['목 스트레칭', '등/어깨 뒤쪽 스트레칭', '가슴/어깨 앞쪽 스트레칭', '아래 팔 스트레칭', '허리 스트레칭', '배 스트레칭', '옆구리 스트레칭', '엉덩이 스트레칭', '넙다리 스트레칭', '넙다리 스트레칭', '넙다리 스트레칭', '좌식생활자를 위한 동적 루틴 스트레칭 '], ['윗몸올리기', '누워서 엉덩이 들어올리기', '엎드려 버티기', '서서 상체 일으키기', '앉아서 밀기', '앉아서 당겨 내리기', '앉아서 다리 밀기', '앉아서 다리 펴기', '자전거타기', '걷기'], ['덤벨 잡고 뒤꿈치 들기', '앉아서 덤벨로 손목 굽히기', '목봉잡고 앉았다 일어나기', '밴드 잡고 누워서 다리 밀기', '몸통 들어올리기', '물속에서 걷기', '수영', '걷기', '자전거타기'], ['달리기', '자전거타기', '자전거타기', '걷기', '줄넘기', '계단 올라갔다 내려오기', '계단 뛰기', '수영'], ['윗몸올리기', '누워서 엉덩이 들어올리기', '엎드려 버티기', '서서 상체 일으키기', '앉아서 밀기', '앉아서 당겨 내리기', '앉아서 다리 밀기', '앉아서 다리 펴기', '자전거타기', '걷기'], ['대퇴이두근 스트레칭', '요통을 위한 스트레칭', '몸통 앞으로 굽혀 걷기', '앉아서 상체 앞 옆으로 기울기', '앉았다 일어서기', '바벨들어올리기', '누워서 가슴 밀기', '서서 바벨 위로 밀기', '앉아서 당겨 내리기', '한발 앞으로 내밀고 앉았다 일어서기', '달리기', '자전거타기', '계단 올라갔다 내려오기', '계단 뛰기', '수영', '버피운동', '목 스트레칭', '전신 루틴 스트레칭'], ['앉았다 일어서기', '윗몸올리기', '소파를 이용한 윗몸올리기', '엎드려 버티기', '누워서 다리 들어올리기', '누워서 팔 다리 동시에 들어올리기', '누워서 다리 좌우로 움직이기', '엎드려서 다리 차올리기', '서서 균형잡으며 몸통 회전하기', '스텝퍼 뛰어서 오르내리기', '스텝퍼 뛰어서 넘어가기'], ['버피운동', '무릎 높여 제자리 달리기', '앉아서 다리 펴기', '앉아서 다리 굽히기', '앉아서 다리 모으기', '앉아서 다리 벌리기', '고정한 상태에서 덤벨 들고 팔꿈치 굽히기', '앉아서 팔꿈치 굽히기/펴기', '서서 탄력밴드 당겨내리기/올리기', '물병 옆으로 들어올리기'], ['맨몸운동 루틴프로그램', '팔벌려뛰기', '사다리 옆으로 발 옮기기', '옆으로 펀치하기', '스텝퍼 오르내리기', '무릎 높여 제자리 달리기'], ['앉았다 일어서기', '앞굽이 앉았다 일어서기', '연속 사이드 스쿼드', '팔굽혀 펴기', '뒤로 팔굽혀펴기', '서서 상체 일으키기', '윗몸올리기', '누워서 다리 들어올리기', '누워서 엉덩이 들어올리기'], ['스텝퍼 뛰어서 오르내리기', '스텝퍼 뛰어서 넘어가기', '스텝퍼 옆으로 뛰어넘기', '스텝퍼 올라가서 점프하여 착지하기', '뛰어 내렸다가 바로 점프하기'], ['앉아서 다리 밀기', '앉아서 다리 펴기', '앉아서 다리 굽히기', '앉아서 당겨 내리기', '앉아서 뒤로 당기기', '앉아서 밀기', '앉아서 위로 밀기', '윗몸올리기', '누워서 다리 들어올리기', '몸통 들어올리기'], ['앉아서 다리 밀기', '앉아서 다리 펴기', '앉아서 다리 굽히기', '앉아서 당겨 내리기', '앉아서 뒤로 당기기', '앉아서 밀기', '앉아서 위로 밀기', '윗몸올리기', '누워서 다리 들어올리기', '몸통 들어올리기'], ['목 스트레칭', '등/어깨 뒤쪽 스트레칭', '가슴/어깨 앞쪽 스트레칭', '아래 팔 스트레칭', '허리 스트레칭', '배 스트레칭', '옆구리 스트레칭', '엉덩이 스트레칭', '넙다리 스트레칭', '넙다리 스트레칭', '넙다리 스트레칭', '좌식생활자를 위한 동적 루틴 스트레칭 '], ['달리기', '무릎 높여 제자리 달리기'], ['상지 루틴 스트레칭', '전신 루틴 스트레칭'], ['앉았다 일어서기', '팔굽혀펴기', '엎드려 버티기', '서서 상체 일으키기'], ['앉았다 일어서기', '한발 앞으로 내밀고 앉았다 일어서기', '서서 다리로 탄력밴드 당기기', '서서 다리로 탄력밴드 당기기', '서서 뒤꿈치 들기', '누워서 엉덩이 들어올리기', '팔굽혀 펴기', '뒤로 팔굽혀펴기', '앉아서 팔꿈치 굽히기/펴기', '엎드려 버티기', '옆으로 누워 버티기'], ['달리기', '자전거타기', '수영', '달리기', '계단 올라갔다 내려오기'], ['달리기', '수영', '자전거타기', '자전거타기'], ['자전거타기', '걷기', '줄넘기', '계단 올라갔다 내려오기'], ['대퇴이두근 스트레칭', '요통을 위한 스트레칭', '몸통 앞으로 굽혀 걷기', '앉아서 상체 앞 옆으로 기울기', '앉았다 일어서기', '바벨들어올리기', '누워서 가슴 밀기', '서서 바벨 위로 밀기', '앉아서 당겨 내리기', '한발 앞으로 내밀고 앉았다 일어서기', '달리기', '자전거타기', '계단 올라갔다 내려오기', '계단 뛰기', '수영', '버피운동', '목 스트레칭', '전신 루틴 스트레칭'], ['목 스트레칭', '등/어깨 뒤쪽 스트레칭', '가슴/어깨 앞쪽 스트레칭', '아래 팔 스트레칭', '허리 스트레칭', '배 스트레칭', '옆구리 스트레칭', '엉덩이 스트레칭', '넙다리 스트레칭', '넙다리 스트레칭', '넙다리 스트레칭', '좌식생활자를 위한 동적 루틴 스트레칭 '], ['맨몸운동 루틴프로그램'], ['달리기', '무릎 높여 제자리 달리기'], ['앉아서 다리 밀기', '엎드려 버티기', '누워서 팔 다리 동시에 들어올리기', '옆으로 누워 버티기'], ['앉았다 일어서기', '한발 앞으로 내밀고 앉았다 일어서기', '턱걸이', '점프 팔굽혀펴기', '소파를 이용한 윗몸올리기', '엎드려 버티기'], ['윗몸올리기', '누워서 엉덩이 들어올리기', '엎드려 버티기', '서서 상체 일으키기', '앉아서 밀기', '앉아서 당겨 내리기', '앉아서 다리 밀기', '앉아서 다리 펴기', '자전거타기', '걷기'], ['엉덩이 스트레칭', '엉덩이 스트레칭', '몸통 앞으로 굽혀 걷기', '한쪽 다리펴고 상체 숙이기', '넙다리 스트레칭', '넙다리 스트레칭'], ['맨몸운동 루틴프로그램', '걷기'], ['윗몸올리기', '소파를 이용한 윗몸올리기', '엎드려 버티기', '누워서 다리 들어올리기', '누워서 팔 다리 동시에 들어올리기', '누워서 수직으로 다리 들어올리기', '누워서 엉덩이 들어올리기', '엎드려서 팔 다리 들기'], ['계단 뛰기', '달리기', '스텝박스', '박스 운동 루틴프로그램', '사다리 운동 루틴프로그램', '콘운동 루틴프로그램', '사이드 스텝 점프하기', '한발로 점프하기'], ['좌식생활자를 위한 동적 루틴 스트레칭', '짐볼을 이용한 동적 루틴 스트레칭', '작은 공을 이용한 동적 루틴 스트레칭', '하지 루틴 스트레칭', '하지 루틴 스트레칭', '상지 루틴 스트레칭'], ['달리기', '자전거타기', '줄넘기', '계단 올라갔다 내려오기'], ['팔벌려뛰기', '버피운동', '점프 팔굽혀펴기', '뛰어 내렸다가 바로 점프하기', '앉았다 일어서면서 점프하기', '무릎 높여 제자리 달리기', '계단 뛰기', '계단 뛰기'], ['맨몸운동 루틴프로그램', '걷기', '달리기'], ['몸통 들어올리기', '소파를 이용한 윗몸올리기', '엎드려 버티기', '옆으로 누워 버티기', '네발기기 자세로 팔 다리 들기', '엎드려서 팔 다리 들기'], ['양팔 크게 벌리기', '허리 굽혀 덤벨 들기', '서서 바벨 위로 밀기', '앉았다 일어서기', '한발 앞으로 내밀고 앉았다 일어서기'], ['좌식생활자를 위한 동적 루틴 스트레칭', '짐볼을 이용한 동적 루틴 스트레칭', '작은 공을 이용한 동적 루틴 스트레칭', '하지 루틴 스트레칭', '하지 루틴 스트레칭', '상지 루틴 스트레칭'], ['허리 스트레칭', '배 스트레칭', '엉덩이 스트레칭', '하지 루틴 스트레칭', '좌식생활자를 위한 동적 루틴 스트레칭', '작은 공을 이용한 동적 루틴 스트레칭 '], ['앉았다 일어서기', '한발 앞으로 내밀고 앉았다 일어서기', '누워서 덤벨 들어올리기', '윗몸올리기', '턱걸이', '바벨 끌어당기기'], ['달리기', '계단 올라갔다 내려오기'], ['서서 상체 일으키기', '앉았다 일어서기', '소파를 이용한 윗몸올리기', '엎드려 버티기', '네발기기 자세로 팔 다리 들기', '서서 다리 뒤로 차기'], ['달리기', '버피운동', '스텝퍼 오르내리기', '팔벌려뛰기'], ['앉았다 일어서기', '원판던지기', '한발 앞으로 내밀고 앉았다 일어서기', '몸통 들어올리기', '바벨들어올리기', '윗몸올리기', '엎드려 버티기', '옆으로 누워 버티기'], ['윗몸 말아 올리기', '윗몸올리기', '누워서 다리 들어올리기', '누워서 팔 다리 동시에 들어올리기', '팔굽혀펴기'], ['달리기', '자전거타기', '걷기', '계단 올라갔다 내려오기', '계단 뛰기', '점프 팔굽혀펴기', '원판던지기'], ['스텝박스 오르내리기', '달리기', '자전거타기', '줄넘기', '계단 올라갔다 내려오기', '수영', '아쿠아로빅', '물속에서 걷기', '버피운동'], ['윗몸올리기', '누워서 엉덩이 들어올리기', '엎드려 버티기', '서서 상체 일으키기', '앉아서 밀기', '앉아서 당겨 내리기', '앉아서 다리 밀기', '앉아서 다리 펴기', '자전거타기', '걷기'], ['계단 올라갔다 내려오기', '달리기', '팔굽혀 펴기', '바로서서 상체 숙이기', '앉았다 일어서기'], ['달리기', '무릎 높여 제자리 달리기'], ['달리기', '자전거타기', '수영', '달리기', '계단 올라갔다 내려오기'], ['앉았다 일어서기', '의자 앞에서 앉았다 일어서기', '엎드려 버티기', '누워서 다리 들어올리기', '누워서 하늘 자전거', '누워서 엉덩이 들어올리기'], ['달리기', '자전거타기', '줄넘기', '계단 올라갔다 내려오기'], ['앉아서 위로 밀기', '누워서 밀기', '앉아서 밀기', '앉아서 다리 밀기', '앉아서 다리 펴기', '앉아서 다리 굽히기', '뒤꿈치 들기', '윗몸올리기', '앉아서 몸통 움츠리기', '엎드려 버티기', '누워서 엉덩이 들어올리기', '달리기', '몸통 들어올리기', '자전거타기', '줄넘기', '계단 올라갔다 내려오기', '앉아서 당겨 내리기', '앉아서 뒤로 당기기', '바벨 들어 팔꿈치 굽히기', '누워서 머리 위로 팔꿈치 펴기 '], ['자전거타기', '걷기', '계단 올라갔다 내려오기', '수영'], ['앉았다 일어서기', '윗몸올리기', '엎드려 버티기', '옆으로 누워 버티기', '누워서 다리 들어올리기', '네발기기 자세로 팔 다리 들기', '엎드려서 팔 다리 들기', '팔굽혀펴기', '서서 뒤꿈치 들기'], ['대퇴이두근 스트레칭', '요통을 위한 스트레칭', '몸통 앞으로 굽혀 걷기', '앉아서 상체 앞 옆으로 기울기', '앉았다 일어서기', '바벨들어올리기', '누워서 가슴 밀기', '서서 바벨 위로 밀기', '앉아서 당겨 내리기', '한발 앞으로 내밀고 앉았다 일어서기', '달리기', '자전거타기', '계단 올라갔다 내려오기', '계단 뛰기', '수영', '버피운동', '목 스트레칭', '전신 루틴 스트레칭'], ['앉았다 일어서기', '팔굽혀펴기', '윗몸올리기', '누워서 엉덩이 들어올리기', '네발기기 자세로 팔 다리 들기', '엎드려 버티기', '누워서 수직으로 다리 들어올리기', '누워서 다리 좌우로 움직이기'], ['팔굽혀펴기', '엎드려서 팔 다리 들기', '몸통 들어올리기', '엎드려 버티기', '옆으로 누워 버티기', '누워서 배가로근 수축', '의자 앞에서 앉았다 일어서기', '한발 앞으로 내밀고 앉았다 일어서기'], ['앉았다 일어서기', '한발 앞으로 내밀고 앉았다 일어서기', '넙다리 스트레칭', '하지 루틴 스트레칭', '상지 루틴 스트레칭', '좌식생활자를 위한 동적 루틴 스트레칭 '], ['앉아서 다리 밀기', '앉아서 다리 펴기', '앉아서 다리 굽히기', '누워서 밀기', '앉아서 모으기', '앉아서 위로 밀기', '바벨들어올리기', '앉았다 일어서기', '한발 앞으로 내밀고 앉았다 일어서기', '턱걸이', '바벨 끌어당기기', '허리 굽혀 덤벨 들기', '누워서 덤벨 들어올리기', '손목 펴기/굽히기', '소파를 이용한 윗몸올리기', '누워서 다리 들어올리기', '누워서 하늘 자전거', '누워서 엉덩이 들어올리기', '팔굽혀펴기', '달리기', '자전거타기', '계단 올라갔다 내려오기', '계단 뛰기', '수영'], ['달리기', '자전거타기', '수영', '달리기', '계단 올라갔다 내려오기'], ['버피운동', '무릎 높여 제자리 달리기', '앉아서 다리 펴기', '앉아서 다리 굽히기', '앉아서 다리 모으기', '앉아서 다리 벌리기', '고정한 상태에서 덤벨 들고 팔꿈치 굽히기', '앉아서 팔꿈치 굽히기/펴기', '서서 탄력밴드 당겨내리기/올리기', '물병 옆으로 들어올리기'], ['앉았다 일어서기', '한발 앞으로 내밀고 앉았다 일어서기', '누워서 덤벨 들어올리기', '윗몸올리기', '턱걸이', '바벨 끌어당기기'], ['팔굽혀펴기', '허리 굽혀 팔 뒤로 들기', '앉았다 일어서기', '달리기', '계단 올라갔다 내려오기'], ['앉았다 일어서기', '앞굽이 앉았다 일어서기', '연속 사이드 스쿼드', '팔굽혀 펴기', '뒤로 팔굽혀펴기', '서서 상체 일으키기', '윗몸올리기', '누워서 다리 들어올리기', '누워서 엉덩이 들어올리기'], ['달리기', '계단 올라갔다 내려오기', '자전거타기', '걷기'], ['달리기', '자전거타기', '줄넘기', '계단 올라갔다 내려오기'], ['양팔 벌려 전신 비틀기', '회전근개 스트레칭', '어깨 양 옆으로 돌리기'], ['스텝박스 오르내리기', '달리기', '자전거타기', '줄넘기', '계단 올라갔다 내려오기', '수영', '아쿠아로빅', '물속에서 걷기', '버피운동'], ['윗몸올리기', '누워서 엉덩이 들어올리기', '엎드려 버티기', '서서 상체 일으키기', '앉아서 밀기', '앉아서 당겨 내리기', '앉아서 다리 밀기', '앉아서 다리 펴기', '자전거타기', '걷기'], ['앉았다 일어서기', '서서 뒤꿈치 들기', '자전거타기', '줄넘기', '계단 올라갔다 내려오기'], ['달리기', '수영', '자전거타기', '자전거타기'], ['윗몸올리기', '누워서 엉덩이 들어올리기', '엎드려 버티기', '서서 상체 일으키기', '앉아서 밀기', '앉아서 당겨 내리기', '앉아서 다리 밀기', '앉아서 다리 펴기', '자전거타기', '걷기'], ['앉아서 다리 밀기', '앉아서 다리 펴기', '앉아서 다리 굽히기', '뒤꿈치 들기', '앉아서 다리 모으기', '앉아서 다리 벌리기', '앉아서 뒤로 당기기', '앉아서 밀기', '바벨 들어 팔꿈치 굽히기', '누워서 머리 위로 팔꿈치 펴기', '덤벨 옆으로 들어올리기', '손목 펴기/굽히기', '윗몸올리기', '엎드려 버티기', '옆으로 누워 버티기', '누워서 수직으로 다리 들어올리기', '뛰어 내렸다가 바로 점프하기', '사다리 안팎 뛰기', '앉았다 일어서면서 점프하기', '사다리 좌우 뛰기', '사다리 옆으로 발 옮기기', '계단 뛰기'], ['목 굽힘/ 폄', '네발기기 자세에서 손바닥으로 바닥밀기', '물병 옆으로 들어올리기', '탄력밴드 어깨 가쪽 돌림', '허리 굽혀 팔 뒤로 들기', '엎드려 버티기'], ['앉아서 다리 밀기', '앉아서 다리 펴기', '앉아서 다리 모으기', '앉았다 일어서기', '한발 앞으로 내밀고 앉았다 일어서기', '의자에 앉아 다리 뻗어 올리기'], ['윗몸올리기', '누워서 엉덩이 들어올리기', '엎드려 버티기', '서서 상체 일으키기', '앉아서 밀기', '앉아서 당겨 내리기', '앉아서 다리 밀기', '앉아서 다리 펴기', '자전거타기', '걷기'], ['버피운동', '팔벌려뛰기'], ['윗몸올리기', '누워서 엉덩이 들어올리기', '엎드려 버티기', '서서 상체 일으키기', '앉아서 밀기', '앉아서 당겨 내리기', '앉아서 다리 밀기', '앉아서 다리 펴기', '자전거타기', '걷기'], ['뛰어 내렸다가 바로 점프하기', '앉았다 일어서면서 점프하기', '스텝퍼 오르내리기', '무릎 높여 제자리 달리기'], ['앉았다 일어서기', '앞굽이 앉았다 일어서기', '연속 사이드 스쿼드', '팔굽혀 펴기', '뒤로 팔굽혀펴기', '서서 상체 일으키기', '윗몸올리기', '누워서 다리 들어올리기', '누워서 엉덩이 들어올리기'], ['허리 스트레칭', '배 스트레칭', '엉덩이 스트레칭', '하지 루틴 스트레칭', '좌식생활자를 위한 동적 루틴 스트레칭', '작은 공을 이용한 동적 루틴 스트레칭 '], ['버피운동', '무릎 높여 제자리 달리기', '앉아서 다리 펴기', '앉아서 다리 굽히기', '앉아서 다리 모으기', '앉아서 다리 벌리기', '고정한 상태에서 덤벨 들고 팔꿈치 굽히기', '앉아서 팔꿈치 굽히기/펴기', '서서 탄력밴드 당겨내리기/올리기', '물병 옆으로 들어올리기'], ['누워서 팔 밀기', '앉아서 가슴 모으기', '앉아서 양팔 당기기', '앉아서 당겨 내리기', '몸통 옆으로 굽히기', '앉아서 몸통 움츠리기'], ['앉았다 일어서기', '한발 앞으로 내밀고 앉았다 일어서기', '누워서 다리 들어올리기', '팔굽혀펴기', '팔꿈치 굽히기'], ['상지 루틴 스트레칭', '전신 루틴 스트레칭'], ['앉았다 일어서기', '한발 앞으로 내밀고 앉았다 일어서기', '턱걸이', '점프 팔굽혀펴기', '소파를 이용한 윗몸올리기', '엎드려 버티기'], ['앉았다 일어서기', '윗몸올리기', '엎드려 버티기', '옆으로 누워 버티기', '누워서 다리 들어올리기', '네발기기 자세로 팔 다리 들기', '엎드려서 팔 다리 들기', '팔굽혀펴기', '서서 뒤꿈치 들기'], ['앉았다 일어서기', '팔굽혀펴기', '윗몸올리기', '누워서 엉덩이 들어올리기', '네발기기 자세로 팔 다리 들기', '엎드려 버티기', '누워서 수직으로 다리 들어올리기', '누워서 다리 좌우로 움직이기'], ['윗몸올리기', '누워서 엉덩이 들어올리기', '엎드려 버티기', '서서 상체 일으키기', '앉아서 밀기', '앉아서 당겨 내리기', '앉아서 다리 밀기', '앉아서 다리 펴기', '자전거타기', '걷기'], ['앉아서 다리 펴기', '앉아서 다리 굽히기', '앉아서 당겨 내리기', '앉아서 밀기'], ['자전거타기', '물누르기/올리기'], ['밴드 잡고 몸통 옆으로 굽히기', '몸통 들어올리기', '팔굽혀 펴기', '바로서서 상체 숙이기', '누워 다리 들어올리기', '의자에 앉아 물병 들고 몸통 돌리기', '네발기기 자세로 팔 다리 들기', '엎드려서 팔 다리 들기'], ['앉았다 일어서기', '한발 앞으로 내밀고 앉았다 일어서기', '턱걸이', '점프 팔굽혀펴기', '소파를 이용한 윗몸올리기', '엎드려 버티기'], ['자전거타기', '수영', '달리기', '앉았다 일어서기', '팔굽혀펴기', '윗몸올리기', '누워서 엉덩이 들어올리기', '엎드려 버티기', '엎드려서 팔 다리 들기'], ['양팔 크게 벌리기', '허리 굽혀 덤벨 들기', '서서 바벨 위로 밀기', '앉았다 일어서기', '한발 앞으로 내밀고 앉았다 일어서기'], ['몸통 들어올리기', '소파를 이용한 윗몸올리기', '엎드려 버티기', '옆으로 누워 버티기', '네발기기 자세로 팔 다리 들기', '엎드려서 팔 다리 들기'], ['버피운동', '무릎 높여 제자리 달리기', '앉아서 다리 펴기', '앉아서 다리 굽히기', '앉아서 다리 모으기', '앉아서 다리 벌리기', '고정한 상태에서 덤벨 들고 팔꿈치 굽히기', '앉아서 팔꿈치 굽히기/펴기', '서서 탄력밴드 당겨내리기/올리기', '물병 옆으로 들어올리기'], ['달리기', '자전거타기', '줄넘기'], ['앉아서 다리 밀기', '앉아서 밀기', '바벨들어올리기', '앉았다 일어서기', '앉았다 일어서기', '팔굽혀펴기'], ['팔굽혀펴기', '허리 굽혀 팔 뒤로 들기', '앉았다 일어서기', '달리기', '계단 올라갔다 내려오기'], ['버피운동', '무릎 높여 제자리 달리기', '앉아서 다리 펴기', '앉아서 다리 굽히기', '앉아서 다리 모으기', '앉아서 다리 벌리기', '고정한 상태에서 덤벨 들고 팔꿈치 굽히기', '앉아서 팔꿈치 굽히기/펴기', '서서 탄력밴드 당겨내리기/올리기', '물병 옆으로 들어올리기'], ['몸통 들어올리기', '소파를 이용한 윗몸올리기', '엎드려 버티기', '옆으로 누워 버티기', '네발기기 자세로 팔 다리 들기', '엎드려서 팔 다리 들기'], ['앉았다 일어서기', '윗몸올리기', '엎드려 버티기', '옆으로 누워 버티기', '누워서 다리 들어올리기', '네발기기 자세로 팔 다리 들기', '엎드려서 팔 다리 들기', '팔굽혀펴기', '서서 뒤꿈치 들기'], ['달리기', '자전거타기', '줄넘기', '계단 올라갔다 내려오기'], ['달리기', '자전거타기', '줄넘기', '계단 올라갔다 내려오기'], ['앉았다 일어서면서 점프하기', '무릎 높여 제자리 달리기'], ['누워서 다리 들어올리기', '팔꿈치 굽히기', '서서 다리로 탄력밴드 당기기', '누워서 엉덩이 들어올리기', '팔굽혀펴기', '윗몸올리기', '한발 앞으로 내밀고 앉았다 일어서기', '서서 뒤꿈치 들기', '엎드려서 팔 다리 들기', '허리 굽혀 팔 뒤로 들기', '앉았다 일어서기', '물병 옆으로 들어올리기', '자전거타기', '걷기', '계단 올라갔다 내려오기', '수영'], ['허리 스트레칭', '배 스트레칭', '엉덩이 스트레칭', '하지 루틴 스트레칭', '좌식생활자를 위한 동적 루틴 스트레칭', '작은 공을 이용한 동적 루틴 스트레칭 '], ['팔굽혀펴기', '허리 굽혀 팔 뒤로 들기', '앉았다 일어서기', '달리기', '계단 올라갔다 내려오기'], ['자전거타기', '줄넘기', '계단 올라갔다 내려오기', '수영', '아쿠아로빅', '스텝박스'], ['앉았다 일어서기', '한발 앞으로 내밀고 앉았다 일어서기', '턱걸이', '점프 팔굽혀펴기', '소파를 이용한 윗몸올리기', '엎드려 버티기'], ['윗몸올리기', '누워서 엉덩이 들어올리기', '엎드려 버티기', '서서 상체 일으키기', '앉아서 밀기', '앉아서 당겨 내리기', '앉아서 다리 밀기', '앉아서 다리 펴기', '자전거타기', '걷기'], ['서서 상체 일으키기', '앉았다 일어서기', '소파를 이용한 윗몸올리기', '엎드려 버티기', '네발기기 자세로 팔 다리 들기', '서서 다리 뒤로 차기'], ['계단 뛰기', '달리기', '줄넘기', '스텝박스 오르내리기 '], ['양팔 크게 벌리기', '허리 굽혀 덤벨 들기', '서서 바벨 위로 밀기', '앉았다 일어서기', '한발 앞으로 내밀고 앉았다 일어서기'], ['걷기', '자전거타기', '걷기', '달리기'], ['달리기', '계단 올라갔다 내려오기', '자전거타기', '걷기'], ['달리기', '무릎 높여 제자리 달리기'], ['엉덩이 스트레칭', '엉덩이 스트레칭', '몸통 앞으로 굽혀 걷기', '한쪽 다리펴고 상체 숙이기', '넙다리 스트레칭', '넙다리 스트레칭'], ['스텝퍼 옆으로 뛰어넘기', '스텝퍼 올라가서 점프하여 착지하기', '뛰어 내렸다가 바로 점프하기', '사다리 안팎 뛰기', '앉았다 일어서면서 점프하기', '무릎 높여 제자리 달리기', '파워클린', '팔굽혀펴기'], ['앉아서 다리 밀기', '앉아서 다리 펴기', '앉아서 다리 굽히기', '앉아서 당겨 내리기', '앉아서 뒤로 당기기', '앉아서 밀기', '앉아서 위로 밀기', '윗몸올리기', '누워서 다리 들어올리기', '몸통 들어올리기'], ['앉아서 다리 펴기', '덤벨 잡고 뒤꿈치 들기', '목봉잡고 앉았다 일어나기', '의자 앉아 다리로 짐볼 쥐기', '몸통 들어올리기', '수영', '자전거타기', '스텝박스', '한발 들기', '의자 잡고 측면으로 한발 들기', '짐볼 앉아 중심 잡기 루틴 운동', '발바닥 치기', '머리 위로 공 넘기기', '풍선 튕기기'], ['자전거타기', '걷기', '계단 올라갔다 내려오기', '수영'], ['달리기', '자전거타기', '걷기', '계단 올라갔다 내려오기', '계단 뛰기', '점프 팔굽혀펴기', '원판던지기'], ['앉아서 당겨 내리기', '앉아서 뒤로 당기기', '앉아서 밀기', '앉아서 모으기', '한발 앞으로 내밀고 앉았다 일어서기', '윗몸올리기', '엎드려 버티기', '누워서 다리 들어올리기', '앉았다 일어서기', '의자에 앉아 다리 뻗어 올리기', '앉아서 엉덩관절 굽히기'], ['달리기', '자전거타기', '자전거타기', '걷기', '줄넘기', '계단 올라갔다 내려오기', '계단 뛰기', '수영'], ['윗몸 말아 올리기', '윗몸올리기', '누워서 다리 들어올리기', '누워서 팔 다리 동시에 들어올리기', '팔굽혀펴기'], ['서서 상체 일으키기', '앉았다 일어서기', '윗몸올리기', '엎드려 버티기', '누워서 다리 들어올리기', '누워서 엉덩이 들어올리기', '네발기기 자세로 팔 다리 들기', '짐볼에 엎드려서 몸통 젖히기', '팔굽혀펴기', '허리 굽혀 팔 뒤로 들기', '물병 옆으로 들어올리기', '팔꿈치 굽히기', '밴드 머리 뒤로 들어올리기', '벽에서 팔굽혀 펴기', '한발 앞으로 내밀고 앉았다 일어서기', '의자에 앉아 다리 뻗어 올리기', '서서 다리 뒤로 차기', '서서 다리로 탄력밴드 당기기', '서서 다리로 탄력밴드 당기기', '엎드려 팔다리 교차올리기', '누워서 덤벨 들어올리기', '앉아서 당겨 내리기', '앉아서 뒤로 당기기', '바벨들어올리기', '버피운동', '밴드 걸고 엎드려서 다리 구부리기', '밴드 걸고 누워서 다리 들어올리기', '밴드 걸고 앉아서 발등 굽힘', '밴드 걸고 옆으로 누워 다리 올리기'], ['윗몸올리기', '누워서 엉덩이 들어올리기', '엎드려 버티기', '서서 상체 일으키기', '앉아서 밀기', '앉아서 당겨 내리기', '앉아서 다리 밀기', '앉아서 다리 펴기', '자전거타기', '걷기'], ['팔굽혀펴기', '허리 굽혀 팔 뒤로 들기', '앉았다 일어서기', '달리기', '계단 올라갔다 내려오기'], ['앉았다 일어서기', '한발 앞으로 내밀고 앉았다 일어서기', '넙다리 스트레칭', '하지 루틴 스트레칭', '상지 루틴 스트레칭', '좌식생활자를 위한 동적 루틴 스트레칭 '], ['맨몸운동 루틴프로그램', '저항밴드 운동 루틴프로그램', '웨이트 트레이닝 루틴프로그램'], ['앉았다 일어서기', '윗몸올리기', '엎드려 버티기', '옆으로 누워 버티기', '누워서 다리 들어올리기', '네발기기 자세로 팔 다리 들기', '엎드려서 팔 다리 들기', '팔굽혀펴기', '서서 뒤꿈치 들기'], ['허리 스트레칭', '배 스트레칭', '엉덩이 스트레칭', '넙다리 스트레칭', '넙다리 스트레칭', '넙다리 스트레칭'], ['바로서서 상체 숙이기', '의자 앞에서 앉았다 일어서기', '네발기기 자세로 팔 다리 들기', '네발기기 자세에서 손바닥으로 바닥밀기', '누워서 배가로근 수축 '], ['양팔 벌려 전신 비틀기', '회전근개 스트레칭', '어깨 양 옆으로 돌리기'], ['앉았다 일어서기', '앞굽이 앉았다 일어서기', '연속 사이드 스쿼드', '팔굽혀 펴기', '뒤로 팔굽혀펴기', '서서 상체 일으키기', '윗몸올리기', '누워서 다리 들어올리기', '누워서 엉덩이 들어올리기'], ['팔꿈치 굽히기', '누워서 엉덩이 들어올리기', '팔굽혀펴기', '윗몸올리기', '서서 뒤꿈치 들기', '엎드려서 팔 다리 들기', '앉았다 일어서기', '물병 옆으로 들어올리기', '자전거타기', '걷기', '계단 올라갔다 내려오기', '수영'], ['누워서 다리 들어올리기', '팔꿈치 굽히기', '서서 다리로 탄력밴드 당기기', '누워서 엉덩이 들어올리기', '팔굽혀펴기', '윗몸올리기', '한발 앞으로 내밀고 앉았다 일어서기', '서서 뒤꿈치 들기', '엎드려서 팔 다리 들기', '허리 굽혀 팔 뒤로 들기', '앉았다 일어서기', '물병 옆으로 들어올리기', '자전거타기', '걷기', '계단 올라갔다 내려오기', '수영'], ['맨몸운동 루틴프로그램', '달리기'], ['앉았다 일어서기', '한발 앞으로 내밀고 앉았다 일어서기', '누워서 덤벨 들어올리기', '윗몸올리기', '턱걸이', '바벨 끌어당기기'], ['몸통 들어올리기', '소파를 이용한 윗몸올리기', '엎드려 버티기', '옆으로 누워 버티기', '네발기기 자세로 팔 다리 들기', '엎드려서 팔 다리 들기'], ['줄넘기', '계단 올라갔다 내려오기', '계단 뛰기'], ['앉았다 일어서기', '의자 앞에서 앉았다 일어서기', '윗몸올리기', '엎드려 버티기', '옆으로 누워 버티기', '누워서 다리 들어올리기', '누워서 엉덩이 들어올리기', '네발기기 자세로 팔 다리 들기', '네발기기 자세에서 손바닥으로 바닥밀기', '팔굽혀펴기'], ['달리기', '수영', '자전거타기', '자전거타기'], ['달리기', '자전거타기', '계단 올라갔다 내려오기', '수영', '목 스트레칭', '등/어깨 뒤쪽 스트레칭', '가슴/어깨 앞쪽 스트레칭', '아래 팔 스트레칭', '허리 스트레칭', '배 스트레칭', '옆구리 스트레칭', '엉덩이 스트레칭', '넙다리 스트레칭', '넙다리 스트레칭', '넙다리 스트레칭'], ['탄력밴드 어깨 가쪽 돌림', '서서 탄력밴드 당겨내리기/올리기', '엎드려 버티기', '누워서 다리 들어올리기', '누워서 하늘 자전거', '누워서 엉덩이 들어올리기', '서서 뒤꿈치 들기', '의자 앞에서 앉았다 일어서기', '달리기', '자전거타기', '걷기', '줄넘기', '계단 올라갔다 내려오기', '수영', '스텝퍼 뛰어서 오르내리기', '스텝퍼 뛰어서 넘어가기', '사다리 안팎 뛰기', '앉았다 일어서면서 점프하기', '무릎 높여 제자리 달리기', '버피운동'], ['버피운동', '무릎 높여 제자리 달리기', '앉아서 다리 펴기', '앉아서 다리 굽히기', '앉아서 다리 모으기', '앉아서 다리 벌리기', '고정한 상태에서 덤벨 들고 팔꿈치 굽히기', '앉아서 팔꿈치 굽히기/펴기', '서서 탄력밴드 당겨내리기/올리기', '물병 옆으로 들어올리기'], ['의자에 한 다리 올리고 앉앗다 일어서기', '한발 앞으로 내밀고 앉았다 일어서기', '허리 굽혀 팔 뒤로 들기', '물병 옆으로 들어올리기', '네발기기 자세로 팔 다리 들기', '누워서 엉덩이 들어올리기'], ['달리기', '자전거타기', '줄넘기', '계단 올라갔다 내려오기'], ['앉아서 다리 밀기', '앉아서 밀기', '바벨들어올리기', '앉았다 일어서기', '앉았다 일어서기', '팔굽혀펴기'], ['몸통 들어올리기', '팔굽혀 펴기', '앞굽이 앉았다 일어서기'], ['계단 올라갔다 내려오기', '계단 뛰기', '수영', '자전거타기', '자전거타기'], ['앉았다 일어서기', '한발 앞으로 내밀고 앉았다 일어서기', '누워서 덤벨 들어올리기', '윗몸올리기', '턱걸이', '바벨 끌어당기기'], ['달리기', '자전거타기', '자전거타기', '걷기', '줄넘기', '계단 올라갔다 내려오기', '계단 뛰기', '수영'], ['앉았다 일어서기', '앞굽이 앉았다 일어서기', '연속 사이드 스쿼드', '팔굽혀 펴기', '뒤로 팔굽혀펴기', '서서 상체 일으키기', '윗몸올리기', '누워서 다리 들어올리기', '누워서 엉덩이 들어올리기'], ['달리기', '무릎 높여 제자리 달리기'], ['달리기', '수영', '스텝박스', '스텝박스 오르내리기 '], ['버피운동', '무릎 높여 제자리 달리기', '앉아서 다리 펴기', '앉아서 다리 굽히기', '앉아서 다리 모으기', '앉아서 다리 벌리기', '고정한 상태에서 덤벨 들고 팔꿈치 굽히기', '앉아서 팔꿈치 굽히기/펴기', '서서 탄력밴드 당겨내리기/올리기', '물병 옆으로 들어올리기'], ['손목 펴기/굽히기', '뒤로 팔굽혀펴기', '허리 굽혀 팔 뒤로 들기', '팔꿈치 굽히기', '앉아서 당겨 내리기', '앉아서 뒤로 당기기', '앉아서 밀기', '앉아서 모으기', '바벨들어올리기', '매달려서 뒤로 팔굽혀 펴기', '한발 앞으로 내밀고 앉았다 일어서기', '누워서 덤벨 들어올리기', '서서 상체 일으키기', '윗몸올리기', '엎드려 버티기', '옆으로 누워 버티기', '누워서 다리 들어올리기', '누워서 엉덩이 들어올리기', '팔굽혀펴기', '한발 앞으로 내밀고 앉았다 일어서기'], ['달리기', '자전거타기', '줄넘기'], ['앉았다 일어서기', '한발 앞으로 내밀고 앉았다 일어서기', '넙다리 스트레칭', '하지 루틴 스트레칭', '상지 루틴 스트레칭', '좌식생활자를 위한 동적 루틴 스트레칭 '], ['앉아서 다리 펴기', '뒤꿈치 들기', '앉아서 다리 모으기', '앉아서 다리 벌리기', '파워클린', '앉았다 일어서기', '한발 앞으로 내밀고 앉았다 일어서기', '앉았다 일어서기', '의자 앞에서 앉았다 일어서기', '한발 앞으로 내밀고 앉았다 일어서기', '서서 뒤꿈치 들기'], ['달리기', '자전거타기', '줄넘기', '계단 올라갔다 내려오기'], ['버피운동', '무릎 높여 제자리 달리기', '앉아서 다리 펴기', '앉아서 다리 굽히기', '앉아서 다리 모으기', '앉아서 다리 벌리기', '고정한 상태에서 덤벨 들고 팔꿈치 굽히기', '앉아서 팔꿈치 굽히기/펴기', '서서 탄력밴드 당겨내리기/올리기', '물병 옆으로 들어올리기'], ['서서 상체 일으키기', '앉았다 일어서기', '소파를 이용한 윗몸올리기', '엎드려 버티기', '네발기기 자세로 팔 다리 들기', '서서 다리 뒤로 차기'], ['계단 올라갔다 내려오기', '계단 뛰기', '수영', '자전거타기', '자전거타기'], ['줄넘기', '계단 올라갔다 내려오기'], ['윗몸올리기', '누워서 엉덩이 들어올리기', '엎드려 버티기', '서서 상체 일으키기', '앉아서 밀기', '앉아서 당겨 내리기', '앉아서 다리 밀기', '앉아서 다리 펴기', '자전거타기', '걷기'], ['허리 굽혀 팔 뒤로 들기', '물병 옆으로 들어올리기', '네발기기 자세로 팔 다리 들기', '누워서 엉덩이 들어올리기', '자전거타기', '걷기'], ['전신 루틴 스트레칭'], ['서서 상체 일으키기', '앉았다 일어서기', '소파를 이용한 윗몸올리기', '엎드려 버티기', '네발기기 자세로 팔 다리 들기', '서서 다리 뒤로 차기'], ['서서 상체 일으키기', '윗몸올리기', '소파를 이용한 윗몸올리기', '엎드려 버티기', '누워서 다리 들어올리기', '누워서 팔 다리 동시에 들어올리기', '누워서 수직으로 다리 들어올리기', '누워서 엉덩이 들어올리기', '엎드려서 팔 다리 들기', '앉았다 일어서기', '의자 앞에서 앉았다 일어서기', '한발 앞으로 내밀고 앉았다 일어서기', '의자에 한 다리 올리고 앉앗다 일어서기', '의자에 앉아 다리 뻗어 올리기', '서서 뒤꿈치 들기', '손목 펴기/굽히기', '뒤로 팔굽혀펴기', '허리 굽혀 팔 뒤로 들기', '물병 옆으로 들어올리기', '팔꿈치 굽히기'], ['앉았다 일어서기', '의자 앞에서 앉았다 일어서기', '윗몸올리기', '엎드려 버티기', '옆으로 누워 버티기', '누워서 다리 들어올리기', '누워서 엉덩이 들어올리기', '네발기기 자세로 팔 다리 들기', '네발기기 자세에서 손바닥으로 바닥밀기', '팔굽혀펴기'], ['엉덩이 스트레칭', '엉덩이 스트레칭', '몸통 앞으로 굽혀 걷기', '한쪽 다리펴고 상체 숙이기', '넙다리 스트레칭', '넙다리 스트레칭'], ['서서 상체 일으키기', '앉았다 일어서기', '소파를 이용한 윗몸올리기', '엎드려 버티기', '네발기기 자세로 팔 다리 들기', '서서 다리 뒤로 차기'], ['팔굽혀펴기', '허리 굽혀 팔 뒤로 들기', '앉았다 일어서기', '달리기', '계단 올라갔다 내려오기'], ['엉덩이 스트레칭', '엉덩이 스트레칭', '몸통 앞으로 굽혀 걷기', '한쪽 다리펴고 상체 숙이기', '넙다리 스트레칭', '넙다리 스트레칭'], ['엎드려서 팔 다리 들기', '네발기기 자세로 팔 다리 들기', '누워서 수직으로 다리 들어올리기', '누워서 팔 다리 동시에 들어올리기', '엎드려 버티기', '윗몸올리기', '달리기', '자전거타기', '걷기', '수영'], ['윗몸올리기', '누워서 엉덩이 들어올리기', '엎드려 버티기', '서서 상체 일으키기', '앉아서 밀기', '앉아서 당겨 내리기', '앉아서 다리 밀기', '앉아서 다리 펴기', '자전거타기', '걷기'], ['목 스트레칭', '등/어깨 뒤쪽 스트레칭', '가슴/어깨 앞쪽 스트레칭', '아래 팔 스트레칭', '허리 스트레칭', '배 스트레칭', '옆구리 스트레칭', '엉덩이 스트레칭', '넙다리 스트레칭', '넙다리 스트레칭', '넙다리 스트레칭', '좌식생활자를 위한 동적 루틴 스트레칭 '], ['앉았다 일어서기', '원판던지기', '한발 앞으로 내밀고 앉았다 일어서기', '몸통 들어올리기', '바벨들어올리기', '윗몸올리기', '엎드려 버티기', '옆으로 누워 버티기'], ['달리기', '자전거타기', '고혈압환자_순환식 근력운동 프로그램', '요통을 위한 근력운동'], ['앉았다 일어서기', '한발 앞으로 내밀고 앉았다 일어서기', '넙다리 스트레칭', '하지 루틴 스트레칭', '상지 루틴 스트레칭', '좌식생활자를 위한 동적 루틴 스트레칭 '], ['허리 굽혀 팔 뒤로 들기', '물병 옆으로 들어올리기', '네발기기 자세로 팔 다리 들기', '누워서 엉덩이 들어올리기', '자전거타기', '걷기'], ['달리기', '계단 올라갔다 내려오기', '자전거타기', '걷기'], ['의자 앞에서 앉았다 일어서기', '엎드려 버티기', '누워서 엉덩이 들어올리기', '네발기기 자세로 팔 다리 들기', '엎드려서 팔 다리 들기', '누워서 배가로근 수축 '], ['앉아서 당겨 내리기', '앉아서 뒤로 당기기', '앉아서 밀기', '앉아서 모으기', '한발 앞으로 내밀고 앉았다 일어서기', '윗몸올리기', '엎드려 버티기', '누워서 다리 들어올리기', '앉았다 일어서기', '의자에 앉아 다리 뻗어 올리기', '앉아서 엉덩관절 굽히기'], ['앉았다 일어서기', '한발 앞으로 내밀고 앉았다 일어서기', '윗몸올리기', '엎드려 버티기', '옆으로 누워 버티기', '누워서 엉덩이 들어올리기'], ['자전거타기', '물누르기/올리기'], ['몸통 들어올리기', '소파를 이용한 윗몸올리기', '엎드려 버티기', '옆으로 누워 버티기', '네발기기 자세로 팔 다리 들기', '엎드려서 팔 다리 들기'], ['윗몸올리기', '누워서 엉덩이 들어올리기', '엎드려 버티기', '서서 상체 일으키기', '앉아서 밀기', '앉아서 당겨 내리기', '앉아서 다리 밀기', '앉아서 다리 펴기', '자전거타기', '걷기'], ['달리기', '자전거타기', '자전거타기', '걷기', '줄넘기', '계단 올라갔다 내려오기', '계단 뛰기', '수영'], ['앉았다 일어서기', '한발 앞으로 내밀고 앉았다 일어서기', '앉아서 다리 펴기', '앉아서 다리 밀기', '누워서 엉덩이 들어올리기', '윗몸올리기', '엎드려 버티기', '옆으로 누워 버티기', '앉아서 밀기', '앉아서 위로 밀기', '탄력밴드 어깨 가쪽 돌림', '뒤로 팔굽혀펴기'], ['줄넘기', '계단 올라갔다 내려오기', '앉았다 일어서면서 점프하기', '스텝퍼 오르내리기', '버피운동'], ['달리기', '무릎 높여 제자리 달리기'], ['달리기', '계단 올라갔다 내려오기', '자전거타기', '걷기'], ['앉았다 일어서기', '한발 앞으로 내밀고 앉았다 일어서기', '윗몸올리기', '엎드려 버티기', '옆으로 누워 버티기', '누워서 엉덩이 들어올리기'], ['앉았다 일어서기', '한발 앞으로 내밀고 앉았다 일어서기', '턱걸이', '점프 팔굽혀펴기', '소파를 이용한 윗몸올리기', '엎드려 버티기'], ['앉아서 당겨 내리기', '앉아서 뒤로 당기기', '앉아서 밀기', '앉아서 모으기', '한발 앞으로 내밀고 앉았다 일어서기', '윗몸올리기', '엎드려 버티기', '누워서 다리 들어올리기', '앉았다 일어서기', '의자에 앉아 다리 뻗어 올리기', '앉아서 엉덩관절 굽히기'], ['달리기', '무릎 높여 제자리 달리기'], ['윗몸올리기', '누워서 엉덩이 들어올리기', '엎드려 버티기', '서서 상체 일으키기', '앉아서 밀기', '앉아서 당겨 내리기', '앉아서 다리 밀기', '앉아서 다리 펴기', '자전거타기', '걷기'], ['앉았다 일어서기', '한발 앞으로 내밀고 앉았다 일어서기', '넙다리 스트레칭', '하지 루틴 스트레칭', '상지 루틴 스트레칭', '좌식생활자를 위한 동적 루틴 스트레칭 '], ['달리기', '수영', '자전거타기', '자전거타기'], ['자전거타기', '수영', '달리기', '앉았다 일어서기', '팔굽혀펴기', '윗몸올리기', '누워서 엉덩이 들어올리기', '엎드려 버티기', '엎드려서 팔 다리 들기'], ['달리기', '자전거타기', '수영', '달리기', '계단 올라갔다 내려오기'], ['엉덩이 스트레칭', '엉덩이 스트레칭', '몸통 앞으로 굽혀 걷기', '한쪽 다리펴고 상체 숙이기', '넙다리 스트레칭', '넙다리 스트레칭'], ['윗몸올리기', '누워서 엉덩이 들어올리기', '엎드려 버티기', '서서 상체 일으키기', '앉아서 밀기', '앉아서 당겨 내리기', '앉아서 다리 밀기', '앉아서 다리 펴기', '자전거타기', '걷기'], ['윗몸올리기', '누워서 엉덩이 들어올리기', '엎드려 버티기', '서서 상체 일으키기', '앉아서 밀기', '앉아서 당겨 내리기', '앉아서 다리 밀기', '앉아서 다리 펴기', '자전거타기', '걷기'], ['서서 상체 일으키기', '앉았다 일어서기', '윗몸올리기', '옆으로 누워 버티기', '누워서 엉덩이 들어올리기', '앉아서 팔꿈치 굽히기/펴기', '달리기', '자전거타기', '걷기', '줄넘기', '계단 올라갔다 내려오기', '수영', '스텝퍼 뛰어서 오르내리기', '스텝퍼 뛰어서 넘어가기', '사다리 안팎 뛰기', '앉았다 일어서면서 점프하기', '무릎 높여 제자리 달리기', '버피운동'], ['앉았다 일어서기', '한발 앞으로 내밀고 앉았다 일어서기', '앉아서 다리 밀기', '앉아서 다리 굽히기', '앉아서 위로 밀기', '서서 바벨 위로 밀기', '탄력밴드 어깨 가쪽 돌림', '서서 탄력밴드 당겨내리기/올리기'], ['의자이용 유연성운동 루틴 프로그램', '정적 스트레칭 루틴프로그램', '동적 스트레칭 루틴프로그램'], ['달리기', '무릎 높여 제자리 달리기'], ['계단 올라갔다 내려오기', '수영'], ['달리기', '무릎 높여 제자리 달리기'], ['하지 루틴 스트레칭', '하지 루틴 스트레칭', '수영', '달리기', '자전거타기', '스텝박스'], ['달리기', '무릎 높여 제자리 달리기'], ['달리기', '무릎 높여 제자리 달리기'], ['윗몸올리기', '누워서 엉덩이 들어올리기', '엎드려 버티기', '서서 상체 일으키기', '앉아서 밀기', '앉아서 당겨 내리기', '앉아서 다리 밀기', '앉아서 다리 펴기', '자전거타기', '걷기'], ['허리 스트레칭', '배 스트레칭', '옆구리 스트레칭', '엉덩이 스트레칭'], ['팔굽혀펴기', '허리 굽혀 팔 뒤로 들기', '앉았다 일어서기', '달리기', '계단 올라갔다 내려오기'], ['앉았다 일어서기', '한발 앞으로 내밀고 앉았다 일어서기', '앉아서 다리 펴기', '앉아서 다리 밀기', '누워서 엉덩이 들어올리기', '윗몸올리기', '엎드려 버티기', '옆으로 누워 버티기', '앉아서 밀기', '앉아서 위로 밀기', '탄력밴드 어깨 가쪽 돌림', '뒤로 팔굽혀펴기'], ['자전거타기', '물누르기/올리기'], ['버피운동', '무릎 높여 제자리 달리기', '앉아서 다리 펴기', '앉아서 다리 굽히기', '앉아서 다리 모으기', '앉아서 다리 벌리기', '고정한 상태에서 덤벨 들고 팔꿈치 굽히기', '앉아서 팔꿈치 굽히기/펴기', '서서 탄력밴드 당겨내리기/올리기', '물병 옆으로 들어올리기'], ['달리기', '버피운동', '스텝퍼 오르내리기', '팔벌려뛰기'], ['앉아서 다리 펴기', '앉아서 다리 굽히기', '앉아서 당겨 내리기', '앉아서 밀기'], ['앉았다 일어서기', '한발 앞으로 내밀고 앉았다 일어서기', '윗몸올리기', '엎드려 버티기', '옆으로 누워 버티기', '누워서 엉덩이 들어올리기'], ['윗몸올리기', '누워서 엉덩이 들어올리기', '엎드려 버티기', '서서 상체 일으키기', '앉아서 밀기', '앉아서 당겨 내리기', '앉아서 다리 밀기', '앉아서 다리 펴기', '자전거타기', '걷기'], ['탄력밴드 어깨 가쪽 돌림', '서서 탄력밴드 당겨내리기/올리기', '엎드려 버티기', '누워서 다리 들어올리기', '누워서 하늘 자전거', '누워서 엉덩이 들어올리기', '서서 뒤꿈치 들기', '의자 앞에서 앉았다 일어서기', '달리기', '자전거타기', '걷기', '줄넘기', '계단 올라갔다 내려오기', '수영', '스텝퍼 뛰어서 오르내리기', '스텝퍼 뛰어서 넘어가기', '사다리 안팎 뛰기', '앉았다 일어서면서 점프하기', '무릎 높여 제자리 달리기', '버피운동'], ['달리기', '무릎 높여 제자리 달리기'], ['누워서 다리 들어올리기', '팔꿈치 굽히기', '서서 다리로 탄력밴드 당기기', '누워서 엉덩이 들어올리기', '팔굽혀펴기', '윗몸올리기', '한발 앞으로 내밀고 앉았다 일어서기', '서서 뒤꿈치 들기', '엎드려서 팔 다리 들기', '허리 굽혀 팔 뒤로 들기', '앉았다 일어서기', '물병 옆으로 들어올리기', '자전거타기', '걷기', '계단 올라갔다 내려오기', '수영'], ['윗몸올리기', '누워서 엉덩이 들어올리기', '엎드려 버티기', '서서 상체 일으키기', '앉아서 밀기', '앉아서 당겨 내리기', '앉아서 다리 밀기', '앉아서 다리 펴기', '자전거타기', '걷기'], ['자전거타기', '걷기', '계단 올라갔다 내려오기', '수영'], ['달리기', '자전거타기', '자전거타기', '걷기', '줄넘기', '계단 올라갔다 내려오기', '계단 뛰기', '수영'], ['서서 상체 일으키기', '앉았다 일어서기', '소파를 이용한 윗몸올리기', '엎드려 버티기', '네발기기 자세로 팔 다리 들기', '서서 다리 뒤로 차기'], ['팔굽혀펴기', '엎드려서 팔 다리 들기', '몸통 들어올리기', '엎드려 버티기', '옆으로 누워 버티기', '누워서 배가로근 수축', '의자 앞에서 앉았다 일어서기', '한발 앞으로 내밀고 앉았다 일어서기'], ['윗몸올리기', '누워서 엉덩이 들어올리기', '엎드려 버티기', '서서 상체 일으키기', '앉아서 밀기', '앉아서 당겨 내리기', '앉아서 다리 밀기', '앉아서 다리 펴기', '자전거타기', '걷기'], ['버피운동', '무릎 높여 제자리 달리기', '앉아서 다리 펴기', '앉아서 다리 굽히기', '앉아서 다리 모으기', '앉아서 다리 벌리기', '고정한 상태에서 덤벨 들고 팔꿈치 굽히기', '앉아서 팔꿈치 굽히기/펴기', '서서 탄력밴드 당겨내리기/올리기', '물병 옆으로 들어올리기'], ['앉아서 위로 밀기', '턱걸이', '바벨 끌어당기기', '고정한 상태에서 덤벨 들고 팔꿈치 굽히기', '앉아서 다리 밀기', '앉아서 다리 펴기', '앉아서 다리 굽히기', '원판던지기'], ['앉았다 일어서기', '팔굽혀펴기', '윗몸올리기', '누워서 엉덩이 들어올리기', '네발기기 자세로 팔 다리 들기', '엎드려 버티기', '누워서 수직으로 다리 들어올리기', '누워서 다리 좌우로 움직이기'], ['누워서 다리 들어올리기', '팔꿈치 굽히기', '서서 다리로 탄력밴드 당기기', '누워서 엉덩이 들어올리기', '팔굽혀펴기', '윗몸올리기', '한발 앞으로 내밀고 앉았다 일어서기', '서서 뒤꿈치 들기', '엎드려서 팔 다리 들기', '허리 굽혀 팔 뒤로 들기', '앉았다 일어서기', '물병 옆으로 들어올리기', '자전거타기', '걷기', '계단 올라갔다 내려오기', '수영'], ['앉았다 일어서기', '한발 앞으로 내밀고 앉았다 일어서기', '넙다리 스트레칭', '하지 루틴 스트레칭', '상지 루틴 스트레칭', '좌식생활자를 위한 동적 루틴 스트레칭 '], ['몸통 들어올리기', '소파를 이용한 윗몸올리기', '엎드려 버티기', '옆으로 누워 버티기', '네발기기 자세로 팔 다리 들기', '엎드려서 팔 다리 들기'], ['맨몸운동 루틴프로그램', '팔벌려뛰기', '사다리 옆으로 발 옮기기', '옆으로 펀치하기', '스텝퍼 오르내리기', '무릎 높여 제자리 달리기'], ['탄력밴드 어깨 가쪽 돌림', '서서 탄력밴드 당겨내리기/올리기', '엎드려 버티기', '누워서 다리 들어올리기', '누워서 하늘 자전거', '누워서 엉덩이 들어올리기', '서서 뒤꿈치 들기', '의자 앞에서 앉았다 일어서기', '달리기', '자전거타기', '걷기', '줄넘기', '계단 올라갔다 내려오기', '수영', '스텝퍼 뛰어서 오르내리기', '스텝퍼 뛰어서 넘어가기', '사다리 안팎 뛰기', '앉았다 일어서면서 점프하기', '무릎 높여 제자리 달리기', '버피운동'], ['앉아서 다리 밀기', '앉아서 다리 펴기', '앉아서 다리 굽히기', '앉아서 당겨 내리기', '앉아서 뒤로 당기기', '앉아서 밀기', '앉아서 위로 밀기', '윗몸올리기', '누워서 다리 들어올리기', '몸통 들어올리기'], ['자전거타기', '줄넘기', '계단 올라갔다 내려오기', '수영', '아쿠아로빅', '스텝박스'], ['저항밴드 운동 루틴프로그램', '자전거타기', '걷기', '줄넘기', '수영'], ['팔굽혀펴기', '허리 굽혀 팔 뒤로 들기', '앉았다 일어서기', '달리기', '계단 올라갔다 내려오기'], ['자전거타기', '걷기', '계단 올라갔다 내려오기', '앉았다 일어서기', '서서 뒤꿈치 들기'], ['양팔 크게 벌리기', '허리 굽혀 덤벨 들기', '서서 바벨 위로 밀기', '앉았다 일어서기', '한발 앞으로 내밀고 앉았다 일어서기'], ['팔굽혀펴기', '허리 굽혀 팔 뒤로 들기', '앉았다 일어서기', '달리기', '계단 올라갔다 내려오기'], ['앉아서 다리 밀기', '앉아서 다리 펴기', '앉아서 다리 굽히기', '앉아서 당겨 내리기', '앉아서 뒤로 당기기', '앉아서 밀기', '앉아서 위로 밀기', '윗몸올리기', '누워서 다리 들어올리기', '몸통 들어올리기'], ['앉았다 일어서기', '한발 앞으로 내밀고 앉았다 일어서기', '넙다리 스트레칭', '하지 루틴 스트레칭', '상지 루틴 스트레칭', '좌식생활자를 위한 동적 루틴 스트레칭 '], ['팔굽혀펴기', '엎드려서 팔 다리 들기', '몸통 들어올리기', '엎드려 버티기', '옆으로 누워 버티기', '누워서 배가로근 수축', '의자 앞에서 앉았다 일어서기', '한발 앞으로 내밀고 앉았다 일어서기'], ['상지 루틴 스트레칭', '전신 루틴 스트레칭'], ['윗몸올리기', '누워서 엉덩이 들어올리기', '엎드려 버티기', '서서 상체 일으키기', '앉아서 밀기', '앉아서 당겨 내리기', '앉아서 다리 밀기', '앉아서 다리 펴기', '자전거타기', '걷기'], ['윗몸올리기', '누워서 엉덩이 들어올리기', '엎드려 버티기', '서서 상체 일으키기', '앉아서 밀기', '앉아서 당겨 내리기', '앉아서 다리 밀기', '앉아서 다리 펴기', '자전거타기', '걷기'], ['짐볼 이용 근력운동 루틴 프로그램', '의자 이용 근력운동 루틴 프로그램', '머신이용 근력운동 루틴프로그램'], ['계단 올라갔다 내려오기', '계단 뛰기', '수영', '자전거타기', '자전거타기'], ['달리기', '무릎 높여 제자리 달리기'], ['앉아서 다리 밀기', '앉아서 다리 펴기', '앉아서 다리 모으기', '앉아서 다리 벌리기', '앉아서 당겨 내리기', '앉아서 뒤로 당기기', '앉아서 밀기', '자전거타기', '줄넘기', '계단 올라갔다 내려오기', '수영', '아쿠아로빅', '스텝박스', '허리 스트레칭', '배 스트레칭', '엉덩이 스트레칭', '하지 루틴 스트레칭'], ['앉았다 일어서기', '한발 앞으로 내밀고 앉았다 일어서기', '누워서 덤벨 들어올리기', '윗몸올리기', '턱걸이', '바벨 끌어당기기'], ['앉았다 일어서기', '서서 뒤꿈치 들기', '자전거타기', '줄넘기', '계단 올라갔다 내려오기'], ['윗몸올리기', '누워서 엉덩이 들어올리기', '엎드려 버티기', '서서 상체 일으키기', '앉아서 밀기', '앉아서 당겨 내리기', '앉아서 다리 밀기', '앉아서 다리 펴기', '자전거타기', '걷기'], ['계단 올라갔다 내려오기', '수영'], ['엉덩이 스트레칭', '엉덩이 스트레칭', '몸통 앞으로 굽혀 걷기', '한쪽 다리펴고 상체 숙이기', '넙다리 스트레칭', '넙다리 스트레칭'], ['버피운동', '앉았다 일어서면서 점프하기', '앉았다 일어서기', '한발 앞으로 내밀고 앉았다 일어서기', '팔굽혀펴기', '앉아서 당겨 내리기', '원판던지기', '윗몸 말아 올리기', '네발기기 자세에서 다리 위로 뻗어올리기'], ['서서 상체 일으키기', '윗몸올리기', '소파를 이용한 윗몸올리기', '엎드려 버티기', '누워서 다리 들어올리기', '누워서 팔 다리 동시에 들어올리기', '누워서 수직으로 다리 들어올리기', '누워서 엉덩이 들어올리기', '엎드려서 팔 다리 들기', '앉았다 일어서기', '의자 앞에서 앉았다 일어서기', '한발 앞으로 내밀고 앉았다 일어서기', '의자에 한 다리 올리고 앉앗다 일어서기', '의자에 앉아 다리 뻗어 올리기', '서서 뒤꿈치 들기', '손목 펴기/굽히기', '뒤로 팔굽혀펴기', '허리 굽혀 팔 뒤로 들기', '물병 옆으로 들어올리기', '팔꿈치 굽히기'], ['허리 스트레칭', '배 스트레칭', '엉덩이 스트레칭', '하지 루틴 스트레칭', '좌식생활자를 위한 동적 루틴 스트레칭', '작은 공을 이용한 동적 루틴 스트레칭 '], ['목 스트레칭', '등/어깨 뒤쪽 스트레칭', '가슴/어깨 앞쪽 스트레칭', '아래 팔 스트레칭', '허리 스트레칭', '배 스트레칭', '옆구리 스트레칭', '엉덩이 스트레칭', '넙다리 스트레칭', '넙다리 스트레칭', '넙다리 스트레칭', '좌식생활자를 위한 동적 루틴 스트레칭 '], ['맨몸운동 루틴프로그램', '자전거타기', '걷기', '줄넘기', '수영'], ['맨몸운동 루틴프로그램', '자전거타기', '걷기', '줄넘기', '수영'], ['버피운동', '앉았다 일어서기', '앉았다 일어서면서 점프하기', '맨몸운동 루틴프로그램', '전완대고 버티기', '팔다리 교차 버티기'], ['앉았다 일어서기', '팔굽혀펴기', '엎드려 버티기', '서서 상체 일으키기'], ['엉덩이 스트레칭', '엉덩이 스트레칭', '몸통 앞으로 굽혀 걷기', '한쪽 다리펴고 상체 숙이기', '넙다리 스트레칭', '넙다리 스트레칭'], ['저항밴드 운동 루틴프로그램', '자전거타기', '걷기', '줄넘기', '수영'], ['달리기', '자전거타기', '수영', '달리기', '계단 올라갔다 내려오기'], ['앉았다 일어서기', '윗몸올리기', '엎드려 버티기', '옆으로 누워 버티기', '누워서 다리 들어올리기', '네발기기 자세로 팔 다리 들기', '엎드려서 팔 다리 들기', '팔굽혀펴기', '서서 뒤꿈치 들기'], ['하지 루틴 스트레칭', '하지 루틴 스트레칭', '수영', '달리기', '자전거타기', '스텝박스'], ['뛰어 내렸다가 바로 점프하기', '앉았다 일어서면서 점프하기', '스텝퍼 오르내리기', '무릎 높여 제자리 달리기'], ['옆으로 누워 버티기', '누워서 다리 들어올리기', '자가근막이완술 루틴 스트레칭', '넙다리 스트레칭', '넙다리 스트레칭', '넙다리 스트레칭', '허리 스트레칭', '배 스트레칭', '옆구리 스트레칭', '엉덩이 스트레칭', '목 스트레칭', '등/어깨 뒤쪽 스트레칭', '가슴/어깨 앞쪽 스트레칭'], ['계단 뛰기', '달리기', '스텝박스', '박스 운동 루틴프로그램', '사다리 운동 루틴프로그램', '콘운동 루틴프로그램', '사이드 스텝 점프하기', '한발로 점프하기'], ['몸통 들어올리기', '소파를 이용한 윗몸올리기', '엎드려 버티기', '옆으로 누워 버티기', '네발기기 자세로 팔 다리 들기', '엎드려서 팔 다리 들기'], ['계단 뛰기', '달리기', '스텝박스', '박스 운동 루틴프로그램', '사다리 운동 루틴프로그램', '콘운동 루틴프로그램', '사이드 스텝 점프하기', '한발로 점프하기'], ['앉았다 일어서기', '한발 앞으로 내밀고 앉았다 일어서기', '넙다리 스트레칭', '하지 루틴 스트레칭', '상지 루틴 스트레칭', '좌식생활자를 위한 동적 루틴 스트레칭 '], ['허리 스트레칭', '배 스트레칭', '옆구리 스트레칭', '엉덩이 스트레칭'], ['앉아서 다리 밀기', '앉아서 다리 펴기', '앉아서 다리 굽히기', '앉아서 당겨 내리기', '앉아서 뒤로 당기기', '앉아서 밀기', '앉아서 위로 밀기', '윗몸올리기', '누워서 다리 들어올리기', '몸통 들어올리기'], ['앉아서 다리 밀기', '앉아서 다리 펴기', '앉아서 다리 굽히기', '앉아서 당겨 내리기', '앉아서 뒤로 당기기', '앉아서 밀기', '앉아서 위로 밀기', '윗몸올리기', '누워서 다리 들어올리기', '몸통 들어올리기'], ['달리기', '계단 올라갔다 내려오기', '자전거타기', '걷기'], ['앉았다 일어서기', '한발 앞으로 내밀고 앉았다 일어서기', '누워서 덤벨 들어올리기', '윗몸올리기', '턱걸이', '바벨 끌어당기기'], ['걷기', '자전거타기', '달리기', '수영'], ['스텝박스 오르내리기', '달리기', '자전거타기', '줄넘기', '계단 올라갔다 내려오기', '수영', '아쿠아로빅', '물속에서 걷기', '버피운동'], ['버피운동', '무릎 높여 제자리 달리기', '앉아서 다리 펴기', '앉아서 다리 굽히기', '앉아서 다리 모으기', '앉아서 다리 벌리기', '고정한 상태에서 덤벨 들고 팔꿈치 굽히기', '앉아서 팔꿈치 굽히기/펴기', '서서 탄력밴드 당겨내리기/올리기', '물병 옆으로 들어올리기'], ['버피운동', '앉았다 일어서기', '앉았다 일어서면서 점프하기', '맨몸운동 루틴프로그램', '전완대고 버티기', '팔다리 교차 버티기'], ['양팔 크게 벌리기', '허리 굽혀 덤벨 들기', '서서 바벨 위로 밀기', '앉았다 일어서기', '한발 앞으로 내밀고 앉았다 일어서기'], ['대퇴이두근 스트레칭', '요통을 위한 스트레칭', '몸통 앞으로 굽혀 걷기', '앉아서 상체 앞 옆으로 기울기', '앉았다 일어서기', '바벨들어올리기', '누워서 가슴 밀기', '서서 바벨 위로 밀기', '앉아서 당겨 내리기', '한발 앞으로 내밀고 앉았다 일어서기', '달리기', '자전거타기', '계단 올라갔다 내려오기', '계단 뛰기', '수영', '버피운동', '목 스트레칭', '전신 루틴 스트레칭'], ['허리 스트레칭', '배 스트레칭', '엉덩이 스트레칭', '하지 루틴 스트레칭', '좌식생활자를 위한 동적 루틴 스트레칭', '작은 공을 이용한 동적 루틴 스트레칭 '], ['계단 올라갔다 내려오기', '달리기', '팔굽혀 펴기', '바로서서 상체 숙이기', '앉았다 일어서기'], ['목 굽힘/ 폄', '네발기기 자세에서 손바닥으로 바닥밀기', '물병 옆으로 들어올리기', '탄력밴드 어깨 가쪽 돌림', '허리 굽혀 팔 뒤로 들기', '엎드려 버티기'], ['허리 굽혀 팔 뒤로 들기', '물병 옆으로 들어올리기', '네발기기 자세로 팔 다리 들기', '누워서 엉덩이 들어올리기', '자전거타기', '걷기'], ['버피운동', '무릎 높여 제자리 달리기', '앉아서 다리 펴기', '앉아서 다리 굽히기', '앉아서 다리 모으기', '앉아서 다리 벌리기', '고정한 상태에서 덤벨 들고 팔꿈치 굽히기', '앉아서 팔꿈치 굽히기/펴기', '서서 탄력밴드 당겨내리기/올리기', '물병 옆으로 들어올리기'], ['달리기', '계단 올라갔다 내려오기', '자전거타기', '걷기'], ['탄력밴드 어깨 가쪽 돌림', '서서 탄력밴드 당겨내리기/올리기', '엎드려 버티기', '누워서 다리 들어올리기', '누워서 하늘 자전거', '누워서 엉덩이 들어올리기', '서서 뒤꿈치 들기', '의자 앞에서 앉았다 일어서기', '달리기', '자전거타기', '걷기', '줄넘기', '계단 올라갔다 내려오기', '수영', '스텝퍼 뛰어서 오르내리기', '스텝퍼 뛰어서 넘어가기', '사다리 안팎 뛰기', '앉았다 일어서면서 점프하기', '무릎 높여 제자리 달리기', '버피운동'], ['앉아서 다리 밀기', '앉아서 다리 펴기', '앉아서 다리 모으기', '앉아서 당겨 내리기', '앉아서 뒤로 당기기', '몸통 들어올리기', '앉아서 밀기', '앉아서 위로 밀기', '앉았다 일어서기', '몸통 옆으로 굽히기'], ['스텝퍼 뛰어서 오르내리기', '스텝퍼 뛰어서 넘어가기', '스텝퍼 옆으로 뛰어넘기', '스텝퍼 올라가서 점프하여 착지하기', '뛰어 내렸다가 바로 점프하기'], ['달리기', '자전거타기', '계단 올라갔다 내려오기', '수영', '서서 다리 뒤로 차기', '누워서 엉덩이 들어올리기', '윗몸올리기', '네발기기 자세로 팔 다리 들기', '몸통 옆으로 굽히기', '엎드려 버티기', '누워서 다리 들어올리기', '엎드려서 팔 다리 들기'], ['계단 뛰기', '달리기', '스텝박스', '박스 운동 루틴프로그램', '사다리 운동 루틴프로그램', '콘운동 루틴프로그램', '사이드 스텝 점프하기', '한발로 점프하기'], ['상지 루틴 스트레칭', '전신 루틴 스트레칭'], ['누워서 다리 들어올리기', '팔꿈치 굽히기', '서서 다리로 탄력밴드 당기기', '누워서 엉덩이 들어올리기', '팔굽혀펴기', '윗몸올리기', '한발 앞으로 내밀고 앉았다 일어서기', '서서 뒤꿈치 들기', '엎드려서 팔 다리 들기', '허리 굽혀 팔 뒤로 들기', '앉았다 일어서기', '물병 옆으로 들어올리기', '자전거타기', '걷기', '계단 올라갔다 내려오기', '수영'], ['양팔 벌려 전신 비틀기', '회전근개 스트레칭', '어깨 양 옆으로 돌리기'], ['달리기', '무릎 높여 제자리 달리기'], ['앉았다 일어서기', '한발 앞으로 내밀고 앉았다 일어서기', '턱걸이', '점프 팔굽혀펴기', '소파를 이용한 윗몸올리기', '엎드려 버티기'], ['맨몸운동 루틴프로그램', '팔벌려뛰기', '사다리 옆으로 발 옮기기', '옆으로 펀치하기', '스텝퍼 오르내리기', '무릎 높여 제자리 달리기'], ['자전거타기', '계단 올라갔다 내려오기', '수영', '앉았다 일어서기', '한발 앞으로 내밀고 앉았다 일어서기', '윗몸올리기', '엎드려 버티기', '옆으로 누워 버티기', '누워서 엉덩이 들어올리기'], ['바벨들어올리기', '턱걸이', '원판던지기', '바벨 끌어당기기', '바벨 들어 팔꿈치 굽히기', '손목 펴기/굽히기'], ['상지 루틴 스트레칭', '전신 루틴 스트레칭'], ['달리기', '무릎 높여 제자리 달리기'], ['버피운동', '앉았다 일어서기', '앉았다 일어서면서 점프하기', '맨몸운동 루틴프로그램', '전완대고 버티기', '팔다리 교차 버티기'], ['스텝퍼 올라가서 점프하여 착지하기', '사다리 안팎 뛰기', '앉았다 일어서면서 점프하기', '사다리 옆으로 발 옮기기', '버피운동', '계단 뛰기', '하지 루틴 스트레칭', '윗몸올리기', '엎드려 버티기', '옆으로 누워 버티기', '누워서 다리 들어올리기', '누워서 팔 다리 동시에 들어올리기', '누워서 엉덩이 들어올리기', '엎드려서 팔 다리 들기'], ['앉았다 일어서기', '한발 앞으로 내밀고 앉았다 일어서기', '넙다리 스트레칭', '하지 루틴 스트레칭', '상지 루틴 스트레칭', '좌식생활자를 위한 동적 루틴 스트레칭 '], ['대퇴이두근 스트레칭', '요통을 위한 스트레칭', '몸통 앞으로 굽혀 걷기', '앉아서 상체 앞 옆으로 기울기', '앉았다 일어서기', '바벨들어올리기', '누워서 가슴 밀기', '서서 바벨 위로 밀기', '앉아서 당겨 내리기', '한발 앞으로 내밀고 앉았다 일어서기', '달리기', '자전거타기', '계단 올라갔다 내려오기', '계단 뛰기', '수영', '버피운동', '목 스트레칭', '전신 루틴 스트레칭'], ['달리기', '줄넘기', '계단 뛰기'], ['윗몸올리기', '누워서 엉덩이 들어올리기', '엎드려 버티기', '서서 상체 일으키기', '앉아서 밀기', '앉아서 당겨 내리기', '앉아서 다리 밀기', '앉아서 다리 펴기', '자전거타기', '걷기'], ['앉았다 일어서기', '한발 앞으로 내밀고 앉았다 일어서기', '넙다리 스트레칭', '하지 루틴 스트레칭', '상지 루틴 스트레칭', '좌식생활자를 위한 동적 루틴 스트레칭 '], ['엎드려서 다리 차올리기', '엎드려서 팔 다리 들기', '밴드 걸고 엎드려서 다리 구부리기', '덤벨 잡고 뒤꿈치 들기', '밴드 걸고 누워서 다리 들어올리기', '밴드 걸고 옆으로 누워 다리 올리기', '의자 앞에서 앉았다 일어서기', '자전거타기'], ['달리기', '맨몸운동 루틴프로그램'], ['자전거타기', '줄넘기', '계단 올라갔다 내려오기', '수영', '아쿠아로빅', '스텝박스'], ['버피운동', '앉았다 일어서기', '앉았다 일어서면서 점프하기', '맨몸운동 루틴프로그램', '전완대고 버티기', '팔다리 교차 버티기'], ['앉아서 다리 밀기', '앉아서 다리 펴기', '앉아서 다리 굽히기', '뒤꿈치 들기', '앉아서 당겨 내리기', '앉아서 뒤로 당기기', '앉아서 밀기', '비스듬히 누워서 밀기', '앉아서 위로 밀기', '앉았다 일어서기', '몸통 옆으로 굽히기', '바벨 들어 팔꿈치 굽히기'], ['스텝박스 오르내리기', '달리기', '자전거타기', '줄넘기', '계단 올라갔다 내려오기', '수영', '아쿠아로빅', '물속에서 걷기', '버피운동'], ['앉아서 다리 펴기', '앉아서 다리 굽히기', '앉아서 당겨 내리기', '앉아서 밀기'], ['몸통 들어올리기', '앉아서 밀기', '누워서 밀기', '비스듬히 누워서 밀기', '파워클린', '서서 어깨 들어올리기', '누워서 덤벨 들어올리기'], ['팔굽혀펴기', '앉았다 일어서기', '턱걸이', '윗몸올리기 '], ['윗몸올리기', '누워서 엉덩이 들어올리기', '엎드려 버티기', '서서 상체 일으키기', '앉아서 밀기', '앉아서 당겨 내리기', '앉아서 다리 밀기', '앉아서 다리 펴기', '자전거타기', '걷기'], ['물병 들고 한발 앞으로 내밀고 앉았다 일어서기', '목봉잡고 앉았다 일어나기', '밴드 걸고 앉아서 발등 굽힘', '엎드려 뒤로 다리 올리기', '물통으로 양팔 들어올리기', '밴드 머리 뒤로 들어올리기', '벽에서 팔굽혀 펴기', '볼 위에 앉아 밴드 양옆으로 당기기', '앉아서 밴드 잡고 몸통 돌리기', '밴드 잡고 몸통 옆으로 굽히기', '몸통 들어올리기'], ['팔굽혀펴기', '허리 굽혀 팔 뒤로 들기', '앉았다 일어서기', '달리기', '계단 올라갔다 내려오기'], ['달리기', '자전거타기', '계단 올라갔다 내려오기', '수영', '목 스트레칭', '등/어깨 뒤쪽 스트레칭', '가슴/어깨 앞쪽 스트레칭', '아래 팔 스트레칭', '허리 스트레칭', '배 스트레칭', '옆구리 스트레칭', '엉덩이 스트레칭', '넙다리 스트레칭', '넙다리 스트레칭', '넙다리 스트레칭'], ['앉아서 위로 밀기', '턱걸이', '바벨 끌어당기기', '고정한 상태에서 덤벨 들고 팔꿈치 굽히기', '앉아서 다리 밀기', '앉아서 다리 펴기', '앉아서 다리 굽히기', '원판던지기'], ['의자 앞에서 앉았다 일어서기', '엎드려 버티기', '누워서 엉덩이 들어올리기', '네발기기 자세로 팔 다리 들기', '엎드려서 팔 다리 들기', '누워서 배가로근 수축 '], ['목 스트레칭', '등/어깨 뒤쪽 스트레칭', '가슴/어깨 앞쪽 스트레칭', '아래 팔 스트레칭', '허리 스트레칭', '배 스트레칭', '옆구리 스트레칭', '엉덩이 스트레칭', '넙다리 스트레칭', '넙다리 스트레칭', '넙다리 스트레칭', '좌식생활자를 위한 동적 루틴 스트레칭 '], ['팔굽혀펴기', '허리 굽혀 팔 뒤로 들기', '앉았다 일어서기', '달리기', '계단 올라갔다 내려오기'], ['바운딩 운동 루틴프로그램', '박스 운동 루틴프로그램'], ['버피운동', '계단 뛰기'], ['버피운동', '계단 뛰기'], ['윗몸 말아 올리기', '윗몸올리기', '누워서 다리 들어올리기', '누워서 팔 다리 동시에 들어올리기', '팔굽혀펴기'], ['자전거타기', '수영', '달리기', '앉았다 일어서기', '팔굽혀펴기', '윗몸올리기', '누워서 엉덩이 들어올리기', '엎드려 버티기', '엎드려서 팔 다리 들기'], ['앉았다 일어서기', '원판던지기', '한발 앞으로 내밀고 앉았다 일어서기', '몸통 들어올리기', '바벨들어올리기', '윗몸올리기', '엎드려 버티기', '옆으로 누워 버티기'], ['달리기', '계단 올라갔다 내려오기', '자전거타기', '걷기'], ['서서 상체 일으키기', '앉았다 일어서기', '윗몸올리기', '옆으로 누워 버티기', '누워서 엉덩이 들어올리기', '앉아서 팔꿈치 굽히기/펴기', '달리기', '자전거타기', '걷기', '줄넘기', '계단 올라갔다 내려오기', '수영', '스텝퍼 뛰어서 오르내리기', '스텝퍼 뛰어서 넘어가기', '사다리 안팎 뛰기', '앉았다 일어서면서 점프하기', '무릎 높여 제자리 달리기', '버피운동'], ['엎드려 버티기', '옆으로 누워 버티기'], ['자전거타기', '걷기', '계단 올라갔다 내려오기', '수영'], ['달리기', '무릎 높여 제자리 달리기'], ['서서 상체 일으키기', '윗몸올리기', '엎드려 버티기', '누워서 다리 들어올리기', '누워서 엉덩이 들어올리기', '엎드려서 팔 다리 들기'], ['앉았다 일어서기', '한발 앞으로 내밀고 앉았다 일어서기', '앉아서 다리 펴기', '앉아서 다리 밀기', '누워서 엉덩이 들어올리기', '윗몸올리기', '엎드려 버티기', '옆으로 누워 버티기', '앉아서 밀기', '앉아서 위로 밀기', '탄력밴드 어깨 가쪽 돌림', '뒤로 팔굽혀펴기'], ['앉았다 일어서기', '한발 앞으로 내밀고 앉았다 일어서기', '누워서 덤벨 들어올리기', '윗몸올리기', '턱걸이', '바벨 끌어당기기'], ['달리기', '자전거타기', '자전거타기', '걷기', '계단 올라갔다 내려오기', '수영'], ['허리 굽혀 팔 뒤로 들기', '물병 옆으로 들어올리기', '네발기기 자세로 팔 다리 들기', '누워서 엉덩이 들어올리기', '자전거타기', '걷기'], ['달리기', '자전거타기', '자전거타기', '걷기', '계단 올라갔다 내려오기', '수영'], ['허리 스트레칭', '배 스트레칭', '엉덩이 스트레칭', '하지 루틴 스트레칭', '좌식생활자를 위한 동적 루틴 스트레칭', '작은 공을 이용한 동적 루틴 스트레칭 '], ['허리 스트레칭', '배 스트레칭', '옆구리 스트레칭', '엉덩이 스트레칭'], ['달리기', '자전거타기', '자전거타기', '걷기', '줄넘기', '계단 올라갔다 내려오기', '계단 뛰기', '수영'], ['앉아서 다리 펴기', '앉아서 다리 굽히기', '앉아서 당겨 내리기', '앉아서 밀기'], ['달리기', '자전거타기', '자전거타기', '걷기', '계단 올라갔다 내려오기', '수영'], ['앉았다 일어서기', '의자 앞에서 앉았다 일어서기', '윗몸올리기', '엎드려 버티기', '옆으로 누워 버티기', '누워서 다리 들어올리기', '누워서 엉덩이 들어올리기', '네발기기 자세로 팔 다리 들기', '네발기기 자세에서 손바닥으로 바닥밀기', '팔굽혀펴기'], ['달리기', '자전거타기', '자전거타기', '걷기', '계단 올라갔다 내려오기', '수영'], ['몸통 들어올리기', '소파를 이용한 윗몸올리기', '엎드려 버티기', '옆으로 누워 버티기', '네발기기 자세로 팔 다리 들기', '엎드려서 팔 다리 들기'], ['달리기', '계단 올라갔다 내려오기'], ['뒤로 팔굽혀펴기'], ['스텝박스 오르내리기', '달리기', '자전거타기', '줄넘기', '계단 올라갔다 내려오기', '수영', '아쿠아로빅', '물속에서 걷기', '버피운동'], ['앉아서 당겨 내리기', '앉아서 뒤로 당기기', '앉아서 밀기', '앉아서 모으기', '한발 앞으로 내밀고 앉았다 일어서기', '윗몸올리기', '엎드려 버티기', '누워서 다리 들어올리기', '앉았다 일어서기', '의자에 앉아 다리 뻗어 올리기', '앉아서 엉덩관절 굽히기'], ['앉아서 다리 밀기', '앉아서 다리 펴기', '바벨들어올리기', '앉았다 일어서기', '한발 앞으로 내밀고 앉았다 일어서기', '달리기', '줄넘기', '계단 올라갔다 내려오기', '앉았다 일어서면서 점프하기', '스텝퍼 오르내리기', '버피운동'], ['자전거타기', '물누르기/올리기'], ['버피운동', '앉았다 일어서기', '앉았다 일어서면서 점프하기', '맨몸운동 루틴프로그램', '전완대고 버티기', '팔다리 교차 버티기'], ['달리기', '자전거타기', '줄넘기', '계단 올라갔다 내려오기'], ['앉았다 일어서기', '한발 앞으로 내밀고 앉았다 일어서기', '윗몸올리기', '엎드려 버티기', '옆으로 누워 버티기', '누워서 엉덩이 들어올리기'], ['앉았다 일어서기', '팔굽혀펴기', '윗몸올리기', '누워서 엉덩이 들어올리기', '네발기기 자세로 팔 다리 들기', '엎드려 버티기', '누워서 수직으로 다리 들어올리기', '누워서 다리 좌우로 움직이기'], ['계단 뛰기', '달리기', '줄넘기', '스텝박스 오르내리기 '], ['걷기', '자전거타기', '걷기', '달리기'], ['앉았다 일어서기', '한발 앞으로 내밀고 앉았다 일어서기', '넙다리 스트레칭', '하지 루틴 스트레칭', '상지 루틴 스트레칭', '좌식생활자를 위한 동적 루틴 스트레칭 '], ['서서 상체 일으키기', '앉았다 일어서기', '윗몸올리기', '옆으로 누워 버티기', '누워서 엉덩이 들어올리기', '앉아서 팔꿈치 굽히기/펴기', '달리기', '자전거타기', '걷기', '줄넘기', '계단 올라갔다 내려오기', '수영', '스텝퍼 뛰어서 오르내리기', '스텝퍼 뛰어서 넘어가기', '사다리 안팎 뛰기', '앉았다 일어서면서 점프하기', '무릎 높여 제자리 달리기', '버피운동'], ['앉아서 다리 밀기', '앉아서 다리 펴기', '앉아서 다리 모으기', '앉아서 당겨 내리기', '앉아서 뒤로 당기기', '몸통 들어올리기', '앉아서 밀기', '앉아서 위로 밀기', '앉았다 일어서기', '몸통 옆으로 굽히기'], ['윗몸올리기', '누워서 엉덩이 들어올리기', '엎드려 버티기', '서서 상체 일으키기', '앉아서 밀기', '앉아서 당겨 내리기', '앉아서 다리 밀기', '앉아서 다리 펴기', '자전거타기', '걷기'], ['달리기', '무릎 높여 제자리 달리기'], ['버피운동', '계단 뛰기'], ['달리기', '무릎 높여 제자리 달리기'], ['앉았다 일어서기', '한발 앞으로 내밀고 앉았다 일어서기', '넙다리 스트레칭', '하지 루틴 스트레칭', '상지 루틴 스트레칭', '좌식생활자를 위한 동적 루틴 스트레칭 '], ['달리기', '자전거타기', '수영', '달리기', '계단 올라갔다 내려오기'], ['윗몸올리기', '엎드려 버티기', '누워서 다리 들어올리기', '팔굽혀펴기', '누워서 엉덩이 들어올리기', '엎드려서 팔 다리 들기', '물병 옆으로 들어올리기', '팔꿈치 굽히기', '앉았다 일어서기', '의자 앞에서 앉았다 일어서기', '한발 앞으로 내밀고 앉았다 일어서기'], ['맨몸운동 루틴프로그램', '걷기'], ['앉았다 일어서기', '윗몸올리기', '소파를 이용한 윗몸올리기', '엎드려 버티기', '누워서 다리 들어올리기', '누워서 팔 다리 동시에 들어올리기', '누워서 다리 좌우로 움직이기', '엎드려서 다리 차올리기', '서서 균형잡으며 몸통 회전하기', '스텝퍼 뛰어서 오르내리기', '스텝퍼 뛰어서 넘어가기'], ['순간반응 콘 찍기', '앉았다 일어나며 점프하기', '다리 뻗어 점프하기', '좌우 양발모아 점프하기', '한발로 점프하기', '연속 상향 점프하기', '좌우 이동하며 팔굽혀펴기', '팔굽혀펴기 후 점프하기', '크게 다리벌려 교차 뛰기', '뒷발 교차 뛰기'], ['허리 스트레칭', '배 스트레칭', '엉덩이 스트레칭', '하지 루틴 스트레칭', '좌식생활자를 위한 동적 루틴 스트레칭', '작은 공을 이용한 동적 루틴 스트레칭 '], ['웨이트 트레이닝 루틴프로그램'], ['몸통 들어올리기', '소파를 이용한 윗몸올리기', '엎드려 버티기', '옆으로 누워 버티기', '네발기기 자세로 팔 다리 들기', '엎드려서 팔 다리 들기'], ['버피운동', '무릎 높여 제자리 달리기', '앉아서 다리 펴기', '앉아서 다리 굽히기', '앉아서 다리 모으기', '앉아서 다리 벌리기', '고정한 상태에서 덤벨 들고 팔꿈치 굽히기', '앉아서 팔꿈치 굽히기/펴기', '서서 탄력밴드 당겨내리기/올리기', '물병 옆으로 들어올리기'], ['의자 앞에서 앉았다 일어서기', '엎드려 버티기', '누워서 엉덩이 들어올리기', '네발기기 자세로 팔 다리 들기', '엎드려서 팔 다리 들기', '누워서 배가로근 수축 '], ['손목 펴기/굽히기', '앉아서 팔꿈치 굽히기/펴기', '뒤로 팔굽혀펴기', '물병 옆으로 들어올리기', '팔꿈치 굽히기'], ['맨몸운동 루틴프로그램', '자전거타기', '걷기', '줄넘기', '수영'], ['대퇴이두근 스트레칭', '요통을 위한 스트레칭', '몸통 앞으로 굽혀 걷기', '앉아서 상체 앞 옆으로 기울기', '앉았다 일어서기', '바벨들어올리기', '누워서 가슴 밀기', '서서 바벨 위로 밀기', '앉아서 당겨 내리기', '한발 앞으로 내밀고 앉았다 일어서기', '달리기', '자전거타기', '계단 올라갔다 내려오기', '계단 뛰기', '수영', '버피운동', '목 스트레칭', '전신 루틴 스트레칭'], ['상지 루틴 스트레칭', '전신 루틴 스트레칭'], ['걷기', '자전거타기', '걷기', '달리기'], ['양팔 크게 벌리기', '허리 굽혀 덤벨 들기', '서서 바벨 위로 밀기', '앉았다 일어서기', '한발 앞으로 내밀고 앉았다 일어서기'], ['엉덩이 스트레칭', '엉덩이 스트레칭', '몸통 앞으로 굽혀 걷기', '한쪽 다리펴고 상체 숙이기', '넙다리 스트레칭', '넙다리 스트레칭'], ['달리기', '무릎 높여 제자리 달리기'], ['앉았다 일어서기', '한발 앞으로 내밀고 앉았다 일어서기', '넙다리 스트레칭', '하지 루틴 스트레칭', '상지 루틴 스트레칭', '좌식생활자를 위한 동적 루틴 스트레칭 '], ['앉았다 일어서기', '의자 앞에서 앉았다 일어서기', '윗몸올리기', '엎드려 버티기', '옆으로 누워 버티기', '누워서 다리 들어올리기', '누워서 엉덩이 들어올리기', '네발기기 자세로 팔 다리 들기', '네발기기 자세에서 손바닥으로 바닥밀기', '팔굽혀펴기'], ['자전거타기', '줄넘기', '계단 올라갔다 내려오기', '수영', '아쿠아로빅', '스텝박스'], ['배 스트레칭', '팔굽혀 펴기'], ['앉았다 일어서기', '한발 앞으로 내밀고 앉았다 일어서기', '턱걸이', '점프 팔굽혀펴기', '소파를 이용한 윗몸올리기', '엎드려 버티기'], ['자전거타기', '걷기', '계단 올라갔다 내려오기', '수영'], ['앉았다 일어서기', '앞굽이 앉았다 일어서기', '연속 사이드 스쿼드', '팔굽혀 펴기', '뒤로 팔굽혀펴기', '서서 상체 일으키기', '윗몸올리기', '누워서 다리 들어올리기', '누워서 엉덩이 들어올리기'], ['앉아서 다리 펴기', '앉아서 다리 굽히기', '앉아서 당겨 내리기', '앉아서 밀기'], ['달리기', '버피운동', '스텝퍼 오르내리기', '팔벌려뛰기'], ['달리기', '무릎 높여 제자리 달리기'], ['버피운동', '무릎 높여 제자리 달리기', '앉아서 다리 펴기', '앉아서 다리 굽히기', '앉아서 다리 모으기', '앉아서 다리 벌리기', '고정한 상태에서 덤벨 들고 팔꿈치 굽히기', '앉아서 팔꿈치 굽히기/펴기', '서서 탄력밴드 당겨내리기/올리기', '물병 옆으로 들어올리기'], ['앉았다 일어서기', '팔굽혀펴기', '윗몸올리기', '누워서 엉덩이 들어올리기', '네발기기 자세로 팔 다리 들기', '엎드려 버티기', '누워서 수직으로 다리 들어올리기', '누워서 다리 좌우로 움직이기'], ['허리 스트레칭', '배 스트레칭', '엉덩이 스트레칭', '하지 루틴 스트레칭', '좌식생활자를 위한 동적 루틴 스트레칭', '작은 공을 이용한 동적 루틴 스트레칭 '], ['앉아서 몸통 움츠리기', '누워서 밀기', '바벨들어올리기', '원판던지기', '파워클린', '앉았다 일어서기', '한발 앞으로 내밀고 앉았다 일어서기', '바벨 끌어당기기', '매달려서 다리 들기', '서서 바벨 위로 밀기', '고정한 상태에서 덤벨 들고 팔꿈치 굽히기', '허리 굽혀 덤벨 뒤로 들기', '손목 펴기/굽히기', '누워서 팔 다리 동시에 들어올리기', '누워서 다리 좌우로 움직이기', '뛰어 내렸다가 바로 점프하기', '사다리 안팎 뛰기', '앉았다 일어서면서 점프하기', '사다리 좌우 뛰기', '사다리 옆으로 발 옮기기', '계단 뛰기'], ['맨몸운동 루틴프로그램', '자전거타기', '걷기', '줄넘기', '수영'], ['앉아서 다리 펴기', '앉아서 다리 굽히기', '앉아서 당겨 내리기', '앉아서 밀기'], ['앉았다 일어서기', '한발 앞으로 내밀고 앉았다 일어서기', '누워서 덤벨 들어올리기', '윗몸올리기', '턱걸이', '바벨 끌어당기기'], ['달리기', '자전거타기', '자전거타기', '걷기', '줄넘기', '계단 올라갔다 내려오기', '계단 뛰기', '수영'], ['앉아서 당겨 내리기', '앉아서 뒤로 당기기', '앉아서 밀기', '앉아서 모으기', '한발 앞으로 내밀고 앉았다 일어서기', '윗몸올리기', '엎드려 버티기', '누워서 다리 들어올리기', '앉았다 일어서기', '의자에 앉아 다리 뻗어 올리기', '앉아서 엉덩관절 굽히기'], ['스텝박스 오르내리기', '달리기', '자전거타기', '줄넘기', '계단 올라갔다 내려오기', '수영', '아쿠아로빅', '물속에서 걷기', '버피운동'], ['양팔 크게 벌리기', '허리 굽혀 덤벨 들기', '서서 바벨 위로 밀기', '앉았다 일어서기', '한발 앞으로 내밀고 앉았다 일어서기'], ['몸통 들어올리기', '소파를 이용한 윗몸올리기', '엎드려 버티기', '옆으로 누워 버티기', '네발기기 자세로 팔 다리 들기', '엎드려서 팔 다리 들기'], ['엉덩이 스트레칭', '엉덩이 스트레칭', '몸통 앞으로 굽혀 걷기', '한쪽 다리펴고 상체 숙이기', '넙다리 스트레칭', '넙다리 스트레칭'], ['윗몸올리기', '누워서 엉덩이 들어올리기', '엎드려 버티기', '서서 상체 일으키기', '앉아서 밀기', '앉아서 당겨 내리기', '앉아서 다리 밀기', '앉아서 다리 펴기', '자전거타기', '걷기'], ['엎드려 버티기', '누워서 다리 들어올리기', '누워서 팔 다리 동시에 들어올리기', '누워서 엉덩이 들어올리기', '엎드려서 팔 다리 들기', '윗몸올리기 '], ['자전거타기', '걷기', '줄넘기', '계단 올라갔다 내려오기'], ['탄력밴드 어깨 가쪽 돌림', '서서 탄력밴드 당겨내리기/올리기', '엎드려 버티기', '누워서 다리 들어올리기', '누워서 하늘 자전거', '누워서 엉덩이 들어올리기', '서서 뒤꿈치 들기', '의자 앞에서 앉았다 일어서기', '달리기', '자전거타기', '걷기', '줄넘기', '계단 올라갔다 내려오기', '수영', '스텝퍼 뛰어서 오르내리기', '스텝퍼 뛰어서 넘어가기', '사다리 안팎 뛰기', '앉았다 일어서면서 점프하기', '무릎 높여 제자리 달리기', '버피운동'], ['서서 상체 일으키기', '앉았다 일어서기', '소파를 이용한 윗몸올리기', '엎드려 버티기', '네발기기 자세로 팔 다리 들기', '서서 다리 뒤로 차기'], ['전완대고 버티기', '윗몸 일으키기'], ['달리기', '자전거타기', '계단 올라갔다 내려오기', '수영', '서서 다리 뒤로 차기', '누워서 엉덩이 들어올리기', '윗몸올리기', '네발기기 자세로 팔 다리 들기', '몸통 옆으로 굽히기', '엎드려 버티기', '누워서 다리 들어올리기', '엎드려서 팔 다리 들기'], ['달리기', '자전거타기', '고혈압환자_순환식 근력운동 프로그램', '요통을 위한 근력운동'], ['몸통 들어올리기', '소파를 이용한 윗몸올리기', '엎드려 버티기', '옆으로 누워 버티기', '네발기기 자세로 팔 다리 들기', '엎드려서 팔 다리 들기'], ['윗몸올리기', '누워서 엉덩이 들어올리기', '엎드려 버티기', '서서 상체 일으키기', '앉아서 밀기', '앉아서 당겨 내리기', '앉아서 다리 밀기', '앉아서 다리 펴기', '자전거타기', '걷기'], ['자전거타기', '줄넘기', '계단 올라갔다 내려오기', '수영', '아쿠아로빅', '스텝박스'], ['달리기', '무릎 높여 제자리 달리기'], ['윗몸올리기', '누워서 엉덩이 들어올리기', '엎드려 버티기', '서서 상체 일으키기', '앉아서 밀기', '앉아서 당겨 내리기', '앉아서 다리 밀기', '앉아서 다리 펴기', '자전거타기', '걷기'], ['몸통 들어올리기', '소파를 이용한 윗몸올리기', '엎드려 버티기', '옆으로 누워 버티기', '네발기기 자세로 팔 다리 들기', '엎드려서 팔 다리 들기'], ['앉았다 일어서기', '한발 앞으로 내밀고 앉았다 일어서기', '턱걸이', '점프 팔굽혀펴기', '소파를 이용한 윗몸올리기', '엎드려 버티기'], ['걷기', '계단 올라갔다 내려오기', '수영'], ['달리기', '무릎 높여 제자리 달리기'], ['계단 뛰기', '달리기', '스텝박스', '박스 운동 루틴프로그램', '사다리 운동 루틴프로그램', '콘운동 루틴프로그램', '사이드 스텝 점프하기', '한발로 점프하기'], ['상지 루틴 스트레칭', '전신 루틴 스트레칭'], ['윗몸올리기', '누워서 엉덩이 들어올리기', '엎드려 버티기', '서서 상체 일으키기', '앉아서 밀기', '앉아서 당겨 내리기', '앉아서 다리 밀기', '앉아서 다리 펴기', '자전거타기', '걷기'], ['목 스트레칭', '등/어깨 뒤쪽 스트레칭', '가슴/어깨 앞쪽 스트레칭', '아래 팔 스트레칭', '허리 스트레칭', '배 스트레칭', '옆구리 스트레칭', '엉덩이 스트레칭', '넙다리 스트레칭', '넙다리 스트레칭', '넙다리 스트레칭', '좌식생활자를 위한 동적 루틴 스트레칭 '], ['자전거타기', '걷기', '계단 올라갔다 내려오기', '앉았다 일어서기', '서서 뒤꿈치 들기'], ['윗몸올리기', '누워서 엉덩이 들어올리기', '엎드려 버티기', '서서 상체 일으키기', '앉아서 밀기', '앉아서 당겨 내리기', '앉아서 다리 밀기', '앉아서 다리 펴기', '자전거타기', '걷기'], ['자전거타기', '줄넘기', '계단 올라갔다 내려오기', '수영', '아쿠아로빅', '스텝박스'], ['앉아서 다리 밀기', '앉아서 다리 펴기', '앉아서 다리 모으기', '앉아서 당겨 내리기', '앉아서 뒤로 당기기', '몸통 들어올리기', '앉아서 밀기', '앉아서 위로 밀기', '앉았다 일어서기', '몸통 옆으로 굽히기'], ['앉아서 다리 밀기', '앉아서 다리 펴기', '앉아서 다리 모으기', '앉아서 당겨 내리기', '앉아서 뒤로 당기기', '몸통 들어올리기', '앉아서 밀기', '앉아서 위로 밀기', '앉았다 일어서기', '몸통 옆으로 굽히기'], ['버피운동', '앉았다 일어서기', '앉았다 일어서면서 점프하기', '맨몸운동 루틴프로그램', '전완대고 버티기', '팔다리 교차 버티기'], ['앉아서 위로 밀기', '턱걸이', '바벨 끌어당기기', '고정한 상태에서 덤벨 들고 팔꿈치 굽히기', '앉아서 다리 밀기', '앉아서 다리 펴기', '앉아서 다리 굽히기', '원판던지기'], ['자전거타기', '줄넘기', '계단 올라갔다 내려오기', '수영', '아쿠아로빅', '스텝박스'], ['달리기', '무릎 높여 제자리 달리기'], ['윗몸올리기', '누워서 엉덩이 들어올리기', '엎드려 버티기', '서서 상체 일으키기', '앉아서 밀기', '앉아서 당겨 내리기', '앉아서 다리 밀기', '앉아서 다리 펴기', '자전거타기', '걷기'], ['달리기', '무릎 높여 제자리 달리기'], ['달리기', '자전거타기', '수영', '달리기', '계단 올라갔다 내려오기'], ['계단 올라갔다 내려오기', '계단 뛰기', '수영', '자전거타기', '자전거타기'], ['버피운동', '앉았다 일어서면서 점프하기', '앉았다 일어서기', '한발 앞으로 내밀고 앉았다 일어서기', '팔굽혀펴기', '앉아서 당겨 내리기', '원판던지기', '윗몸 말아 올리기', '네발기기 자세에서 다리 위로 뻗어올리기'], ['달리기', '맨몸운동 루틴프로그램'], ['몸통 들어올리기', '소파를 이용한 윗몸올리기', '엎드려 버티기', '옆으로 누워 버티기', '네발기기 자세로 팔 다리 들기', '엎드려서 팔 다리 들기'], ['누워서 팔 밀기', '앉아서 가슴 모으기', '앉아서 양팔 당기기', '앉아서 당겨 내리기', '몸통 옆으로 굽히기', '앉아서 몸통 움츠리기'], ['자전거타기', '걷기', '계단 올라갔다 내려오기', '앉았다 일어서기', '서서 뒤꿈치 들기'], ['달리기'], ['앉았다 일어서기', '앞굽이 앉았다 일어서기', '연속 사이드 스쿼드', '팔굽혀 펴기', '뒤로 팔굽혀펴기', '서서 상체 일으키기', '윗몸올리기', '누워서 다리 들어올리기', '누워서 엉덩이 들어올리기'], ['맨몸운동 루틴프로그램', '저항밴드 운동 루틴프로그램', '웨이트 트레이닝 루틴프로그램'], ['윗몸올리기', '누워서 엉덩이 들어올리기', '엎드려 버티기', '서서 상체 일으키기', '앉아서 밀기', '앉아서 당겨 내리기', '앉아서 다리 밀기', '앉아서 다리 펴기', '자전거타기', '걷기'], ['달리기'], ['달리기', '계단 올라갔다 내려오기', '자전거타기', '걷기'], ['앉았다 일어서기', '한발 앞으로 내밀고 앉았다 일어서기', '턱걸이', '점프 팔굽혀펴기', '소파를 이용한 윗몸올리기', '엎드려 버티기'], ['계단 올라갔다 내려오기', '계단 뛰기', '수영', '자전거타기', '자전거타기'], ['계단 올라갔다 내려오기', '앉았다 일어서기', '바벨들어올리기', '원판던지기', '윗몸올리기', '엎드려 버티기', '누워서 하늘 자전거', '누워서 엉덩이 들어올리기'], ['줄넘기', '계단 올라갔다 내려오기'], ['스텝퍼 옆으로 뛰어넘기', '스텝퍼 올라가서 점프하여 착지하기', '뛰어 내렸다가 바로 점프하기', '사다리 안팎 뛰기', '앉았다 일어서면서 점프하기', '무릎 높여 제자리 달리기', '파워클린', '팔굽혀펴기'], ['달리기', '무릎 높여 제자리 달리기'], ['계단 뛰기', '달리기', '줄넘기', '스텝박스 오르내리기 '], ['줄넘기', '계단 올라갔다 내려오기', '앉았다 일어서면서 점프하기', '스텝퍼 오르내리기', '버피운동'], ['앉았다 일어서기', '서서 뒤꿈치 들기', '자전거타기', '줄넘기', '계단 올라갔다 내려오기'], ['스텝퍼 뛰어서 오르내리기', '무릎 높여 제자리 달리기', '스텝퍼 오르내리기', '팔벌려뛰기', '버피운동'], ['허리 스트레칭', '배 스트레칭', '엉덩이 스트레칭', '하지 루틴 스트레칭', '좌식생활자를 위한 동적 루틴 스트레칭', '작은 공을 이용한 동적 루틴 스트레칭 '], ['자전거타기', '걷기', '계단 올라갔다 내려오기', '수영'], ['목 스트레칭', '등/어깨 뒤쪽 스트레칭', '가슴/어깨 앞쪽 스트레칭', '아래 팔 스트레칭', '허리 스트레칭', '배 스트레칭', '옆구리 스트레칭', '엉덩이 스트레칭', '넙다리 스트레칭', '넙다리 스트레칭', '넙다리 스트레칭', '좌식생활자를 위한 동적 루틴 스트레칭 '], ['맨몸운동 루틴프로그램', '달리기'], ['누워서 다리 들어올리기', '팔꿈치 굽히기', '서서 다리로 탄력밴드 당기기', '누워서 엉덩이 들어올리기', '팔굽혀펴기', '윗몸올리기', '한발 앞으로 내밀고 앉았다 일어서기', '서서 뒤꿈치 들기', '엎드려서 팔 다리 들기', '허리 굽혀 팔 뒤로 들기', '앉았다 일어서기', '물병 옆으로 들어올리기', '자전거타기', '걷기', '계단 올라갔다 내려오기', '수영'], ['달리기', '자전거타기', '자전거타기', '걷기', '계단 올라갔다 내려오기', '수영'], ['목 스트레칭', '등/어깨 뒤쪽 스트레칭', '가슴/어깨 앞쪽 스트레칭', '아래 팔 스트레칭', '허리 스트레칭', '배 스트레칭', '옆구리 스트레칭', '엉덩이 스트레칭', '넙다리 스트레칭', '넙다리 스트레칭', '넙다리 스트레칭', '좌식생활자를 위한 동적 루틴 스트레칭 '], ['윗몸올리기', '누워서 엉덩이 들어올리기', '엎드려 버티기', '서서 상체 일으키기', '앉아서 밀기', '앉아서 당겨 내리기', '앉아서 다리 밀기', '앉아서 다리 펴기', '자전거타기', '걷기'], ['줄넘기', '계단 올라갔다 내려오기', '앉았다 일어서면서 점프하기', '스텝퍼 오르내리기', '버피운동'], ['앉아서 다리 밀기', '앉아서 다리 펴기', '앉아서 다리 굽히기', '앉아서 당겨 내리기', '앉아서 뒤로 당기기', '앉아서 밀기', '앉아서 위로 밀기', '윗몸올리기', '누워서 다리 들어올리기', '몸통 들어올리기'], ['앉았다 일어서기', '한발 앞으로 내밀고 앉았다 일어서기', '넙다리 스트레칭', '하지 루틴 스트레칭', '상지 루틴 스트레칭', '좌식생활자를 위한 동적 루틴 스트레칭 '], ['앉았다 일어서기', '한발 앞으로 내밀고 앉았다 일어서기', '넙다리 스트레칭', '하지 루틴 스트레칭', '상지 루틴 스트레칭', '좌식생활자를 위한 동적 루틴 스트레칭 '], ['자전거타기', '걷기', '계단 올라갔다 내려오기', '앉았다 일어서기', '서서 뒤꿈치 들기'], ['달리기', '자전거타기', '줄넘기', '계단 올라갔다 내려오기'], ['바로서서 상체 숙이기', '손목 펴기/굽히기', '물병 옆으로 들어올리기', '목 굽힘/ 폄', '팔굽혀 펴기', '엉덩이 스트레칭', '넙다리 스트레칭', '합장하여 앞으로 숙이기'], ['팔굽혀펴기', '허리 굽혀 팔 뒤로 들기', '앉았다 일어서기', '달리기', '계단 올라갔다 내려오기'], ['자전거타기', '걷기', '계단 올라갔다 내려오기', '앉았다 일어서기', '서서 뒤꿈치 들기'], ['목 스트레칭', '등/어깨 뒤쪽 스트레칭', '가슴/어깨 앞쪽 스트레칭', '아래 팔 스트레칭', '허리 스트레칭', '배 스트레칭', '옆구리 스트레칭', '엉덩이 스트레칭', '넙다리 스트레칭', '넙다리 스트레칭', '넙다리 스트레칭', '좌식생활자를 위한 동적 루틴 스트레칭 '], ['바운딩 운동 루틴프로그램', '박스 운동 루틴프로그램'], ['달리기', '무릎 높여 제자리 달리기'], ['달리기', '무릎 높여 제자리 달리기'], ['앉았다 일어서면서 점프하기', '무릎 높여 제자리 달리기'], ['서서 상체 일으키기', '윗몸올리기', '엎드려 버티기', '누워서 다리 들어올리기', '누워서 엉덩이 들어올리기', '엎드려서 팔 다리 들기'], ['자전거타기', '물누르기/올리기'], ['앉았다 일어서기', '한발 앞으로 내밀고 앉았다 일어서기', '앉아서 다리 밀기', '앉아서 다리 굽히기', '앉아서 위로 밀기', '서서 바벨 위로 밀기', '탄력밴드 어깨 가쪽 돌림', '서서 탄력밴드 당겨내리기/올리기'], ['앉아서 다리 밀기', '앉아서 다리 펴기', '앉아서 다리 모으기', '앉아서 당겨 내리기', '앉아서 뒤로 당기기', '몸통 들어올리기', '앉아서 밀기', '앉아서 위로 밀기', '앉았다 일어서기', '몸통 옆으로 굽히기'], ['앉았다 일어서기', '원판던지기', '한발 앞으로 내밀고 앉았다 일어서기', '몸통 들어올리기', '바벨들어올리기', '윗몸올리기', '엎드려 버티기', '옆으로 누워 버티기'], ['전신 루틴 스트레칭', '유산소 운동 전 동적 루틴 스트레칭', '좌식생활자를 위한 동적 루틴 스트레칭', '짐볼을 이용한 동적 루틴 스트레칭'], ['의자 앞에서 앉았다 일어서기', '엎드려 버티기', '누워서 엉덩이 들어올리기', '네발기기 자세로 팔 다리 들기', '엎드려서 팔 다리 들기', '누워서 배가로근 수축 '], ['상지 루틴 스트레칭', '하지 루틴 스트레칭', '하지 루틴 스트레칭', '요가 및 필라테스 루틴프로그램', '자가근막이완술 루틴 스트레칭', '작은 공을 이용한 동적 루틴 스트레칭', '짐볼을 이용한 동적 루틴 스트레칭'], ['앉았다 일어서기', '윗몸올리기', '엎드려 버티기', '옆으로 누워 버티기', '누워서 다리 들어올리기', '네발기기 자세로 팔 다리 들기', '엎드려서 팔 다리 들기', '팔굽혀펴기', '서서 뒤꿈치 들기'], ['자전거타기', '걷기', '줄넘기', '계단 올라갔다 내려오기'], ['자전거타기', '줄넘기', '수영', '스텝박스', '엉덩이 스트레칭'], ['전완대고 버티기', '윗몸 일으키기'], ['달리기', '무릎 높여 제자리 달리기'], ['앉아서 다리 밀기', '앉아서 다리 펴기', '앉아서 다리 모으기', '앉았다 일어서기', '한발 앞으로 내밀고 앉았다 일어서기', '의자에 앉아 다리 뻗어 올리기'], ['계단 올라갔다 내려오기', '수영'], ['스텝퍼 옆으로 뛰어넘기', '스텝퍼 올라가서 점프하여 착지하기', '뛰어 내렸다가 바로 점프하기', '사다리 안팎 뛰기', '앉았다 일어서면서 점프하기', '무릎 높여 제자리 달리기', '파워클린', '팔굽혀펴기'], ['몸통 들어올리기', '소파를 이용한 윗몸올리기', '엎드려 버티기', '옆으로 누워 버티기', '네발기기 자세로 팔 다리 들기', '엎드려서 팔 다리 들기'], ['달리기', '무릎 높여 제자리 달리기'], ['의자 앞에서 앉았다 일어서기', '엎드려 버티기', '누워서 엉덩이 들어올리기', '네발기기 자세로 팔 다리 들기', '엎드려서 팔 다리 들기', '누워서 배가로근 수축 '], ['걷기', '계단 올라갔다 내려오기', '자전거타기'], ['앉았다 일어서기', '윗몸올리기', '엎드려 버티기', '옆으로 누워 버티기', '누워서 다리 들어올리기', '네발기기 자세로 팔 다리 들기', '엎드려서 팔 다리 들기', '팔굽혀펴기', '서서 뒤꿈치 들기'], ['달리기', '자전거타기', '계단 올라갔다 내려오기', '수영', '서서 다리 뒤로 차기', '누워서 엉덩이 들어올리기', '윗몸올리기', '네발기기 자세로 팔 다리 들기', '몸통 옆으로 굽히기', '엎드려 버티기', '누워서 다리 들어올리기', '엎드려서 팔 다리 들기'], ['자전거타기', '수영', '달리기', '앉았다 일어서기', '팔굽혀펴기', '윗몸올리기', '누워서 엉덩이 들어올리기', '엎드려 버티기', '엎드려서 팔 다리 들기'], ['의자 앞에서 앉았다 일어서기', '엎드려 버티기', '누워서 엉덩이 들어올리기', '네발기기 자세로 팔 다리 들기', '엎드려서 팔 다리 들기', '누워서 배가로근 수축 '], ['계단 뛰기', '달리기', '스텝박스', '박스 운동 루틴프로그램', '사다리 운동 루틴프로그램', '콘운동 루틴프로그램', '사이드 스텝 점프하기', '한발로 점프하기'], ['윗몸올리기', '누워서 엉덩이 들어올리기', '엎드려 버티기', '서서 상체 일으키기', '앉아서 밀기', '앉아서 당겨 내리기', '앉아서 다리 밀기', '앉아서 다리 펴기', '자전거타기', '걷기'], ['허리 스트레칭', '유산소 운동 전 동적 루틴 스트레칭', '좌식생활자를 위한 동적 루틴 스트레칭', '자전거타기', '물누르기/올리기'], ['윗몸올리기', '누워서 엉덩이 들어올리기', '엎드려 버티기', '서서 상체 일으키기', '앉아서 밀기', '앉아서 당겨 내리기', '앉아서 다리 밀기', '앉아서 다리 펴기', '자전거타기', '걷기'], ['달리기', '무릎 높여 제자리 달리기'], ['자전거타기', '줄넘기', '계단 올라갔다 내려오기', '수영', '아쿠아로빅', '스텝박스'], ['팔굽혀펴기', '허리 굽혀 팔 뒤로 들기', '앉았다 일어서기', '달리기', '계단 올라갔다 내려오기'], ['허리 스트레칭', '배 스트레칭', '옆구리 스트레칭', '엉덩이 스트레칭'], ['누워서 팔 밀기', '앉아서 가슴 모으기', '앉아서 양팔 당기기', '앉아서 당겨 내리기', '몸통 옆으로 굽히기', '앉아서 몸통 움츠리기'], ['앉았다 일어서기', '한발 앞으로 내밀고 앉았다 일어서기', '윗몸올리기', '엎드려 버티기', '옆으로 누워 버티기', '누워서 엉덩이 들어올리기'], ['걷기', '자전거타기', '걷기', '달리기'], ['달리기', '무릎 높여 제자리 달리기'], ['전완대고 버티기', '윗몸 일으키기'], ['탄력밴드 어깨 가쪽 돌림', '서서 탄력밴드 당겨내리기/올리기', '엎드려 버티기', '누워서 다리 들어올리기', '누워서 하늘 자전거', '누워서 엉덩이 들어올리기', '서서 뒤꿈치 들기', '의자 앞에서 앉았다 일어서기', '달리기', '자전거타기', '걷기', '줄넘기', '계단 올라갔다 내려오기', '수영', '스텝퍼 뛰어서 오르내리기', '스텝퍼 뛰어서 넘어가기', '사다리 안팎 뛰기', '앉았다 일어서면서 점프하기', '무릎 높여 제자리 달리기', '버피운동'], ['스텝박스 오르내리기', '달리기', '자전거타기', '줄넘기', '계단 올라갔다 내려오기', '수영', '아쿠아로빅', '물속에서 걷기', '버피운동'], ['엎드려 버티기', '옆으로 누워 버티기'], ['허리 스트레칭', '달리기'], ['달리기'], ['몸통 들어올리기', '소파를 이용한 윗몸올리기', '엎드려 버티기', '옆으로 누워 버티기', '네발기기 자세로 팔 다리 들기', '엎드려서 팔 다리 들기'], ['윗몸 말아 올리기', '줄넘기'], ['손목 펴기/굽히기', '뒤로 팔굽혀펴기', '허리 굽혀 팔 뒤로 들기', '팔꿈치 굽히기', '앉아서 당겨 내리기', '앉아서 뒤로 당기기', '앉아서 밀기', '앉아서 모으기', '바벨들어올리기', '매달려서 뒤로 팔굽혀 펴기', '한발 앞으로 내밀고 앉았다 일어서기', '누워서 덤벨 들어올리기', '서서 상체 일으키기', '윗몸올리기', '엎드려 버티기', '옆으로 누워 버티기', '누워서 다리 들어올리기', '누워서 엉덩이 들어올리기', '팔굽혀펴기', '한발 앞으로 내밀고 앉았다 일어서기'], ['맨몸운동 루틴프로그램', '팔벌려뛰기', '사다리 옆으로 발 옮기기', '옆으로 펀치하기', '스텝퍼 오르내리기', '무릎 높여 제자리 달리기'], ['걷기', '계단 올라갔다 내려오기', '자전거타기'], ['목 스트레칭', '등/어깨 뒤쪽 스트레칭', '가슴/어깨 앞쪽 스트레칭', '아래 팔 스트레칭', '허리 스트레칭', '배 스트레칭', '옆구리 스트레칭', '엉덩이 스트레칭', '넙다리 스트레칭', '넙다리 스트레칭', '넙다리 스트레칭', '좌식생활자를 위한 동적 루틴 스트레칭 '], ['허리 스트레칭', '배 스트레칭', '엉덩이 스트레칭', '하지 루틴 스트레칭', '자전거타기', '줄넘기', '계단 올라갔다 내려오기', '수영', '아쿠아로빅', '스텝박스', '앉아서 다리 밀기', '앉아서 다리 펴기', '앉아서 다리 모으기', '앉아서 다리 벌리기', '앉아서 당겨 내리기', '앉아서 뒤로 당기기', '앉아서 밀기', '스텝퍼 뛰어서 오르내리기', '스텝퍼 옆으로 뛰어넘기', '뛰어 내렸다가 바로 점프하기', '사다리 안팎 뛰기', '앉았다 일어서면서 점프하기', '무릎 높여 제자리 달리기', '옆으로 펀치하기', '버피운동', '계단 뛰기', '빠른 발 뛰기'], ['누워서 팔 밀기', '앉아서 가슴 모으기', '앉아서 양팔 당기기', '앉아서 당겨 내리기', '몸통 옆으로 굽히기', '앉아서 몸통 움츠리기'], ['앉았다 일어서기', '한발 앞으로 내밀고 앉았다 일어서기', '누워서 덤벨 들어올리기', '윗몸올리기', '턱걸이', '바벨 끌어당기기'], ['앉았다 일어서기', '한발 앞으로 내밀고 앉았다 일어서기', '넙다리 스트레칭', '하지 루틴 스트레칭', '상지 루틴 스트레칭', '좌식생활자를 위한 동적 루틴 스트레칭 '], ['달리기', '맨몸운동 루틴프로그램'], ['윗몸올리기', '누워서 엉덩이 들어올리기', '엎드려 버티기', '서서 상체 일으키기', '앉아서 밀기', '앉아서 당겨 내리기', '앉아서 다리 밀기', '앉아서 다리 펴기', '자전거타기', '걷기'], ['목 굽힘/ 폄', '네발기기 자세에서 손바닥으로 바닥밀기', '물병 옆으로 들어올리기', '탄력밴드 어깨 가쪽 돌림', '허리 굽혀 팔 뒤로 들기', '엎드려 버티기'], ['누워서 팔 밀기', '앉아서 가슴 모으기', '앉아서 양팔 당기기', '앉아서 당겨 내리기', '몸통 옆으로 굽히기', '앉아서 몸통 움츠리기'], ['앉아서 당겨 내리기', '앉아서 뒤로 당기기', '앉아서 밀기', '앉아서 모으기', '한발 앞으로 내밀고 앉았다 일어서기', '윗몸올리기', '엎드려 버티기', '누워서 다리 들어올리기', '앉았다 일어서기', '의자에 앉아 다리 뻗어 올리기', '앉아서 엉덩관절 굽히기'], ['앉아서 다리 밀기', '앉아서 다리 펴기', '앉아서 다리 모으기', '앉아서 당겨 내리기', '앉아서 뒤로 당기기', '몸통 들어올리기', '앉아서 밀기', '앉아서 위로 밀기', '앉았다 일어서기', '몸통 옆으로 굽히기'], ['달리기', '수영', '자전거타기', '자전거타기'], ['사다리 운동 루틴프로그램', '콘운동 루틴프로그램'], ['윗몸올리기', '누워서 엉덩이 들어올리기', '엎드려 버티기', '서서 상체 일으키기', '앉아서 밀기', '앉아서 당겨 내리기', '앉아서 다리 밀기', '앉아서 다리 펴기', '자전거타기', '걷기'], ['바운딩 운동 루틴프로그램', '박스 운동 루틴프로그램'], ['달리기', '무릎 높여 제자리 달리기'], ['달리기', '자전거타기', '계단 올라갔다 내려오기', '수영', '서서 다리 뒤로 차기', '누워서 엉덩이 들어올리기', '윗몸올리기', '네발기기 자세로 팔 다리 들기', '몸통 옆으로 굽히기', '엎드려 버티기', '누워서 다리 들어올리기', '엎드려서 팔 다리 들기'], ['팔굽혀펴기', '허리 굽혀 팔 뒤로 들기', '앉았다 일어서기', '달리기', '계단 올라갔다 내려오기'], ['앉았다 일어서기', '의자 앞에서 앉았다 일어서기', '윗몸올리기', '엎드려 버티기', '옆으로 누워 버티기', '누워서 다리 들어올리기', '누워서 엉덩이 들어올리기', '네발기기 자세로 팔 다리 들기', '네발기기 자세에서 손바닥으로 바닥밀기', '팔굽혀펴기'], ['넙다리 스트레칭', '넙다리 스트레칭'], ['목 스트레칭', '등/어깨 뒤쪽 스트레칭', '가슴/어깨 앞쪽 스트레칭', '아래 팔 스트레칭', '허리 스트레칭', '배 스트레칭', '옆구리 스트레칭', '엉덩이 스트레칭', '넙다리 스트레칭', '넙다리 스트레칭', '넙다리 스트레칭', '좌식생활자를 위한 동적 루틴 스트레칭 '], ['버피운동', '맨몸운동 루틴프로그램', '팔다리 교차 버티기', '발 바꿔 뛰기', '전완대고 버티기'], ['윗몸올리기', '누워서 엉덩이 들어올리기', '엎드려 버티기', '서서 상체 일으키기', '앉아서 밀기', '앉아서 당겨 내리기', '앉아서 다리 밀기', '앉아서 다리 펴기', '자전거타기', '걷기'], ['저항밴드 운동 루틴프로그램', '자전거타기', '걷기', '줄넘기', '수영'], ['자전거타기', '걷기', '계단 올라갔다 내려오기', '앉았다 일어서기', '서서 뒤꿈치 들기'], ['계단 뛰기', '달리기', '스텝박스', '박스 운동 루틴프로그램', '사다리 운동 루틴프로그램', '콘운동 루틴프로그램', '사이드 스텝 점프하기', '한발로 점프하기'], ['서서 상체 일으키기', '앉았다 일어서기', '윗몸올리기', '옆으로 누워 버티기', '누워서 엉덩이 들어올리기', '앉아서 팔꿈치 굽히기/펴기', '달리기', '자전거타기', '걷기', '줄넘기', '계단 올라갔다 내려오기', '수영', '스텝퍼 뛰어서 오르내리기', '스텝퍼 뛰어서 넘어가기', '사다리 안팎 뛰기', '앉았다 일어서면서 점프하기', '무릎 높여 제자리 달리기', '버피운동'], ['윗몸올리기', '누워서 엉덩이 들어올리기', '엎드려 버티기', '서서 상체 일으키기', '앉아서 밀기', '앉아서 당겨 내리기', '앉아서 다리 밀기', '앉아서 다리 펴기', '자전거타기', '걷기'], ['대퇴이두근 스트레칭', '요통을 위한 스트레칭', '몸통 앞으로 굽혀 걷기', '앉아서 상체 앞 옆으로 기울기', '앉았다 일어서기', '바벨들어올리기', '누워서 가슴 밀기', '서서 바벨 위로 밀기', '앉아서 당겨 내리기', '한발 앞으로 내밀고 앉았다 일어서기', '달리기', '자전거타기', '계단 올라갔다 내려오기', '계단 뛰기', '수영', '버피운동', '목 스트레칭', '전신 루틴 스트레칭'], ['팔굽혀펴기', '앉았다 일어서기', '턱걸이', '윗몸올리기 '], ['좌식생활자를 위한 동적 루틴 스트레칭', '짐볼을 이용한 동적 루틴 스트레칭', '작은 공을 이용한 동적 루틴 스트레칭', '하지 루틴 스트레칭', '하지 루틴 스트레칭', '상지 루틴 스트레칭'], ['뒤로 팔굽혀펴기'], ['달리기', '자전거타기', '수영', '달리기', '계단 올라갔다 내려오기'], ['하지 루틴 스트레칭', '전신 루틴 스트레칭'], ['누워서 다리 들어올리기', '팔꿈치 굽히기', '서서 다리로 탄력밴드 당기기', '누워서 엉덩이 들어올리기', '팔굽혀펴기', '윗몸올리기', '한발 앞으로 내밀고 앉았다 일어서기', '서서 뒤꿈치 들기', '엎드려서 팔 다리 들기', '허리 굽혀 팔 뒤로 들기', '앉았다 일어서기', '물병 옆으로 들어올리기', '자전거타기', '걷기', '계단 올라갔다 내려오기', '수영'], ['달리기', '수영', '자전거타기', '자전거타기'], ['앉았다 일어서기', '한발 앞으로 내밀고 앉았다 일어서기', '누워서 다리 들어올리기', '팔굽혀펴기', '팔꿈치 굽히기'], ['달리기', '무릎 높여 제자리 달리기'], ['앉아서 다리 밀기', '앉아서 다리 펴기', '앉아서 다리 굽히기', '앉아서 당겨 내리기', '앉아서 뒤로 당기기', '앉아서 밀기', '앉아서 위로 밀기', '윗몸올리기', '누워서 다리 들어올리기', '몸통 들어올리기'], ['버피운동', '무릎 높여 제자리 달리기', '앉아서 다리 펴기', '앉아서 다리 굽히기', '앉아서 다리 모으기', '앉아서 다리 벌리기', '고정한 상태에서 덤벨 들고 팔꿈치 굽히기', '앉아서 팔꿈치 굽히기/펴기', '서서 탄력밴드 당겨내리기/올리기', '물병 옆으로 들어올리기'], ['맨몸운동 루틴프로그램', '팔벌려뛰기', '사다리 옆으로 발 옮기기', '옆으로 펀치하기', '스텝퍼 오르내리기', '무릎 높여 제자리 달리기'], ['버피운동', '앉았다 일어서기', '앉았다 일어서면서 점프하기', '맨몸운동 루틴프로그램', '전완대고 버티기', '팔다리 교차 버티기'], ['목 스트레칭', '등/어깨 뒤쪽 스트레칭', '가슴/어깨 앞쪽 스트레칭', '아래 팔 스트레칭', '허리 스트레칭', '배 스트레칭', '옆구리 스트레칭', '엉덩이 스트레칭', '넙다리 스트레칭', '넙다리 스트레칭', '넙다리 스트레칭', '좌식생활자를 위한 동적 루틴 스트레칭 '], ['앉았다 일어서기', '한발 앞으로 내밀고 앉았다 일어서기', '윗몸올리기', '엎드려 버티기', '옆으로 누워 버티기', '누워서 엉덩이 들어올리기'], ['달리기', '무릎 높여 제자리 달리기'], ['좌식생활자를 위한 동적 루틴 스트레칭', '짐볼을 이용한 동적 루틴 스트레칭', '작은 공을 이용한 동적 루틴 스트레칭', '하지 루틴 스트레칭', '하지 루틴 스트레칭', '상지 루틴 스트레칭'], ['몸통 들어올리기', '소파를 이용한 윗몸올리기', '엎드려 버티기', '옆으로 누워 버티기', '네발기기 자세로 팔 다리 들기', '엎드려서 팔 다리 들기'], ['줄넘기', '계단 올라갔다 내려오기', '계단 뛰기'], ['버피운동', '계단 뛰기', '맨몸운동 루틴프로그램', '자전거타기', '걷기', '줄넘기', '수영'], ['뒤로 팔굽혀펴기'], ['버피운동', '앉았다 일어서면서 점프하기', '앉았다 일어서기', '한발 앞으로 내밀고 앉았다 일어서기', '팔굽혀펴기', '앉아서 당겨 내리기', '원판던지기', '윗몸 말아 올리기', '네발기기 자세에서 다리 위로 뻗어올리기'], ['의자 앞에서 앉았다 일어서기', '엎드려 버티기', '누워서 엉덩이 들어올리기', '네발기기 자세로 팔 다리 들기', '엎드려서 팔 다리 들기', '누워서 배가로근 수축 '], ['한발 앞으로 내밀고 앉았다 일어서기', '앉아서 엉덩관절 굽히기', '서서 뒤꿈치 들기', '한발 서서 균형잡기', '누워서 배가로근 수축', '누워서 배가로근 수축 '], ['앉아서 다리 밀기', '앉아서 다리 펴기', '앉아서 다리 굽히기', '몸통 들어올리기', '앉아서 밀기', '앉아서 모으기', '앉아서 위로 밀기', '팔굽혀펴기'], ['앉아서 다리 밀기', '앉아서 다리 펴기', '앉아서 다리 굽히기', '뒤꿈치 들기', '앉아서 당겨 내리기', '앉아서 뒤로 당기기', '몸통 들어올리기', '앉아서 밀기', '누워서 밀기', '서서 바벨 위로 밀기', '엎드려 버티기'], ['몸통 들어올리기', '앉아서 밀기', '누워서 밀기', '비스듬히 누워서 밀기', '파워클린', '서서 어깨 들어올리기', '누워서 덤벨 들어올리기'], ['누워서 팔 밀기', '앉아서 가슴 모으기', '앉아서 양팔 당기기', '앉아서 당겨 내리기', '몸통 옆으로 굽히기', '앉아서 몸통 움츠리기'], ['뒤로 팔굽혀펴기'], ['윗몸올리기', '누워서 엉덩이 들어올리기', '엎드려 버티기', '서서 상체 일으키기', '앉아서 밀기', '앉아서 당겨 내리기', '앉아서 다리 밀기', '앉아서 다리 펴기', '자전거타기', '걷기'], ['앉아서 다리 밀기', '앉아서 다리 펴기', '앉아서 다리 굽히기', '누워서 밀기', '앉아서 모으기', '앉아서 위로 밀기', '바벨들어올리기', '앉았다 일어서기', '한발 앞으로 내밀고 앉았다 일어서기', '턱걸이', '바벨 끌어당기기', '허리 굽혀 덤벨 들기', '누워서 덤벨 들어올리기', '손목 펴기/굽히기', '소파를 이용한 윗몸올리기', '누워서 다리 들어올리기', '누워서 하늘 자전거', '누워서 엉덩이 들어올리기', '팔굽혀펴기', '달리기', '자전거타기', '계단 올라갔다 내려오기', '계단 뛰기', '수영'], ['달리기', '자전거타기', '줄넘기', '계단 올라갔다 내려오기'], ['맨몸운동 루틴프로그램'], ['버피운동', '앉았다 일어서기', '앉았다 일어서면서 점프하기', '맨몸운동 루틴프로그램', '전완대고 버티기', '팔다리 교차 버티기'], ['달리기', '계단 올라갔다 내려오기'], ['앉았다 일어서기', '한발 앞으로 내밀고 앉았다 일어서기', '앉았다 일어서기', '윗몸올리기', '엎드려 버티기', '누워서 다리 들어올리기', '누워서 엉덩이 들어올리기', '팔굽혀펴기', '팔벌려뛰기', '버피운동', '줄넘기', '수영'], ['앉았다 일어서기', '턱걸이', '매달려서 다리 들기', '엎드려서 균형잡기', '서서 균형잡으며 몸통 회전하기', '엎드려 버티기', '옆으로 누워 버티기', '누워서 다리 들어올리기', '누워서 팔 다리 동시에 들어올리기', '팔굽혀펴기', '뒤로 팔굽혀펴기', '의자에 한 다리 올리고 앉앗다 일어서기', '팔벌려뛰기', '버피운동'], ['허리 스트레칭', '배 스트레칭', '엉덩이 스트레칭', '하지 루틴 스트레칭', '좌식생활자를 위한 동적 루틴 스트레칭', '작은 공을 이용한 동적 루틴 스트레칭 '], ['달리기', '맨몸운동 루틴프로그램'], ['달리기', '자전거타기', '줄넘기', '계단 올라갔다 내려오기'], ['대퇴이두근 스트레칭', '요통을 위한 스트레칭', '몸통 앞으로 굽혀 걷기', '앉아서 상체 앞 옆으로 기울기', '앉았다 일어서기', '바벨들어올리기', '누워서 가슴 밀기', '서서 바벨 위로 밀기', '앉아서 당겨 내리기', '한발 앞으로 내밀고 앉았다 일어서기', '달리기', '자전거타기', '계단 올라갔다 내려오기', '계단 뛰기', '수영', '버피운동', '목 스트레칭', '전신 루틴 스트레칭'], ['윗몸올리기', '누워서 엉덩이 들어올리기', '엎드려 버티기', '서서 상체 일으키기', '앉아서 밀기', '앉아서 당겨 내리기', '앉아서 다리 밀기', '앉아서 다리 펴기', '자전거타기', '걷기'], ['턱걸이', '앉았다 일어서기', '윗몸올리기', '엎드려 버티기', '누워서 다리 좌우로 움직이기', '팔굽혀펴기', '뒤로 팔굽혀펴기', '서서 뒤꿈치 들기', '계단 뛰기', '스텝퍼 옆으로 뛰어넘기'], ['달리기', '자전거타기', '수영', '달리기', '계단 올라갔다 내려오기'], ['스텝퍼 옆으로 뛰어넘기', '스텝퍼 올라가서 점프하여 착지하기', '뛰어 내렸다가 바로 점프하기', '사다리 안팎 뛰기', '앉았다 일어서면서 점프하기', '무릎 높여 제자리 달리기', '파워클린', '팔굽혀펴기'], ['탄력밴드 어깨 가쪽 돌림', '서서 탄력밴드 당겨내리기/올리기', '엎드려 버티기', '누워서 다리 들어올리기', '누워서 하늘 자전거', '누워서 엉덩이 들어올리기', '서서 뒤꿈치 들기', '의자 앞에서 앉았다 일어서기', '달리기', '자전거타기', '걷기', '줄넘기', '계단 올라갔다 내려오기', '수영', '스텝퍼 뛰어서 오르내리기', '스텝퍼 뛰어서 넘어가기', '사다리 안팎 뛰기', '앉았다 일어서면서 점프하기', '무릎 높여 제자리 달리기', '버피운동'], ['달리기'], ['목 스트레칭', '등/어깨 뒤쪽 스트레칭', '가슴/어깨 앞쪽 스트레칭', '아래 팔 스트레칭', '허리 스트레칭', '배 스트레칭', '옆구리 스트레칭', '엉덩이 스트레칭', '넙다리 스트레칭', '넙다리 스트레칭', '넙다리 스트레칭', '좌식생활자를 위한 동적 루틴 스트레칭 '], ['앉았다 일어서기', '한발 앞으로 내밀고 앉았다 일어서기', '넙다리 스트레칭', '하지 루틴 스트레칭', '상지 루틴 스트레칭', '좌식생활자를 위한 동적 루틴 스트레칭 '], ['대퇴이두근 스트레칭', '요통을 위한 스트레칭', '몸통 앞으로 굽혀 걷기', '앉아서 상체 앞 옆으로 기울기', '앉았다 일어서기', '바벨들어올리기', '누워서 가슴 밀기', '서서 바벨 위로 밀기', '앉아서 당겨 내리기', '한발 앞으로 내밀고 앉았다 일어서기', '달리기', '자전거타기', '계단 올라갔다 내려오기', '계단 뛰기', '수영', '버피운동', '목 스트레칭', '전신 루틴 스트레칭'], ['탄력밴드 어깨 가쪽 돌림', '서서 탄력밴드 당겨내리기/올리기', '엎드려 버티기', '누워서 다리 들어올리기', '누워서 하늘 자전거', '누워서 엉덩이 들어올리기', '서서 뒤꿈치 들기', '의자 앞에서 앉았다 일어서기', '달리기', '자전거타기', '걷기', '줄넘기', '계단 올라갔다 내려오기', '수영', '스텝퍼 뛰어서 오르내리기', '스텝퍼 뛰어서 넘어가기', '사다리 안팎 뛰기', '앉았다 일어서면서 점프하기', '무릎 높여 제자리 달리기', '버피운동'], ['달리기', '무릎 높여 제자리 달리기'], ['네발기기 자세로 팔 다리 들기', '서서 다리 뒤로 차기', '엎드려 버티기', '엎드려서 팔 다리 들기', '누워서 엉덩이 들어올리기', '윗몸올리기', '몸통 옆으로 굽히기', '자전거타기', '걷기'], ['걷기', '자전거타기', '걷기', '달리기'], ['윗몸올리기', '누워서 엉덩이 들어올리기', '엎드려 버티기', '서서 상체 일으키기', '앉아서 밀기', '앉아서 당겨 내리기', '앉아서 다리 밀기', '앉아서 다리 펴기', '자전거타기', '걷기'], ['앉았다 일어서기', '한발 앞으로 내밀고 앉았다 일어서기', '앉아서 다리 펴기', '앉아서 다리 밀기', '누워서 엉덩이 들어올리기', '윗몸올리기', '엎드려 버티기', '옆으로 누워 버티기', '앉아서 밀기', '앉아서 위로 밀기', '탄력밴드 어깨 가쪽 돌림', '뒤로 팔굽혀펴기'], ['전신 루틴 스트레칭'], ['밴드 잡고 몸통 옆으로 굽히기', '몸통 들어올리기', '팔굽혀 펴기', '바로서서 상체 숙이기', '누워 다리 들어올리기', '의자에 앉아 물병 들고 몸통 돌리기', '네발기기 자세로 팔 다리 들기', '엎드려서 팔 다리 들기'], ['앉았다 일어서기', '한발 앞으로 내밀고 앉았다 일어서기', '누워서 다리 들어올리기', '팔굽혀펴기', '팔꿈치 굽히기'], ['목 스트레칭', '등/어깨 뒤쪽 스트레칭', '가슴/어깨 앞쪽 스트레칭', '아래 팔 스트레칭', '허리 스트레칭', '배 스트레칭', '옆구리 스트레칭', '엉덩이 스트레칭', '넙다리 스트레칭', '넙다리 스트레칭', '넙다리 스트레칭', '좌식생활자를 위한 동적 루틴 스트레칭 '], ['달리기', '계단 올라갔다 내려오기', '자전거타기', '걷기', '앉았다 일어서기', '팔굽혀펴기', '윗몸올리기', '누워서 엉덩이 들어올리기', '네발기기 자세로 팔 다리 들기', '엎드려 버티기', '누워서 수직으로 다리 들어올리기', '누워서 다리 좌우로 움직이기'], ['엎드려서 팔 다리 들기', '네발기기 자세로 팔 다리 들기', '누워서 수직으로 다리 들어올리기', '누워서 팔 다리 동시에 들어올리기', '엎드려 버티기', '윗몸올리기', '달리기', '자전거타기', '걷기', '수영'], ['대퇴이두근 스트레칭', '요통을 위한 스트레칭', '몸통 앞으로 굽혀 걷기', '앉아서 상체 앞 옆으로 기울기', '앉았다 일어서기', '바벨들어올리기', '누워서 가슴 밀기', '서서 바벨 위로 밀기', '앉아서 당겨 내리기', '한발 앞으로 내밀고 앉았다 일어서기', '달리기', '자전거타기', '계단 올라갔다 내려오기', '계단 뛰기', '수영', '버피운동', '목 스트레칭', '전신 루틴 스트레칭'], ['양팔 벌려 전신 비틀기', '회전근개 스트레칭', '어깨 양 옆으로 돌리기'], ['스텝퍼 옆으로 뛰어넘기', '스텝퍼 올라가서 점프하여 착지하기', '뛰어 내렸다가 바로 점프하기', '사다리 안팎 뛰기', '앉았다 일어서면서 점프하기', '무릎 높여 제자리 달리기', '파워클린', '팔굽혀펴기'], ['목 스트레칭', '등/어깨 뒤쪽 스트레칭', '가슴/어깨 앞쪽 스트레칭', '아래 팔 스트레칭', '허리 스트레칭', '배 스트레칭', '옆구리 스트레칭', '엉덩이 스트레칭', '넙다리 스트레칭', '넙다리 스트레칭', '넙다리 스트레칭', '좌식생활자를 위한 동적 루틴 스트레칭 '], ['앉아서 다리 밀기', '앉아서 다리 펴기', '앉아서 다리 굽히기', '앉아서 당겨 내리기', '앉아서 뒤로 당기기', '앉아서 밀기', '앉아서 위로 밀기', '윗몸올리기', '누워서 다리 들어올리기', '몸통 들어올리기'], ['걷기', '줄넘기', '계단 올라갔다 내려오기', '계단 뛰기', '수영'], ['윗몸올리기', '누워서 엉덩이 들어올리기', '엎드려 버티기', '서서 상체 일으키기', '앉아서 밀기', '앉아서 당겨 내리기', '앉아서 다리 밀기', '앉아서 다리 펴기', '자전거타기', '걷기'], ['계단 올라갔다 내려오기', '수영', '앉아서 다리 밀기', '앉아서 밀기', '바벨들어올리기', '앉았다 일어서기', '앉았다 일어서기', '팔굽혀펴기'], ['윗몸올리기', '누워서 엉덩이 들어올리기', '엎드려 버티기', '서서 상체 일으키기', '앉아서 밀기', '앉아서 당겨 내리기', '앉아서 다리 밀기', '앉아서 다리 펴기', '자전거타기', '걷기'], ['앉았다 일어서기', '한발 앞으로 내밀고 앉았다 일어서기', '넙다리 스트레칭', '하지 루틴 스트레칭', '상지 루틴 스트레칭', '좌식생활자를 위한 동적 루틴 스트레칭 '], ['유산소 운동 전 동적 루틴 스트레칭', '좌식생활자를 위한 동적 루틴 스트레칭', '짐볼을 이용한 동적 루틴 스트레칭', '작은 공을 이용한 동적 루틴 스트레칭 '], ['앉아서 다리 밀기', '앉아서 다리 펴기', '앉아서 다리 모으기', '앉아서 당겨 내리기', '앉아서 뒤로 당기기', '몸통 들어올리기', '앉아서 밀기', '앉아서 위로 밀기', '앉았다 일어서기', '몸통 옆으로 굽히기'], ['자전거타기', '걷기', '계단 올라갔다 내려오기', '앉았다 일어서기', '서서 뒤꿈치 들기'], ['몸통 들어올리기', '소파를 이용한 윗몸올리기', '엎드려 버티기', '옆으로 누워 버티기', '네발기기 자세로 팔 다리 들기', '엎드려서 팔 다리 들기'], ['자전거타기', '줄넘기', '계단 올라갔다 내려오기', '수영', '아쿠아로빅', '스텝박스'], ['자전거타기', '줄넘기', '계단 올라갔다 내려오기', '수영', '아쿠아로빅', '스텝박스'], ['앉아서 다리 밀기', '앉아서 다리 펴기', '앉아서 다리 굽히기', '앉아서 당겨 내리기', '앉아서 뒤로 당기기', '앉아서 밀기', '앉아서 위로 밀기', '윗몸올리기', '누워서 다리 들어올리기', '몸통 들어올리기'], ['탄력밴드 어깨 가쪽 돌림', '서서 탄력밴드 당겨내리기/올리기', '엎드려 버티기', '누워서 다리 들어올리기', '누워서 하늘 자전거', '누워서 엉덩이 들어올리기', '서서 뒤꿈치 들기', '의자 앞에서 앉았다 일어서기', '달리기', '자전거타기', '걷기', '줄넘기', '계단 올라갔다 내려오기', '수영', '스텝퍼 뛰어서 오르내리기', '스텝퍼 뛰어서 넘어가기', '사다리 안팎 뛰기', '앉았다 일어서면서 점프하기', '무릎 높여 제자리 달리기', '버피운동'], ['달리기', '자전거타기', '줄넘기', '계단 올라갔다 내려오기'], ['몸통 들어올리기', '소파를 이용한 윗몸올리기', '엎드려 버티기', '옆으로 누워 버티기', '네발기기 자세로 팔 다리 들기', '엎드려서 팔 다리 들기'], ['탄력밴드 어깨 가쪽 돌림', '서서 탄력밴드 당겨내리기/올리기', '엎드려 버티기', '누워서 다리 들어올리기', '누워서 하늘 자전거', '누워서 엉덩이 들어올리기', '서서 뒤꿈치 들기', '의자 앞에서 앉았다 일어서기', '달리기', '자전거타기', '걷기', '줄넘기', '계단 올라갔다 내려오기', '수영', '스텝퍼 뛰어서 오르내리기', '스텝퍼 뛰어서 넘어가기', '사다리 안팎 뛰기', '앉았다 일어서면서 점프하기', '무릎 높여 제자리 달리기', '버피운동'], ['윗몸 일으키기', '앉았다 일어서기', '앞굽이 앉았다 일어서기', '버피운동', '크런치 사이클'], ['앉았다 일어서기', '앞굽이 앉았다 일어서기', '연속 사이드 스쿼드', '팔굽혀 펴기', '뒤로 팔굽혀펴기', '서서 상체 일으키기', '윗몸올리기', '누워서 다리 들어올리기', '누워서 엉덩이 들어올리기'], ['달리기', '자전거타기', '줄넘기', '계단 올라갔다 내려오기'], ['계단 뛰기', '달리기', '스텝박스', '박스 운동 루틴프로그램', '사다리 운동 루틴프로그램', '콘운동 루틴프로그램', '사이드 스텝 점프하기', '한발로 점프하기'], ['앉았다 일어서기', '한발 앞으로 내밀고 앉았다 일어서기', '누워서 덤벨 들어올리기', '윗몸올리기', '턱걸이', '바벨 끌어당기기'], ['양팔 벌려 전신 비틀기', '회전근개 스트레칭', '어깨 양 옆으로 돌리기'], ['몸통 들어올리기', '소파를 이용한 윗몸올리기', '엎드려 버티기', '옆으로 누워 버티기', '네발기기 자세로 팔 다리 들기', '엎드려서 팔 다리 들기'], ['탄력밴드 어깨 가쪽 돌림', '서서 탄력밴드 당겨내리기/올리기', '엎드려 버티기', '누워서 다리 들어올리기', '누워서 하늘 자전거', '누워서 엉덩이 들어올리기', '서서 뒤꿈치 들기', '의자 앞에서 앉았다 일어서기', '달리기', '자전거타기', '걷기', '줄넘기', '계단 올라갔다 내려오기', '수영', '스텝퍼 뛰어서 오르내리기', '스텝퍼 뛰어서 넘어가기', '사다리 안팎 뛰기', '앉았다 일어서면서 점프하기', '무릎 높여 제자리 달리기', '버피운동'], ['누워서 전신 뻗기', '깍지 끼고 상체 숙이기', '목 스트레칭', '등/어깨 뒤쪽 스트레칭', '어깨 뒤쪽 스트레칭', '아래 팔 스트레칭', '허리 스트레칭', '양팔 벌려 전신 비틀기', '회전근개 스트레칭', '어깨 스트레칭'], ['맨몸운동 루틴프로그램', '팔벌려뛰기', '사다리 옆으로 발 옮기기', '옆으로 펀치하기', '스텝퍼 오르내리기', '무릎 높여 제자리 달리기'], ['앉았다 일어서기', '앞굽이 앉았다 일어서기', '연속 사이드 스쿼드', '팔굽혀 펴기', '뒤로 팔굽혀펴기', '서서 상체 일으키기', '윗몸올리기', '누워서 다리 들어올리기', '누워서 엉덩이 들어올리기'], ['엉덩이 스트레칭', '엉덩이 스트레칭', '몸통 앞으로 굽혀 걷기', '한쪽 다리펴고 상체 숙이기', '넙다리 스트레칭', '넙다리 스트레칭'], ['윗몸올리기', '한발 앞으로 내밀고 앉았다 일어서기', '버피운동', '팔굽혀펴기'], ['맨몸운동 루틴프로그램'], ['앉아서 다리 밀기', '앉아서 다리 펴기', '앉아서 다리 모으기', '앉았다 일어서기', '한발 앞으로 내밀고 앉았다 일어서기', '의자에 앉아 다리 뻗어 올리기'], ['달리기', '자전거타기', '줄넘기', '계단 올라갔다 내려오기'], ['배 스트레칭', '허리 스트레칭'], ['계단 올라갔다 내려오기', '수영'], ['줄넘기', '계단 올라갔다 내려오기', '계단 뛰기'], ['줄넘기', '계단 올라갔다 내려오기'], ['달리기', '무릎 높여 제자리 달리기'], ['대퇴이두근 스트레칭', '요통을 위한 스트레칭', '몸통 앞으로 굽혀 걷기', '앉아서 상체 앞 옆으로 기울기', '앉았다 일어서기', '바벨들어올리기', '누워서 가슴 밀기', '서서 바벨 위로 밀기', '앉아서 당겨 내리기', '한발 앞으로 내밀고 앉았다 일어서기', '달리기', '자전거타기', '계단 올라갔다 내려오기', '계단 뛰기', '수영', '버피운동', '목 스트레칭', '전신 루틴 스트레칭'], ['줄넘기', '계단 올라갔다 내려오기', '계단 뛰기'], ['달리기', '자전거타기', '자전거타기', '걷기', '줄넘기', '계단 올라갔다 내려오기', '계단 뛰기', '수영'], ['서서 상체 일으키기', '앉았다 일어서기', '윗몸올리기', '옆으로 누워 버티기', '누워서 엉덩이 들어올리기', '앉아서 팔꿈치 굽히기/펴기', '달리기', '자전거타기', '걷기', '줄넘기', '계단 올라갔다 내려오기', '수영', '스텝퍼 뛰어서 오르내리기', '스텝퍼 뛰어서 넘어가기', '사다리 안팎 뛰기', '앉았다 일어서면서 점프하기', '무릎 높여 제자리 달리기', '버피운동'], ['달리기', '계단 올라갔다 내려오기', '자전거타기', '걷기'], ['허리 굽혀 팔 뒤로 들기', '물병 옆으로 들어올리기', '네발기기 자세로 팔 다리 들기', '누워서 엉덩이 들어올리기', '자전거타기', '걷기'], ['허리 굽혀 팔 뒤로 들기', '물병 옆으로 들어올리기', '네발기기 자세로 팔 다리 들기', '누워서 엉덩이 들어올리기', '자전거타기', '걷기'], ['달리기', '자전거타기', '줄넘기', '계단 올라갔다 내려오기'], ['스텝퍼 옆으로 뛰어넘기', '스텝퍼 올라가서 점프하여 착지하기', '뛰어 내렸다가 바로 점프하기', '사다리 안팎 뛰기', '앉았다 일어서면서 점프하기', '무릎 높여 제자리 달리기', '파워클린', '팔굽혀펴기'], ['좌식생활자를 위한 동적 루틴 스트레칭', '짐볼을 이용한 동적 루틴 스트레칭', '작은 공을 이용한 동적 루틴 스트레칭', '하지 루틴 스트레칭', '하지 루틴 스트레칭', '상지 루틴 스트레칭'], ['허리 굽혀 팔 뒤로 들기', '물병 옆으로 들어올리기', '네발기기 자세로 팔 다리 들기', '누워서 엉덩이 들어올리기', '자전거타기', '걷기'], ['몸통 들어올리기', '소파를 이용한 윗몸올리기', '엎드려 버티기', '옆으로 누워 버티기', '네발기기 자세로 팔 다리 들기', '엎드려서 팔 다리 들기'], ['전완대고 버티기', '윗몸 일으키기'], ['의자 앞에서 앉았다 일어서기', '엎드려 버티기', '누워서 엉덩이 들어올리기', '네발기기 자세로 팔 다리 들기', '엎드려서 팔 다리 들기', '누워서 배가로근 수축 '], ['누워서 팔 밀기', '앉아서 가슴 모으기', '앉아서 양팔 당기기', '앉아서 당겨 내리기', '몸통 옆으로 굽히기', '앉아서 몸통 움츠리기'], ['스텝박스 오르내리기', '달리기', '자전거타기', '줄넘기', '계단 올라갔다 내려오기', '수영', '아쿠아로빅', '물속에서 걷기', '버피운동'], ['자전거타기', '걷기', '계단 올라갔다 내려오기', '앉았다 일어서기', '서서 뒤꿈치 들기'], ['앉았다 일어서기', '한발 앞으로 내밀고 앉았다 일어서기', '턱걸이', '점프 팔굽혀펴기', '소파를 이용한 윗몸올리기', '엎드려 버티기'], ['달리기', '자전거타기', '줄넘기', '계단 올라갔다 내려오기', '계단 뛰기', '수영', '팔벌려뛰기', '버피운동'], ['버피운동', '무릎 높여 제자리 달리기', '앉아서 다리 펴기', '앉아서 다리 굽히기', '앉아서 다리 모으기', '앉아서 다리 벌리기', '고정한 상태에서 덤벨 들고 팔꿈치 굽히기', '앉아서 팔꿈치 굽히기/펴기', '서서 탄력밴드 당겨내리기/올리기', '물병 옆으로 들어올리기'], ['달리기', '무릎 높여 제자리 달리기'], ['앉았다 일어서기', '한발 앞으로 내밀고 앉았다 일어서기', '서서 다리로 탄력밴드 당기기', '서서 다리로 탄력밴드 당기기', '서서 뒤꿈치 들기', '누워서 엉덩이 들어올리기', '팔굽혀 펴기', '뒤로 팔굽혀펴기', '앉아서 팔꿈치 굽히기/펴기', '엎드려 버티기', '옆으로 누워 버티기'], ['앉았다 일어서기', '한발 앞으로 내밀고 앉았다 일어서기', '누워서 다리 들어올리기', '팔굽혀펴기', '팔꿈치 굽히기'], ['윗몸올리기', '누워서 엉덩이 들어올리기', '엎드려 버티기', '서서 상체 일으키기', '앉아서 밀기', '앉아서 당겨 내리기', '앉아서 다리 밀기', '앉아서 다리 펴기', '자전거타기', '걷기'], ['앉아서 위로 밀기', '턱걸이', '바벨 끌어당기기', '고정한 상태에서 덤벨 들고 팔꿈치 굽히기', '앉아서 다리 밀기', '앉아서 다리 펴기', '앉아서 다리 굽히기', '원판던지기'], ['앉았다 일어서기', '한발 앞으로 내밀고 앉았다 일어서기', '누워서 덤벨 들어올리기', '윗몸올리기', '턱걸이', '바벨 끌어당기기'], ['앉았다 일어서기', '한발 앞으로 내밀고 앉았다 일어서기', '윗몸올리기', '엎드려 버티기', '옆으로 누워 버티기', '누워서 엉덩이 들어올리기'], ['팔굽혀펴기', '허리 굽혀 팔 뒤로 들기', '앉았다 일어서기', '달리기', '계단 올라갔다 내려오기'], ['자전거타기', '물누르기/올리기'], ['자전거타기', '줄넘기', '계단 올라갔다 내려오기', '수영', '아쿠아로빅', '스텝박스'], ['자전거타기', '물누르기/올리기'], ['달리기', '계단 올라갔다 내려오기', '자전거타기', '걷기'], ['맨몸운동 루틴프로그램'], ['달리기', '무릎 높여 제자리 달리기'], ['전완대고 버티기', '윗몸 일으키기'], ['걷기', '계단 올라갔다 내려오기', '자전거타기', '윗몸올리기 '], ['달리기', '무릎 높여 제자리 달리기'], ['걷기', '계단 올라갔다 내려오기', '자전거타기'], ['앉아서 다리 밀기', '앉아서 다리 펴기', '앉아서 다리 모으기', '앉아서 당겨 내리기', '앉아서 뒤로 당기기', '몸통 들어올리기', '앉아서 밀기', '앉아서 위로 밀기', '앉았다 일어서기', '몸통 옆으로 굽히기'], ['앉았다 일어서기', '엎드려 버티기', '팔굽혀펴기'], ['앉았다 일어서기', '한발 앞으로 내밀고 앉았다 일어서기', '누워서 덤벨 들어올리기', '윗몸올리기', '턱걸이', '바벨 끌어당기기'], ['엉덩이 스트레칭', '엉덩이 스트레칭', '몸통 앞으로 굽혀 걷기', '한쪽 다리펴고 상체 숙이기', '넙다리 스트레칭', '넙다리 스트레칭'], ['몸통 들어올리기', '소파를 이용한 윗몸올리기', '엎드려 버티기', '옆으로 누워 버티기', '네발기기 자세로 팔 다리 들기', '엎드려서 팔 다리 들기'], ['팔굽혀펴기', '허리 굽혀 팔 뒤로 들기', '앉았다 일어서기', '달리기', '계단 올라갔다 내려오기'], ['달리기', '계단 올라갔다 내려오기'], ['허리 스트레칭', '배 스트레칭', '옆구리 스트레칭', '엉덩이 스트레칭'], ['앉았다 일어서기', '한발 앞으로 내밀고 앉았다 일어서기', '누워서 덤벨 들어올리기', '윗몸올리기', '턱걸이', '바벨 끌어당기기'], ['앉았다 일어서기', '한발 앞으로 내밀고 앉았다 일어서기', '턱걸이', '점프 팔굽혀펴기', '소파를 이용한 윗몸올리기', '엎드려 버티기'], ['윗몸올리기', '누워서 엉덩이 들어올리기', '엎드려 버티기', '서서 상체 일으키기', '앉아서 밀기', '앉아서 당겨 내리기', '앉아서 다리 밀기', '앉아서 다리 펴기', '자전거타기', '걷기'], ['달리기', '수영', '줄넘기', '계단 올라갔다 내려오기', '계단 뛰기', '앉았다 일어서기', '의자 앞에서 앉았다 일어서기', '윗몸올리기', '옆으로 누워 버티기', '누워서 다리 들어올리기', '누워서 수직으로 다리 들어올리기 '], ['자전거타기', '걷기', '계단 올라갔다 내려오기', '앉았다 일어서기', '서서 뒤꿈치 들기'], ['몸통 들어올리기', '소파를 이용한 윗몸올리기', '엎드려 버티기', '옆으로 누워 버티기', '네발기기 자세로 팔 다리 들기', '엎드려서 팔 다리 들기'], ['윗몸올리기', '누워서 엉덩이 들어올리기', '엎드려 버티기', '서서 상체 일으키기', '앉아서 밀기', '앉아서 당겨 내리기', '앉아서 다리 밀기', '앉아서 다리 펴기', '자전거타기', '걷기'], ['앉았다 일어서기', '한발 앞으로 내밀고 앉았다 일어서기', '넙다리 스트레칭', '하지 루틴 스트레칭', '상지 루틴 스트레칭', '좌식생활자를 위한 동적 루틴 스트레칭 '], ['스텝박스 오르내리기', '달리기', '자전거타기', '줄넘기', '계단 올라갔다 내려오기', '수영', '아쿠아로빅', '물속에서 걷기', '버피운동'], ['자전거타기', '계단 올라갔다 내려오기', '수영', '앉았다 일어서기', '한발 앞으로 내밀고 앉았다 일어서기', '윗몸올리기', '엎드려 버티기', '옆으로 누워 버티기', '누워서 엉덩이 들어올리기'], ['윗몸올리기', '누워서 엉덩이 들어올리기', '엎드려 버티기', '서서 상체 일으키기', '앉아서 밀기', '앉아서 당겨 내리기', '앉아서 다리 밀기', '앉아서 다리 펴기', '자전거타기', '걷기'], ['앉아서 위로 밀기', '턱걸이', '바벨 끌어당기기', '고정한 상태에서 덤벨 들고 팔꿈치 굽히기', '앉아서 다리 밀기', '앉아서 다리 펴기', '앉아서 다리 굽히기', '원판던지기'], ['좌식생활자를 위한 동적 루틴 스트레칭', '짐볼을 이용한 동적 루틴 스트레칭', '작은 공을 이용한 동적 루틴 스트레칭', '하지 루틴 스트레칭', '하지 루틴 스트레칭', '상지 루틴 스트레칭'], ['엉덩이 스트레칭', '엉덩이 스트레칭', '몸통 앞으로 굽혀 걷기', '한쪽 다리펴고 상체 숙이기', '넙다리 스트레칭', '넙다리 스트레칭'], ['엎드려서 팔 다리 들기', '네발기기 자세로 팔 다리 들기', '누워서 수직으로 다리 들어올리기', '누워서 팔 다리 동시에 들어올리기', '엎드려 버티기', '윗몸올리기', '달리기', '자전거타기', '걷기', '수영'], ['자전거타기', '걷기', '계단 올라갔다 내려오기', '앉았다 일어서기', '서서 뒤꿈치 들기'], ['스텝박스 오르내리기', '달리기', '자전거타기', '줄넘기', '계단 올라갔다 내려오기', '수영', '아쿠아로빅', '물속에서 걷기', '버피운동'], ['달리기', '무릎 높여 제자리 달리기'], ['서서 상체 일으키기', '앉았다 일어서기', '윗몸올리기', '옆으로 누워 버티기', '누워서 엉덩이 들어올리기', '앉아서 팔꿈치 굽히기/펴기', '달리기', '자전거타기', '걷기', '줄넘기', '계단 올라갔다 내려오기', '수영', '스텝퍼 뛰어서 오르내리기', '스텝퍼 뛰어서 넘어가기', '사다리 안팎 뛰기', '앉았다 일어서면서 점프하기', '무릎 높여 제자리 달리기', '버피운동'], ['엎드려 버티기', '옆으로 누워 버티기'], ['양팔 크게 벌리기', '허리 굽혀 덤벨 들기', '서서 바벨 위로 밀기', '앉았다 일어서기', '한발 앞으로 내밀고 앉았다 일어서기'], ['윗몸올리기', '누워서 엉덩이 들어올리기', '엎드려 버티기', '서서 상체 일으키기', '앉아서 밀기', '앉아서 당겨 내리기', '앉아서 다리 밀기', '앉아서 다리 펴기', '자전거타기', '걷기'], ['서서 상체 일으키기', '앉았다 일어서기', '소파를 이용한 윗몸올리기', '엎드려 버티기', '네발기기 자세로 팔 다리 들기', '서서 다리 뒤로 차기'], ['서서 상체 일으키기', '앉았다 일어서기', '윗몸올리기', '옆으로 누워 버티기', '누워서 엉덩이 들어올리기', '앉아서 팔꿈치 굽히기/펴기', '달리기', '자전거타기', '걷기', '줄넘기', '계단 올라갔다 내려오기', '수영', '스텝퍼 뛰어서 오르내리기', '스텝퍼 뛰어서 넘어가기', '사다리 안팎 뛰기', '앉았다 일어서면서 점프하기', '무릎 높여 제자리 달리기', '버피운동'], ['걷기', '수영', '스텝박스', '아쿠아로빅 운동 프로그램 루틴', '걷기', '자전거타기'], ['윗몸올리기', '누워서 엉덩이 들어올리기', '엎드려 버티기', '서서 상체 일으키기', '앉아서 밀기', '앉아서 당겨 내리기', '앉아서 다리 밀기', '앉아서 다리 펴기', '자전거타기', '걷기'], ['달리기', '무릎 높여 제자리 달리기'], ['달리기', '자전거타기', '자전거타기', '줄넘기', '계단 올라갔다 내려오기'], ['앉았다 일어서기', '한발 앞으로 내밀고 앉았다 일어서기', '턱걸이', '점프 팔굽혀펴기', '소파를 이용한 윗몸올리기', '엎드려 버티기'], ['엎드려서 팔 다리 들기', '윗몸올리기', '소파를 이용한 윗몸올리기', '엎드려 버티기', '앉았다 일어서기', '한발 앞으로 내밀고 앉았다 일어서기'], ['스텝퍼 뛰어서 오르내리기', '앉아서 위로 밀기', '바벨 끌어당기기', '앉았다 일어서기', '앉아서 다리 펴기', '앉아서 다리 굽히기'], ['윗몸 일으키기', '앉았다 일어서기', '앞굽이 앉았다 일어서기', '버피운동', '크런치 사이클'], ['걷기', '줄넘기', '계단 올라갔다 내려오기', '계단 뛰기', '수영'], ['버피운동', '앉았다 일어서면서 점프하기', '앉았다 일어서기', '한발 앞으로 내밀고 앉았다 일어서기', '팔굽혀펴기', '앉아서 당겨 내리기', '원판던지기', '윗몸 말아 올리기', '네발기기 자세에서 다리 위로 뻗어올리기'], ['윗몸올리기', '한발 앞으로 내밀고 앉았다 일어서기', '버피운동', '팔굽혀펴기'], ['목 스트레칭', '등/어깨 뒤쪽 스트레칭', '가슴/어깨 앞쪽 스트레칭', '아래 팔 스트레칭', '허리 스트레칭', '배 스트레칭', '옆구리 스트레칭', '엉덩이 스트레칭', '넙다리 스트레칭', '넙다리 스트레칭', '넙다리 스트레칭', '좌식생활자를 위한 동적 루틴 스트레칭 '], ['계단 뛰기', '달리기', '스텝박스', '박스 운동 루틴프로그램', '사다리 운동 루틴프로그램', '콘운동 루틴프로그램', '사이드 스텝 점프하기', '한발로 점프하기'], ['대퇴이두근 스트레칭', '요통을 위한 스트레칭', '몸통 앞으로 굽혀 걷기', '앉아서 상체 앞 옆으로 기울기', '앉았다 일어서기', '바벨들어올리기', '누워서 가슴 밀기', '서서 바벨 위로 밀기', '앉아서 당겨 내리기', '한발 앞으로 내밀고 앉았다 일어서기', '달리기', '자전거타기', '계단 올라갔다 내려오기', '계단 뛰기', '수영', '버피운동', '목 스트레칭', '전신 루틴 스트레칭'], ['앉았다 일어서기', '팔굽혀펴기', '엎드려 버티기', '서서 상체 일으키기'], ['달리기', '계단 올라갔다 내려오기', '자전거타기', '걷기'], ['자전거타기', '계단 올라갔다 내려오기', '수영', '앉았다 일어서기', '한발 앞으로 내밀고 앉았다 일어서기', '윗몸올리기', '엎드려 버티기', '옆으로 누워 버티기', '누워서 엉덩이 들어올리기'], ['팔굽혀펴기', '허리 굽혀 팔 뒤로 들기', '앉았다 일어서기', '달리기', '계단 올라갔다 내려오기'], ['앉아서 당겨 내리기', '앉아서 뒤로 당기기', '앉아서 밀기', '앉아서 모으기', '한발 앞으로 내밀고 앉았다 일어서기', '윗몸올리기', '엎드려 버티기', '누워서 다리 들어올리기', '앉았다 일어서기', '의자에 앉아 다리 뻗어 올리기', '앉아서 엉덩관절 굽히기'], ['윗몸올리기', '누워서 엉덩이 들어올리기', '엎드려 버티기', '서서 상체 일으키기', '앉아서 밀기', '앉아서 당겨 내리기', '앉아서 다리 밀기', '앉아서 다리 펴기', '자전거타기', '걷기'], ['앉아서 다리 펴기', '앉아서 다리 굽히기', '앉아서 당겨 내리기', '앉아서 밀기'], ['뒤로 팔굽혀펴기'], ['앉았다 일어서기', '의자 앞에서 앉았다 일어서기', '윗몸올리기', '엎드려 버티기', '옆으로 누워 버티기', '누워서 다리 들어올리기', '누워서 엉덩이 들어올리기', '네발기기 자세로 팔 다리 들기', '네발기기 자세에서 손바닥으로 바닥밀기', '팔굽혀펴기'], ['앉아서 다리 밀기', '앉아서 다리 펴기', '앉아서 다리 모으기', '앉아서 당겨 내리기', '앉아서 뒤로 당기기', '몸통 들어올리기', '앉아서 밀기', '앉아서 위로 밀기', '앉았다 일어서기', '몸통 옆으로 굽히기'], ['서서 상체 일으키기', '윗몸올리기', '소파를 이용한 윗몸올리기', '엎드려 버티기', '누워서 다리 들어올리기', '누워서 팔 다리 동시에 들어올리기', '누워서 수직으로 다리 들어올리기', '누워서 엉덩이 들어올리기', '엎드려서 팔 다리 들기', '앉았다 일어서기', '의자 앞에서 앉았다 일어서기', '한발 앞으로 내밀고 앉았다 일어서기', '의자에 한 다리 올리고 앉앗다 일어서기', '의자에 앉아 다리 뻗어 올리기', '서서 뒤꿈치 들기', '손목 펴기/굽히기', '뒤로 팔굽혀펴기', '허리 굽혀 팔 뒤로 들기', '물병 옆으로 들어올리기', '팔꿈치 굽히기'], ['전신 루틴 스트레칭', '유산소 운동 전 동적 루틴 스트레칭', '좌식생활자를 위한 동적 루틴 스트레칭', '짐볼을 이용한 동적 루틴 스트레칭'], ['버피운동', '무릎 높여 제자리 달리기', '앉아서 다리 펴기', '앉아서 다리 굽히기', '앉아서 다리 모으기', '앉아서 다리 벌리기', '고정한 상태에서 덤벨 들고 팔꿈치 굽히기', '앉아서 팔꿈치 굽히기/펴기', '서서 탄력밴드 당겨내리기/올리기', '물병 옆으로 들어올리기'], ['팔굽혀펴기', '뒤로 팔굽혀펴기', '허리 굽혀 팔 뒤로 들기', '물병 옆으로 들어올리기', '팔꿈치 굽히기', '턱걸이', '서서 상체 일으키기', '앉았다 일어서기', '의자에 앉아 다리 뻗어 올리기', '서서 다리 뒤로 차기', '서서 다리로 탄력밴드 당기기', '서서 뒤꿈치 들기', '짐볼 윗몸올리기', '소파를 이용한 윗몸올리기', '누워서 다리 들어올리기', '누워서 공들고 몸 기울이기'], ['윗몸올리기', '누워서 엉덩이 들어올리기', '엎드려 버티기', '서서 상체 일으키기', '앉아서 밀기', '앉아서 당겨 내리기', '앉아서 다리 밀기', '앉아서 다리 펴기', '자전거타기', '걷기'], ['탄력밴드 어깨 가쪽 돌림', '서서 탄력밴드 당겨내리기/올리기', '엎드려 버티기', '누워서 다리 들어올리기', '누워서 하늘 자전거', '누워서 엉덩이 들어올리기', '서서 뒤꿈치 들기', '의자 앞에서 앉았다 일어서기', '달리기', '자전거타기', '걷기', '줄넘기', '계단 올라갔다 내려오기', '수영', '스텝퍼 뛰어서 오르내리기', '스텝퍼 뛰어서 넘어가기', '사다리 안팎 뛰기', '앉았다 일어서면서 점프하기', '무릎 높여 제자리 달리기', '버피운동'], ['버피운동', '무릎 높여 제자리 달리기', '앉아서 다리 펴기', '앉아서 다리 굽히기', '앉아서 다리 모으기', '앉아서 다리 벌리기', '고정한 상태에서 덤벨 들고 팔꿈치 굽히기', '앉아서 팔꿈치 굽히기/펴기', '서서 탄력밴드 당겨내리기/올리기', '물병 옆으로 들어올리기'], ['대퇴이두근 스트레칭', '요통을 위한 스트레칭', '몸통 앞으로 굽혀 걷기', '앉아서 상체 앞 옆으로 기울기', '앉았다 일어서기', '바벨들어올리기', '누워서 가슴 밀기', '서서 바벨 위로 밀기', '앉아서 당겨 내리기', '한발 앞으로 내밀고 앉았다 일어서기', '달리기', '자전거타기', '계단 올라갔다 내려오기', '계단 뛰기', '수영', '버피운동', '목 스트레칭', '전신 루틴 스트레칭'], ['앉았다 일어서기', '한발 앞으로 내밀고 앉았다 일어서기', '앉아서 다리 펴기', '앉아서 다리 밀기', '누워서 엉덩이 들어올리기', '윗몸올리기', '엎드려 버티기', '옆으로 누워 버티기', '앉아서 밀기', '앉아서 위로 밀기', '탄력밴드 어깨 가쪽 돌림', '뒤로 팔굽혀펴기'], ['팔굽혀펴기', '엎드려서 팔 다리 들기', '몸통 들어올리기', '엎드려 버티기', '옆으로 누워 버티기', '누워서 배가로근 수축', '의자 앞에서 앉았다 일어서기', '한발 앞으로 내밀고 앉았다 일어서기'], ['양팔 크게 벌리기', '허리 굽혀 덤벨 들기', '서서 바벨 위로 밀기', '앉았다 일어서기', '한발 앞으로 내밀고 앉았다 일어서기'], ['자전거타기', '수영', '달리기', '앉았다 일어서기', '팔굽혀펴기', '윗몸올리기', '누워서 엉덩이 들어올리기', '엎드려 버티기', '엎드려서 팔 다리 들기'], ['버피운동', '앉았다 일어서기', '앉았다 일어서면서 점프하기', '맨몸운동 루틴프로그램', '전완대고 버티기', '팔다리 교차 버티기'], ['누워서 다리 들어올리기', '팔꿈치 굽히기', '서서 다리로 탄력밴드 당기기', '누워서 엉덩이 들어올리기', '팔굽혀펴기', '윗몸올리기', '한발 앞으로 내밀고 앉았다 일어서기', '서서 뒤꿈치 들기', '엎드려서 팔 다리 들기', '허리 굽혀 팔 뒤로 들기', '앉았다 일어서기', '물병 옆으로 들어올리기', '자전거타기', '걷기', '계단 올라갔다 내려오기', '수영'], ['앉았다 일어서기', '앞굽이 앉았다 일어서기', '연속 사이드 스쿼드', '팔굽혀 펴기', '뒤로 팔굽혀펴기', '서서 상체 일으키기', '윗몸올리기', '누워서 다리 들어올리기', '누워서 엉덩이 들어올리기'], ['팔굽혀펴기', '허리 굽혀 팔 뒤로 들기', '앉았다 일어서기', '달리기', '계단 올라갔다 내려오기', '고정한 상태에서 덤벨 들고 팔꿈치 굽히기', '허리 굽혀 덤벨 뒤로 들기'], ['배 스트레칭', '달리기'], ['달리기', '계단 올라갔다 내려오기', '자전거타기', '걷기'], ['몸통 들어올리기', '엎드려서 균형잡기', '윗몸 말아 올리기', '엎드려서 다리 차올리기', '엎드려 버티기', '옆으로 누워 버티기', '누워서 다리 들어올리기', '누워서 다리 좌우로 움직이기', '누워서 하늘 자전거', '누워서 엉덩이 들어올리기', '네발기기 자세로 팔 다리 들기', '엎드려서 팔 다리 들기', '네발기기 자세에서 다리 위로 뻗어올리기', '누워서 배가로근 수축', '누워서 배가로근 수축 '], ['스텝퍼 옆으로 뛰어넘기', '스텝퍼 올라가서 점프하여 착지하기', '뛰어 내렸다가 바로 점프하기', '사다리 안팎 뛰기', '앉았다 일어서면서 점프하기', '무릎 높여 제자리 달리기', '파워클린', '팔굽혀펴기'], ['스텝퍼 뛰어서 오르내리기', '스텝퍼 뛰어서 넘어가기', '스텝퍼 옆으로 뛰어넘기', '무릎 높여 제자리 달리기', '달리기', '옆구리늘리기'], ['자전거타기', '줄넘기', '계단 올라갔다 내려오기', '수영', '아쿠아로빅', '스텝박스'], ['자전거타기', '줄넘기', '계단 올라갔다 내려오기', '수영', '아쿠아로빅', '스텝박스'], ['팔굽혀펴기', '허리 굽혀 팔 뒤로 들기', '앉았다 일어서기', '달리기', '계단 올라갔다 내려오기'], ['엎드려서 팔 다리 들기', '네발기기 자세로 팔 다리 들기', '누워서 수직으로 다리 들어올리기', '누워서 팔 다리 동시에 들어올리기', '엎드려 버티기', '윗몸올리기', '달리기', '자전거타기', '걷기', '수영'], ['허리 스트레칭', '배 스트레칭', '엉덩이 스트레칭', '넙다리 스트레칭', '넙다리 스트레칭', '넙다리 스트레칭'], ['서서 상체 일으키기', '앉았다 일어서기', '소파를 이용한 윗몸올리기', '엎드려 버티기', '네발기기 자세로 팔 다리 들기', '서서 다리 뒤로 차기'], ['저항밴드 운동 루틴프로그램', '자전거타기', '걷기', '줄넘기', '수영'], ['앉았다 일어서기', '한발 앞으로 내밀고 앉았다 일어서기', '윗몸올리기', '엎드려 버티기', '옆으로 누워 버티기', '누워서 엉덩이 들어올리기'], ['윗몸올리기', '누워서 엉덩이 들어올리기', '엎드려 양팔 및 다리 들어올리기', '의자에 앉아 등 굽혔다 펴기', '의자 앞에서 앉았다 일어서기', '벽에서 팔굽혀 펴기', '서서 상체 일으키기', '몸통 들어올리기', '걷기', '자전거타기'], ['네발기기 자세로 팔 다리 들기', '서서 다리 뒤로 차기', '엎드려 버티기', '엎드려서 팔 다리 들기', '누워서 엉덩이 들어올리기', '윗몸올리기', '몸통 옆으로 굽히기', '자전거타기', '걷기'], ['하지 루틴 스트레칭', '하지 루틴 스트레칭', '수영', '달리기', '자전거타기', '스텝박스'], ['좌식생활자를 위한 동적 루틴 스트레칭', '짐볼을 이용한 동적 루틴 스트레칭', '작은 공을 이용한 동적 루틴 스트레칭', '하지 루틴 스트레칭', '하지 루틴 스트레칭', '상지 루틴 스트레칭'], ['버피운동', '무릎 높여 제자리 달리기', '앉아서 다리 펴기', '앉아서 다리 굽히기', '앉아서 다리 모으기', '앉아서 다리 벌리기', '고정한 상태에서 덤벨 들고 팔꿈치 굽히기', '앉아서 팔꿈치 굽히기/펴기', '서서 탄력밴드 당겨내리기/올리기', '물병 옆으로 들어올리기'], ['달리기', '무릎 높여 제자리 달리기'], ['앉았다 일어서기', '원판던지기', '한발 앞으로 내밀고 앉았다 일어서기', '몸통 들어올리기', '바벨들어올리기', '윗몸올리기', '엎드려 버티기', '옆으로 누워 버티기'], ['의자 앞에서 앉았다 일어서기', '엎드려 버티기', '누워서 엉덩이 들어올리기', '네발기기 자세로 팔 다리 들기', '엎드려서 팔 다리 들기', '누워서 배가로근 수축 '], ['목 스트레칭', '등/어깨 뒤쪽 스트레칭', '가슴/어깨 앞쪽 스트레칭', '아래 팔 스트레칭', '허리 스트레칭', '배 스트레칭', '옆구리 스트레칭', '엉덩이 스트레칭', '넙다리 스트레칭', '넙다리 스트레칭', '넙다리 스트레칭', '좌식생활자를 위한 동적 루틴 스트레칭 '], ['윗몸올리기', '누워서 엉덩이 들어올리기', '엎드려 버티기', '서서 상체 일으키기', '앉아서 밀기', '앉아서 당겨 내리기', '앉아서 다리 밀기', '앉아서 다리 펴기', '자전거타기', '걷기'], ['자전거타기', '걷기', '계단 올라갔다 내려오기', '앉았다 일어서기', '서서 뒤꿈치 들기'], ['맨몸운동 루틴프로그램', '자전거타기', '걷기', '줄넘기', '수영'], ['밴드 잡고 몸통 옆으로 굽히기', '몸통 들어올리기', '팔굽혀 펴기', '바로서서 상체 숙이기', '누워 다리 들어올리기', '의자에 앉아 물병 들고 몸통 돌리기', '네발기기 자세로 팔 다리 들기', '엎드려서 팔 다리 들기'], ['계단 뛰기', '달리기', '스텝박스', '박스 운동 루틴프로그램', '사다리 운동 루틴프로그램', '콘운동 루틴프로그램', '사이드 스텝 점프하기', '한발로 점프하기'], ['앉아서 다리 밀기', '앉아서 다리 펴기', '앉아서 다리 모으기', '앉아서 당겨 내리기', '앉아서 뒤로 당기기', '몸통 들어올리기', '앉아서 밀기', '앉아서 위로 밀기', '앉았다 일어서기', '몸통 옆으로 굽히기']]\n"
          ]
        }
      ]
    },
    {
      "cell_type": "markdown",
      "source": [
        "# APRIOR "
      ],
      "metadata": {
        "id": "Zi2330YZyBhn"
      }
    },
    {
      "cell_type": "code",
      "source": [
        "def get_sparse_matrix(df):\n",
        "  te = TransactionEncoder()\n",
        "  te_ary = te.fit(df).transform(df)\n",
        "  sparse_matrix = pd.DataFrame(te_ary, columns=te.columns_) #위에서 나온걸 보기 좋게 데이터프레임으로 변경\n",
        "  return sparse_matrix"
      ],
      "metadata": {
        "id": "0nDDwTUAIawn"
      },
      "execution_count": 47,
      "outputs": []
    },
    {
      "cell_type": "code",
      "source": [
        "def get_freq_item(sparse_matrix, min_support): # 0.01\n",
        "  #print(\"시작\")\n",
        "  frequent_itemsets = apriori(sparse_matrix, min_support=min_support, use_colnames=True)\n",
        "  #print(\"완료\")\n",
        "  return frequent_itemsets"
      ],
      "metadata": {
        "id": "qeqCIguSI5Rs"
      },
      "execution_count": 48,
      "outputs": []
    },
    {
      "cell_type": "code",
      "source": [
        "def get_association_rules(frequent_itemsets, min_threshold): #0.8\n",
        "  association_rules_df = association_rules(frequent_itemsets, metric=\"confidence\", min_threshold=min_threshold)\n",
        "  return association_rules_df"
      ],
      "metadata": {
        "id": "TVZkjq50JICG"
      },
      "execution_count": 49,
      "outputs": []
    },
    {
      "cell_type": "code",
      "source": [
        "def get_apriori_result(result,min_support, min_confidence):\n",
        "  sparse_matrix = get_sparse_matrix(result)\n",
        "  frequent_itemsets = get_freq_item(sparse_matrix, min_support)\n",
        "  association_rules_df = get_association_rules(frequent_itemsets,min_confidence)\n",
        "  return association_rules_df"
      ],
      "metadata": {
        "id": "4U_qOXvbJgzY"
      },
      "execution_count": 50,
      "outputs": []
    },
    {
      "cell_type": "code",
      "source": [
        "# consequents 1개인 거 -> 지지도, 신뢰도, lift 내림차순\n",
        "def get_sorted(ar_df):\n",
        "  ar_df_sorted = ar_df[ar_df[\"consequents\"].apply(lambda x : len(x) == 1)].sort_values(by=[\"support\",\"confidence\",\"lift\"], ascending=False)\n",
        "  ar_df_sorted[\"consequents\"] = ar_df_sorted[\"consequents\"].apply(lambda x: ', '.join(list(x))).astype(\"unicode\").apply(lambda x: x.split(','))\n",
        "  ar_df_sorted[\"antecedents\"] = ar_df_sorted[\"antecedents\"].apply(lambda x: ', '.join(list(x))).astype(\"unicode\").apply(lambda x: x.split(','))\n",
        "  return ar_df_sorted"
      ],
      "metadata": {
        "id": "Y5fb6a2GKlKV"
      },
      "execution_count": 51,
      "outputs": []
    },
    {
      "cell_type": "code",
      "source": [
        "def create_top5_ex(ar_df_sorted):\n",
        "  total = []\n",
        "  for idx in ar_df_sorted.index:\n",
        "    temp = ar_df_sorted.loc[idx,'consequents']+ar_df_sorted.loc[idx,'antecedents'] \n",
        "    for ex  in temp:\n",
        "      if ex not in total:\n",
        "        total.append(ex)\n",
        "  length = 5 if len(total) else len(total) \n",
        "  return total[:length]"
      ],
      "metadata": {
        "id": "i3bIjHo8Kc_I"
      },
      "execution_count": 52,
      "outputs": []
    },
    {
      "cell_type": "code",
      "source": [
        "def get_top5_ex(ar_df):\n",
        "  ar_df_sorted = get_sorted(ar_df)\n",
        "  ex_rec_list = create_top5_ex(ar_df_sorted)\n",
        "  return ex_rec_list"
      ],
      "metadata": {
        "id": "uBAqOeq38KcY"
      },
      "execution_count": 53,
      "outputs": []
    },
    {
      "cell_type": "code",
      "source": [
        "ar_df = get_apriori_result(top_10percent_ex_list,min_support = 0.1, min_confidence=0.8)"
      ],
      "metadata": {
        "id": "ePOB0bSbKGOY",
        "colab": {
          "base_uri": "https://localhost:8080/"
        },
        "outputId": "7db1d661-2631-4859-d217-8be8175c2eaf"
      },
      "execution_count": null,
      "outputs": [
        {
          "output_type": "stream",
          "name": "stdout",
          "text": [
            "완\n",
            "시작\n",
            "완료\n",
            "완\n",
            "완\n"
          ]
        }
      ]
    },
    {
      "cell_type": "code",
      "source": [
        "get_top5_ex(ar_df)"
      ],
      "metadata": {
        "id": "iiP1o-iUF--L",
        "colab": {
          "base_uri": "https://localhost:8080/"
        },
        "outputId": "90c2120f-4cc2-4c53-8aef-befed34bb256"
      },
      "execution_count": null,
      "outputs": [
        {
          "output_type": "execute_result",
          "data": {
            "text/plain": [
              "['자전거타기', '걷기', '수영', '앉았다 일어서기', '한발 앞으로 내밀고 앉았다 일어서기']"
            ]
          },
          "metadata": {},
          "execution_count": 53
        }
      ]
    },
    {
      "cell_type": "markdown",
      "source": [
        "# 테스트"
      ],
      "metadata": {
        "id": "JdyEU0phPP-G"
      }
    },
    {
      "cell_type": "markdown",
      "source": [
        "## 그룹별 데이터 pickle 저장"
      ],
      "metadata": {
        "id": "d86Gyp2xRW2z"
      }
    },
    {
      "cell_type": "code",
      "source": [
        "# 그룹 0 데이터 저장\n",
        "with open('./cleaned_data/pickle/adult_group/adult_group_0.pickle', 'wb') as f:\n",
        "    pickle.dump(adult_group_0, f)"
      ],
      "metadata": {
        "id": "BEW0vEibPPpF"
      },
      "execution_count": 22,
      "outputs": []
    },
    {
      "cell_type": "code",
      "source": [
        "# 그룹 1 데이터 저장\n",
        "with open('./cleaned_data/pickle/adult_group/adult_group_1.pickle', 'wb') as f:\n",
        "    pickle.dump(adult_group_1, f)"
      ],
      "metadata": {
        "id": "9_ikSaZbRFNQ"
      },
      "execution_count": 23,
      "outputs": []
    },
    {
      "cell_type": "code",
      "source": [
        "# 그룹 2 데이터 저장\n",
        "with open('./cleaned_data/pickle/adult_group/adult_group_2.pickle', 'wb') as f:\n",
        "    pickle.dump(adult_group_2, f)"
      ],
      "metadata": {
        "id": "STOBjuswRGzW"
      },
      "execution_count": 24,
      "outputs": []
    },
    {
      "cell_type": "code",
      "source": [
        "# 그룹 3 데이터 저장\n",
        "with open('./cleaned_data/pickle/adult_group/adult_group_3.pickle', 'wb') as f:\n",
        "    pickle.dump(adult_group_3, f)"
      ],
      "metadata": {
        "id": "2bBXIPXcRIOU"
      },
      "execution_count": 25,
      "outputs": []
    },
    {
      "cell_type": "markdown",
      "source": [
        "## 그룹별 데이터 불러오기"
      ],
      "metadata": {
        "id": "xPlvr8xqRZ1h"
      }
    },
    {
      "cell_type": "code",
      "source": [
        "# load\n",
        "with open('./cleaned_data/pickle/adult_group/adult_group_0.pickle', 'rb') as f:\n",
        "    adult_group_0_pickle = pickle.load(f)"
      ],
      "metadata": {
        "id": "3s4_xfR7RbE6"
      },
      "execution_count": 27,
      "outputs": []
    },
    {
      "cell_type": "markdown",
      "source": [
        "# 유사 유저 함수 저장"
      ],
      "metadata": {
        "id": "MYqmDByHTBtu"
      }
    },
    {
      "cell_type": "code",
      "source": [
        "# 모델 저장\n",
        "with open('./model/similiar_user/add_NewUser.pickle','wb') as fw:\n",
        "    pickle.dump(add_NewUser, fw)"
      ],
      "metadata": {
        "id": "qlA8eoyxTO-b"
      },
      "execution_count": 44,
      "outputs": []
    },
    {
      "cell_type": "code",
      "source": [
        "# 모델 저장\n",
        "with open('./model/similiar_user/create_CF.pickle','wb') as fw:\n",
        "    pickle.dump(create_CF, fw)"
      ],
      "metadata": {
        "id": "OiGiEXJRTZim"
      },
      "execution_count": 34,
      "outputs": []
    },
    {
      "cell_type": "code",
      "source": [
        "with open('./model/similiar_user/getCF.pickle','wb') as fw:\n",
        "    pickle.dump(getCF, fw)"
      ],
      "metadata": {
        "id": "R20PQ6IsTcne"
      },
      "execution_count": 36,
      "outputs": []
    },
    {
      "cell_type": "markdown",
      "source": [
        "## 유사 유저 함수 불러오기"
      ],
      "metadata": {
        "id": "QpBBjKneTv8I"
      }
    },
    {
      "cell_type": "code",
      "source": [
        "# load\n",
        "with open('./model/similiar_user/add_NewUser.pickle', 'rb') as f:\n",
        "    add_NewUser1 = pickle.load(f)"
      ],
      "metadata": {
        "id": "NhTomZHbTykE"
      },
      "execution_count": 45,
      "outputs": []
    },
    {
      "cell_type": "code",
      "source": [
        "# load\n",
        "with open('./model/similiar_user/create_CF.pickle', 'rb') as f:\n",
        "    create_CF1 = pickle.load(f)"
      ],
      "metadata": {
        "id": "jHX5u_fwT5it"
      },
      "execution_count": 38,
      "outputs": []
    },
    {
      "cell_type": "code",
      "source": [
        "# load\n",
        "with open('./model/similiar_user/getCF.pickle', 'rb') as f:\n",
        "    getCF1 = pickle.load(f)"
      ],
      "metadata": {
        "id": "ECuPgNL0T5-j"
      },
      "execution_count": 39,
      "outputs": []
    },
    {
      "cell_type": "markdown",
      "source": [
        "## 유사 유저 구하기 test"
      ],
      "metadata": {
        "id": "xfSqSdTUWf47"
      }
    },
    {
      "cell_type": "code",
      "source": [
        "# 새로운 유저 정보 - 가짜 데이터\n",
        "new_user_dict = {'성별구분코드_F' : 1, '성별구분코드_M' : 0, '신장(cm)' : 159, \n",
        "                            \"체중(kg)\":57.5, \"체지방율(%)\":32.00, \"앉아윗몸앞으로굽히기(cm)\":15.5, \n",
        "                            \"BMI(kg/㎡)\":22.70, \"교차윗몸일으키기(회)\" : 1, \"왕복오래달리기(회)\":11.00,\n",
        "                            \"10M 4회 왕복달리기(초)\":15.76, \"제자리 멀리뛰기(cm)\":126, \"상대악력(%)\":41.00\n",
        "                            }"
      ],
      "metadata": {
        "id": "Pfg3cyYCRlS1"
      },
      "execution_count": 40,
      "outputs": []
    },
    {
      "cell_type": "code",
      "source": [
        "total_user = add_NewUser1(adult_group_0, new_user_dict)\n",
        "# 새로운 유저 번호 부여\n",
        "new_user_idx = len(total_user)-1\n",
        "# 새로운 유저와 유사한 상위 10% 유저의 운동 처방 가져오기 - 새로운 유저, 본운동\n",
        "top_10percent_ex_list = getCF1(new_user_idx, create_CF1(total_user), \"본운동\", int(data.shape[0]*(10/100)))\n",
        "print(\"new user idx\", len(total_user))\n",
        "#print(top_10percent_ex_list)"
      ],
      "metadata": {
        "colab": {
          "base_uri": "https://localhost:8080/"
        },
        "id": "KM3DoNqETFfg",
        "outputId": "24c3ba03-bd59-4f02-c132-e5f698cd41be"
      },
      "execution_count": 46,
      "outputs": [
        {
          "output_type": "stream",
          "name": "stdout",
          "text": [
            "new user idx 29281\n"
          ]
        }
      ]
    },
    {
      "cell_type": "markdown",
      "source": [
        "# 운동 추천 함수 저장"
      ],
      "metadata": {
        "id": "0crpFQCcUpX5"
      }
    },
    {
      "cell_type": "code",
      "source": [
        "# 모델 저장\n",
        "with open('./model/rec_nonPreference/get_sparse_matrix.pickle','wb') as fw:\n",
        "    pickle.dump(get_sparse_matrix, fw)"
      ],
      "metadata": {
        "id": "AunQdIrPUrRS"
      },
      "execution_count": 55,
      "outputs": []
    },
    {
      "cell_type": "code",
      "source": [
        "# get_freq_item\n",
        "with open('./model/rec_nonPreference/get_freq_item.pickle','wb') as fw:\n",
        "    pickle.dump(get_freq_item, fw)"
      ],
      "metadata": {
        "id": "RoSvB0NZU-b1"
      },
      "execution_count": 56,
      "outputs": []
    },
    {
      "cell_type": "code",
      "source": [
        "# get_association_rules\n",
        "with open('./model/rec_nonPreference/get_association_rules.pickle','wb') as fw:\n",
        "    pickle.dump(get_association_rules, fw)"
      ],
      "metadata": {
        "id": "wip3etNjVSLc"
      },
      "execution_count": 57,
      "outputs": []
    },
    {
      "cell_type": "code",
      "source": [
        "# get_apriori_result\n",
        "with open('./model/rec_nonPreference/get_apriori_result.pickle','wb') as fw:\n",
        "    pickle.dump(get_apriori_result, fw)"
      ],
      "metadata": {
        "id": "TDEbqG5mVTyr"
      },
      "execution_count": 58,
      "outputs": []
    },
    {
      "cell_type": "code",
      "source": [
        "# get_sorted\n",
        "with open('./model/rec_nonPreference/get_sorted.pickle','wb') as fw:\n",
        "    pickle.dump(get_sorted, fw)"
      ],
      "metadata": {
        "id": "pO1bGm7qVWTk"
      },
      "execution_count": 59,
      "outputs": []
    },
    {
      "cell_type": "code",
      "source": [
        "# create_top5_ex\n",
        "with open('./model/rec_nonPreference/create_top5_ex.pickle','wb') as fw:\n",
        "    pickle.dump(create_top5_ex, fw)"
      ],
      "metadata": {
        "id": "fl-mKWNQVXsW"
      },
      "execution_count": 60,
      "outputs": []
    },
    {
      "cell_type": "code",
      "source": [
        "# get_top5_ex\n",
        "with open('./model/rec_nonPreference/get_top5_ex.pickle','wb') as fw:\n",
        "    pickle.dump(get_top5_ex, fw)"
      ],
      "metadata": {
        "id": "B3JVdqnjVZJw"
      },
      "execution_count": 61,
      "outputs": []
    },
    {
      "cell_type": "markdown",
      "source": [
        "## 운동 추천 함수 불러오기"
      ],
      "metadata": {
        "id": "hJQKBz6mV2Dt"
      }
    },
    {
      "cell_type": "code",
      "source": [
        "# load\n",
        "with open('./model/rec_nonPreference/get_sparse_matrix.pickle', 'rb') as f:\n",
        "    get_sparse_matrix = pickle.load(f)"
      ],
      "metadata": {
        "id": "1LkvFeY-V6RE"
      },
      "execution_count": 62,
      "outputs": []
    },
    {
      "cell_type": "code",
      "source": [
        "# load\n",
        "with open('./model/rec_nonPreference/get_freq_item.pickle', 'rb') as f:\n",
        "    get_freq_item = pickle.load(f)"
      ],
      "metadata": {
        "id": "A3fIkPhOV8MP"
      },
      "execution_count": 65,
      "outputs": []
    },
    {
      "cell_type": "code",
      "source": [
        "# load\n",
        "with open('./model/rec_nonPreference/get_association_rules.pickle', 'rb') as f:\n",
        "    get_association_rules = pickle.load(f)"
      ],
      "metadata": {
        "id": "y-ArRO09V8lH"
      },
      "execution_count": 66,
      "outputs": []
    },
    {
      "cell_type": "code",
      "source": [
        "# load\n",
        "with open('./model/rec_nonPreference/get_apriori_result.pickle', 'rb') as f:\n",
        "    get_apriori_result = pickle.load(f)"
      ],
      "metadata": {
        "id": "Sb8Qaam1V86N"
      },
      "execution_count": 67,
      "outputs": []
    },
    {
      "cell_type": "code",
      "source": [
        "# load\n",
        "with open('./model/rec_nonPreference/get_sorted.pickle', 'rb') as f:\n",
        "    get_sorted = pickle.load(f)"
      ],
      "metadata": {
        "id": "mX3Yot62V9Va"
      },
      "execution_count": 68,
      "outputs": []
    },
    {
      "cell_type": "code",
      "source": [
        "# load\n",
        "with open('./model/rec_nonPreference/create_top5_ex.pickle', 'rb') as f:\n",
        "    create_top5_ex = pickle.load(f)"
      ],
      "metadata": {
        "id": "SIom1TMjV9ve"
      },
      "execution_count": 69,
      "outputs": []
    },
    {
      "cell_type": "code",
      "source": [
        "# load\n",
        "with open('./model/rec_nonPreference/get_top5_ex.pickle', 'rb') as f:\n",
        "    get_top5_ex = pickle.load(f)"
      ],
      "metadata": {
        "id": "EBfUSiAPV-rW"
      },
      "execution_count": 70,
      "outputs": []
    },
    {
      "cell_type": "markdown",
      "source": [
        "## 운동 추천 test"
      ],
      "metadata": {
        "id": "XRqGEYpHWpec"
      }
    },
    {
      "cell_type": "code",
      "source": [
        "ar_df = get_apriori_result(top_10percent_ex_list,min_support = 0.1, min_confidence=0.8)"
      ],
      "metadata": {
        "id": "FH_6mP4rVzKp"
      },
      "execution_count": 71,
      "outputs": []
    },
    {
      "cell_type": "code",
      "source": [
        "get_top5_ex(ar_df)"
      ],
      "metadata": {
        "colab": {
          "base_uri": "https://localhost:8080/"
        },
        "id": "qDCyogbPV03f",
        "outputId": "a6df840e-1462-4196-f36d-32ed203b7518"
      },
      "execution_count": 72,
      "outputs": [
        {
          "output_type": "execute_result",
          "data": {
            "text/plain": [
              "['자전거타기', '걷기', '수영', '앉았다 일어서기', '한발 앞으로 내밀고 앉았다 일어서기']"
            ]
          },
          "metadata": {},
          "execution_count": 72
        }
      ]
    }
  ]
}
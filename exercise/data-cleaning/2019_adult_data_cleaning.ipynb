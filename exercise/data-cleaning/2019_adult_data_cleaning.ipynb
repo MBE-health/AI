{
  "nbformat": 4,
  "nbformat_minor": 0,
  "metadata": {
    "colab": {
      "provenance": []
    },
    "kernelspec": {
      "name": "python3",
      "display_name": "Python 3"
    },
    "language_info": {
      "name": "python"
    }
  },
  "cells": [
    {
      "cell_type": "code",
      "execution_count": null,
      "metadata": {
        "colab": {
          "base_uri": "https://localhost:8080/"
        },
        "id": "8RGTdTL567dL",
        "outputId": "60961805-949c-41e4-a23c-7684ae784db7"
      },
      "outputs": [
        {
          "output_type": "stream",
          "name": "stdout",
          "text": [
            "Drive already mounted at /content/drive; to attempt to forcibly remount, call drive.mount(\"/content/drive\", force_remount=True).\n"
          ]
        }
      ],
      "source": [
        "from google.colab import drive\n",
        "drive.mount('/content/drive')"
      ]
    },
    {
      "cell_type": "code",
      "source": [
        "cd /content/drive/MyDrive/exercise/split"
      ],
      "metadata": {
        "colab": {
          "base_uri": "https://localhost:8080/"
        },
        "id": "NOM_tCbf9DhP",
        "outputId": "38397e1a-924d-4b5a-ec06-995a4f070016"
      },
      "execution_count": null,
      "outputs": [
        {
          "output_type": "stream",
          "name": "stdout",
          "text": [
            "/content/drive/MyDrive/exercise/split\n"
          ]
        }
      ]
    },
    {
      "cell_type": "code",
      "source": [
        "import os\n",
        "import re\n",
        "\n",
        "import pandas as pd\n",
        "import numpy as np\n",
        "import itertools\n",
        "import matplotlib.pyplot as plt\n",
        "import matplotlib.cm as cm\n",
        "import warnings\n",
        "warnings.filterwarnings('ignore')"
      ],
      "metadata": {
        "id": "fKLnP1lN9GaV"
      },
      "execution_count": null,
      "outputs": []
    },
    {
      "cell_type": "markdown",
      "source": [
        "# Load Data"
      ],
      "metadata": {
        "id": "azIXmaB-9k_b"
      }
    },
    {
      "cell_type": "code",
      "source": [
        "df = pd.read_csv(\"./adult.csv\")"
      ],
      "metadata": {
        "id": "p278DsOv9kwU"
      },
      "execution_count": null,
      "outputs": []
    },
    {
      "cell_type": "code",
      "source": [
        "print(f'dataframe size: {df.shape}')"
      ],
      "metadata": {
        "colab": {
          "base_uri": "https://localhost:8080/"
        },
        "id": "HIXSjeQ690d7",
        "outputId": "b754e646-6757-4b0a-f1d2-e1d65dce0711"
      },
      "execution_count": null,
      "outputs": [
        {
          "output_type": "stream",
          "name": "stdout",
          "text": [
            "dataframe size: (115988, 52)\n"
          ]
        }
      ]
    },
    {
      "cell_type": "code",
      "source": [
        "print(f'데이터 칼럼명: {df.columns.values}')"
      ],
      "metadata": {
        "colab": {
          "base_uri": "https://localhost:8080/"
        },
        "id": "OWMQKZWT-mTJ",
        "outputId": "2b2036d5-c611-4c9b-a9ae-abe03942f095"
      },
      "execution_count": null,
      "outputs": [
        {
          "output_type": "stream",
          "name": "stdout",
          "text": [
            "데이터 칼럼명: ['Unnamed: 0' '회원일련번호값' '측정일련번호' '센터명' '연령대구분명' '측정장소구분명' '측정연령수' '입력구분명'\n",
            " '인증구분명' '측정일자' '성별구분코드' '1값 : 신장(cm)' '2값 : 체중(kg)' '3값 : 체지방율(%)'\n",
            " '4값 : 허리둘레(cm)' '5값 : 이완기최저혈압(mmHg)' '6값 : 수축기최고혈압(mmHg)' '7값 : 악력_좌(kg)'\n",
            " '8값 : 악력_우(kg)' '9값 : 윗몸말아올리기(회)' '10값 : 반복점프(회)' '12값 : 앉아윗몸앞으로굽히기(cm)'\n",
            " '13값 : 일리노이(초)' '14값 : 체공시간(초)' '15값 : 협응력시간(초)' '16값 : 협응력실수횟수(회)'\n",
            " '17값 : 협응력계산결과값(초)' '18값 : BMI(kg/㎡)' '19값 : 교차윗몸일으키기(회)'\n",
            " '20값 : 왕복오래달리기(회)' '21값 : 10M 4회 왕복달리기(초)' '22값 : 제자리 멀리뛰기(cm)'\n",
            " '23값 : 의자에앉았다일어서기(회)' '24값 : 6분걷기(m)' '25값 : 2분제자리걷기(회)'\n",
            " '26값 : 의자에앉아 3M표적 돌아오기(초)' '27값 : 8자보행(초)' '28값 : 상대악력(%)' '29값 : 피두부겹합'\n",
            " '30값 : 왕복오래달리기출력(VO₂max)' '31값 : 트레드밀_안정시(bpm)' '32값 : 트레드밀_3분(bpm)'\n",
            " '33값 : 트레드밀_6분(bpm)' '34값 : 트레드밀_9분(bpm)' '35값 : 트레드밀출력(VO₂max)'\n",
            " '36값 : 스텝검사_회복시 심박수(bpm)' '37값 : 스텝검사출력(VO₂max)' '38값 : 허벅지_좌(cm)'\n",
            " '39값 : 허벅지_우(cm)' '40값 : 전신반응(초)' '41값 : 체공시간2(초)' '운동처방내용']\n"
          ]
        }
      ]
    },
    {
      "cell_type": "code",
      "source": [
        "df.info() "
      ],
      "metadata": {
        "colab": {
          "base_uri": "https://localhost:8080/"
        },
        "id": "cza7Ch_2-nQR",
        "outputId": "476b8b0a-9639-4f44-e2a9-c36bb82a1dbc"
      },
      "execution_count": null,
      "outputs": [
        {
          "output_type": "stream",
          "name": "stdout",
          "text": [
            "<class 'pandas.core.frame.DataFrame'>\n",
            "RangeIndex: 115988 entries, 0 to 115987\n",
            "Data columns (total 52 columns):\n",
            " #   Column                    Non-Null Count   Dtype  \n",
            "---  ------                    --------------   -----  \n",
            " 0   Unnamed: 0                115988 non-null  int64  \n",
            " 1   회원일련번호값                   115988 non-null  object \n",
            " 2   측정일련번호                    115988 non-null  int64  \n",
            " 3   센터명                       115988 non-null  object \n",
            " 4   연령대구분명                    115988 non-null  object \n",
            " 5   측정장소구분명                   115988 non-null  object \n",
            " 6   측정연령수                     115988 non-null  int64  \n",
            " 7   입력구분명                     115988 non-null  object \n",
            " 8   인증구분명                     115988 non-null  object \n",
            " 9   측정일자                      115988 non-null  int64  \n",
            " 10  성별구분코드                    115988 non-null  object \n",
            " 11  1값 : 신장(cm)               115987 non-null  float64\n",
            " 12  2값 : 체중(kg)               115982 non-null  float64\n",
            " 13  3값 : 체지방율(%)              115984 non-null  float64\n",
            " 14  4값 : 허리둘레(cm)             68428 non-null   float64\n",
            " 15  5값 : 이완기최저혈압(mmHg)        115975 non-null  float64\n",
            " 16  6값 : 수축기최고혈압(mmHg)        115977 non-null  float64\n",
            " 17  7값 : 악력_좌(kg)             115842 non-null  float64\n",
            " 18  8값 : 악력_우(kg)             115847 non-null  float64\n",
            " 19  9값 : 윗몸말아올리기(회)           0 non-null       float64\n",
            " 20  10값 : 반복점프(회)             0 non-null       float64\n",
            " 21  12값 : 앉아윗몸앞으로굽히기(cm)      115727 non-null  float64\n",
            " 22  13값 : 일리노이(초)             0 non-null       float64\n",
            " 23  14값 : 체공시간(초)             0 non-null       float64\n",
            " 24  15값 : 협응력시간(초)            0 non-null       float64\n",
            " 25  16값 : 협응력실수횟수(회)          0 non-null       float64\n",
            " 26  17값 : 협응력계산결과값(초)         0 non-null       float64\n",
            " 27  18값 : BMI(kg/㎡)           115988 non-null  float64\n",
            " 28  19값 : 교차윗몸일으키기(회)         114317 non-null  float64\n",
            " 29  20값 : 왕복오래달리기(회)          86361 non-null   float64\n",
            " 30  21값 : 10M 4회 왕복달리기(초)     109903 non-null  float64\n",
            " 31  22값 : 제자리 멀리뛰기(cm)        113910 non-null  float64\n",
            " 32  23값 : 의자에앉았다일어서기(회)       0 non-null       float64\n",
            " 33  24값 : 6분걷기(m)             0 non-null       float64\n",
            " 34  25값 : 2분제자리걷기(회)          0 non-null       float64\n",
            " 35  26값 : 의자에앉아 3M표적 돌아오기(초)  0 non-null       float64\n",
            " 36  27값 : 8자보행(초)             0 non-null       float64\n",
            " 37  28값 : 상대악력(%)             115926 non-null  float64\n",
            " 38  29값 : 피두부겹합               0 non-null       float64\n",
            " 39  30값 : 왕복오래달리기출력(VO₂max)   86305 non-null   float64\n",
            " 40  31값 : 트레드밀_안정시(bpm)       8928 non-null    float64\n",
            " 41  32값 : 트레드밀_3분(bpm)        8888 non-null    float64\n",
            " 42  33값 : 트레드밀_6분(bpm)        8872 non-null    float64\n",
            " 43  34값 : 트레드밀_9분(bpm)        3053 non-null    float64\n",
            " 44  35값 : 트레드밀출력(VO₂max)      8872 non-null    float64\n",
            " 45  36값 : 스텝검사_회복시 심박수(bpm)   17909 non-null   float64\n",
            " 46  37값 : 스텝검사출력(VO₂max)      17909 non-null   float64\n",
            " 47  38값 : 허벅지_좌(cm)           2399 non-null    float64\n",
            " 48  39값 : 허벅지_우(cm)           2399 non-null    float64\n",
            " 49  40값 : 전신반응(초)             111 non-null     float64\n",
            " 50  41값 : 체공시간2(초)            315 non-null     float64\n",
            " 51  운동처방내용                    105648 non-null  object \n",
            "dtypes: float64(40), int64(4), object(8)\n",
            "memory usage: 46.0+ MB\n"
          ]
        }
      ]
    },
    {
      "cell_type": "code",
      "source": [
        "df.head(4)"
      ],
      "metadata": {
        "colab": {
          "base_uri": "https://localhost:8080/",
          "height": 421
        },
        "id": "eaJNZzvQZLbz",
        "outputId": "46d4a9e4-705d-4c50-fdaf-136fe5338f8b"
      },
      "execution_count": null,
      "outputs": [
        {
          "output_type": "execute_result",
          "data": {
            "text/plain": [
              "   Unnamed: 0                   회원일련번호값  측정일련번호 센터명 연령대구분명 측정장소구분명  측정연령수  \\\n",
              "0           0  AAG5scSkx90/QuAl06tA8wuC       1  성남     성인      일반     59   \n",
              "1           2  AAHMUHU8ZnWT2Dqdgq5QIMrm       1  춘천     성인      일반     60   \n",
              "2           7  AAEIkFejDxJhMG7x6KPtE45Z       1  춘천     성인      일반     64   \n",
              "3           8  AAGOaVPSy8aq6s1PTwzEsgfx       1  춘천     성인      일반     42   \n",
              "\n",
              "  입력구분명 인증구분명      측정일자  ... 33값 : 트레드밀_6분(bpm)  34값 : 트레드밀_9분(bpm)  \\\n",
              "0   관리자   참가증  20190102  ...                NaN                 NaN   \n",
              "1   관리자   참가증  20190102  ...                NaN                 NaN   \n",
              "2   관리자   2등급  20190102  ...                NaN                 NaN   \n",
              "3   관리자   참가증  20190102  ...                NaN                 NaN   \n",
              "\n",
              "   35값 : 트레드밀출력(VO₂max)  36값 : 스텝검사_회복시 심박수(bpm)  37값 : 스텝검사출력(VO₂max)  \\\n",
              "0                   NaN                      NaN                   NaN   \n",
              "1                   NaN                      NaN                   NaN   \n",
              "2                   NaN                      NaN                   NaN   \n",
              "3                   NaN                      NaN                   NaN   \n",
              "\n",
              "   38값 : 허벅지_좌(cm)  39값 : 허벅지_우(cm)  40값 : 전신반응(초)  41값 : 체공시간2(초)  \\\n",
              "0              NaN              NaN            NaN             NaN   \n",
              "1              NaN              NaN            NaN             NaN   \n",
              "2              NaN              NaN            NaN             NaN   \n",
              "3              NaN              NaN            NaN             NaN   \n",
              "\n",
              "                                              운동처방내용  \n",
              "0  준비운동:상지 루틴 스트레칭,전신 루틴 스트레칭 / 본운동:윗몸올리기 ,엎드려 버티...  \n",
              "1  준비운동:깍지 끼고 상체 숙이기,목 스트레칭,등/어깨 뒤쪽 스트레칭,어깨 뒤쪽 스트...  \n",
              "2  준비운동:깍지 끼고 상체 숙이기,목 스트레칭,등/어깨 뒤쪽 스트레칭,어깨 뒤쪽 스트...  \n",
              "3  준비운동:깍지 끼고 상체 숙이기,목 스트레칭,등/어깨 뒤쪽 스트레칭,어깨 뒤쪽 스트...  \n",
              "\n",
              "[4 rows x 52 columns]"
            ],
            "text/html": [
              "\n",
              "  <div id=\"df-488874ad-79cd-4ee5-96c6-f4bf7539b63f\">\n",
              "    <div class=\"colab-df-container\">\n",
              "      <div>\n",
              "<style scoped>\n",
              "    .dataframe tbody tr th:only-of-type {\n",
              "        vertical-align: middle;\n",
              "    }\n",
              "\n",
              "    .dataframe tbody tr th {\n",
              "        vertical-align: top;\n",
              "    }\n",
              "\n",
              "    .dataframe thead th {\n",
              "        text-align: right;\n",
              "    }\n",
              "</style>\n",
              "<table border=\"1\" class=\"dataframe\">\n",
              "  <thead>\n",
              "    <tr style=\"text-align: right;\">\n",
              "      <th></th>\n",
              "      <th>Unnamed: 0</th>\n",
              "      <th>회원일련번호값</th>\n",
              "      <th>측정일련번호</th>\n",
              "      <th>센터명</th>\n",
              "      <th>연령대구분명</th>\n",
              "      <th>측정장소구분명</th>\n",
              "      <th>측정연령수</th>\n",
              "      <th>입력구분명</th>\n",
              "      <th>인증구분명</th>\n",
              "      <th>측정일자</th>\n",
              "      <th>...</th>\n",
              "      <th>33값 : 트레드밀_6분(bpm)</th>\n",
              "      <th>34값 : 트레드밀_9분(bpm)</th>\n",
              "      <th>35값 : 트레드밀출력(VO₂max)</th>\n",
              "      <th>36값 : 스텝검사_회복시 심박수(bpm)</th>\n",
              "      <th>37값 : 스텝검사출력(VO₂max)</th>\n",
              "      <th>38값 : 허벅지_좌(cm)</th>\n",
              "      <th>39값 : 허벅지_우(cm)</th>\n",
              "      <th>40값 : 전신반응(초)</th>\n",
              "      <th>41값 : 체공시간2(초)</th>\n",
              "      <th>운동처방내용</th>\n",
              "    </tr>\n",
              "  </thead>\n",
              "  <tbody>\n",
              "    <tr>\n",
              "      <th>0</th>\n",
              "      <td>0</td>\n",
              "      <td>AAG5scSkx90/QuAl06tA8wuC</td>\n",
              "      <td>1</td>\n",
              "      <td>성남</td>\n",
              "      <td>성인</td>\n",
              "      <td>일반</td>\n",
              "      <td>59</td>\n",
              "      <td>관리자</td>\n",
              "      <td>참가증</td>\n",
              "      <td>20190102</td>\n",
              "      <td>...</td>\n",
              "      <td>NaN</td>\n",
              "      <td>NaN</td>\n",
              "      <td>NaN</td>\n",
              "      <td>NaN</td>\n",
              "      <td>NaN</td>\n",
              "      <td>NaN</td>\n",
              "      <td>NaN</td>\n",
              "      <td>NaN</td>\n",
              "      <td>NaN</td>\n",
              "      <td>준비운동:상지 루틴 스트레칭,전신 루틴 스트레칭 / 본운동:윗몸올리기 ,엎드려 버티...</td>\n",
              "    </tr>\n",
              "    <tr>\n",
              "      <th>1</th>\n",
              "      <td>2</td>\n",
              "      <td>AAHMUHU8ZnWT2Dqdgq5QIMrm</td>\n",
              "      <td>1</td>\n",
              "      <td>춘천</td>\n",
              "      <td>성인</td>\n",
              "      <td>일반</td>\n",
              "      <td>60</td>\n",
              "      <td>관리자</td>\n",
              "      <td>참가증</td>\n",
              "      <td>20190102</td>\n",
              "      <td>...</td>\n",
              "      <td>NaN</td>\n",
              "      <td>NaN</td>\n",
              "      <td>NaN</td>\n",
              "      <td>NaN</td>\n",
              "      <td>NaN</td>\n",
              "      <td>NaN</td>\n",
              "      <td>NaN</td>\n",
              "      <td>NaN</td>\n",
              "      <td>NaN</td>\n",
              "      <td>준비운동:깍지 끼고 상체 숙이기,목 스트레칭,등/어깨 뒤쪽 스트레칭,어깨 뒤쪽 스트...</td>\n",
              "    </tr>\n",
              "    <tr>\n",
              "      <th>2</th>\n",
              "      <td>7</td>\n",
              "      <td>AAEIkFejDxJhMG7x6KPtE45Z</td>\n",
              "      <td>1</td>\n",
              "      <td>춘천</td>\n",
              "      <td>성인</td>\n",
              "      <td>일반</td>\n",
              "      <td>64</td>\n",
              "      <td>관리자</td>\n",
              "      <td>2등급</td>\n",
              "      <td>20190102</td>\n",
              "      <td>...</td>\n",
              "      <td>NaN</td>\n",
              "      <td>NaN</td>\n",
              "      <td>NaN</td>\n",
              "      <td>NaN</td>\n",
              "      <td>NaN</td>\n",
              "      <td>NaN</td>\n",
              "      <td>NaN</td>\n",
              "      <td>NaN</td>\n",
              "      <td>NaN</td>\n",
              "      <td>준비운동:깍지 끼고 상체 숙이기,목 스트레칭,등/어깨 뒤쪽 스트레칭,어깨 뒤쪽 스트...</td>\n",
              "    </tr>\n",
              "    <tr>\n",
              "      <th>3</th>\n",
              "      <td>8</td>\n",
              "      <td>AAGOaVPSy8aq6s1PTwzEsgfx</td>\n",
              "      <td>1</td>\n",
              "      <td>춘천</td>\n",
              "      <td>성인</td>\n",
              "      <td>일반</td>\n",
              "      <td>42</td>\n",
              "      <td>관리자</td>\n",
              "      <td>참가증</td>\n",
              "      <td>20190102</td>\n",
              "      <td>...</td>\n",
              "      <td>NaN</td>\n",
              "      <td>NaN</td>\n",
              "      <td>NaN</td>\n",
              "      <td>NaN</td>\n",
              "      <td>NaN</td>\n",
              "      <td>NaN</td>\n",
              "      <td>NaN</td>\n",
              "      <td>NaN</td>\n",
              "      <td>NaN</td>\n",
              "      <td>준비운동:깍지 끼고 상체 숙이기,목 스트레칭,등/어깨 뒤쪽 스트레칭,어깨 뒤쪽 스트...</td>\n",
              "    </tr>\n",
              "  </tbody>\n",
              "</table>\n",
              "<p>4 rows × 52 columns</p>\n",
              "</div>\n",
              "      <button class=\"colab-df-convert\" onclick=\"convertToInteractive('df-488874ad-79cd-4ee5-96c6-f4bf7539b63f')\"\n",
              "              title=\"Convert this dataframe to an interactive table.\"\n",
              "              style=\"display:none;\">\n",
              "        \n",
              "  <svg xmlns=\"http://www.w3.org/2000/svg\" height=\"24px\"viewBox=\"0 0 24 24\"\n",
              "       width=\"24px\">\n",
              "    <path d=\"M0 0h24v24H0V0z\" fill=\"none\"/>\n",
              "    <path d=\"M18.56 5.44l.94 2.06.94-2.06 2.06-.94-2.06-.94-.94-2.06-.94 2.06-2.06.94zm-11 1L8.5 8.5l.94-2.06 2.06-.94-2.06-.94L8.5 2.5l-.94 2.06-2.06.94zm10 10l.94 2.06.94-2.06 2.06-.94-2.06-.94-.94-2.06-.94 2.06-2.06.94z\"/><path d=\"M17.41 7.96l-1.37-1.37c-.4-.4-.92-.59-1.43-.59-.52 0-1.04.2-1.43.59L10.3 9.45l-7.72 7.72c-.78.78-.78 2.05 0 2.83L4 21.41c.39.39.9.59 1.41.59.51 0 1.02-.2 1.41-.59l7.78-7.78 2.81-2.81c.8-.78.8-2.07 0-2.86zM5.41 20L4 18.59l7.72-7.72 1.47 1.35L5.41 20z\"/>\n",
              "  </svg>\n",
              "      </button>\n",
              "      \n",
              "  <style>\n",
              "    .colab-df-container {\n",
              "      display:flex;\n",
              "      flex-wrap:wrap;\n",
              "      gap: 12px;\n",
              "    }\n",
              "\n",
              "    .colab-df-convert {\n",
              "      background-color: #E8F0FE;\n",
              "      border: none;\n",
              "      border-radius: 50%;\n",
              "      cursor: pointer;\n",
              "      display: none;\n",
              "      fill: #1967D2;\n",
              "      height: 32px;\n",
              "      padding: 0 0 0 0;\n",
              "      width: 32px;\n",
              "    }\n",
              "\n",
              "    .colab-df-convert:hover {\n",
              "      background-color: #E2EBFA;\n",
              "      box-shadow: 0px 1px 2px rgba(60, 64, 67, 0.3), 0px 1px 3px 1px rgba(60, 64, 67, 0.15);\n",
              "      fill: #174EA6;\n",
              "    }\n",
              "\n",
              "    [theme=dark] .colab-df-convert {\n",
              "      background-color: #3B4455;\n",
              "      fill: #D2E3FC;\n",
              "    }\n",
              "\n",
              "    [theme=dark] .colab-df-convert:hover {\n",
              "      background-color: #434B5C;\n",
              "      box-shadow: 0px 1px 3px 1px rgba(0, 0, 0, 0.15);\n",
              "      filter: drop-shadow(0px 1px 2px rgba(0, 0, 0, 0.3));\n",
              "      fill: #FFFFFF;\n",
              "    }\n",
              "  </style>\n",
              "\n",
              "      <script>\n",
              "        const buttonEl =\n",
              "          document.querySelector('#df-488874ad-79cd-4ee5-96c6-f4bf7539b63f button.colab-df-convert');\n",
              "        buttonEl.style.display =\n",
              "          google.colab.kernel.accessAllowed ? 'block' : 'none';\n",
              "\n",
              "        async function convertToInteractive(key) {\n",
              "          const element = document.querySelector('#df-488874ad-79cd-4ee5-96c6-f4bf7539b63f');\n",
              "          const dataTable =\n",
              "            await google.colab.kernel.invokeFunction('convertToInteractive',\n",
              "                                                     [key], {});\n",
              "          if (!dataTable) return;\n",
              "\n",
              "          const docLinkHtml = 'Like what you see? Visit the ' +\n",
              "            '<a target=\"_blank\" href=https://colab.research.google.com/notebooks/data_table.ipynb>data table notebook</a>'\n",
              "            + ' to learn more about interactive tables.';\n",
              "          element.innerHTML = '';\n",
              "          dataTable['output_type'] = 'display_data';\n",
              "          await google.colab.output.renderOutput(dataTable, element);\n",
              "          const docLink = document.createElement('div');\n",
              "          docLink.innerHTML = docLinkHtml;\n",
              "          element.appendChild(docLink);\n",
              "        }\n",
              "      </script>\n",
              "    </div>\n",
              "  </div>\n",
              "  "
            ]
          },
          "metadata": {},
          "execution_count": 96
        }
      ]
    },
    {
      "cell_type": "code",
      "source": [
        "df[\"운동처방내용\"]"
      ],
      "metadata": {
        "colab": {
          "base_uri": "https://localhost:8080/"
        },
        "id": "_RikBJshZTf-",
        "outputId": "dc6c2374-4a84-4853-8454-b3d95bfa577e"
      },
      "execution_count": null,
      "outputs": [
        {
          "output_type": "execute_result",
          "data": {
            "text/plain": [
              "0         준비운동:상지 루틴 스트레칭,전신 루틴 스트레칭 / 본운동:윗몸올리기 ,엎드려 버티...\n",
              "1         준비운동:깍지 끼고 상체 숙이기,목 스트레칭,등/어깨 뒤쪽 스트레칭,어깨 뒤쪽 스트...\n",
              "2         준비운동:깍지 끼고 상체 숙이기,목 스트레칭,등/어깨 뒤쪽 스트레칭,어깨 뒤쪽 스트...\n",
              "3         준비운동:깍지 끼고 상체 숙이기,목 스트레칭,등/어깨 뒤쪽 스트레칭,어깨 뒤쪽 스트...\n",
              "4         준비운동:깍지 끼고 상체 숙이기,목 스트레칭,등/어깨 뒤쪽 스트레칭,어깨 뒤쪽 스트...\n",
              "                                ...                        \n",
              "115983    준비운동:걷기,줄넘기,전신 루틴 스트레칭,유산소 운동 전 동적 루틴 스트레칭 / 본...\n",
              "115984                   본운동:실외 자전거타기,실내 자전거타기,트레드밀에서 걷기,수영\n",
              "115985                                                  NaN\n",
              "115986    준비운동:상지 루틴 스트레칭,하지 루틴 스트레칭1,하지 루틴 스트레칭2,전신 루틴 ...\n",
              "115987    준비운동:전신 루틴 스트레칭,유산소 운동 전 동적 루틴 스트레칭 / 본운동:윗몸 말...\n",
              "Name: 운동처방내용, Length: 115988, dtype: object"
            ]
          },
          "metadata": {},
          "execution_count": 97
        }
      ]
    },
    {
      "cell_type": "markdown",
      "source": [
        "# 칼럼 처리"
      ],
      "metadata": {
        "id": "HZRlMaG4_51V"
      }
    },
    {
      "cell_type": "markdown",
      "source": [
        "## 칼럼명 처리"
      ],
      "metadata": {
        "id": "MSK1sLwFLTbP"
      }
    },
    {
      "cell_type": "code",
      "source": [
        "# ${모든 숫자}+\"값\"+\" : \" 칼럼명에서 날리기\n",
        "# 정규 표현식 => [\\d]+값 : \n",
        "def delPrefix(item):\n",
        "  cols = item.columns\n",
        "  noPrefix_cols = list(map(lambda col:re.sub('[\\d]+값 : ',\"\", col),cols))\n",
        "  df.columns = noPrefix_cols"
      ],
      "metadata": {
        "id": "cwuI3SU0CXSo"
      },
      "execution_count": null,
      "outputs": []
    },
    {
      "cell_type": "code",
      "source": [
        "delPrefix(df)"
      ],
      "metadata": {
        "id": "rPxVvSYHIlep"
      },
      "execution_count": null,
      "outputs": []
    },
    {
      "cell_type": "markdown",
      "source": [
        "## 칼럼 삭제"
      ],
      "metadata": {
        "id": "t8HAqOntK8AU"
      }
    },
    {
      "cell_type": "code",
      "source": [
        "# 체력측정 항목별 측정 데이터 결측치 갯수와 대략적인 차지 비율 확인\n",
        "\n",
        "\n",
        "def getNullPercent(item):\n",
        "  per_100_null = []\n",
        "  for column in item.columns:\n",
        "    percent = round(item[column].isnull().sum()/item.shape[0],2)*100\n",
        "    if percent >= 90:\n",
        "      per_100_null.append(column)\n",
        "    print(f\"{column}: {item[column].isnull().sum()}개 ({percent}%)\")\n",
        "  return per_100_null"
      ],
      "metadata": {
        "id": "z1vEW2JGABVH"
      },
      "execution_count": null,
      "outputs": []
    },
    {
      "cell_type": "code",
      "source": [
        "print(\"## 삭제 전 : NUll 값 갯수와 비율 ##\\n\")\n",
        "per_100_null = getNullPercent(df)"
      ],
      "metadata": {
        "colab": {
          "base_uri": "https://localhost:8080/"
        },
        "id": "srR1tpu5AZrg",
        "outputId": "fe4448ab-6638-4978-d7cd-f373ac1e7dac"
      },
      "execution_count": null,
      "outputs": [
        {
          "output_type": "stream",
          "name": "stdout",
          "text": [
            "## 삭제 전 : NUll 값 갯수와 비율 ##\n",
            "\n",
            "Unnamed: 0: 0개 (0.0%)\n",
            "회원일련번호값: 0개 (0.0%)\n",
            "측정일련번호: 0개 (0.0%)\n",
            "센터명: 0개 (0.0%)\n",
            "연령대구분명: 0개 (0.0%)\n",
            "측정장소구분명: 0개 (0.0%)\n",
            "측정연령수: 0개 (0.0%)\n",
            "입력구분명: 0개 (0.0%)\n",
            "인증구분명: 0개 (0.0%)\n",
            "측정일자: 0개 (0.0%)\n",
            "성별구분코드: 0개 (0.0%)\n",
            "신장(cm): 1개 (0.0%)\n",
            "체중(kg): 6개 (0.0%)\n",
            "체지방율(%): 4개 (0.0%)\n",
            "허리둘레(cm): 47560개 (41.0%)\n",
            "이완기최저혈압(mmHg): 13개 (0.0%)\n",
            "수축기최고혈압(mmHg): 11개 (0.0%)\n",
            "악력_좌(kg): 146개 (0.0%)\n",
            "악력_우(kg): 141개 (0.0%)\n",
            "윗몸말아올리기(회): 115988개 (100.0%)\n",
            "반복점프(회): 115988개 (100.0%)\n",
            "앉아윗몸앞으로굽히기(cm): 261개 (0.0%)\n",
            "일리노이(초): 115988개 (100.0%)\n",
            "체공시간(초): 115988개 (100.0%)\n",
            "협응력시간(초): 115988개 (100.0%)\n",
            "협응력실수횟수(회): 115988개 (100.0%)\n",
            "협응력계산결과값(초): 115988개 (100.0%)\n",
            "BMI(kg/㎡): 0개 (0.0%)\n",
            "교차윗몸일으키기(회): 1671개 (1.0%)\n",
            "왕복오래달리기(회): 29627개 (26.0%)\n",
            "10M 4회 왕복달리기(초): 6085개 (5.0%)\n",
            "제자리 멀리뛰기(cm): 2078개 (2.0%)\n",
            "의자에앉았다일어서기(회): 115988개 (100.0%)\n",
            "6분걷기(m): 115988개 (100.0%)\n",
            "2분제자리걷기(회): 115988개 (100.0%)\n",
            "의자에앉아 3M표적 돌아오기(초): 115988개 (100.0%)\n",
            "8자보행(초): 115988개 (100.0%)\n",
            "상대악력(%): 62개 (0.0%)\n",
            "피두부겹합: 115988개 (100.0%)\n",
            "왕복오래달리기출력(VO₂max): 29683개 (26.0%)\n",
            "트레드밀_안정시(bpm): 107060개 (92.0%)\n",
            "트레드밀_3분(bpm): 107100개 (92.0%)\n",
            "트레드밀_6분(bpm): 107116개 (92.0%)\n",
            "트레드밀_9분(bpm): 112935개 (97.0%)\n",
            "트레드밀출력(VO₂max): 107116개 (92.0%)\n",
            "스텝검사_회복시 심박수(bpm): 98079개 (85.0%)\n",
            "스텝검사출력(VO₂max): 98079개 (85.0%)\n",
            "허벅지_좌(cm): 113589개 (98.0%)\n",
            "허벅지_우(cm): 113589개 (98.0%)\n",
            "전신반응(초): 115877개 (100.0%)\n",
            "체공시간2(초): 115673개 (100.0%)\n",
            "운동처방내용: 10340개 (9.0%)\n"
          ]
        }
      ]
    },
    {
      "cell_type": "code",
      "source": [
        "# index 칼럼 삭제 \n",
        "df.drop([\"Unnamed: 0\"],axis=1,inplace=True)"
      ],
      "metadata": {
        "id": "U4KRnfHqB3hQ"
      },
      "execution_count": null,
      "outputs": []
    },
    {
      "cell_type": "code",
      "source": [
        "# Null 값 90% 이상 항목 삭제\n",
        "df.drop(per_100_null,axis=1,inplace=True)"
      ],
      "metadata": {
        "id": "cCgaHAEIBYL6"
      },
      "execution_count": null,
      "outputs": []
    },
    {
      "cell_type": "code",
      "source": [
        "# 운동 처방 Null 값 삭제\n",
        "df.dropna(subset=[\"운동처방내용\"],inplace=True)"
      ],
      "metadata": {
        "id": "LWCut8dPJGyy"
      },
      "execution_count": null,
      "outputs": []
    },
    {
      "cell_type": "code",
      "source": [
        "print(\"## 삭제 후 : NUll 값 갯수와 비율 ##\\n\")\n",
        "getNullPercent(df)"
      ],
      "metadata": {
        "colab": {
          "base_uri": "https://localhost:8080/"
        },
        "id": "BMKSOfTGCIj1",
        "outputId": "20bb3ae0-5ed2-4827-e913-384b2b51d02b"
      },
      "execution_count": null,
      "outputs": [
        {
          "output_type": "stream",
          "name": "stdout",
          "text": [
            "## 삭제 후 : NUll 값 갯수와 비율 ##\n",
            "\n",
            "회원일련번호값: 0개 (0.0%)\n",
            "측정일련번호: 0개 (0.0%)\n",
            "센터명: 0개 (0.0%)\n",
            "연령대구분명: 0개 (0.0%)\n",
            "측정장소구분명: 0개 (0.0%)\n",
            "측정연령수: 0개 (0.0%)\n",
            "입력구분명: 0개 (0.0%)\n",
            "인증구분명: 0개 (0.0%)\n",
            "측정일자: 0개 (0.0%)\n",
            "성별구분코드: 0개 (0.0%)\n",
            "신장(cm): 1개 (0.0%)\n",
            "체중(kg): 5개 (0.0%)\n",
            "체지방율(%): 4개 (0.0%)\n",
            "허리둘레(cm): 41864개 (40.0%)\n",
            "이완기최저혈압(mmHg): 13개 (0.0%)\n",
            "수축기최고혈압(mmHg): 11개 (0.0%)\n",
            "악력_좌(kg): 129개 (0.0%)\n",
            "악력_우(kg): 123개 (0.0%)\n",
            "앉아윗몸앞으로굽히기(cm): 226개 (0.0%)\n",
            "BMI(kg/㎡): 0개 (0.0%)\n",
            "교차윗몸일으키기(회): 1481개 (1.0%)\n",
            "왕복오래달리기(회): 27141개 (26.0%)\n",
            "10M 4회 왕복달리기(초): 5461개 (5.0%)\n",
            "제자리 멀리뛰기(cm): 1661개 (2.0%)\n",
            "상대악력(%): 51개 (0.0%)\n",
            "왕복오래달리기출력(VO₂max): 27197개 (26.0%)\n",
            "스텝검사_회복시 심박수(bpm): 89827개 (85.0%)\n",
            "스텝검사출력(VO₂max): 89827개 (85.0%)\n",
            "운동처방내용: 0개 (0.0%)\n"
          ]
        },
        {
          "output_type": "execute_result",
          "data": {
            "text/plain": [
              "[]"
            ]
          },
          "metadata": {},
          "execution_count": 105
        }
      ]
    },
    {
      "cell_type": "code",
      "source": [
        "print(f'dataframe size: {df.shape}')"
      ],
      "metadata": {
        "colab": {
          "base_uri": "https://localhost:8080/"
        },
        "id": "9IQNj2q4McNw",
        "outputId": "285131e1-7556-4a77-dc67-48fe730c096e"
      },
      "execution_count": null,
      "outputs": [
        {
          "output_type": "stream",
          "name": "stdout",
          "text": [
            "dataframe size: (105648, 29)\n"
          ]
        }
      ]
    },
    {
      "cell_type": "markdown",
      "source": [
        "## 운동 칼럼 분리"
      ],
      "metadata": {
        "id": "WGqlhUMpMlh9"
      }
    },
    {
      "cell_type": "markdown",
      "source": [
        "기존 `운동처방내용` 칼럼 분석\n",
        "* string 타입\n",
        "* `준비 운동:${운동 나열}` / `본운동:${운동나열}` / `마무리운동:${운동나열}` 형태\n",
        "\n",
        "운동명 전처리\n",
        "* *골다공증을 위한 근력운동2, 골다공증을 위한 근력운동1* : 불필요한 숫자 존재\n",
        "* *목 굽힘/ 폄 II, 목 굽힘/ 폄 III* : 불필요한 로마자 숫자 존재"
      ],
      "metadata": {
        "id": "QQcTFHjyZiWh"
      }
    },
    {
      "cell_type": "markdown",
      "source": [
        "운동 칼럼 처리 목표\n",
        "1. `준비운동`, `본운동`, `마무리운동`으로 분리함\n",
        "2. 각 운동명에 `불필요한 숫자`와 `로마자 숫자`를 삭제함"
      ],
      "metadata": {
        "id": "GBMtM_BxaLqU"
      }
    },
    {
      "cell_type": "code",
      "source": [
        "# / 기준으로 구분된 준비운동, 본운동, 마무리운동을 분리해 하나의 리스트로 바꿈\n",
        "def value_to_list_col(df):\n",
        "  # 해당 칼럼에 null 값 있으면 람다 split 안 됨\n",
        "  df['split'] = df['운동처방내용'].apply(lambda x : x.split(' / '))\n",
        "  return df.drop('운동처방내용',axis=1)  "
      ],
      "metadata": {
        "id": "izWRGOGgMoCL"
      },
      "execution_count": null,
      "outputs": []
    },
    {
      "cell_type": "code",
      "source": [
        "# 운동처방이 준비운동, 본운동, 마무리운동인 3가지 모두 있는 경우만 남기고 나머지는 삭제\n",
        "def filter_col(df):\n",
        "  df['len_ex'] = df.apply(lambda x : len(x['split']), axis=1) \n",
        "  return df.loc[df['len_ex']==3].copy().drop('len_ex',axis=1).reset_index(drop=True) "
      ],
      "metadata": {
        "id": "qqiId4EmZHlW"
      },
      "execution_count": null,
      "outputs": []
    },
    {
      "cell_type": "code",
      "source": [
        "# input : DataFrame, remove keyword\n",
        "# return : Series\n",
        "\n",
        "def split_col(df, keyword): # keyword : 준비운동, 본운동, 마무리운동\n",
        "    index =  0 if keyword == '준비운동' else 1 if keyword == '본운동' else 2 if keyword =='마무리운동' else -1\n",
        "    if index == -1:\n",
        "        raise NameError('준비운동, 본운동, 마무리운동 이외의 값이 입력됐습니다.') \n",
        "    return df['split'].apply(lambda x : x[index].replace(keyword+':','')).copy()"
      ],
      "metadata": {
        "id": "oVxnRDq6WvQ9"
      },
      "execution_count": null,
      "outputs": []
    },
    {
      "cell_type": "code",
      "source": [
        "def process_ex_step(col_values,df):\n",
        "  keys = [\"pre_ex_col\",\"main_ex_col\",\"finish_ex_col\"]\n",
        "  #values = [\"준비운동\", \"본운동\",\"마무리운동\"]\n",
        "  keywords = dict(zip(keys,col_values))\n",
        "  for idx,keyword in enumerate(keywords.values()):\n",
        "    #print(idx, keyword , col_values[idx])\n",
        "    df[col_values[idx]] = split_col(df, keyword)\n",
        "  df.drop([\"split\"],axis=1,inplace=True)\n",
        "  return df"
      ],
      "metadata": {
        "id": "OoMmvWytcjc-"
      },
      "execution_count": null,
      "outputs": []
    },
    {
      "cell_type": "code",
      "source": [
        "def clean_ex_strings(col_values,df):\n",
        "  regex = {\"[~^0-9]\":\"\", \"(IX|IV|V?I{0,3})\":\"\",\"\\s+\":\" \",\"[~ ]+,\":\",\"}\n",
        "  # 불필요한 숫자 삭제, 불필요한 로마자 숫자 삭제, 불필요한 다중 공백을 단일 공백으로, 쉽표 앞 불필요한 공백 제거\n",
        "  for step_ex in col_values:\n",
        "    for pattern in regex:\n",
        "      df[step_ex] = df[step_ex].apply(lambda x : re.sub(pattern, regex[pattern], x)) \n",
        "\n",
        "  return df\n"
      ],
      "metadata": {
        "id": "INGQ7e3atViI"
      },
      "execution_count": null,
      "outputs": []
    },
    {
      "cell_type": "code",
      "source": [
        "col_values = [\"준비운동\", \"본운동\",\"마무리운동\"]"
      ],
      "metadata": {
        "id": "Xr7xkUiZxXt4"
      },
      "execution_count": null,
      "outputs": []
    },
    {
      "cell_type": "code",
      "source": [
        "def process_ex_col(df):\n",
        "  df = value_to_list_col(df)\n",
        "  df = filter_col(df)\n",
        "  df = process_ex_step(col_values,df)\n",
        "  return df"
      ],
      "metadata": {
        "id": "j4xNYK0GPKok"
      },
      "execution_count": null,
      "outputs": []
    },
    {
      "cell_type": "code",
      "source": [
        "df = process_ex_col(df)"
      ],
      "metadata": {
        "id": "J8MQicNGVUr0"
      },
      "execution_count": null,
      "outputs": []
    },
    {
      "cell_type": "code",
      "source": [
        "print(df[\"준비운동\"].iloc[80])\n",
        "print(df[\"준비운동\"].iloc[101])\n",
        "print(df[\"준비운동\"].iloc[1000])\n",
        "print()\n",
        "print(df[\"본운동\"].iloc[80])\n",
        "print(df[\"본운동\"].iloc[101])\n",
        "print(df[\"본운동\"].iloc[1000])\n",
        "print()\n",
        "print(df[\"마무리운동\"].iloc[80])\n",
        "print(df[\"마무리운동\"].iloc[101])\n",
        "print(df[\"마무리운동\"].iloc[1000])"
      ],
      "metadata": {
        "colab": {
          "base_uri": "https://localhost:8080/"
        },
        "id": "U36wApsovLvq",
        "outputId": "e9ea496d-8e5f-448f-acca-63812a95e471"
      },
      "execution_count": null,
      "outputs": [
        {
          "output_type": "stream",
          "name": "stdout",
          "text": [
            "계단 올라갔다 내려오기\n",
            "걷기,유산소 운동 전 동적 루틴 스트레칭\n",
            "줄넘기,목 스트레칭,등/어깨 뒤쪽 스트레칭,유산소 운동 전 동적 루틴 스트레칭,아래 팔 스트레칭\n",
            "\n",
            "달리기,계단 올라갔다 내려오기\n",
            "맨몸운동  루틴프로그램,팔벌려뛰기,사다리 옆으로 발 옮기기,옆으로 펀치하기,스텝퍼 오르내리기,무릎 높여 제자리 달리기\n",
            "앉았다 일어서기,한발 앞으로 내밀고 앉았다 일어서기,턱걸이,점프 팔굽혀펴기,소파를 이용한 윗몸올리기,엎드려 버티기\n",
            "\n",
            "자가근막이완술 루틴 스트레칭\n",
            "전신 루틴 스트레칭\n",
            "하지 루틴 스트레칭1,하지 루틴 스트레칭2,상지 루틴 스트레칭,자가근막이완술 루틴 스트레칭\n"
          ]
        }
      ]
    },
    {
      "cell_type": "code",
      "source": [
        "df = clean_ex_strings(col_values, df)"
      ],
      "metadata": {
        "id": "GrVW74B6vfT4"
      },
      "execution_count": null,
      "outputs": []
    },
    {
      "cell_type": "code",
      "source": [
        "print(df[\"준비운동\"].iloc[80])\n",
        "print(df[\"준비운동\"].iloc[101])\n",
        "print(df[\"준비운동\"].iloc[1000])\n",
        "print()\n",
        "print(df[\"본운동\"].iloc[80])\n",
        "print(df[\"본운동\"].iloc[101])\n",
        "print(df[\"본운동\"].iloc[1000])\n",
        "print()\n",
        "print(df[\"마무리운동\"].iloc[80])\n",
        "print(df[\"마무리운동\"].iloc[101])\n",
        "print(df[\"마무리운동\"].iloc[1000])"
      ],
      "metadata": {
        "colab": {
          "base_uri": "https://localhost:8080/"
        },
        "id": "zRfFmCV6fwrK",
        "outputId": "fe1137df-15b7-4db9-9d05-b8b854003191"
      },
      "execution_count": null,
      "outputs": [
        {
          "output_type": "stream",
          "name": "stdout",
          "text": [
            "계단 올라갔다 내려오기\n",
            "걷기,유산소 운동 전 동적 루틴 스트레칭\n",
            "줄넘기,목 스트레칭,등/어깨 뒤쪽 스트레칭,유산소 운동 전 동적 루틴 스트레칭,아래 팔 스트레칭\n",
            "\n",
            "달리기,계단 올라갔다 내려오기\n",
            "맨몸운동 루틴프로그램,팔벌려뛰기,사다리 옆으로 발 옮기기,옆으로 펀치하기,스텝퍼 오르내리기,무릎 높여 제자리 달리기\n",
            "앉았다 일어서기,한발 앞으로 내밀고 앉았다 일어서기,턱걸이,점프 팔굽혀펴기,소파를 이용한 윗몸올리기,엎드려 버티기\n",
            "\n",
            "자가근막이완술 루틴 스트레칭\n",
            "전신 루틴 스트레칭\n",
            "하지 루틴 스트레칭,하지 루틴 스트레칭,상지 루틴 스트레칭,자가근막이완술 루틴 스트레칭\n"
          ]
        }
      ]
    },
    {
      "cell_type": "markdown",
      "source": [
        "## 운동명칭 통일"
      ],
      "metadata": {
        "id": "Rvvxqp7c0N44"
      }
    },
    {
      "cell_type": "code",
      "source": [
        "df[col_values]"
      ],
      "metadata": {
        "colab": {
          "base_uri": "https://localhost:8080/",
          "height": 423
        },
        "id": "Y2HuTRoB6ZmB",
        "outputId": "840d8cb8-1fb3-4996-fa9c-f849f6ba3501"
      },
      "execution_count": null,
      "outputs": [
        {
          "output_type": "execute_result",
          "data": {
            "text/plain": [
              "                                                    준비운동  \\\n",
              "0                                  상지 루틴 스트레칭,전신 루틴 스트레칭   \n",
              "1      깍지 끼고 상체 숙이기,목 스트레칭,등/어깨 뒤쪽 스트레칭,어깨 뒤쪽 스트레칭,아래...   \n",
              "2      깍지 끼고 상체 숙이기,목 스트레칭,등/어깨 뒤쪽 스트레칭,어깨 뒤쪽 스트레칭,아래...   \n",
              "3      깍지 끼고 상체 숙이기,목 스트레칭,등/어깨 뒤쪽 스트레칭,어깨 뒤쪽 스트레칭,아래...   \n",
              "4      깍지 끼고 상체 숙이기,목 스트레칭,등/어깨 뒤쪽 스트레칭,어깨 뒤쪽 스트레칭,아래...   \n",
              "...                                                  ...   \n",
              "49428                             걷기,유산소 운동 전 동적 루틴 스트레칭   \n",
              "49429                                                 걷기   \n",
              "49430              걷기,줄넘기,전신 루틴 스트레칭,유산소 운동 전 동적 루틴 스트레칭   \n",
              "49431  상지 루틴 스트레칭,하지 루틴 스트레칭,하지 루틴 스트레칭,전신 루틴 스트레칭,유산...   \n",
              "49432                     전신 루틴 스트레칭,유산소 운동 전 동적 루틴 스트레칭   \n",
              "\n",
              "                                                     본운동  \\\n",
              "0      윗몸올리기,엎드려 버티기,누워서 다리 들어올리기,누워서 수직으로 다리 들어올리기,누...   \n",
              "1      몸통 들어올리기,소파를 이용한 윗몸올리기,엎드려 버티기,옆으로 누워 버티기,네발기기...   \n",
              "2      몸통 들어올리기,소파를 이용한 윗몸올리기,엎드려 버티기,옆으로 누워 버티기,네발기기...   \n",
              "3      몸통 들어올리기,소파를 이용한 윗몸올리기,엎드려 버티기,옆으로 누워 버티기,네발기기...   \n",
              "4      몸통 들어올리기,소파를 이용한 윗몸올리기,엎드려 버티기,옆으로 누워 버티기,네발기기...   \n",
              "...                                                  ...   \n",
              "49428  맨몸운동 루틴프로그램,팔벌려뛰기,사다리 옆으로 발 옮기기,옆으로 펀치하기,스텝퍼 오...   \n",
              "49429                                  달리기,무릎 높여 제자리 달리기   \n",
              "49430  서서 상체 일으키기,앉았다 일어서기,소파를 이용한 윗몸올리기,엎드려 버티기,네발기기...   \n",
              "49431  탄력밴드 어깨 가쪽 돌림,서서 탄력밴드 당겨내리기/올리기,엎드려 버티기,누워서 다리...   \n",
              "49432  윗몸 말아 올리기,윗몸올리기,누워서 다리 들어올리기,누워서 팔 다리 동시에 들어올리...   \n",
              "\n",
              "                                                   마무리운동  \n",
              "0                       하지 루틴 스트레칭,하지 루틴 스트레칭,전신 루틴 스트레칭  \n",
              "1      깍지 끼고 상체 숙이기,목 스트레칭,등/어깨 뒤쪽 스트레칭,아래 팔 스트레칭,넙다리...  \n",
              "2      깍지 끼고 상체 숙이기,목 스트레칭,등/어깨 뒤쪽 스트레칭,아래 팔 스트레칭,넙다리...  \n",
              "3      깍지 끼고 상체 숙이기,목 스트레칭,등/어깨 뒤쪽 스트레칭,아래 팔 스트레칭,넙다리...  \n",
              "4      깍지 끼고 상체 숙이기,목 스트레칭,등/어깨 뒤쪽 스트레칭,아래 팔 스트레칭,넙다리...  \n",
              "...                                                  ...  \n",
              "49428                                         전신 루틴 스트레칭  \n",
              "49429                                         전신 루틴 스트레칭  \n",
              "49430   하지 루틴 스트레칭,하지 루틴 스트레칭,상지 루틴 스트레칭,자가근막이완술 루틴 스트레칭  \n",
              "49431  목 스트레칭,허리 스트레칭,배스트레칭,짐볼을 이용한 동적 루틴 스트레칭,작은 공을 ...  \n",
              "49432                                         전신 루틴 스트레칭  \n",
              "\n",
              "[49433 rows x 3 columns]"
            ],
            "text/html": [
              "\n",
              "  <div id=\"df-521ec04b-9fe7-4c37-9b67-64d9f3d60081\">\n",
              "    <div class=\"colab-df-container\">\n",
              "      <div>\n",
              "<style scoped>\n",
              "    .dataframe tbody tr th:only-of-type {\n",
              "        vertical-align: middle;\n",
              "    }\n",
              "\n",
              "    .dataframe tbody tr th {\n",
              "        vertical-align: top;\n",
              "    }\n",
              "\n",
              "    .dataframe thead th {\n",
              "        text-align: right;\n",
              "    }\n",
              "</style>\n",
              "<table border=\"1\" class=\"dataframe\">\n",
              "  <thead>\n",
              "    <tr style=\"text-align: right;\">\n",
              "      <th></th>\n",
              "      <th>준비운동</th>\n",
              "      <th>본운동</th>\n",
              "      <th>마무리운동</th>\n",
              "    </tr>\n",
              "  </thead>\n",
              "  <tbody>\n",
              "    <tr>\n",
              "      <th>0</th>\n",
              "      <td>상지 루틴 스트레칭,전신 루틴 스트레칭</td>\n",
              "      <td>윗몸올리기,엎드려 버티기,누워서 다리 들어올리기,누워서 수직으로 다리 들어올리기,누...</td>\n",
              "      <td>하지 루틴 스트레칭,하지 루틴 스트레칭,전신 루틴 스트레칭</td>\n",
              "    </tr>\n",
              "    <tr>\n",
              "      <th>1</th>\n",
              "      <td>깍지 끼고 상체 숙이기,목 스트레칭,등/어깨 뒤쪽 스트레칭,어깨 뒤쪽 스트레칭,아래...</td>\n",
              "      <td>몸통 들어올리기,소파를 이용한 윗몸올리기,엎드려 버티기,옆으로 누워 버티기,네발기기...</td>\n",
              "      <td>깍지 끼고 상체 숙이기,목 스트레칭,등/어깨 뒤쪽 스트레칭,아래 팔 스트레칭,넙다리...</td>\n",
              "    </tr>\n",
              "    <tr>\n",
              "      <th>2</th>\n",
              "      <td>깍지 끼고 상체 숙이기,목 스트레칭,등/어깨 뒤쪽 스트레칭,어깨 뒤쪽 스트레칭,아래...</td>\n",
              "      <td>몸통 들어올리기,소파를 이용한 윗몸올리기,엎드려 버티기,옆으로 누워 버티기,네발기기...</td>\n",
              "      <td>깍지 끼고 상체 숙이기,목 스트레칭,등/어깨 뒤쪽 스트레칭,아래 팔 스트레칭,넙다리...</td>\n",
              "    </tr>\n",
              "    <tr>\n",
              "      <th>3</th>\n",
              "      <td>깍지 끼고 상체 숙이기,목 스트레칭,등/어깨 뒤쪽 스트레칭,어깨 뒤쪽 스트레칭,아래...</td>\n",
              "      <td>몸통 들어올리기,소파를 이용한 윗몸올리기,엎드려 버티기,옆으로 누워 버티기,네발기기...</td>\n",
              "      <td>깍지 끼고 상체 숙이기,목 스트레칭,등/어깨 뒤쪽 스트레칭,아래 팔 스트레칭,넙다리...</td>\n",
              "    </tr>\n",
              "    <tr>\n",
              "      <th>4</th>\n",
              "      <td>깍지 끼고 상체 숙이기,목 스트레칭,등/어깨 뒤쪽 스트레칭,어깨 뒤쪽 스트레칭,아래...</td>\n",
              "      <td>몸통 들어올리기,소파를 이용한 윗몸올리기,엎드려 버티기,옆으로 누워 버티기,네발기기...</td>\n",
              "      <td>깍지 끼고 상체 숙이기,목 스트레칭,등/어깨 뒤쪽 스트레칭,아래 팔 스트레칭,넙다리...</td>\n",
              "    </tr>\n",
              "    <tr>\n",
              "      <th>...</th>\n",
              "      <td>...</td>\n",
              "      <td>...</td>\n",
              "      <td>...</td>\n",
              "    </tr>\n",
              "    <tr>\n",
              "      <th>49428</th>\n",
              "      <td>걷기,유산소 운동 전 동적 루틴 스트레칭</td>\n",
              "      <td>맨몸운동 루틴프로그램,팔벌려뛰기,사다리 옆으로 발 옮기기,옆으로 펀치하기,스텝퍼 오...</td>\n",
              "      <td>전신 루틴 스트레칭</td>\n",
              "    </tr>\n",
              "    <tr>\n",
              "      <th>49429</th>\n",
              "      <td>걷기</td>\n",
              "      <td>달리기,무릎 높여 제자리 달리기</td>\n",
              "      <td>전신 루틴 스트레칭</td>\n",
              "    </tr>\n",
              "    <tr>\n",
              "      <th>49430</th>\n",
              "      <td>걷기,줄넘기,전신 루틴 스트레칭,유산소 운동 전 동적 루틴 스트레칭</td>\n",
              "      <td>서서 상체 일으키기,앉았다 일어서기,소파를 이용한 윗몸올리기,엎드려 버티기,네발기기...</td>\n",
              "      <td>하지 루틴 스트레칭,하지 루틴 스트레칭,상지 루틴 스트레칭,자가근막이완술 루틴 스트레칭</td>\n",
              "    </tr>\n",
              "    <tr>\n",
              "      <th>49431</th>\n",
              "      <td>상지 루틴 스트레칭,하지 루틴 스트레칭,하지 루틴 스트레칭,전신 루틴 스트레칭,유산...</td>\n",
              "      <td>탄력밴드 어깨 가쪽 돌림,서서 탄력밴드 당겨내리기/올리기,엎드려 버티기,누워서 다리...</td>\n",
              "      <td>목 스트레칭,허리 스트레칭,배스트레칭,짐볼을 이용한 동적 루틴 스트레칭,작은 공을 ...</td>\n",
              "    </tr>\n",
              "    <tr>\n",
              "      <th>49432</th>\n",
              "      <td>전신 루틴 스트레칭,유산소 운동 전 동적 루틴 스트레칭</td>\n",
              "      <td>윗몸 말아 올리기,윗몸올리기,누워서 다리 들어올리기,누워서 팔 다리 동시에 들어올리...</td>\n",
              "      <td>전신 루틴 스트레칭</td>\n",
              "    </tr>\n",
              "  </tbody>\n",
              "</table>\n",
              "<p>49433 rows × 3 columns</p>\n",
              "</div>\n",
              "      <button class=\"colab-df-convert\" onclick=\"convertToInteractive('df-521ec04b-9fe7-4c37-9b67-64d9f3d60081')\"\n",
              "              title=\"Convert this dataframe to an interactive table.\"\n",
              "              style=\"display:none;\">\n",
              "        \n",
              "  <svg xmlns=\"http://www.w3.org/2000/svg\" height=\"24px\"viewBox=\"0 0 24 24\"\n",
              "       width=\"24px\">\n",
              "    <path d=\"M0 0h24v24H0V0z\" fill=\"none\"/>\n",
              "    <path d=\"M18.56 5.44l.94 2.06.94-2.06 2.06-.94-2.06-.94-.94-2.06-.94 2.06-2.06.94zm-11 1L8.5 8.5l.94-2.06 2.06-.94-2.06-.94L8.5 2.5l-.94 2.06-2.06.94zm10 10l.94 2.06.94-2.06 2.06-.94-2.06-.94-.94-2.06-.94 2.06-2.06.94z\"/><path d=\"M17.41 7.96l-1.37-1.37c-.4-.4-.92-.59-1.43-.59-.52 0-1.04.2-1.43.59L10.3 9.45l-7.72 7.72c-.78.78-.78 2.05 0 2.83L4 21.41c.39.39.9.59 1.41.59.51 0 1.02-.2 1.41-.59l7.78-7.78 2.81-2.81c.8-.78.8-2.07 0-2.86zM5.41 20L4 18.59l7.72-7.72 1.47 1.35L5.41 20z\"/>\n",
              "  </svg>\n",
              "      </button>\n",
              "      \n",
              "  <style>\n",
              "    .colab-df-container {\n",
              "      display:flex;\n",
              "      flex-wrap:wrap;\n",
              "      gap: 12px;\n",
              "    }\n",
              "\n",
              "    .colab-df-convert {\n",
              "      background-color: #E8F0FE;\n",
              "      border: none;\n",
              "      border-radius: 50%;\n",
              "      cursor: pointer;\n",
              "      display: none;\n",
              "      fill: #1967D2;\n",
              "      height: 32px;\n",
              "      padding: 0 0 0 0;\n",
              "      width: 32px;\n",
              "    }\n",
              "\n",
              "    .colab-df-convert:hover {\n",
              "      background-color: #E2EBFA;\n",
              "      box-shadow: 0px 1px 2px rgba(60, 64, 67, 0.3), 0px 1px 3px 1px rgba(60, 64, 67, 0.15);\n",
              "      fill: #174EA6;\n",
              "    }\n",
              "\n",
              "    [theme=dark] .colab-df-convert {\n",
              "      background-color: #3B4455;\n",
              "      fill: #D2E3FC;\n",
              "    }\n",
              "\n",
              "    [theme=dark] .colab-df-convert:hover {\n",
              "      background-color: #434B5C;\n",
              "      box-shadow: 0px 1px 3px 1px rgba(0, 0, 0, 0.15);\n",
              "      filter: drop-shadow(0px 1px 2px rgba(0, 0, 0, 0.3));\n",
              "      fill: #FFFFFF;\n",
              "    }\n",
              "  </style>\n",
              "\n",
              "      <script>\n",
              "        const buttonEl =\n",
              "          document.querySelector('#df-521ec04b-9fe7-4c37-9b67-64d9f3d60081 button.colab-df-convert');\n",
              "        buttonEl.style.display =\n",
              "          google.colab.kernel.accessAllowed ? 'block' : 'none';\n",
              "\n",
              "        async function convertToInteractive(key) {\n",
              "          const element = document.querySelector('#df-521ec04b-9fe7-4c37-9b67-64d9f3d60081');\n",
              "          const dataTable =\n",
              "            await google.colab.kernel.invokeFunction('convertToInteractive',\n",
              "                                                     [key], {});\n",
              "          if (!dataTable) return;\n",
              "\n",
              "          const docLinkHtml = 'Like what you see? Visit the ' +\n",
              "            '<a target=\"_blank\" href=https://colab.research.google.com/notebooks/data_table.ipynb>data table notebook</a>'\n",
              "            + ' to learn more about interactive tables.';\n",
              "          element.innerHTML = '';\n",
              "          dataTable['output_type'] = 'display_data';\n",
              "          await google.colab.output.renderOutput(dataTable, element);\n",
              "          const docLink = document.createElement('div');\n",
              "          docLink.innerHTML = docLinkHtml;\n",
              "          element.appendChild(docLink);\n",
              "        }\n",
              "      </script>\n",
              "    </div>\n",
              "  </div>\n",
              "  "
            ]
          },
          "metadata": {},
          "execution_count": 118
        }
      ]
    },
    {
      "cell_type": "code",
      "source": [
        "ex_name_dict = {\n",
        "    '회전근개 스트레칭2':'회전근개 스트레칭',\n",
        "    '골다공증을 위한 근력운동2':'골다공증을 위한 근력운동',\n",
        "    '골다공증을 위한 근력운동1':'골다공증을 위한 근력운동',\n",
        "    '엉덩이 스트레칭2':'엉덩이 스트레칭',\n",
        "    '골반 스트레칭2':'골반 스트레칭',\n",
        "    '관절염을 위한 근력운동2':'관절염을 위한 근력운동',\n",
        "    '관절염을 위한 근력운동1':'관절염을 위한 근력운동',\n",
        "    '순간반응 콘 찍기 2':'순간반응 콘 찍기',\n",
        "    '마주 앉아 대퇴이두근 스트레칭2':'마주 앉아 대퇴이두근 스트레칭',\n",
        "    '2단 줄넘기':'줄넘기',\n",
        "    '1단 줄넘기':'줄넘기',\n",
        "    '줄넘기 운동':'줄넘기',\n",
        "    '대퇴이두근 스트레칭2':'대퇴이두근 스트레칭',\n",
        "    '요통을 위한 스트레칭2':'요통을 위한 스트레칭',\n",
        "    '요통을 위한 스트레칭1':'요통을 위한 스트레칭',\n",
        "    '하지 루틴 스트레칭1':'하지 루틴 스트레칭',\n",
        "    '하지 루틴 스트레칭2':'하지 루틴 스트레칭',\n",
        "    '계단 두 칸씩 뛰기':'계단 뛰기',\n",
        "    '계단 두발 뛰기':'계단 뛰기',\n",
        "    '계단 뛰어 오르기':'계단 뛰기',\n",
        "    '계단 한발 뛰기':'계단 뛰기',\n",
        "    '계단 뛰어 오르기':'계단 뛰기',\n",
        "    '넙다리 뒤쪽 스트레칭':'넙다리 스트레칭',\n",
        "    '넙다리 안쪽 스트레칭':'넙다리 스트레칭',\n",
        "    '넙다리 앞쪽 스트레칭':'넙다리 스트레칭',\n",
        "    '목 굽힘/ 폄 I':'목 굽힘/ 폄',\n",
        "    '목 굽힘/ 폄 II':'목 굽힘/ 폄',\n",
        "    '목 굽힘/ 폄 III':'목 굽힘/ 폄',\n",
        "    '누워서 배가로근 수축 I':'누워서 배가로근 수축',\n",
        "    '누워서 배가로근 수축 II':'누워서 배가로근 수축',\n",
        "    '서서 다리로 탄력밴드 당기기 II':'서서 다리로 탄력밴드 당기기',\n",
        "    '서서 다리로 탄력밴드 당기기 I':'서서 다리로 탄력밴드 당기기',\n",
        "    '등척성운동-바깥돌림':'등척성운동',\n",
        "    '등척성운동-벌림':'등척성운동',\n",
        "    '등척성운동-안쪽 돌림':'등척성운동',\n",
        "    '목 당기기':'목 스트레칭',\n",
        "    '목 돌리기':'목 스트레칭',\n",
        "    '목 돌림 스트레칭':'목 스트레칭',\n",
        "    '바벨 잡고 들어올리기':'바벨들어올리기',\n",
        "    '버피 테스트':'버피운동',\n",
        "    '베개 밟고 교차 서기':'베개 밟고 서기',\n",
        "    '베개 밟고 대각방향으로 서기':'베개 밟고 서기',\n",
        "    '베개 밟고 두발 모아 서기':'베개 밟고 서기',\n",
        "    '베개 밟고 서기':'베게 밟고 서기',\n",
        "    '베개 밟고 서기 평형성 운동 루틴 프로그램':'베개 밟고 서기', \n",
        "    '사다리 운동  루틴프로그램':'사다리 이용 루틴 운동',\n",
        "    '실내 자전거타기':'자전거타기',\n",
        "    '실외 자전거타기':'자전거타기',\n",
        "    '고정식 자전거 타기':'자전거타기',\n",
        "    '아쿠아로빅':'아쿠아로빅', \n",
        "    '아쿠아로빅-몸 기울이기/회전하기':'아쿠아로빅', \n",
        "    '아쿠아로빅-물누르기/올리기':'아쿠아로빅',\n",
        "    '아쿠아로빅-물당기기/밀기':'아쿠아로빅',\n",
        "    '아쿠아로빅-발 닿기':'아쿠아로빅',\n",
        "    '아쿠아로빅-엉덩관절 회전하기':'아쿠아로빅',\n",
        "    '아쿠아로빅-옆구리 늘리기':'아쿠아로빅',\n",
        "    '고정식 트레드밀에서 걷기':'걷기', \n",
        "    '트레드밀에서 걷기':'걷기',\n",
        "    '조깅':'달리기',\n",
        "    '배스트레칭':'배 스트레칭',\n",
        "    '윗몸말아올리기':'윗몸 말아 올리기'\n",
        "      }\n",
        "     "
      ],
      "metadata": {
        "id": "Xn4Cgd6CzHKl"
      },
      "execution_count": null,
      "outputs": []
    },
    {
      "cell_type": "code",
      "source": [
        "# ex_name_dict을 참고하여 운동 이름을 통일\n",
        "# input : DataFrame\n",
        "# output : DataFrame\n",
        "\n",
        "def unify_name(df,col_values):\n",
        "  tmp_list = []\n",
        "  #index = df.name\n",
        "  column_list = col_values\n",
        "  for column in column_list:\n",
        "    ex_list = df[column].str.split(',')\n",
        "    for idx,ex_item in enumerate(ex_list):\n",
        "      #print(\"++++++\")\n",
        "      #print(ex_item)\n",
        "      for temp_idx, ex in enumerate(ex_item):\n",
        "        value = ex\n",
        "        if ex in ex_name_dict.keys():\n",
        "          #print(\"change\",idx, column)\n",
        "          ex_item[temp_idx] = ex_name_dict[ex]\n",
        "      ex_list[idx] = \",\".join(ex_item)\n",
        "      #print(ex_list[idx])\n",
        "      #print(\"++++++\")\n",
        "    df[column] = ex_list\n",
        "  return df\n"
      ],
      "metadata": {
        "id": "VMD5W6Tbx3Qy"
      },
      "execution_count": null,
      "outputs": []
    },
    {
      "cell_type": "code",
      "source": [
        "df = unify_name(df,col_values)"
      ],
      "metadata": {
        "id": "6y6AvCz56GNu"
      },
      "execution_count": null,
      "outputs": []
    },
    {
      "cell_type": "code",
      "source": [
        "## 준비운동, 본운동, 마무리 운동 리스트 회\n",
        "#df['준비운동'] = df[\"준비운동\"].apply(lambda x: x.split(','))\n",
        "#df['본운동'] = df[\"본운동\"].apply(lambda x: x.split(','))\n",
        "#df['마무리운동'] = df[\"마무리운동\"].apply(lambda x: x.split(','))"
      ],
      "metadata": {
        "id": "VucKQihAV02u"
      },
      "execution_count": null,
      "outputs": []
    },
    {
      "cell_type": "code",
      "source": [
        "df.head(3)"
      ],
      "metadata": {
        "id": "CJtGod22ys34",
        "colab": {
          "base_uri": "https://localhost:8080/",
          "height": 355
        },
        "outputId": "02a062ff-e0b6-46cf-9482-c515956f58a1"
      },
      "execution_count": null,
      "outputs": [
        {
          "output_type": "execute_result",
          "data": {
            "text/plain": [
              "                    회원일련번호값  측정일련번호 센터명 연령대구분명 측정장소구분명  측정연령수 입력구분명 인증구분명  \\\n",
              "0  AAG5scSkx90/QuAl06tA8wuC       1  성남     성인      일반     59   관리자   참가증   \n",
              "1  AAHMUHU8ZnWT2Dqdgq5QIMrm       1  춘천     성인      일반     60   관리자   참가증   \n",
              "2  AAEIkFejDxJhMG7x6KPtE45Z       1  춘천     성인      일반     64   관리자   2등급   \n",
              "\n",
              "       측정일자 성별구분코드  ...  왕복오래달리기(회)  10M 4회 왕복달리기(초)  제자리 멀리뛰기(cm)  상대악력(%)  \\\n",
              "0  20190102      F  ...        11.0            15.76         126.0     41.0   \n",
              "1  20190102      F  ...         8.0            16.03         107.0     30.1   \n",
              "2  20190102      M  ...        20.0            13.00         169.0     61.5   \n",
              "\n",
              "   왕복오래달리기출력(VO₂max)  스텝검사_회복시 심박수(bpm)  스텝검사출력(VO₂max)  \\\n",
              "0               29.0                NaN             NaN   \n",
              "1               27.7                NaN             NaN   \n",
              "2               36.0                NaN             NaN   \n",
              "\n",
              "                                                준비운동  \\\n",
              "0                              상지 루틴 스트레칭,전신 루틴 스트레칭   \n",
              "1  깍지 끼고 상체 숙이기,목 스트레칭,등/어깨 뒤쪽 스트레칭,어깨 뒤쪽 스트레칭,아래...   \n",
              "2  깍지 끼고 상체 숙이기,목 스트레칭,등/어깨 뒤쪽 스트레칭,어깨 뒤쪽 스트레칭,아래...   \n",
              "\n",
              "                                                 본운동  \\\n",
              "0  윗몸올리기,엎드려 버티기,누워서 다리 들어올리기,누워서 수직으로 다리 들어올리기,누...   \n",
              "1  몸통 들어올리기,소파를 이용한 윗몸올리기,엎드려 버티기,옆으로 누워 버티기,네발기기...   \n",
              "2  몸통 들어올리기,소파를 이용한 윗몸올리기,엎드려 버티기,옆으로 누워 버티기,네발기기...   \n",
              "\n",
              "                                               마무리운동  \n",
              "0                   하지 루틴 스트레칭,하지 루틴 스트레칭,전신 루틴 스트레칭  \n",
              "1  깍지 끼고 상체 숙이기,목 스트레칭,등/어깨 뒤쪽 스트레칭,아래 팔 스트레칭,넙다리...  \n",
              "2  깍지 끼고 상체 숙이기,목 스트레칭,등/어깨 뒤쪽 스트레칭,아래 팔 스트레칭,넙다리...  \n",
              "\n",
              "[3 rows x 31 columns]"
            ],
            "text/html": [
              "\n",
              "  <div id=\"df-1510c8a9-95bb-4163-840c-596d57560581\">\n",
              "    <div class=\"colab-df-container\">\n",
              "      <div>\n",
              "<style scoped>\n",
              "    .dataframe tbody tr th:only-of-type {\n",
              "        vertical-align: middle;\n",
              "    }\n",
              "\n",
              "    .dataframe tbody tr th {\n",
              "        vertical-align: top;\n",
              "    }\n",
              "\n",
              "    .dataframe thead th {\n",
              "        text-align: right;\n",
              "    }\n",
              "</style>\n",
              "<table border=\"1\" class=\"dataframe\">\n",
              "  <thead>\n",
              "    <tr style=\"text-align: right;\">\n",
              "      <th></th>\n",
              "      <th>회원일련번호값</th>\n",
              "      <th>측정일련번호</th>\n",
              "      <th>센터명</th>\n",
              "      <th>연령대구분명</th>\n",
              "      <th>측정장소구분명</th>\n",
              "      <th>측정연령수</th>\n",
              "      <th>입력구분명</th>\n",
              "      <th>인증구분명</th>\n",
              "      <th>측정일자</th>\n",
              "      <th>성별구분코드</th>\n",
              "      <th>...</th>\n",
              "      <th>왕복오래달리기(회)</th>\n",
              "      <th>10M 4회 왕복달리기(초)</th>\n",
              "      <th>제자리 멀리뛰기(cm)</th>\n",
              "      <th>상대악력(%)</th>\n",
              "      <th>왕복오래달리기출력(VO₂max)</th>\n",
              "      <th>스텝검사_회복시 심박수(bpm)</th>\n",
              "      <th>스텝검사출력(VO₂max)</th>\n",
              "      <th>준비운동</th>\n",
              "      <th>본운동</th>\n",
              "      <th>마무리운동</th>\n",
              "    </tr>\n",
              "  </thead>\n",
              "  <tbody>\n",
              "    <tr>\n",
              "      <th>0</th>\n",
              "      <td>AAG5scSkx90/QuAl06tA8wuC</td>\n",
              "      <td>1</td>\n",
              "      <td>성남</td>\n",
              "      <td>성인</td>\n",
              "      <td>일반</td>\n",
              "      <td>59</td>\n",
              "      <td>관리자</td>\n",
              "      <td>참가증</td>\n",
              "      <td>20190102</td>\n",
              "      <td>F</td>\n",
              "      <td>...</td>\n",
              "      <td>11.0</td>\n",
              "      <td>15.76</td>\n",
              "      <td>126.0</td>\n",
              "      <td>41.0</td>\n",
              "      <td>29.0</td>\n",
              "      <td>NaN</td>\n",
              "      <td>NaN</td>\n",
              "      <td>상지 루틴 스트레칭,전신 루틴 스트레칭</td>\n",
              "      <td>윗몸올리기,엎드려 버티기,누워서 다리 들어올리기,누워서 수직으로 다리 들어올리기,누...</td>\n",
              "      <td>하지 루틴 스트레칭,하지 루틴 스트레칭,전신 루틴 스트레칭</td>\n",
              "    </tr>\n",
              "    <tr>\n",
              "      <th>1</th>\n",
              "      <td>AAHMUHU8ZnWT2Dqdgq5QIMrm</td>\n",
              "      <td>1</td>\n",
              "      <td>춘천</td>\n",
              "      <td>성인</td>\n",
              "      <td>일반</td>\n",
              "      <td>60</td>\n",
              "      <td>관리자</td>\n",
              "      <td>참가증</td>\n",
              "      <td>20190102</td>\n",
              "      <td>F</td>\n",
              "      <td>...</td>\n",
              "      <td>8.0</td>\n",
              "      <td>16.03</td>\n",
              "      <td>107.0</td>\n",
              "      <td>30.1</td>\n",
              "      <td>27.7</td>\n",
              "      <td>NaN</td>\n",
              "      <td>NaN</td>\n",
              "      <td>깍지 끼고 상체 숙이기,목 스트레칭,등/어깨 뒤쪽 스트레칭,어깨 뒤쪽 스트레칭,아래...</td>\n",
              "      <td>몸통 들어올리기,소파를 이용한 윗몸올리기,엎드려 버티기,옆으로 누워 버티기,네발기기...</td>\n",
              "      <td>깍지 끼고 상체 숙이기,목 스트레칭,등/어깨 뒤쪽 스트레칭,아래 팔 스트레칭,넙다리...</td>\n",
              "    </tr>\n",
              "    <tr>\n",
              "      <th>2</th>\n",
              "      <td>AAEIkFejDxJhMG7x6KPtE45Z</td>\n",
              "      <td>1</td>\n",
              "      <td>춘천</td>\n",
              "      <td>성인</td>\n",
              "      <td>일반</td>\n",
              "      <td>64</td>\n",
              "      <td>관리자</td>\n",
              "      <td>2등급</td>\n",
              "      <td>20190102</td>\n",
              "      <td>M</td>\n",
              "      <td>...</td>\n",
              "      <td>20.0</td>\n",
              "      <td>13.00</td>\n",
              "      <td>169.0</td>\n",
              "      <td>61.5</td>\n",
              "      <td>36.0</td>\n",
              "      <td>NaN</td>\n",
              "      <td>NaN</td>\n",
              "      <td>깍지 끼고 상체 숙이기,목 스트레칭,등/어깨 뒤쪽 스트레칭,어깨 뒤쪽 스트레칭,아래...</td>\n",
              "      <td>몸통 들어올리기,소파를 이용한 윗몸올리기,엎드려 버티기,옆으로 누워 버티기,네발기기...</td>\n",
              "      <td>깍지 끼고 상체 숙이기,목 스트레칭,등/어깨 뒤쪽 스트레칭,아래 팔 스트레칭,넙다리...</td>\n",
              "    </tr>\n",
              "  </tbody>\n",
              "</table>\n",
              "<p>3 rows × 31 columns</p>\n",
              "</div>\n",
              "      <button class=\"colab-df-convert\" onclick=\"convertToInteractive('df-1510c8a9-95bb-4163-840c-596d57560581')\"\n",
              "              title=\"Convert this dataframe to an interactive table.\"\n",
              "              style=\"display:none;\">\n",
              "        \n",
              "  <svg xmlns=\"http://www.w3.org/2000/svg\" height=\"24px\"viewBox=\"0 0 24 24\"\n",
              "       width=\"24px\">\n",
              "    <path d=\"M0 0h24v24H0V0z\" fill=\"none\"/>\n",
              "    <path d=\"M18.56 5.44l.94 2.06.94-2.06 2.06-.94-2.06-.94-.94-2.06-.94 2.06-2.06.94zm-11 1L8.5 8.5l.94-2.06 2.06-.94-2.06-.94L8.5 2.5l-.94 2.06-2.06.94zm10 10l.94 2.06.94-2.06 2.06-.94-2.06-.94-.94-2.06-.94 2.06-2.06.94z\"/><path d=\"M17.41 7.96l-1.37-1.37c-.4-.4-.92-.59-1.43-.59-.52 0-1.04.2-1.43.59L10.3 9.45l-7.72 7.72c-.78.78-.78 2.05 0 2.83L4 21.41c.39.39.9.59 1.41.59.51 0 1.02-.2 1.41-.59l7.78-7.78 2.81-2.81c.8-.78.8-2.07 0-2.86zM5.41 20L4 18.59l7.72-7.72 1.47 1.35L5.41 20z\"/>\n",
              "  </svg>\n",
              "      </button>\n",
              "      \n",
              "  <style>\n",
              "    .colab-df-container {\n",
              "      display:flex;\n",
              "      flex-wrap:wrap;\n",
              "      gap: 12px;\n",
              "    }\n",
              "\n",
              "    .colab-df-convert {\n",
              "      background-color: #E8F0FE;\n",
              "      border: none;\n",
              "      border-radius: 50%;\n",
              "      cursor: pointer;\n",
              "      display: none;\n",
              "      fill: #1967D2;\n",
              "      height: 32px;\n",
              "      padding: 0 0 0 0;\n",
              "      width: 32px;\n",
              "    }\n",
              "\n",
              "    .colab-df-convert:hover {\n",
              "      background-color: #E2EBFA;\n",
              "      box-shadow: 0px 1px 2px rgba(60, 64, 67, 0.3), 0px 1px 3px 1px rgba(60, 64, 67, 0.15);\n",
              "      fill: #174EA6;\n",
              "    }\n",
              "\n",
              "    [theme=dark] .colab-df-convert {\n",
              "      background-color: #3B4455;\n",
              "      fill: #D2E3FC;\n",
              "    }\n",
              "\n",
              "    [theme=dark] .colab-df-convert:hover {\n",
              "      background-color: #434B5C;\n",
              "      box-shadow: 0px 1px 3px 1px rgba(0, 0, 0, 0.15);\n",
              "      filter: drop-shadow(0px 1px 2px rgba(0, 0, 0, 0.3));\n",
              "      fill: #FFFFFF;\n",
              "    }\n",
              "  </style>\n",
              "\n",
              "      <script>\n",
              "        const buttonEl =\n",
              "          document.querySelector('#df-1510c8a9-95bb-4163-840c-596d57560581 button.colab-df-convert');\n",
              "        buttonEl.style.display =\n",
              "          google.colab.kernel.accessAllowed ? 'block' : 'none';\n",
              "\n",
              "        async function convertToInteractive(key) {\n",
              "          const element = document.querySelector('#df-1510c8a9-95bb-4163-840c-596d57560581');\n",
              "          const dataTable =\n",
              "            await google.colab.kernel.invokeFunction('convertToInteractive',\n",
              "                                                     [key], {});\n",
              "          if (!dataTable) return;\n",
              "\n",
              "          const docLinkHtml = 'Like what you see? Visit the ' +\n",
              "            '<a target=\"_blank\" href=https://colab.research.google.com/notebooks/data_table.ipynb>data table notebook</a>'\n",
              "            + ' to learn more about interactive tables.';\n",
              "          element.innerHTML = '';\n",
              "          dataTable['output_type'] = 'display_data';\n",
              "          await google.colab.output.renderOutput(dataTable, element);\n",
              "          const docLink = document.createElement('div');\n",
              "          docLink.innerHTML = docLinkHtml;\n",
              "          element.appendChild(docLink);\n",
              "        }\n",
              "      </script>\n",
              "    </div>\n",
              "  </div>\n",
              "  "
            ]
          },
          "metadata": {},
          "execution_count": 123
        }
      ]
    },
    {
      "cell_type": "markdown",
      "source": [
        "# 컬럼 선정"
      ],
      "metadata": {
        "id": "VDhOe-wX60nL"
      }
    },
    {
      "cell_type": "code",
      "source": [
        "df.columns"
      ],
      "metadata": {
        "colab": {
          "base_uri": "https://localhost:8080/"
        },
        "id": "gsLYOd9OGKWg",
        "outputId": "930f08fa-9af9-43a5-e7d9-0488e3878d63"
      },
      "execution_count": null,
      "outputs": [
        {
          "output_type": "execute_result",
          "data": {
            "text/plain": [
              "Index(['회원일련번호값', '측정일련번호', '센터명', '연령대구분명', '측정장소구분명', '측정연령수', '입력구분명',\n",
              "       '인증구분명', '측정일자', '성별구분코드', '신장(cm)', '체중(kg)', '체지방율(%)', '허리둘레(cm)',\n",
              "       '이완기최저혈압(mmHg)', '수축기최고혈압(mmHg)', '악력_좌(kg)', '악력_우(kg)',\n",
              "       '앉아윗몸앞으로굽히기(cm)', 'BMI(kg/㎡)', '교차윗몸일으키기(회)', '왕복오래달리기(회)',\n",
              "       '10M 4회 왕복달리기(초)', '제자리 멀리뛰기(cm)', '상대악력(%)', '왕복오래달리기출력(VO₂max)',\n",
              "       '스텝검사_회복시 심박수(bpm)', '스텝검사출력(VO₂max)', '준비운동', '본운동', '마무리운동'],\n",
              "      dtype='object')"
            ]
          },
          "metadata": {},
          "execution_count": 124
        }
      ]
    },
    {
      "cell_type": "code",
      "source": [
        "info_col = [\"회원일련번호값\",\"측정연령수\",\"측정일자\",\"성별구분코드\",\"인증구분명\"]\n",
        "body_col = [\"신장(cm)\",\"체중(kg)\",\"체지방율(%)\"]\n",
        "# 신장, 체중, 신체 구성, \n",
        "health_col = [\"앉아윗몸앞으로굽히기(cm)\",\"BMI(kg/㎡)\",\"교차윗몸일으키기(회)\",\"왕복오래달리기(회)\",\"10M 4회 왕복달리기(초)\",\"제자리 멀리뛰기(cm)\",\"상대악력(%)\"]\n",
        "# 유연성, 체질량지수, 근지구력, 심폐지구력, 민첩성, 순발력, 근력\n",
        "ex_col = [\"준비운동\",\"본운동\",\"마무리운동\"]"
      ],
      "metadata": {
        "id": "_vc75nfy6yjd"
      },
      "execution_count": null,
      "outputs": []
    },
    {
      "cell_type": "code",
      "source": [
        "selected_col = info_col + body_col + health_col + ex_col"
      ],
      "metadata": {
        "id": "FSMH8hU6-WAX"
      },
      "execution_count": null,
      "outputs": []
    },
    {
      "cell_type": "code",
      "source": [
        "selected_df = df[selected_col]"
      ],
      "metadata": {
        "id": "J4LpT2ed_kQ3"
      },
      "execution_count": null,
      "outputs": []
    },
    {
      "cell_type": "code",
      "source": [
        "# 결측치 확인\n",
        "getNullPercent(selected_df)"
      ],
      "metadata": {
        "colab": {
          "base_uri": "https://localhost:8080/"
        },
        "id": "yPfVQGJi-gEt",
        "outputId": "4d8e1d5b-23f1-46ed-8f64-0cbdc5bf66ea"
      },
      "execution_count": null,
      "outputs": [
        {
          "output_type": "stream",
          "name": "stdout",
          "text": [
            "회원일련번호값: 0개 (0.0%)\n",
            "측정연령수: 0개 (0.0%)\n",
            "측정일자: 0개 (0.0%)\n",
            "성별구분코드: 0개 (0.0%)\n",
            "인증구분명: 0개 (0.0%)\n",
            "신장(cm): 0개 (0.0%)\n",
            "체중(kg): 1개 (0.0%)\n",
            "체지방율(%): 0개 (0.0%)\n",
            "앉아윗몸앞으로굽히기(cm): 101개 (0.0%)\n",
            "BMI(kg/㎡): 0개 (0.0%)\n",
            "교차윗몸일으키기(회): 545개 (1.0%)\n",
            "왕복오래달리기(회): 12647개 (26.0%)\n",
            "10M 4회 왕복달리기(초): 2406개 (5.0%)\n",
            "제자리 멀리뛰기(cm): 880개 (2.0%)\n",
            "상대악력(%): 12개 (0.0%)\n",
            "준비운동: 0개 (0.0%)\n",
            "본운동: 0개 (0.0%)\n",
            "마무리운동: 0개 (0.0%)\n"
          ]
        },
        {
          "output_type": "execute_result",
          "data": {
            "text/plain": [
              "[]"
            ]
          },
          "metadata": {},
          "execution_count": 128
        }
      ]
    },
    {
      "cell_type": "code",
      "source": [
        "# 결측값을 변수별 평균으로 대체하기\n",
        "selected_df=selected_df.fillna(df.mean())"
      ],
      "metadata": {
        "id": "GCpnH0I8-iad"
      },
      "execution_count": null,
      "outputs": []
    },
    {
      "cell_type": "code",
      "source": [
        "# 결측치 확인\n",
        "getNullPercent(selected_df)"
      ],
      "metadata": {
        "colab": {
          "base_uri": "https://localhost:8080/"
        },
        "id": "lUPzOf53_uJg",
        "outputId": "2e09ff78-d0e4-42e1-bf0a-b883abfe5049"
      },
      "execution_count": null,
      "outputs": [
        {
          "output_type": "stream",
          "name": "stdout",
          "text": [
            "회원일련번호값: 0개 (0.0%)\n",
            "측정연령수: 0개 (0.0%)\n",
            "측정일자: 0개 (0.0%)\n",
            "성별구분코드: 0개 (0.0%)\n",
            "인증구분명: 0개 (0.0%)\n",
            "신장(cm): 0개 (0.0%)\n",
            "체중(kg): 0개 (0.0%)\n",
            "체지방율(%): 0개 (0.0%)\n",
            "앉아윗몸앞으로굽히기(cm): 0개 (0.0%)\n",
            "BMI(kg/㎡): 0개 (0.0%)\n",
            "교차윗몸일으키기(회): 0개 (0.0%)\n",
            "왕복오래달리기(회): 0개 (0.0%)\n",
            "10M 4회 왕복달리기(초): 0개 (0.0%)\n",
            "제자리 멀리뛰기(cm): 0개 (0.0%)\n",
            "상대악력(%): 0개 (0.0%)\n",
            "준비운동: 0개 (0.0%)\n",
            "본운동: 0개 (0.0%)\n",
            "마무리운동: 0개 (0.0%)\n"
          ]
        },
        {
          "output_type": "execute_result",
          "data": {
            "text/plain": [
              "[]"
            ]
          },
          "metadata": {},
          "execution_count": 130
        }
      ]
    },
    {
      "cell_type": "code",
      "source": [
        "selected_df.columns"
      ],
      "metadata": {
        "colab": {
          "base_uri": "https://localhost:8080/"
        },
        "id": "CAfSQvJv6yAg",
        "outputId": "767e376c-23e7-4b77-da05-6a484facea95"
      },
      "execution_count": null,
      "outputs": [
        {
          "output_type": "execute_result",
          "data": {
            "text/plain": [
              "Index(['회원일련번호값', '측정연령수', '측정일자', '성별구분코드', '인증구분명', '신장(cm)', '체중(kg)',\n",
              "       '체지방율(%)', '앉아윗몸앞으로굽히기(cm)', 'BMI(kg/㎡)', '교차윗몸일으키기(회)', '왕복오래달리기(회)',\n",
              "       '10M 4회 왕복달리기(초)', '제자리 멀리뛰기(cm)', '상대악력(%)', '준비운동', '본운동', '마무리운동'],\n",
              "      dtype='object')"
            ]
          },
          "metadata": {},
          "execution_count": 131
        }
      ]
    },
    {
      "cell_type": "code",
      "source": [
        "## adult 전처리 완료 저장\n",
        "selected_df.to_csv('../cleaned_data/adult_2019_1.csv',encoding='utf-8',index=False)"
      ],
      "metadata": {
        "id": "v3eCR6r3AX1G"
      },
      "execution_count": null,
      "outputs": []
    }
  ]
}